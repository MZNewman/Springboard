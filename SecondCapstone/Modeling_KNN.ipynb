{
 "cells": [
  {
   "cell_type": "markdown",
   "metadata": {},
   "source": [
    "## Table of Contents\n",
    "\n",
    "#### Set-Up\n",
    "- [Splitting the data](#split)\n",
    "- [Adjusting some features](#adjusting)\n",
    "- [Clustering](#clustering)\n",
    "- [Modeling guidelines](#modeling_guidelines)\n",
    "\n",
    "#### Modeling\n",
    "- [KNN](#knn)\n",
    "    - [KNN with clustering](#knn_cluster)\n",
    "    - [Two-Stage KNN](#two_stage_knn)\n",
    "    - [Two-Stage KNN with clustering](#two_stage_knn_cluster)\n",
    "    \n",
    "- [Performance Results](#performance)"
   ]
  },
  {
   "cell_type": "code",
   "execution_count": 1,
   "metadata": {},
   "outputs": [],
   "source": [
    "import numpy as np\n",
    "import pandas as pd\n",
    "import matplotlib.pyplot as plt\n",
    "import seaborn as sns\n",
    "import os\n",
    "import re\n",
    "import json\n",
    "import pandas_profiling\n",
    "import requests\n",
    "from bs4 import BeautifulSoup\n",
    "from scipy import stats\n",
    "from sklearn.decomposition import PCA\n",
    "from sklearn.preprocessing import scale, StandardScaler, MinMaxScaler\n",
    "from sklearn.feature_selection import SelectKBest\n",
    "from sklearn.manifold import TSNE\n",
    "from sklearn.linear_model import LogisticRegression, Lasso\n",
    "from sklearn.metrics import precision_recall_fscore_support, log_loss, r2_score, mean_squared_error, f1_score, make_scorer\n",
    "from sklearn.pipeline import make_pipeline\n",
    "from sklearn.ensemble import RandomForestClassifier\n",
    "from sklearn.model_selection import GridSearchCV, train_test_split\n",
    "from sklearn.cluster import KMeans, DBSCAN, MeanShift\n",
    "from sklearn.neighbors import KNeighborsClassifier\n",
    "from scipy.cluster.hierarchy import linkage, dendrogram, fcluster"
   ]
  },
  {
   "cell_type": "code",
   "execution_count": 2,
   "metadata": {},
   "outputs": [],
   "source": [
    "pokemon_abilities_df = pd.read_csv('./data/pokemon_abilities_df.csv', index_col=\"name\")\n",
    "pokemon_learnsets_df = pd.read_csv('./data/pokemon_learnsets_df.csv', index_col='name')\n",
    "pokemon_data = pd.read_csv('./data/pokemon_data.csv', index_col=\"name\")"
   ]
  },
  {
   "cell_type": "code",
   "execution_count": 3,
   "metadata": {},
   "outputs": [
    {
     "data": {
      "text/html": [
       "<div>\n",
       "<style scoped>\n",
       "    .dataframe tbody tr th:only-of-type {\n",
       "        vertical-align: middle;\n",
       "    }\n",
       "\n",
       "    .dataframe tbody tr th {\n",
       "        vertical-align: top;\n",
       "    }\n",
       "\n",
       "    .dataframe thead th {\n",
       "        text-align: right;\n",
       "    }\n",
       "</style>\n",
       "<table border=\"1\" class=\"dataframe\">\n",
       "  <thead>\n",
       "    <tr style=\"text-align: right;\">\n",
       "      <th></th>\n",
       "      <th>hp</th>\n",
       "      <th>atk</th>\n",
       "      <th>def</th>\n",
       "      <th>spa</th>\n",
       "      <th>spd</th>\n",
       "      <th>spe</th>\n",
       "      <th>weight</th>\n",
       "      <th>height</th>\n",
       "      <th>formats</th>\n",
       "      <th>generation</th>\n",
       "      <th>...</th>\n",
       "      <th>Ability Cutoff 2</th>\n",
       "      <th>Ability Cutoff 3</th>\n",
       "      <th>Ability Cutoff 4</th>\n",
       "      <th>Ability Cutoff 5</th>\n",
       "      <th>Ability Cutoff 6</th>\n",
       "      <th>Best Ability</th>\n",
       "      <th>Best Ability &lt;100</th>\n",
       "      <th>Unique Powerful Ability</th>\n",
       "      <th>oldformats</th>\n",
       "      <th>oldformat codes</th>\n",
       "    </tr>\n",
       "    <tr>\n",
       "      <th>name</th>\n",
       "      <th></th>\n",
       "      <th></th>\n",
       "      <th></th>\n",
       "      <th></th>\n",
       "      <th></th>\n",
       "      <th></th>\n",
       "      <th></th>\n",
       "      <th></th>\n",
       "      <th></th>\n",
       "      <th></th>\n",
       "      <th></th>\n",
       "      <th></th>\n",
       "      <th></th>\n",
       "      <th></th>\n",
       "      <th></th>\n",
       "      <th></th>\n",
       "      <th></th>\n",
       "      <th></th>\n",
       "      <th></th>\n",
       "      <th></th>\n",
       "      <th></th>\n",
       "    </tr>\n",
       "  </thead>\n",
       "  <tbody>\n",
       "    <tr>\n",
       "      <th>Bulbasaur</th>\n",
       "      <td>45</td>\n",
       "      <td>49</td>\n",
       "      <td>49</td>\n",
       "      <td>65</td>\n",
       "      <td>65</td>\n",
       "      <td>45</td>\n",
       "      <td>6.9</td>\n",
       "      <td>0.7</td>\n",
       "      <td>ZU</td>\n",
       "      <td>RB</td>\n",
       "      <td>...</td>\n",
       "      <td>1.0</td>\n",
       "      <td>0.0</td>\n",
       "      <td>0.0</td>\n",
       "      <td>0.0</td>\n",
       "      <td>0.0</td>\n",
       "      <td>63.636364</td>\n",
       "      <td>63.636364</td>\n",
       "      <td>0</td>\n",
       "      <td>ZU</td>\n",
       "      <td>0</td>\n",
       "    </tr>\n",
       "    <tr>\n",
       "      <th>Ivysaur</th>\n",
       "      <td>60</td>\n",
       "      <td>62</td>\n",
       "      <td>63</td>\n",
       "      <td>80</td>\n",
       "      <td>80</td>\n",
       "      <td>60</td>\n",
       "      <td>13.0</td>\n",
       "      <td>1.0</td>\n",
       "      <td>ZU</td>\n",
       "      <td>RB</td>\n",
       "      <td>...</td>\n",
       "      <td>1.0</td>\n",
       "      <td>0.0</td>\n",
       "      <td>0.0</td>\n",
       "      <td>0.0</td>\n",
       "      <td>0.0</td>\n",
       "      <td>63.636364</td>\n",
       "      <td>63.636364</td>\n",
       "      <td>0</td>\n",
       "      <td>ZU</td>\n",
       "      <td>0</td>\n",
       "    </tr>\n",
       "    <tr>\n",
       "      <th>Venusaur</th>\n",
       "      <td>80</td>\n",
       "      <td>82</td>\n",
       "      <td>83</td>\n",
       "      <td>100</td>\n",
       "      <td>100</td>\n",
       "      <td>80</td>\n",
       "      <td>100.0</td>\n",
       "      <td>2.0</td>\n",
       "      <td>OU</td>\n",
       "      <td>RB</td>\n",
       "      <td>...</td>\n",
       "      <td>1.0</td>\n",
       "      <td>0.0</td>\n",
       "      <td>0.0</td>\n",
       "      <td>0.0</td>\n",
       "      <td>0.0</td>\n",
       "      <td>63.636364</td>\n",
       "      <td>63.636364</td>\n",
       "      <td>0</td>\n",
       "      <td>UU</td>\n",
       "      <td>4</td>\n",
       "    </tr>\n",
       "    <tr>\n",
       "      <th>Charmander</th>\n",
       "      <td>39</td>\n",
       "      <td>52</td>\n",
       "      <td>43</td>\n",
       "      <td>60</td>\n",
       "      <td>50</td>\n",
       "      <td>65</td>\n",
       "      <td>8.5</td>\n",
       "      <td>0.6</td>\n",
       "      <td>ZU</td>\n",
       "      <td>RB</td>\n",
       "      <td>...</td>\n",
       "      <td>1.0</td>\n",
       "      <td>0.0</td>\n",
       "      <td>0.0</td>\n",
       "      <td>0.0</td>\n",
       "      <td>0.0</td>\n",
       "      <td>50.000000</td>\n",
       "      <td>50.000000</td>\n",
       "      <td>0</td>\n",
       "      <td>ZU</td>\n",
       "      <td>0</td>\n",
       "    </tr>\n",
       "    <tr>\n",
       "      <th>Charmeleon</th>\n",
       "      <td>58</td>\n",
       "      <td>64</td>\n",
       "      <td>58</td>\n",
       "      <td>80</td>\n",
       "      <td>65</td>\n",
       "      <td>80</td>\n",
       "      <td>19.0</td>\n",
       "      <td>1.1</td>\n",
       "      <td>ZU</td>\n",
       "      <td>RB</td>\n",
       "      <td>...</td>\n",
       "      <td>1.0</td>\n",
       "      <td>0.0</td>\n",
       "      <td>0.0</td>\n",
       "      <td>0.0</td>\n",
       "      <td>0.0</td>\n",
       "      <td>50.000000</td>\n",
       "      <td>50.000000</td>\n",
       "      <td>0</td>\n",
       "      <td>ZU</td>\n",
       "      <td>0</td>\n",
       "    </tr>\n",
       "    <tr>\n",
       "      <th>...</th>\n",
       "      <td>...</td>\n",
       "      <td>...</td>\n",
       "      <td>...</td>\n",
       "      <td>...</td>\n",
       "      <td>...</td>\n",
       "      <td>...</td>\n",
       "      <td>...</td>\n",
       "      <td>...</td>\n",
       "      <td>...</td>\n",
       "      <td>...</td>\n",
       "      <td>...</td>\n",
       "      <td>...</td>\n",
       "      <td>...</td>\n",
       "      <td>...</td>\n",
       "      <td>...</td>\n",
       "      <td>...</td>\n",
       "      <td>...</td>\n",
       "      <td>...</td>\n",
       "      <td>...</td>\n",
       "      <td>...</td>\n",
       "      <td>...</td>\n",
       "    </tr>\n",
       "    <tr>\n",
       "      <th>Glastrier</th>\n",
       "      <td>100</td>\n",
       "      <td>145</td>\n",
       "      <td>130</td>\n",
       "      <td>65</td>\n",
       "      <td>110</td>\n",
       "      <td>30</td>\n",
       "      <td>800.0</td>\n",
       "      <td>2.2</td>\n",
       "      <td>NU</td>\n",
       "      <td>SS</td>\n",
       "      <td>...</td>\n",
       "      <td>1.0</td>\n",
       "      <td>1.0</td>\n",
       "      <td>1.0</td>\n",
       "      <td>0.0</td>\n",
       "      <td>0.0</td>\n",
       "      <td>75.000000</td>\n",
       "      <td>75.000000</td>\n",
       "      <td>0</td>\n",
       "      <td>NU</td>\n",
       "      <td>2</td>\n",
       "    </tr>\n",
       "    <tr>\n",
       "      <th>Spectrier</th>\n",
       "      <td>100</td>\n",
       "      <td>65</td>\n",
       "      <td>60</td>\n",
       "      <td>145</td>\n",
       "      <td>80</td>\n",
       "      <td>130</td>\n",
       "      <td>44.5</td>\n",
       "      <td>2.0</td>\n",
       "      <td>Uber</td>\n",
       "      <td>SS</td>\n",
       "      <td>...</td>\n",
       "      <td>0.0</td>\n",
       "      <td>0.0</td>\n",
       "      <td>0.0</td>\n",
       "      <td>0.0</td>\n",
       "      <td>0.0</td>\n",
       "      <td>1.000000</td>\n",
       "      <td>0.000000</td>\n",
       "      <td>1</td>\n",
       "      <td>Uber</td>\n",
       "      <td>6</td>\n",
       "    </tr>\n",
       "    <tr>\n",
       "      <th>Calyrex</th>\n",
       "      <td>100</td>\n",
       "      <td>80</td>\n",
       "      <td>80</td>\n",
       "      <td>80</td>\n",
       "      <td>80</td>\n",
       "      <td>80</td>\n",
       "      <td>7.7</td>\n",
       "      <td>1.1</td>\n",
       "      <td>PU</td>\n",
       "      <td>SS</td>\n",
       "      <td>...</td>\n",
       "      <td>0.0</td>\n",
       "      <td>0.0</td>\n",
       "      <td>0.0</td>\n",
       "      <td>0.0</td>\n",
       "      <td>0.0</td>\n",
       "      <td>18.181818</td>\n",
       "      <td>18.181818</td>\n",
       "      <td>0</td>\n",
       "      <td>ZU</td>\n",
       "      <td>0</td>\n",
       "    </tr>\n",
       "    <tr>\n",
       "      <th>Calyrex-Ice</th>\n",
       "      <td>100</td>\n",
       "      <td>165</td>\n",
       "      <td>150</td>\n",
       "      <td>85</td>\n",
       "      <td>130</td>\n",
       "      <td>50</td>\n",
       "      <td>809.1</td>\n",
       "      <td>2.4</td>\n",
       "      <td>Uber</td>\n",
       "      <td>SS</td>\n",
       "      <td>...</td>\n",
       "      <td>0.0</td>\n",
       "      <td>0.0</td>\n",
       "      <td>0.0</td>\n",
       "      <td>0.0</td>\n",
       "      <td>0.0</td>\n",
       "      <td>1.000000</td>\n",
       "      <td>0.000000</td>\n",
       "      <td>1</td>\n",
       "      <td>Uber</td>\n",
       "      <td>6</td>\n",
       "    </tr>\n",
       "    <tr>\n",
       "      <th>Calyrex-Shadow</th>\n",
       "      <td>100</td>\n",
       "      <td>85</td>\n",
       "      <td>80</td>\n",
       "      <td>165</td>\n",
       "      <td>100</td>\n",
       "      <td>150</td>\n",
       "      <td>53.6</td>\n",
       "      <td>2.4</td>\n",
       "      <td>Uber</td>\n",
       "      <td>SS</td>\n",
       "      <td>...</td>\n",
       "      <td>0.0</td>\n",
       "      <td>0.0</td>\n",
       "      <td>0.0</td>\n",
       "      <td>0.0</td>\n",
       "      <td>0.0</td>\n",
       "      <td>1.000000</td>\n",
       "      <td>0.000000</td>\n",
       "      <td>1</td>\n",
       "      <td>Uber</td>\n",
       "      <td>6</td>\n",
       "    </tr>\n",
       "  </tbody>\n",
       "</table>\n",
       "<p>738 rows × 70 columns</p>\n",
       "</div>"
      ],
      "text/plain": [
       "                 hp  atk  def  spa  spd  spe  weight  height formats  \\\n",
       "name                                                                   \n",
       "Bulbasaur        45   49   49   65   65   45     6.9     0.7      ZU   \n",
       "Ivysaur          60   62   63   80   80   60    13.0     1.0      ZU   \n",
       "Venusaur         80   82   83  100  100   80   100.0     2.0      OU   \n",
       "Charmander       39   52   43   60   50   65     8.5     0.6      ZU   \n",
       "Charmeleon       58   64   58   80   65   80    19.0     1.1      ZU   \n",
       "...             ...  ...  ...  ...  ...  ...     ...     ...     ...   \n",
       "Glastrier       100  145  130   65  110   30   800.0     2.2      NU   \n",
       "Spectrier       100   65   60  145   80  130    44.5     2.0    Uber   \n",
       "Calyrex         100   80   80   80   80   80     7.7     1.1      PU   \n",
       "Calyrex-Ice     100  165  150   85  130   50   809.1     2.4    Uber   \n",
       "Calyrex-Shadow  100   85   80  165  100  150    53.6     2.4    Uber   \n",
       "\n",
       "               generation  ...  Ability Cutoff 2  Ability Cutoff 3  \\\n",
       "name                       ...                                       \n",
       "Bulbasaur              RB  ...               1.0               0.0   \n",
       "Ivysaur                RB  ...               1.0               0.0   \n",
       "Venusaur               RB  ...               1.0               0.0   \n",
       "Charmander             RB  ...               1.0               0.0   \n",
       "Charmeleon             RB  ...               1.0               0.0   \n",
       "...                   ...  ...               ...               ...   \n",
       "Glastrier              SS  ...               1.0               1.0   \n",
       "Spectrier              SS  ...               0.0               0.0   \n",
       "Calyrex                SS  ...               0.0               0.0   \n",
       "Calyrex-Ice            SS  ...               0.0               0.0   \n",
       "Calyrex-Shadow         SS  ...               0.0               0.0   \n",
       "\n",
       "                Ability Cutoff 4  Ability Cutoff 5  Ability Cutoff 6  \\\n",
       "name                                                                   \n",
       "Bulbasaur                    0.0               0.0               0.0   \n",
       "Ivysaur                      0.0               0.0               0.0   \n",
       "Venusaur                     0.0               0.0               0.0   \n",
       "Charmander                   0.0               0.0               0.0   \n",
       "Charmeleon                   0.0               0.0               0.0   \n",
       "...                          ...               ...               ...   \n",
       "Glastrier                    1.0               0.0               0.0   \n",
       "Spectrier                    0.0               0.0               0.0   \n",
       "Calyrex                      0.0               0.0               0.0   \n",
       "Calyrex-Ice                  0.0               0.0               0.0   \n",
       "Calyrex-Shadow               0.0               0.0               0.0   \n",
       "\n",
       "                Best Ability  Best Ability <100  Unique Powerful Ability  \\\n",
       "name                                                                       \n",
       "Bulbasaur          63.636364          63.636364                        0   \n",
       "Ivysaur            63.636364          63.636364                        0   \n",
       "Venusaur           63.636364          63.636364                        0   \n",
       "Charmander         50.000000          50.000000                        0   \n",
       "Charmeleon         50.000000          50.000000                        0   \n",
       "...                      ...                ...                      ...   \n",
       "Glastrier          75.000000          75.000000                        0   \n",
       "Spectrier           1.000000           0.000000                        1   \n",
       "Calyrex            18.181818          18.181818                        0   \n",
       "Calyrex-Ice         1.000000           0.000000                        1   \n",
       "Calyrex-Shadow      1.000000           0.000000                        1   \n",
       "\n",
       "                oldformats  oldformat codes  \n",
       "name                                         \n",
       "Bulbasaur               ZU                0  \n",
       "Ivysaur                 ZU                0  \n",
       "Venusaur                UU                4  \n",
       "Charmander              ZU                0  \n",
       "Charmeleon              ZU                0  \n",
       "...                    ...              ...  \n",
       "Glastrier               NU                2  \n",
       "Spectrier             Uber                6  \n",
       "Calyrex                 ZU                0  \n",
       "Calyrex-Ice           Uber                6  \n",
       "Calyrex-Shadow        Uber                6  \n",
       "\n",
       "[738 rows x 70 columns]"
      ]
     },
     "execution_count": 3,
     "metadata": {},
     "output_type": "execute_result"
    }
   ],
   "source": [
    "pokemon_data"
   ]
  },
  {
   "cell_type": "markdown",
   "metadata": {},
   "source": [
    "<a id=\"split\"></a>\n",
    "### Splitting the Data"
   ]
  },
  {
   "cell_type": "code",
   "execution_count": 4,
   "metadata": {},
   "outputs": [
    {
     "data": {
      "text/plain": [
       "Index(['hp', 'atk', 'def', 'spa', 'spd', 'spe', 'weight', 'height', 'formats',\n",
       "       'generation', 'format codes', 'Weaknesses', 'Strong Weaknesses',\n",
       "       'Resists', 'Strong Resists', 'Immune', 'STAB', 'Resistance Index',\n",
       "       'Entry Hazards', 'Hazard Removal', 'Removal Deterrent', 'Cleric',\n",
       "       'Pivot', 'Item Removal', 'Setup', 'Priority', 'HP Drain', 'HP Recovery',\n",
       "       'Weather Set', 'Weather Gimmick', 'Physical Cutoff 1',\n",
       "       'Physical Cutoff 2', 'Physical Cutoff 3', 'Physical Cutoff 4',\n",
       "       'Physical Cutoff 5', 'Physical Cutoff 6', 'Physical Coverage 1',\n",
       "       'Physical Coverage 2', 'Physical Coverage 3', 'Physical Coverage 4',\n",
       "       'Special Cutoff 1', 'Special Cutoff 2', 'Special Cutoff 3',\n",
       "       'Special Cutoff 4', 'Special Cutoff 5', 'Special Cutoff 6',\n",
       "       'Special Cutoff 7', 'Special Coverage 1', 'Special Coverage 2',\n",
       "       'Special Coverage 3', 'Special Coverage 4', 'Special Coverage 5',\n",
       "       'Special Coverage 6', 'Special Coverage 7', 'Special Coverage 8',\n",
       "       'Special Coverage 9', 'Special Coverage 10', 'Misc Status',\n",
       "       'Unique Powerful Move', 'Ability Cutoff 1', 'Ability Cutoff 2',\n",
       "       'Ability Cutoff 3', 'Ability Cutoff 4', 'Ability Cutoff 5',\n",
       "       'Ability Cutoff 6', 'Best Ability', 'Best Ability <100',\n",
       "       'Unique Powerful Ability', 'oldformats', 'oldformat codes'],\n",
       "      dtype='object')"
      ]
     },
     "execution_count": 4,
     "metadata": {},
     "output_type": "execute_result"
    }
   ],
   "source": [
    "pokemon_data.columns"
   ]
  },
  {
   "cell_type": "code",
   "execution_count": 5,
   "metadata": {},
   "outputs": [
    {
     "data": {
      "text/html": [
       "<div>\n",
       "<style scoped>\n",
       "    .dataframe tbody tr th:only-of-type {\n",
       "        vertical-align: middle;\n",
       "    }\n",
       "\n",
       "    .dataframe tbody tr th {\n",
       "        vertical-align: top;\n",
       "    }\n",
       "\n",
       "    .dataframe thead th {\n",
       "        text-align: right;\n",
       "    }\n",
       "</style>\n",
       "<table border=\"1\" class=\"dataframe\">\n",
       "  <thead>\n",
       "    <tr style=\"text-align: right;\">\n",
       "      <th></th>\n",
       "      <th>formats</th>\n",
       "      <th>format codes</th>\n",
       "      <th>oldformats</th>\n",
       "      <th>oldformat codes</th>\n",
       "      <th>formats4</th>\n",
       "      <th>format codes4</th>\n",
       "      <th>formats4alt</th>\n",
       "      <th>format codes4alt</th>\n",
       "      <th>formats2</th>\n",
       "    </tr>\n",
       "    <tr>\n",
       "      <th>name</th>\n",
       "      <th></th>\n",
       "      <th></th>\n",
       "      <th></th>\n",
       "      <th></th>\n",
       "      <th></th>\n",
       "      <th></th>\n",
       "      <th></th>\n",
       "      <th></th>\n",
       "      <th></th>\n",
       "    </tr>\n",
       "  </thead>\n",
       "  <tbody>\n",
       "    <tr>\n",
       "      <th>Bulbasaur</th>\n",
       "      <td>ZU</td>\n",
       "      <td>0</td>\n",
       "      <td>NaN</td>\n",
       "      <td>NaN</td>\n",
       "      <td>Not c</td>\n",
       "      <td>0</td>\n",
       "      <td>Not c</td>\n",
       "      <td>0</td>\n",
       "      <td>No</td>\n",
       "    </tr>\n",
       "    <tr>\n",
       "      <th>Ivysaur</th>\n",
       "      <td>ZU</td>\n",
       "      <td>0</td>\n",
       "      <td>NaN</td>\n",
       "      <td>NaN</td>\n",
       "      <td>Not c</td>\n",
       "      <td>0</td>\n",
       "      <td>Not c</td>\n",
       "      <td>0</td>\n",
       "      <td>No</td>\n",
       "    </tr>\n",
       "    <tr>\n",
       "      <th>Venusaur</th>\n",
       "      <td>OU</td>\n",
       "      <td>5</td>\n",
       "      <td>NaN</td>\n",
       "      <td>NaN</td>\n",
       "      <td>High c</td>\n",
       "      <td>3</td>\n",
       "      <td>Mid c</td>\n",
       "      <td>2</td>\n",
       "      <td>Yes</td>\n",
       "    </tr>\n",
       "    <tr>\n",
       "      <th>Charmander</th>\n",
       "      <td>ZU</td>\n",
       "      <td>0</td>\n",
       "      <td>NaN</td>\n",
       "      <td>NaN</td>\n",
       "      <td>Not c</td>\n",
       "      <td>0</td>\n",
       "      <td>Not c</td>\n",
       "      <td>0</td>\n",
       "      <td>No</td>\n",
       "    </tr>\n",
       "    <tr>\n",
       "      <th>Charmeleon</th>\n",
       "      <td>ZU</td>\n",
       "      <td>0</td>\n",
       "      <td>NaN</td>\n",
       "      <td>NaN</td>\n",
       "      <td>Not c</td>\n",
       "      <td>0</td>\n",
       "      <td>Not c</td>\n",
       "      <td>0</td>\n",
       "      <td>No</td>\n",
       "    </tr>\n",
       "    <tr>\n",
       "      <th>...</th>\n",
       "      <td>...</td>\n",
       "      <td>...</td>\n",
       "      <td>...</td>\n",
       "      <td>...</td>\n",
       "      <td>...</td>\n",
       "      <td>...</td>\n",
       "      <td>...</td>\n",
       "      <td>...</td>\n",
       "      <td>...</td>\n",
       "    </tr>\n",
       "    <tr>\n",
       "      <th>Glastrier</th>\n",
       "      <td>NU</td>\n",
       "      <td>2</td>\n",
       "      <td>NaN</td>\n",
       "      <td>NaN</td>\n",
       "      <td>Mid c</td>\n",
       "      <td>2</td>\n",
       "      <td>Mid c</td>\n",
       "      <td>2</td>\n",
       "      <td>Yes</td>\n",
       "    </tr>\n",
       "    <tr>\n",
       "      <th>Spectrier</th>\n",
       "      <td>Uber</td>\n",
       "      <td>6</td>\n",
       "      <td>NaN</td>\n",
       "      <td>NaN</td>\n",
       "      <td>High c</td>\n",
       "      <td>3</td>\n",
       "      <td>High c</td>\n",
       "      <td>3</td>\n",
       "      <td>Yes</td>\n",
       "    </tr>\n",
       "    <tr>\n",
       "      <th>Calyrex</th>\n",
       "      <td>PU</td>\n",
       "      <td>1</td>\n",
       "      <td>NaN</td>\n",
       "      <td>NaN</td>\n",
       "      <td>Low c</td>\n",
       "      <td>1</td>\n",
       "      <td>Low c</td>\n",
       "      <td>1</td>\n",
       "      <td>Yes</td>\n",
       "    </tr>\n",
       "    <tr>\n",
       "      <th>Calyrex-Ice</th>\n",
       "      <td>Uber</td>\n",
       "      <td>6</td>\n",
       "      <td>NaN</td>\n",
       "      <td>NaN</td>\n",
       "      <td>High c</td>\n",
       "      <td>3</td>\n",
       "      <td>High c</td>\n",
       "      <td>3</td>\n",
       "      <td>Yes</td>\n",
       "    </tr>\n",
       "    <tr>\n",
       "      <th>Calyrex-Shadow</th>\n",
       "      <td>Uber</td>\n",
       "      <td>6</td>\n",
       "      <td>NaN</td>\n",
       "      <td>NaN</td>\n",
       "      <td>High c</td>\n",
       "      <td>3</td>\n",
       "      <td>High c</td>\n",
       "      <td>3</td>\n",
       "      <td>Yes</td>\n",
       "    </tr>\n",
       "  </tbody>\n",
       "</table>\n",
       "<p>738 rows × 9 columns</p>\n",
       "</div>"
      ],
      "text/plain": [
       "               formats  format codes  oldformats  oldformat codes formats4  \\\n",
       "name                                                                         \n",
       "Bulbasaur           ZU             0         NaN              NaN    Not c   \n",
       "Ivysaur             ZU             0         NaN              NaN    Not c   \n",
       "Venusaur            OU             5         NaN              NaN   High c   \n",
       "Charmander          ZU             0         NaN              NaN    Not c   \n",
       "Charmeleon          ZU             0         NaN              NaN    Not c   \n",
       "...                ...           ...         ...              ...      ...   \n",
       "Glastrier           NU             2         NaN              NaN    Mid c   \n",
       "Spectrier         Uber             6         NaN              NaN   High c   \n",
       "Calyrex             PU             1         NaN              NaN    Low c   \n",
       "Calyrex-Ice       Uber             6         NaN              NaN   High c   \n",
       "Calyrex-Shadow    Uber             6         NaN              NaN   High c   \n",
       "\n",
       "                format codes4 formats4alt  format codes4alt formats2  \n",
       "name                                                                  \n",
       "Bulbasaur                   0       Not c                 0       No  \n",
       "Ivysaur                     0       Not c                 0       No  \n",
       "Venusaur                    3       Mid c                 2      Yes  \n",
       "Charmander                  0       Not c                 0       No  \n",
       "Charmeleon                  0       Not c                 0       No  \n",
       "...                       ...         ...               ...      ...  \n",
       "Glastrier                   2       Mid c                 2      Yes  \n",
       "Spectrier                   3      High c                 3      Yes  \n",
       "Calyrex                     1       Low c                 1      Yes  \n",
       "Calyrex-Ice                 3      High c                 3      Yes  \n",
       "Calyrex-Shadow              3      High c                 3      Yes  \n",
       "\n",
       "[738 rows x 9 columns]"
      ]
     },
     "execution_count": 5,
     "metadata": {},
     "output_type": "execute_result"
    }
   ],
   "source": [
    "X = pokemon_data.drop(columns=['weight', 'height', 'Weaknesses', 'Strong Weaknesses', 'Resists',\n",
    "                                'Strong Resists', 'Immune', 'STAB', 'Physical Cutoff 1', 'Physical Cutoff 2',\n",
    "                                'Physical Cutoff 4', 'Physical Cutoff 5', 'Physical Cutoff 6',\n",
    "                                'Physical Coverage 1', 'Physical Coverage 2', 'Physical Coverage 4',\n",
    "                                'Special Cutoff 1', 'Special Cutoff 2', 'Special Cutoff 4',\n",
    "                                'Special Cutoff 5', 'Special Cutoff 6', 'Special Cutoff 7',\n",
    "                                'Special Coverage 1', 'Special Coverage 2', 'Special Coverage 3',\n",
    "                                'Special Coverage 4', 'Special Coverage 6', 'Special Coverage 7',\n",
    "                                'Special Coverage 8', 'Special Coverage 9', 'Special Coverage 10',\n",
    "                                'Ability Cutoff 1', 'Ability Cutoff 2', 'Ability Cutoff 4', 'Ability Cutoff 5',\n",
    "                                'Ability Cutoff 6', 'Best Ability <100', 'formats', 'generation',\n",
    "                                'format codes', 'oldformats', 'oldformat codes'])\n",
    "\n",
    "y_df = pd.DataFrame(pokemon_data[['formats', 'format codes']], index=pokemon_data.index, columns=['formats', 'format codes', 'oldformats', 'oldformat codes'])\n",
    "y_df['formats4'] = y_df['formats'].replace({'ZU':'Not c', 'PU': 'Low c', 'NU': 'Mid c', 'RU': 'Mid c', 'UU': 'Mid c', 'OU': 'High c', 'Uber': 'High c'})\n",
    "y_df['format codes4'] = y_df['format codes'].replace({3:2, 4: 2, 5:3, 6:3})\n",
    "y_df['formats4alt'] = y_df['formats'].replace({'ZU':'Not c', 'PU': 'Low c', 'NU': 'Mid c', 'RU': 'Mid c', 'UU': 'Mid c', 'OU': 'Mid c', 'Uber': 'High c'})\n",
    "y_df['format codes4alt'] = y_df['format codes'].replace({3:2, 4: 2, 5:2, 6:3})\n",
    "y_df['formats2'] = y_df['formats'].replace({'ZU':'No', 'PU': 'Yes', 'NU': 'Yes', 'RU': 'Yes', 'UU': 'Yes', 'OU': 'Yes', 'Uber': 'Yes'})\n",
    "y_df"
   ]
  },
  {
   "cell_type": "markdown",
   "metadata": {},
   "source": [
    "<a id=\"adjusting\"></a>\n",
    "### Adjusting some features"
   ]
  },
  {
   "cell_type": "markdown",
   "metadata": {},
   "source": [
    "- remove: ability cutoff, unique powerful ability"
   ]
  },
  {
   "cell_type": "code",
   "execution_count": 6,
   "metadata": {},
   "outputs": [
    {
     "data": {
      "text/plain": [
       "Index(['hp', 'atk', 'def', 'spa', 'spd', 'spe', 'Resistance Index',\n",
       "       'Entry Hazards', 'Hazard Removal', 'Removal Deterrent', 'Cleric',\n",
       "       'Pivot', 'Item Removal', 'Setup', 'Priority', 'HP Drain', 'HP Recovery',\n",
       "       'Weather Set', 'Weather Gimmick', 'Physical Cutoff 3',\n",
       "       'Physical Coverage 3', 'Special Cutoff 3', 'Special Coverage 5',\n",
       "       'Misc Status', 'Unique Powerful Move', 'Ability Cutoff 3',\n",
       "       'Best Ability', 'Unique Powerful Ability'],\n",
       "      dtype='object')"
      ]
     },
     "execution_count": 6,
     "metadata": {},
     "output_type": "execute_result"
    }
   ],
   "source": [
    "X.columns"
   ]
  },
  {
   "cell_type": "code",
   "execution_count": 7,
   "metadata": {},
   "outputs": [
    {
     "data": {
      "text/html": [
       "<div>\n",
       "<style scoped>\n",
       "    .dataframe tbody tr th:only-of-type {\n",
       "        vertical-align: middle;\n",
       "    }\n",
       "\n",
       "    .dataframe tbody tr th {\n",
       "        vertical-align: top;\n",
       "    }\n",
       "\n",
       "    .dataframe thead th {\n",
       "        text-align: right;\n",
       "    }\n",
       "</style>\n",
       "<table border=\"1\" class=\"dataframe\">\n",
       "  <thead>\n",
       "    <tr style=\"text-align: right;\">\n",
       "      <th></th>\n",
       "      <th>hp</th>\n",
       "      <th>atk</th>\n",
       "      <th>def</th>\n",
       "      <th>spa</th>\n",
       "      <th>spd</th>\n",
       "      <th>spe</th>\n",
       "      <th>Resistance Index</th>\n",
       "      <th>Entry Hazards</th>\n",
       "      <th>Hazard Removal</th>\n",
       "      <th>Removal Deterrent</th>\n",
       "      <th>...</th>\n",
       "      <th>HP Recovery</th>\n",
       "      <th>Weather Set</th>\n",
       "      <th>Weather Gimmick</th>\n",
       "      <th>Physical Cutoff 3</th>\n",
       "      <th>Physical Coverage 3</th>\n",
       "      <th>Special Cutoff 3</th>\n",
       "      <th>Special Coverage 5</th>\n",
       "      <th>Misc Status</th>\n",
       "      <th>Unique Powerful Move</th>\n",
       "      <th>Best Ability</th>\n",
       "    </tr>\n",
       "    <tr>\n",
       "      <th>name</th>\n",
       "      <th></th>\n",
       "      <th></th>\n",
       "      <th></th>\n",
       "      <th></th>\n",
       "      <th></th>\n",
       "      <th></th>\n",
       "      <th></th>\n",
       "      <th></th>\n",
       "      <th></th>\n",
       "      <th></th>\n",
       "      <th></th>\n",
       "      <th></th>\n",
       "      <th></th>\n",
       "      <th></th>\n",
       "      <th></th>\n",
       "      <th></th>\n",
       "      <th></th>\n",
       "      <th></th>\n",
       "      <th></th>\n",
       "      <th></th>\n",
       "      <th></th>\n",
       "    </tr>\n",
       "  </thead>\n",
       "  <tbody>\n",
       "    <tr>\n",
       "      <th>Bulbasaur</th>\n",
       "      <td>45</td>\n",
       "      <td>49</td>\n",
       "      <td>49</td>\n",
       "      <td>65</td>\n",
       "      <td>65</td>\n",
       "      <td>45</td>\n",
       "      <td>2</td>\n",
       "      <td>0</td>\n",
       "      <td>0</td>\n",
       "      <td>0</td>\n",
       "      <td>...</td>\n",
       "      <td>1</td>\n",
       "      <td>0</td>\n",
       "      <td>5</td>\n",
       "      <td>4</td>\n",
       "      <td>3</td>\n",
       "      <td>5</td>\n",
       "      <td>2</td>\n",
       "      <td>4</td>\n",
       "      <td>0</td>\n",
       "      <td>63.636364</td>\n",
       "    </tr>\n",
       "    <tr>\n",
       "      <th>Ivysaur</th>\n",
       "      <td>60</td>\n",
       "      <td>62</td>\n",
       "      <td>63</td>\n",
       "      <td>80</td>\n",
       "      <td>80</td>\n",
       "      <td>60</td>\n",
       "      <td>2</td>\n",
       "      <td>0</td>\n",
       "      <td>0</td>\n",
       "      <td>0</td>\n",
       "      <td>...</td>\n",
       "      <td>1</td>\n",
       "      <td>0</td>\n",
       "      <td>5</td>\n",
       "      <td>4</td>\n",
       "      <td>3</td>\n",
       "      <td>5</td>\n",
       "      <td>2</td>\n",
       "      <td>4</td>\n",
       "      <td>0</td>\n",
       "      <td>63.636364</td>\n",
       "    </tr>\n",
       "    <tr>\n",
       "      <th>Venusaur</th>\n",
       "      <td>80</td>\n",
       "      <td>82</td>\n",
       "      <td>83</td>\n",
       "      <td>100</td>\n",
       "      <td>100</td>\n",
       "      <td>80</td>\n",
       "      <td>2</td>\n",
       "      <td>0</td>\n",
       "      <td>0</td>\n",
       "      <td>0</td>\n",
       "      <td>...</td>\n",
       "      <td>1</td>\n",
       "      <td>0</td>\n",
       "      <td>5</td>\n",
       "      <td>6</td>\n",
       "      <td>4</td>\n",
       "      <td>6</td>\n",
       "      <td>4</td>\n",
       "      <td>4</td>\n",
       "      <td>0</td>\n",
       "      <td>63.636364</td>\n",
       "    </tr>\n",
       "    <tr>\n",
       "      <th>Charmander</th>\n",
       "      <td>39</td>\n",
       "      <td>52</td>\n",
       "      <td>43</td>\n",
       "      <td>60</td>\n",
       "      <td>50</td>\n",
       "      <td>65</td>\n",
       "      <td>3</td>\n",
       "      <td>0</td>\n",
       "      <td>0</td>\n",
       "      <td>0</td>\n",
       "      <td>...</td>\n",
       "      <td>0</td>\n",
       "      <td>0</td>\n",
       "      <td>3</td>\n",
       "      <td>10</td>\n",
       "      <td>9</td>\n",
       "      <td>6</td>\n",
       "      <td>2</td>\n",
       "      <td>3</td>\n",
       "      <td>0</td>\n",
       "      <td>50.000000</td>\n",
       "    </tr>\n",
       "    <tr>\n",
       "      <th>Charmeleon</th>\n",
       "      <td>58</td>\n",
       "      <td>64</td>\n",
       "      <td>58</td>\n",
       "      <td>80</td>\n",
       "      <td>65</td>\n",
       "      <td>80</td>\n",
       "      <td>3</td>\n",
       "      <td>0</td>\n",
       "      <td>0</td>\n",
       "      <td>0</td>\n",
       "      <td>...</td>\n",
       "      <td>0</td>\n",
       "      <td>0</td>\n",
       "      <td>3</td>\n",
       "      <td>10</td>\n",
       "      <td>9</td>\n",
       "      <td>6</td>\n",
       "      <td>2</td>\n",
       "      <td>3</td>\n",
       "      <td>0</td>\n",
       "      <td>50.000000</td>\n",
       "    </tr>\n",
       "    <tr>\n",
       "      <th>...</th>\n",
       "      <td>...</td>\n",
       "      <td>...</td>\n",
       "      <td>...</td>\n",
       "      <td>...</td>\n",
       "      <td>...</td>\n",
       "      <td>...</td>\n",
       "      <td>...</td>\n",
       "      <td>...</td>\n",
       "      <td>...</td>\n",
       "      <td>...</td>\n",
       "      <td>...</td>\n",
       "      <td>...</td>\n",
       "      <td>...</td>\n",
       "      <td>...</td>\n",
       "      <td>...</td>\n",
       "      <td>...</td>\n",
       "      <td>...</td>\n",
       "      <td>...</td>\n",
       "      <td>...</td>\n",
       "      <td>...</td>\n",
       "      <td>...</td>\n",
       "    </tr>\n",
       "    <tr>\n",
       "      <th>Glastrier</th>\n",
       "      <td>100</td>\n",
       "      <td>145</td>\n",
       "      <td>130</td>\n",
       "      <td>65</td>\n",
       "      <td>110</td>\n",
       "      <td>30</td>\n",
       "      <td>-3</td>\n",
       "      <td>0</td>\n",
       "      <td>0</td>\n",
       "      <td>0</td>\n",
       "      <td>...</td>\n",
       "      <td>0</td>\n",
       "      <td>0</td>\n",
       "      <td>1</td>\n",
       "      <td>12</td>\n",
       "      <td>7</td>\n",
       "      <td>3</td>\n",
       "      <td>2</td>\n",
       "      <td>2</td>\n",
       "      <td>0</td>\n",
       "      <td>75.000000</td>\n",
       "    </tr>\n",
       "    <tr>\n",
       "      <th>Spectrier</th>\n",
       "      <td>100</td>\n",
       "      <td>65</td>\n",
       "      <td>60</td>\n",
       "      <td>145</td>\n",
       "      <td>80</td>\n",
       "      <td>130</td>\n",
       "      <td>8</td>\n",
       "      <td>0</td>\n",
       "      <td>0</td>\n",
       "      <td>1</td>\n",
       "      <td>...</td>\n",
       "      <td>0</td>\n",
       "      <td>0</td>\n",
       "      <td>0</td>\n",
       "      <td>4</td>\n",
       "      <td>4</td>\n",
       "      <td>4</td>\n",
       "      <td>3</td>\n",
       "      <td>3</td>\n",
       "      <td>0</td>\n",
       "      <td>1.000000</td>\n",
       "    </tr>\n",
       "    <tr>\n",
       "      <th>Calyrex</th>\n",
       "      <td>100</td>\n",
       "      <td>80</td>\n",
       "      <td>80</td>\n",
       "      <td>80</td>\n",
       "      <td>80</td>\n",
       "      <td>80</td>\n",
       "      <td>-2</td>\n",
       "      <td>0</td>\n",
       "      <td>0</td>\n",
       "      <td>0</td>\n",
       "      <td>...</td>\n",
       "      <td>0</td>\n",
       "      <td>0</td>\n",
       "      <td>2</td>\n",
       "      <td>3</td>\n",
       "      <td>3</td>\n",
       "      <td>9</td>\n",
       "      <td>4</td>\n",
       "      <td>3</td>\n",
       "      <td>0</td>\n",
       "      <td>18.181818</td>\n",
       "    </tr>\n",
       "    <tr>\n",
       "      <th>Calyrex-Ice</th>\n",
       "      <td>100</td>\n",
       "      <td>165</td>\n",
       "      <td>150</td>\n",
       "      <td>85</td>\n",
       "      <td>130</td>\n",
       "      <td>50</td>\n",
       "      <td>-4</td>\n",
       "      <td>0</td>\n",
       "      <td>0</td>\n",
       "      <td>0</td>\n",
       "      <td>...</td>\n",
       "      <td>0</td>\n",
       "      <td>0</td>\n",
       "      <td>2</td>\n",
       "      <td>15</td>\n",
       "      <td>9</td>\n",
       "      <td>12</td>\n",
       "      <td>5</td>\n",
       "      <td>3</td>\n",
       "      <td>1</td>\n",
       "      <td>1.000000</td>\n",
       "    </tr>\n",
       "    <tr>\n",
       "      <th>Calyrex-Shadow</th>\n",
       "      <td>100</td>\n",
       "      <td>85</td>\n",
       "      <td>80</td>\n",
       "      <td>165</td>\n",
       "      <td>100</td>\n",
       "      <td>150</td>\n",
       "      <td>6</td>\n",
       "      <td>0</td>\n",
       "      <td>0</td>\n",
       "      <td>1</td>\n",
       "      <td>...</td>\n",
       "      <td>0</td>\n",
       "      <td>0</td>\n",
       "      <td>2</td>\n",
       "      <td>7</td>\n",
       "      <td>6</td>\n",
       "      <td>13</td>\n",
       "      <td>6</td>\n",
       "      <td>3</td>\n",
       "      <td>1</td>\n",
       "      <td>1.000000</td>\n",
       "    </tr>\n",
       "  </tbody>\n",
       "</table>\n",
       "<p>738 rows × 26 columns</p>\n",
       "</div>"
      ],
      "text/plain": [
       "                 hp  atk  def  spa  spd  spe  Resistance Index  Entry Hazards  \\\n",
       "name                                                                            \n",
       "Bulbasaur        45   49   49   65   65   45                 2              0   \n",
       "Ivysaur          60   62   63   80   80   60                 2              0   \n",
       "Venusaur         80   82   83  100  100   80                 2              0   \n",
       "Charmander       39   52   43   60   50   65                 3              0   \n",
       "Charmeleon       58   64   58   80   65   80                 3              0   \n",
       "...             ...  ...  ...  ...  ...  ...               ...            ...   \n",
       "Glastrier       100  145  130   65  110   30                -3              0   \n",
       "Spectrier       100   65   60  145   80  130                 8              0   \n",
       "Calyrex         100   80   80   80   80   80                -2              0   \n",
       "Calyrex-Ice     100  165  150   85  130   50                -4              0   \n",
       "Calyrex-Shadow  100   85   80  165  100  150                 6              0   \n",
       "\n",
       "                Hazard Removal  Removal Deterrent  ...  HP Recovery  \\\n",
       "name                                               ...                \n",
       "Bulbasaur                    0                  0  ...            1   \n",
       "Ivysaur                      0                  0  ...            1   \n",
       "Venusaur                     0                  0  ...            1   \n",
       "Charmander                   0                  0  ...            0   \n",
       "Charmeleon                   0                  0  ...            0   \n",
       "...                        ...                ...  ...          ...   \n",
       "Glastrier                    0                  0  ...            0   \n",
       "Spectrier                    0                  1  ...            0   \n",
       "Calyrex                      0                  0  ...            0   \n",
       "Calyrex-Ice                  0                  0  ...            0   \n",
       "Calyrex-Shadow               0                  1  ...            0   \n",
       "\n",
       "                Weather Set  Weather Gimmick  Physical Cutoff 3  \\\n",
       "name                                                              \n",
       "Bulbasaur                 0                5                  4   \n",
       "Ivysaur                   0                5                  4   \n",
       "Venusaur                  0                5                  6   \n",
       "Charmander                0                3                 10   \n",
       "Charmeleon                0                3                 10   \n",
       "...                     ...              ...                ...   \n",
       "Glastrier                 0                1                 12   \n",
       "Spectrier                 0                0                  4   \n",
       "Calyrex                   0                2                  3   \n",
       "Calyrex-Ice               0                2                 15   \n",
       "Calyrex-Shadow            0                2                  7   \n",
       "\n",
       "                Physical Coverage 3  Special Cutoff 3  Special Coverage 5  \\\n",
       "name                                                                        \n",
       "Bulbasaur                         3                 5                   2   \n",
       "Ivysaur                           3                 5                   2   \n",
       "Venusaur                          4                 6                   4   \n",
       "Charmander                        9                 6                   2   \n",
       "Charmeleon                        9                 6                   2   \n",
       "...                             ...               ...                 ...   \n",
       "Glastrier                         7                 3                   2   \n",
       "Spectrier                         4                 4                   3   \n",
       "Calyrex                           3                 9                   4   \n",
       "Calyrex-Ice                       9                12                   5   \n",
       "Calyrex-Shadow                    6                13                   6   \n",
       "\n",
       "                Misc Status  Unique Powerful Move  Best Ability  \n",
       "name                                                             \n",
       "Bulbasaur                 4                     0     63.636364  \n",
       "Ivysaur                   4                     0     63.636364  \n",
       "Venusaur                  4                     0     63.636364  \n",
       "Charmander                3                     0     50.000000  \n",
       "Charmeleon                3                     0     50.000000  \n",
       "...                     ...                   ...           ...  \n",
       "Glastrier                 2                     0     75.000000  \n",
       "Spectrier                 3                     0      1.000000  \n",
       "Calyrex                   3                     0     18.181818  \n",
       "Calyrex-Ice               3                     1      1.000000  \n",
       "Calyrex-Shadow            3                     1      1.000000  \n",
       "\n",
       "[738 rows x 26 columns]"
      ]
     },
     "execution_count": 7,
     "metadata": {},
     "output_type": "execute_result"
    }
   ],
   "source": [
    "X.drop(columns=['Ability Cutoff 3', 'Unique Powerful Ability'], inplace=True)\n",
    "X"
   ]
  },
  {
   "cell_type": "code",
   "execution_count": 8,
   "metadata": {},
   "outputs": [
    {
     "data": {
      "text/plain": [
       "Index(['hp', 'atk', 'def', 'spa', 'spd', 'spe', 'Resistance Index',\n",
       "       'Entry Hazards', 'Hazard Removal', 'Removal Deterrent', 'Cleric',\n",
       "       'Pivot', 'Item Removal', 'Setup', 'Priority', 'HP Drain', 'HP Recovery',\n",
       "       'Weather Set', 'Weather Gimmick', 'Physical Cutoff 3',\n",
       "       'Physical Coverage 3', 'Special Cutoff 3', 'Special Coverage 5',\n",
       "       'Misc Status', 'Unique Powerful Move', 'Best Ability'],\n",
       "      dtype='object')"
      ]
     },
     "execution_count": 8,
     "metadata": {},
     "output_type": "execute_result"
    }
   ],
   "source": [
    "X.columns"
   ]
  },
  {
   "cell_type": "markdown",
   "metadata": {},
   "source": [
    "- fold weather set into weather gimmick"
   ]
  },
  {
   "cell_type": "code",
   "execution_count": 9,
   "metadata": {},
   "outputs": [
    {
     "data": {
      "text/plain": [
       "2    289\n",
       "1    171\n",
       "0    161\n",
       "5     70\n",
       "3     40\n",
       "4      7\n",
       "Name: Weather Gimmick, dtype: int64"
      ]
     },
     "execution_count": 9,
     "metadata": {},
     "output_type": "execute_result"
    }
   ],
   "source": [
    "X['Weather Gimmick'].value_counts()"
   ]
  },
  {
   "cell_type": "code",
   "execution_count": 10,
   "metadata": {},
   "outputs": [
    {
     "data": {
      "text/plain": [
       "0    709\n",
       "1     29\n",
       "Name: Weather Set, dtype: int64"
      ]
     },
     "execution_count": 10,
     "metadata": {},
     "output_type": "execute_result"
    }
   ],
   "source": [
    "X['Weather Set'].value_counts()"
   ]
  },
  {
   "cell_type": "code",
   "execution_count": 11,
   "metadata": {},
   "outputs": [
    {
     "data": {
      "text/plain": [
       "2    265\n",
       "1    167\n",
       "0    161\n",
       "5     70\n",
       "3     39\n",
       "6     29\n",
       "4      7\n",
       "Name: Weather Gimmick, dtype: int64"
      ]
     },
     "execution_count": 11,
     "metadata": {},
     "output_type": "execute_result"
    }
   ],
   "source": [
    "X.loc[X['Weather Set'] == 1, 'Weather Gimmick'] = 6\n",
    "X['Weather Gimmick'].value_counts()"
   ]
  },
  {
   "cell_type": "code",
   "execution_count": 12,
   "metadata": {},
   "outputs": [
    {
     "data": {
      "text/html": [
       "<div>\n",
       "<style scoped>\n",
       "    .dataframe tbody tr th:only-of-type {\n",
       "        vertical-align: middle;\n",
       "    }\n",
       "\n",
       "    .dataframe tbody tr th {\n",
       "        vertical-align: top;\n",
       "    }\n",
       "\n",
       "    .dataframe thead th {\n",
       "        text-align: right;\n",
       "    }\n",
       "</style>\n",
       "<table border=\"1\" class=\"dataframe\">\n",
       "  <thead>\n",
       "    <tr style=\"text-align: right;\">\n",
       "      <th></th>\n",
       "      <th>hp</th>\n",
       "      <th>atk</th>\n",
       "      <th>def</th>\n",
       "      <th>spa</th>\n",
       "      <th>spd</th>\n",
       "      <th>spe</th>\n",
       "      <th>Resistance Index</th>\n",
       "      <th>Entry Hazards</th>\n",
       "      <th>Hazard Removal</th>\n",
       "      <th>Removal Deterrent</th>\n",
       "      <th>...</th>\n",
       "      <th>HP Drain</th>\n",
       "      <th>HP Recovery</th>\n",
       "      <th>Weather Gimmick</th>\n",
       "      <th>Physical Cutoff 3</th>\n",
       "      <th>Physical Coverage 3</th>\n",
       "      <th>Special Cutoff 3</th>\n",
       "      <th>Special Coverage 5</th>\n",
       "      <th>Misc Status</th>\n",
       "      <th>Unique Powerful Move</th>\n",
       "      <th>Best Ability</th>\n",
       "    </tr>\n",
       "    <tr>\n",
       "      <th>name</th>\n",
       "      <th></th>\n",
       "      <th></th>\n",
       "      <th></th>\n",
       "      <th></th>\n",
       "      <th></th>\n",
       "      <th></th>\n",
       "      <th></th>\n",
       "      <th></th>\n",
       "      <th></th>\n",
       "      <th></th>\n",
       "      <th></th>\n",
       "      <th></th>\n",
       "      <th></th>\n",
       "      <th></th>\n",
       "      <th></th>\n",
       "      <th></th>\n",
       "      <th></th>\n",
       "      <th></th>\n",
       "      <th></th>\n",
       "      <th></th>\n",
       "      <th></th>\n",
       "    </tr>\n",
       "  </thead>\n",
       "  <tbody>\n",
       "    <tr>\n",
       "      <th>Bulbasaur</th>\n",
       "      <td>45</td>\n",
       "      <td>49</td>\n",
       "      <td>49</td>\n",
       "      <td>65</td>\n",
       "      <td>65</td>\n",
       "      <td>45</td>\n",
       "      <td>2</td>\n",
       "      <td>0</td>\n",
       "      <td>0</td>\n",
       "      <td>0</td>\n",
       "      <td>...</td>\n",
       "      <td>2</td>\n",
       "      <td>1</td>\n",
       "      <td>5</td>\n",
       "      <td>4</td>\n",
       "      <td>3</td>\n",
       "      <td>5</td>\n",
       "      <td>2</td>\n",
       "      <td>4</td>\n",
       "      <td>0</td>\n",
       "      <td>63.636364</td>\n",
       "    </tr>\n",
       "    <tr>\n",
       "      <th>Ivysaur</th>\n",
       "      <td>60</td>\n",
       "      <td>62</td>\n",
       "      <td>63</td>\n",
       "      <td>80</td>\n",
       "      <td>80</td>\n",
       "      <td>60</td>\n",
       "      <td>2</td>\n",
       "      <td>0</td>\n",
       "      <td>0</td>\n",
       "      <td>0</td>\n",
       "      <td>...</td>\n",
       "      <td>2</td>\n",
       "      <td>1</td>\n",
       "      <td>5</td>\n",
       "      <td>4</td>\n",
       "      <td>3</td>\n",
       "      <td>5</td>\n",
       "      <td>2</td>\n",
       "      <td>4</td>\n",
       "      <td>0</td>\n",
       "      <td>63.636364</td>\n",
       "    </tr>\n",
       "    <tr>\n",
       "      <th>Venusaur</th>\n",
       "      <td>80</td>\n",
       "      <td>82</td>\n",
       "      <td>83</td>\n",
       "      <td>100</td>\n",
       "      <td>100</td>\n",
       "      <td>80</td>\n",
       "      <td>2</td>\n",
       "      <td>0</td>\n",
       "      <td>0</td>\n",
       "      <td>0</td>\n",
       "      <td>...</td>\n",
       "      <td>2</td>\n",
       "      <td>1</td>\n",
       "      <td>5</td>\n",
       "      <td>6</td>\n",
       "      <td>4</td>\n",
       "      <td>6</td>\n",
       "      <td>4</td>\n",
       "      <td>4</td>\n",
       "      <td>0</td>\n",
       "      <td>63.636364</td>\n",
       "    </tr>\n",
       "    <tr>\n",
       "      <th>Charmander</th>\n",
       "      <td>39</td>\n",
       "      <td>52</td>\n",
       "      <td>43</td>\n",
       "      <td>60</td>\n",
       "      <td>50</td>\n",
       "      <td>65</td>\n",
       "      <td>3</td>\n",
       "      <td>0</td>\n",
       "      <td>0</td>\n",
       "      <td>0</td>\n",
       "      <td>...</td>\n",
       "      <td>0</td>\n",
       "      <td>0</td>\n",
       "      <td>3</td>\n",
       "      <td>10</td>\n",
       "      <td>9</td>\n",
       "      <td>6</td>\n",
       "      <td>2</td>\n",
       "      <td>3</td>\n",
       "      <td>0</td>\n",
       "      <td>50.000000</td>\n",
       "    </tr>\n",
       "    <tr>\n",
       "      <th>Charmeleon</th>\n",
       "      <td>58</td>\n",
       "      <td>64</td>\n",
       "      <td>58</td>\n",
       "      <td>80</td>\n",
       "      <td>65</td>\n",
       "      <td>80</td>\n",
       "      <td>3</td>\n",
       "      <td>0</td>\n",
       "      <td>0</td>\n",
       "      <td>0</td>\n",
       "      <td>...</td>\n",
       "      <td>0</td>\n",
       "      <td>0</td>\n",
       "      <td>3</td>\n",
       "      <td>10</td>\n",
       "      <td>9</td>\n",
       "      <td>6</td>\n",
       "      <td>2</td>\n",
       "      <td>3</td>\n",
       "      <td>0</td>\n",
       "      <td>50.000000</td>\n",
       "    </tr>\n",
       "    <tr>\n",
       "      <th>...</th>\n",
       "      <td>...</td>\n",
       "      <td>...</td>\n",
       "      <td>...</td>\n",
       "      <td>...</td>\n",
       "      <td>...</td>\n",
       "      <td>...</td>\n",
       "      <td>...</td>\n",
       "      <td>...</td>\n",
       "      <td>...</td>\n",
       "      <td>...</td>\n",
       "      <td>...</td>\n",
       "      <td>...</td>\n",
       "      <td>...</td>\n",
       "      <td>...</td>\n",
       "      <td>...</td>\n",
       "      <td>...</td>\n",
       "      <td>...</td>\n",
       "      <td>...</td>\n",
       "      <td>...</td>\n",
       "      <td>...</td>\n",
       "      <td>...</td>\n",
       "    </tr>\n",
       "    <tr>\n",
       "      <th>Glastrier</th>\n",
       "      <td>100</td>\n",
       "      <td>145</td>\n",
       "      <td>130</td>\n",
       "      <td>65</td>\n",
       "      <td>110</td>\n",
       "      <td>30</td>\n",
       "      <td>-3</td>\n",
       "      <td>0</td>\n",
       "      <td>0</td>\n",
       "      <td>0</td>\n",
       "      <td>...</td>\n",
       "      <td>0</td>\n",
       "      <td>0</td>\n",
       "      <td>1</td>\n",
       "      <td>12</td>\n",
       "      <td>7</td>\n",
       "      <td>3</td>\n",
       "      <td>2</td>\n",
       "      <td>2</td>\n",
       "      <td>0</td>\n",
       "      <td>75.000000</td>\n",
       "    </tr>\n",
       "    <tr>\n",
       "      <th>Spectrier</th>\n",
       "      <td>100</td>\n",
       "      <td>65</td>\n",
       "      <td>60</td>\n",
       "      <td>145</td>\n",
       "      <td>80</td>\n",
       "      <td>130</td>\n",
       "      <td>8</td>\n",
       "      <td>0</td>\n",
       "      <td>0</td>\n",
       "      <td>1</td>\n",
       "      <td>...</td>\n",
       "      <td>0</td>\n",
       "      <td>0</td>\n",
       "      <td>0</td>\n",
       "      <td>4</td>\n",
       "      <td>4</td>\n",
       "      <td>4</td>\n",
       "      <td>3</td>\n",
       "      <td>3</td>\n",
       "      <td>0</td>\n",
       "      <td>1.000000</td>\n",
       "    </tr>\n",
       "    <tr>\n",
       "      <th>Calyrex</th>\n",
       "      <td>100</td>\n",
       "      <td>80</td>\n",
       "      <td>80</td>\n",
       "      <td>80</td>\n",
       "      <td>80</td>\n",
       "      <td>80</td>\n",
       "      <td>-2</td>\n",
       "      <td>0</td>\n",
       "      <td>0</td>\n",
       "      <td>0</td>\n",
       "      <td>...</td>\n",
       "      <td>2</td>\n",
       "      <td>0</td>\n",
       "      <td>2</td>\n",
       "      <td>3</td>\n",
       "      <td>3</td>\n",
       "      <td>9</td>\n",
       "      <td>4</td>\n",
       "      <td>3</td>\n",
       "      <td>0</td>\n",
       "      <td>18.181818</td>\n",
       "    </tr>\n",
       "    <tr>\n",
       "      <th>Calyrex-Ice</th>\n",
       "      <td>100</td>\n",
       "      <td>165</td>\n",
       "      <td>150</td>\n",
       "      <td>85</td>\n",
       "      <td>130</td>\n",
       "      <td>50</td>\n",
       "      <td>-4</td>\n",
       "      <td>0</td>\n",
       "      <td>0</td>\n",
       "      <td>0</td>\n",
       "      <td>...</td>\n",
       "      <td>2</td>\n",
       "      <td>0</td>\n",
       "      <td>2</td>\n",
       "      <td>15</td>\n",
       "      <td>9</td>\n",
       "      <td>12</td>\n",
       "      <td>5</td>\n",
       "      <td>3</td>\n",
       "      <td>1</td>\n",
       "      <td>1.000000</td>\n",
       "    </tr>\n",
       "    <tr>\n",
       "      <th>Calyrex-Shadow</th>\n",
       "      <td>100</td>\n",
       "      <td>85</td>\n",
       "      <td>80</td>\n",
       "      <td>165</td>\n",
       "      <td>100</td>\n",
       "      <td>150</td>\n",
       "      <td>6</td>\n",
       "      <td>0</td>\n",
       "      <td>0</td>\n",
       "      <td>1</td>\n",
       "      <td>...</td>\n",
       "      <td>2</td>\n",
       "      <td>0</td>\n",
       "      <td>2</td>\n",
       "      <td>7</td>\n",
       "      <td>6</td>\n",
       "      <td>13</td>\n",
       "      <td>6</td>\n",
       "      <td>3</td>\n",
       "      <td>1</td>\n",
       "      <td>1.000000</td>\n",
       "    </tr>\n",
       "  </tbody>\n",
       "</table>\n",
       "<p>738 rows × 25 columns</p>\n",
       "</div>"
      ],
      "text/plain": [
       "                 hp  atk  def  spa  spd  spe  Resistance Index  Entry Hazards  \\\n",
       "name                                                                            \n",
       "Bulbasaur        45   49   49   65   65   45                 2              0   \n",
       "Ivysaur          60   62   63   80   80   60                 2              0   \n",
       "Venusaur         80   82   83  100  100   80                 2              0   \n",
       "Charmander       39   52   43   60   50   65                 3              0   \n",
       "Charmeleon       58   64   58   80   65   80                 3              0   \n",
       "...             ...  ...  ...  ...  ...  ...               ...            ...   \n",
       "Glastrier       100  145  130   65  110   30                -3              0   \n",
       "Spectrier       100   65   60  145   80  130                 8              0   \n",
       "Calyrex         100   80   80   80   80   80                -2              0   \n",
       "Calyrex-Ice     100  165  150   85  130   50                -4              0   \n",
       "Calyrex-Shadow  100   85   80  165  100  150                 6              0   \n",
       "\n",
       "                Hazard Removal  Removal Deterrent  ...  HP Drain  HP Recovery  \\\n",
       "name                                               ...                          \n",
       "Bulbasaur                    0                  0  ...         2            1   \n",
       "Ivysaur                      0                  0  ...         2            1   \n",
       "Venusaur                     0                  0  ...         2            1   \n",
       "Charmander                   0                  0  ...         0            0   \n",
       "Charmeleon                   0                  0  ...         0            0   \n",
       "...                        ...                ...  ...       ...          ...   \n",
       "Glastrier                    0                  0  ...         0            0   \n",
       "Spectrier                    0                  1  ...         0            0   \n",
       "Calyrex                      0                  0  ...         2            0   \n",
       "Calyrex-Ice                  0                  0  ...         2            0   \n",
       "Calyrex-Shadow               0                  1  ...         2            0   \n",
       "\n",
       "                Weather Gimmick  Physical Cutoff 3  Physical Coverage 3  \\\n",
       "name                                                                      \n",
       "Bulbasaur                     5                  4                    3   \n",
       "Ivysaur                       5                  4                    3   \n",
       "Venusaur                      5                  6                    4   \n",
       "Charmander                    3                 10                    9   \n",
       "Charmeleon                    3                 10                    9   \n",
       "...                         ...                ...                  ...   \n",
       "Glastrier                     1                 12                    7   \n",
       "Spectrier                     0                  4                    4   \n",
       "Calyrex                       2                  3                    3   \n",
       "Calyrex-Ice                   2                 15                    9   \n",
       "Calyrex-Shadow                2                  7                    6   \n",
       "\n",
       "                Special Cutoff 3  Special Coverage 5  Misc Status  \\\n",
       "name                                                                \n",
       "Bulbasaur                      5                   2            4   \n",
       "Ivysaur                        5                   2            4   \n",
       "Venusaur                       6                   4            4   \n",
       "Charmander                     6                   2            3   \n",
       "Charmeleon                     6                   2            3   \n",
       "...                          ...                 ...          ...   \n",
       "Glastrier                      3                   2            2   \n",
       "Spectrier                      4                   3            3   \n",
       "Calyrex                        9                   4            3   \n",
       "Calyrex-Ice                   12                   5            3   \n",
       "Calyrex-Shadow                13                   6            3   \n",
       "\n",
       "                Unique Powerful Move  Best Ability  \n",
       "name                                                \n",
       "Bulbasaur                          0     63.636364  \n",
       "Ivysaur                            0     63.636364  \n",
       "Venusaur                           0     63.636364  \n",
       "Charmander                         0     50.000000  \n",
       "Charmeleon                         0     50.000000  \n",
       "...                              ...           ...  \n",
       "Glastrier                          0     75.000000  \n",
       "Spectrier                          0      1.000000  \n",
       "Calyrex                            0     18.181818  \n",
       "Calyrex-Ice                        1      1.000000  \n",
       "Calyrex-Shadow                     1      1.000000  \n",
       "\n",
       "[738 rows x 25 columns]"
      ]
     },
     "execution_count": 12,
     "metadata": {},
     "output_type": "execute_result"
    }
   ],
   "source": [
    "X.drop(columns=['Weather Set'], inplace=True)\n",
    "X"
   ]
  },
  {
   "cell_type": "markdown",
   "metadata": {},
   "source": [
    "- fold hp drain and hp recovery together into a recovery feature"
   ]
  },
  {
   "cell_type": "code",
   "execution_count": 13,
   "metadata": {},
   "outputs": [
    {
     "data": {
      "text/plain": [
       "0    517\n",
       "1    184\n",
       "2     37\n",
       "Name: HP Recovery, dtype: int64"
      ]
     },
     "execution_count": 13,
     "metadata": {},
     "output_type": "execute_result"
    }
   ],
   "source": [
    "X['HP Recovery'].value_counts()"
   ]
  },
  {
   "cell_type": "code",
   "execution_count": 14,
   "metadata": {},
   "outputs": [
    {
     "data": {
      "text/plain": [
       "0    482\n",
       "2    202\n",
       "1     49\n",
       "3      4\n",
       "4      1\n",
       "Name: HP Drain, dtype: int64"
      ]
     },
     "execution_count": 14,
     "metadata": {},
     "output_type": "execute_result"
    }
   ],
   "source": [
    "X['HP Drain'].value_counts()"
   ]
  },
  {
   "cell_type": "code",
   "execution_count": 15,
   "metadata": {},
   "outputs": [
    {
     "data": {
      "text/plain": [
       "0    382\n",
       "3    187\n",
       "2     91\n",
       "1     41\n",
       "4     37\n",
       "Name: HP Drain, dtype: int64"
      ]
     },
     "execution_count": 15,
     "metadata": {},
     "output_type": "execute_result"
    }
   ],
   "source": [
    "X.loc[X['HP Recovery'] == 1, 'HP Drain'] = 3\n",
    "X.loc[X['HP Recovery'] == 2, 'HP Drain'] = 4\n",
    "X['HP Drain'].value_counts()"
   ]
  },
  {
   "cell_type": "code",
   "execution_count": 16,
   "metadata": {},
   "outputs": [
    {
     "data": {
      "text/html": [
       "<div>\n",
       "<style scoped>\n",
       "    .dataframe tbody tr th:only-of-type {\n",
       "        vertical-align: middle;\n",
       "    }\n",
       "\n",
       "    .dataframe tbody tr th {\n",
       "        vertical-align: top;\n",
       "    }\n",
       "\n",
       "    .dataframe thead th {\n",
       "        text-align: right;\n",
       "    }\n",
       "</style>\n",
       "<table border=\"1\" class=\"dataframe\">\n",
       "  <thead>\n",
       "    <tr style=\"text-align: right;\">\n",
       "      <th></th>\n",
       "      <th>hp</th>\n",
       "      <th>atk</th>\n",
       "      <th>def</th>\n",
       "      <th>spa</th>\n",
       "      <th>spd</th>\n",
       "      <th>spe</th>\n",
       "      <th>Resistance Index</th>\n",
       "      <th>Entry Hazards</th>\n",
       "      <th>Hazard Removal</th>\n",
       "      <th>Removal Deterrent</th>\n",
       "      <th>...</th>\n",
       "      <th>Priority</th>\n",
       "      <th>HP Drain</th>\n",
       "      <th>Weather Gimmick</th>\n",
       "      <th>Physical Cutoff 3</th>\n",
       "      <th>Physical Coverage 3</th>\n",
       "      <th>Special Cutoff 3</th>\n",
       "      <th>Special Coverage 5</th>\n",
       "      <th>Misc Status</th>\n",
       "      <th>Unique Powerful Move</th>\n",
       "      <th>Best Ability</th>\n",
       "    </tr>\n",
       "    <tr>\n",
       "      <th>name</th>\n",
       "      <th></th>\n",
       "      <th></th>\n",
       "      <th></th>\n",
       "      <th></th>\n",
       "      <th></th>\n",
       "      <th></th>\n",
       "      <th></th>\n",
       "      <th></th>\n",
       "      <th></th>\n",
       "      <th></th>\n",
       "      <th></th>\n",
       "      <th></th>\n",
       "      <th></th>\n",
       "      <th></th>\n",
       "      <th></th>\n",
       "      <th></th>\n",
       "      <th></th>\n",
       "      <th></th>\n",
       "      <th></th>\n",
       "      <th></th>\n",
       "      <th></th>\n",
       "    </tr>\n",
       "  </thead>\n",
       "  <tbody>\n",
       "    <tr>\n",
       "      <th>Bulbasaur</th>\n",
       "      <td>45</td>\n",
       "      <td>49</td>\n",
       "      <td>49</td>\n",
       "      <td>65</td>\n",
       "      <td>65</td>\n",
       "      <td>45</td>\n",
       "      <td>2</td>\n",
       "      <td>0</td>\n",
       "      <td>0</td>\n",
       "      <td>0</td>\n",
       "      <td>...</td>\n",
       "      <td>0</td>\n",
       "      <td>3</td>\n",
       "      <td>5</td>\n",
       "      <td>4</td>\n",
       "      <td>3</td>\n",
       "      <td>5</td>\n",
       "      <td>2</td>\n",
       "      <td>4</td>\n",
       "      <td>0</td>\n",
       "      <td>63.636364</td>\n",
       "    </tr>\n",
       "    <tr>\n",
       "      <th>Ivysaur</th>\n",
       "      <td>60</td>\n",
       "      <td>62</td>\n",
       "      <td>63</td>\n",
       "      <td>80</td>\n",
       "      <td>80</td>\n",
       "      <td>60</td>\n",
       "      <td>2</td>\n",
       "      <td>0</td>\n",
       "      <td>0</td>\n",
       "      <td>0</td>\n",
       "      <td>...</td>\n",
       "      <td>0</td>\n",
       "      <td>3</td>\n",
       "      <td>5</td>\n",
       "      <td>4</td>\n",
       "      <td>3</td>\n",
       "      <td>5</td>\n",
       "      <td>2</td>\n",
       "      <td>4</td>\n",
       "      <td>0</td>\n",
       "      <td>63.636364</td>\n",
       "    </tr>\n",
       "    <tr>\n",
       "      <th>Venusaur</th>\n",
       "      <td>80</td>\n",
       "      <td>82</td>\n",
       "      <td>83</td>\n",
       "      <td>100</td>\n",
       "      <td>100</td>\n",
       "      <td>80</td>\n",
       "      <td>2</td>\n",
       "      <td>0</td>\n",
       "      <td>0</td>\n",
       "      <td>0</td>\n",
       "      <td>...</td>\n",
       "      <td>0</td>\n",
       "      <td>3</td>\n",
       "      <td>5</td>\n",
       "      <td>6</td>\n",
       "      <td>4</td>\n",
       "      <td>6</td>\n",
       "      <td>4</td>\n",
       "      <td>4</td>\n",
       "      <td>0</td>\n",
       "      <td>63.636364</td>\n",
       "    </tr>\n",
       "    <tr>\n",
       "      <th>Charmander</th>\n",
       "      <td>39</td>\n",
       "      <td>52</td>\n",
       "      <td>43</td>\n",
       "      <td>60</td>\n",
       "      <td>50</td>\n",
       "      <td>65</td>\n",
       "      <td>3</td>\n",
       "      <td>0</td>\n",
       "      <td>0</td>\n",
       "      <td>0</td>\n",
       "      <td>...</td>\n",
       "      <td>1</td>\n",
       "      <td>0</td>\n",
       "      <td>3</td>\n",
       "      <td>10</td>\n",
       "      <td>9</td>\n",
       "      <td>6</td>\n",
       "      <td>2</td>\n",
       "      <td>3</td>\n",
       "      <td>0</td>\n",
       "      <td>50.000000</td>\n",
       "    </tr>\n",
       "    <tr>\n",
       "      <th>Charmeleon</th>\n",
       "      <td>58</td>\n",
       "      <td>64</td>\n",
       "      <td>58</td>\n",
       "      <td>80</td>\n",
       "      <td>65</td>\n",
       "      <td>80</td>\n",
       "      <td>3</td>\n",
       "      <td>0</td>\n",
       "      <td>0</td>\n",
       "      <td>0</td>\n",
       "      <td>...</td>\n",
       "      <td>1</td>\n",
       "      <td>0</td>\n",
       "      <td>3</td>\n",
       "      <td>10</td>\n",
       "      <td>9</td>\n",
       "      <td>6</td>\n",
       "      <td>2</td>\n",
       "      <td>3</td>\n",
       "      <td>0</td>\n",
       "      <td>50.000000</td>\n",
       "    </tr>\n",
       "    <tr>\n",
       "      <th>...</th>\n",
       "      <td>...</td>\n",
       "      <td>...</td>\n",
       "      <td>...</td>\n",
       "      <td>...</td>\n",
       "      <td>...</td>\n",
       "      <td>...</td>\n",
       "      <td>...</td>\n",
       "      <td>...</td>\n",
       "      <td>...</td>\n",
       "      <td>...</td>\n",
       "      <td>...</td>\n",
       "      <td>...</td>\n",
       "      <td>...</td>\n",
       "      <td>...</td>\n",
       "      <td>...</td>\n",
       "      <td>...</td>\n",
       "      <td>...</td>\n",
       "      <td>...</td>\n",
       "      <td>...</td>\n",
       "      <td>...</td>\n",
       "      <td>...</td>\n",
       "    </tr>\n",
       "    <tr>\n",
       "      <th>Glastrier</th>\n",
       "      <td>100</td>\n",
       "      <td>145</td>\n",
       "      <td>130</td>\n",
       "      <td>65</td>\n",
       "      <td>110</td>\n",
       "      <td>30</td>\n",
       "      <td>-3</td>\n",
       "      <td>0</td>\n",
       "      <td>0</td>\n",
       "      <td>0</td>\n",
       "      <td>...</td>\n",
       "      <td>0</td>\n",
       "      <td>0</td>\n",
       "      <td>1</td>\n",
       "      <td>12</td>\n",
       "      <td>7</td>\n",
       "      <td>3</td>\n",
       "      <td>2</td>\n",
       "      <td>2</td>\n",
       "      <td>0</td>\n",
       "      <td>75.000000</td>\n",
       "    </tr>\n",
       "    <tr>\n",
       "      <th>Spectrier</th>\n",
       "      <td>100</td>\n",
       "      <td>65</td>\n",
       "      <td>60</td>\n",
       "      <td>145</td>\n",
       "      <td>80</td>\n",
       "      <td>130</td>\n",
       "      <td>8</td>\n",
       "      <td>0</td>\n",
       "      <td>0</td>\n",
       "      <td>1</td>\n",
       "      <td>...</td>\n",
       "      <td>0</td>\n",
       "      <td>0</td>\n",
       "      <td>0</td>\n",
       "      <td>4</td>\n",
       "      <td>4</td>\n",
       "      <td>4</td>\n",
       "      <td>3</td>\n",
       "      <td>3</td>\n",
       "      <td>0</td>\n",
       "      <td>1.000000</td>\n",
       "    </tr>\n",
       "    <tr>\n",
       "      <th>Calyrex</th>\n",
       "      <td>100</td>\n",
       "      <td>80</td>\n",
       "      <td>80</td>\n",
       "      <td>80</td>\n",
       "      <td>80</td>\n",
       "      <td>80</td>\n",
       "      <td>-2</td>\n",
       "      <td>0</td>\n",
       "      <td>0</td>\n",
       "      <td>0</td>\n",
       "      <td>...</td>\n",
       "      <td>0</td>\n",
       "      <td>2</td>\n",
       "      <td>2</td>\n",
       "      <td>3</td>\n",
       "      <td>3</td>\n",
       "      <td>9</td>\n",
       "      <td>4</td>\n",
       "      <td>3</td>\n",
       "      <td>0</td>\n",
       "      <td>18.181818</td>\n",
       "    </tr>\n",
       "    <tr>\n",
       "      <th>Calyrex-Ice</th>\n",
       "      <td>100</td>\n",
       "      <td>165</td>\n",
       "      <td>150</td>\n",
       "      <td>85</td>\n",
       "      <td>130</td>\n",
       "      <td>50</td>\n",
       "      <td>-4</td>\n",
       "      <td>0</td>\n",
       "      <td>0</td>\n",
       "      <td>0</td>\n",
       "      <td>...</td>\n",
       "      <td>0</td>\n",
       "      <td>2</td>\n",
       "      <td>2</td>\n",
       "      <td>15</td>\n",
       "      <td>9</td>\n",
       "      <td>12</td>\n",
       "      <td>5</td>\n",
       "      <td>3</td>\n",
       "      <td>1</td>\n",
       "      <td>1.000000</td>\n",
       "    </tr>\n",
       "    <tr>\n",
       "      <th>Calyrex-Shadow</th>\n",
       "      <td>100</td>\n",
       "      <td>85</td>\n",
       "      <td>80</td>\n",
       "      <td>165</td>\n",
       "      <td>100</td>\n",
       "      <td>150</td>\n",
       "      <td>6</td>\n",
       "      <td>0</td>\n",
       "      <td>0</td>\n",
       "      <td>1</td>\n",
       "      <td>...</td>\n",
       "      <td>0</td>\n",
       "      <td>2</td>\n",
       "      <td>2</td>\n",
       "      <td>7</td>\n",
       "      <td>6</td>\n",
       "      <td>13</td>\n",
       "      <td>6</td>\n",
       "      <td>3</td>\n",
       "      <td>1</td>\n",
       "      <td>1.000000</td>\n",
       "    </tr>\n",
       "  </tbody>\n",
       "</table>\n",
       "<p>738 rows × 24 columns</p>\n",
       "</div>"
      ],
      "text/plain": [
       "                 hp  atk  def  spa  spd  spe  Resistance Index  Entry Hazards  \\\n",
       "name                                                                            \n",
       "Bulbasaur        45   49   49   65   65   45                 2              0   \n",
       "Ivysaur          60   62   63   80   80   60                 2              0   \n",
       "Venusaur         80   82   83  100  100   80                 2              0   \n",
       "Charmander       39   52   43   60   50   65                 3              0   \n",
       "Charmeleon       58   64   58   80   65   80                 3              0   \n",
       "...             ...  ...  ...  ...  ...  ...               ...            ...   \n",
       "Glastrier       100  145  130   65  110   30                -3              0   \n",
       "Spectrier       100   65   60  145   80  130                 8              0   \n",
       "Calyrex         100   80   80   80   80   80                -2              0   \n",
       "Calyrex-Ice     100  165  150   85  130   50                -4              0   \n",
       "Calyrex-Shadow  100   85   80  165  100  150                 6              0   \n",
       "\n",
       "                Hazard Removal  Removal Deterrent  ...  Priority  HP Drain  \\\n",
       "name                                               ...                       \n",
       "Bulbasaur                    0                  0  ...         0         3   \n",
       "Ivysaur                      0                  0  ...         0         3   \n",
       "Venusaur                     0                  0  ...         0         3   \n",
       "Charmander                   0                  0  ...         1         0   \n",
       "Charmeleon                   0                  0  ...         1         0   \n",
       "...                        ...                ...  ...       ...       ...   \n",
       "Glastrier                    0                  0  ...         0         0   \n",
       "Spectrier                    0                  1  ...         0         0   \n",
       "Calyrex                      0                  0  ...         0         2   \n",
       "Calyrex-Ice                  0                  0  ...         0         2   \n",
       "Calyrex-Shadow               0                  1  ...         0         2   \n",
       "\n",
       "                Weather Gimmick  Physical Cutoff 3  Physical Coverage 3  \\\n",
       "name                                                                      \n",
       "Bulbasaur                     5                  4                    3   \n",
       "Ivysaur                       5                  4                    3   \n",
       "Venusaur                      5                  6                    4   \n",
       "Charmander                    3                 10                    9   \n",
       "Charmeleon                    3                 10                    9   \n",
       "...                         ...                ...                  ...   \n",
       "Glastrier                     1                 12                    7   \n",
       "Spectrier                     0                  4                    4   \n",
       "Calyrex                       2                  3                    3   \n",
       "Calyrex-Ice                   2                 15                    9   \n",
       "Calyrex-Shadow                2                  7                    6   \n",
       "\n",
       "                Special Cutoff 3  Special Coverage 5  Misc Status  \\\n",
       "name                                                                \n",
       "Bulbasaur                      5                   2            4   \n",
       "Ivysaur                        5                   2            4   \n",
       "Venusaur                       6                   4            4   \n",
       "Charmander                     6                   2            3   \n",
       "Charmeleon                     6                   2            3   \n",
       "...                          ...                 ...          ...   \n",
       "Glastrier                      3                   2            2   \n",
       "Spectrier                      4                   3            3   \n",
       "Calyrex                        9                   4            3   \n",
       "Calyrex-Ice                   12                   5            3   \n",
       "Calyrex-Shadow                13                   6            3   \n",
       "\n",
       "                Unique Powerful Move  Best Ability  \n",
       "name                                                \n",
       "Bulbasaur                          0     63.636364  \n",
       "Ivysaur                            0     63.636364  \n",
       "Venusaur                           0     63.636364  \n",
       "Charmander                         0     50.000000  \n",
       "Charmeleon                         0     50.000000  \n",
       "...                              ...           ...  \n",
       "Glastrier                          0     75.000000  \n",
       "Spectrier                          0      1.000000  \n",
       "Calyrex                            0     18.181818  \n",
       "Calyrex-Ice                        1      1.000000  \n",
       "Calyrex-Shadow                     1      1.000000  \n",
       "\n",
       "[738 rows x 24 columns]"
      ]
     },
     "execution_count": 16,
     "metadata": {},
     "output_type": "execute_result"
    }
   ],
   "source": [
    "X.drop(columns=['HP Recovery'], inplace=True)\n",
    "X"
   ]
  },
  {
   "cell_type": "code",
   "execution_count": 17,
   "metadata": {},
   "outputs": [
    {
     "data": {
      "text/html": [
       "<div>\n",
       "<style scoped>\n",
       "    .dataframe tbody tr th:only-of-type {\n",
       "        vertical-align: middle;\n",
       "    }\n",
       "\n",
       "    .dataframe tbody tr th {\n",
       "        vertical-align: top;\n",
       "    }\n",
       "\n",
       "    .dataframe thead th {\n",
       "        text-align: right;\n",
       "    }\n",
       "</style>\n",
       "<table border=\"1\" class=\"dataframe\">\n",
       "  <thead>\n",
       "    <tr style=\"text-align: right;\">\n",
       "      <th></th>\n",
       "      <th>hp</th>\n",
       "      <th>atk</th>\n",
       "      <th>def</th>\n",
       "      <th>spa</th>\n",
       "      <th>spd</th>\n",
       "      <th>spe</th>\n",
       "      <th>Resistance Index</th>\n",
       "      <th>Entry Hazards</th>\n",
       "      <th>Hazard Removal</th>\n",
       "      <th>Removal Deterrent</th>\n",
       "      <th>...</th>\n",
       "      <th>HP Drain</th>\n",
       "      <th>Weather Gimmick</th>\n",
       "      <th>Physical Cutoff 3</th>\n",
       "      <th>Physical Coverage 3</th>\n",
       "      <th>Special Cutoff 3</th>\n",
       "      <th>Special Coverage 5</th>\n",
       "      <th>Misc Status</th>\n",
       "      <th>Unique Powerful Move</th>\n",
       "      <th>Best Ability</th>\n",
       "      <th>HP Recovery</th>\n",
       "    </tr>\n",
       "    <tr>\n",
       "      <th>name</th>\n",
       "      <th></th>\n",
       "      <th></th>\n",
       "      <th></th>\n",
       "      <th></th>\n",
       "      <th></th>\n",
       "      <th></th>\n",
       "      <th></th>\n",
       "      <th></th>\n",
       "      <th></th>\n",
       "      <th></th>\n",
       "      <th></th>\n",
       "      <th></th>\n",
       "      <th></th>\n",
       "      <th></th>\n",
       "      <th></th>\n",
       "      <th></th>\n",
       "      <th></th>\n",
       "      <th></th>\n",
       "      <th></th>\n",
       "      <th></th>\n",
       "      <th></th>\n",
       "    </tr>\n",
       "  </thead>\n",
       "  <tbody>\n",
       "    <tr>\n",
       "      <th>Bulbasaur</th>\n",
       "      <td>45</td>\n",
       "      <td>49</td>\n",
       "      <td>49</td>\n",
       "      <td>65</td>\n",
       "      <td>65</td>\n",
       "      <td>45</td>\n",
       "      <td>2</td>\n",
       "      <td>0</td>\n",
       "      <td>0</td>\n",
       "      <td>0</td>\n",
       "      <td>...</td>\n",
       "      <td>3</td>\n",
       "      <td>5</td>\n",
       "      <td>4</td>\n",
       "      <td>3</td>\n",
       "      <td>5</td>\n",
       "      <td>2</td>\n",
       "      <td>4</td>\n",
       "      <td>0</td>\n",
       "      <td>63.636364</td>\n",
       "      <td>3</td>\n",
       "    </tr>\n",
       "    <tr>\n",
       "      <th>Ivysaur</th>\n",
       "      <td>60</td>\n",
       "      <td>62</td>\n",
       "      <td>63</td>\n",
       "      <td>80</td>\n",
       "      <td>80</td>\n",
       "      <td>60</td>\n",
       "      <td>2</td>\n",
       "      <td>0</td>\n",
       "      <td>0</td>\n",
       "      <td>0</td>\n",
       "      <td>...</td>\n",
       "      <td>3</td>\n",
       "      <td>5</td>\n",
       "      <td>4</td>\n",
       "      <td>3</td>\n",
       "      <td>5</td>\n",
       "      <td>2</td>\n",
       "      <td>4</td>\n",
       "      <td>0</td>\n",
       "      <td>63.636364</td>\n",
       "      <td>3</td>\n",
       "    </tr>\n",
       "    <tr>\n",
       "      <th>Venusaur</th>\n",
       "      <td>80</td>\n",
       "      <td>82</td>\n",
       "      <td>83</td>\n",
       "      <td>100</td>\n",
       "      <td>100</td>\n",
       "      <td>80</td>\n",
       "      <td>2</td>\n",
       "      <td>0</td>\n",
       "      <td>0</td>\n",
       "      <td>0</td>\n",
       "      <td>...</td>\n",
       "      <td>3</td>\n",
       "      <td>5</td>\n",
       "      <td>6</td>\n",
       "      <td>4</td>\n",
       "      <td>6</td>\n",
       "      <td>4</td>\n",
       "      <td>4</td>\n",
       "      <td>0</td>\n",
       "      <td>63.636364</td>\n",
       "      <td>3</td>\n",
       "    </tr>\n",
       "    <tr>\n",
       "      <th>Charmander</th>\n",
       "      <td>39</td>\n",
       "      <td>52</td>\n",
       "      <td>43</td>\n",
       "      <td>60</td>\n",
       "      <td>50</td>\n",
       "      <td>65</td>\n",
       "      <td>3</td>\n",
       "      <td>0</td>\n",
       "      <td>0</td>\n",
       "      <td>0</td>\n",
       "      <td>...</td>\n",
       "      <td>0</td>\n",
       "      <td>3</td>\n",
       "      <td>10</td>\n",
       "      <td>9</td>\n",
       "      <td>6</td>\n",
       "      <td>2</td>\n",
       "      <td>3</td>\n",
       "      <td>0</td>\n",
       "      <td>50.000000</td>\n",
       "      <td>0</td>\n",
       "    </tr>\n",
       "    <tr>\n",
       "      <th>Charmeleon</th>\n",
       "      <td>58</td>\n",
       "      <td>64</td>\n",
       "      <td>58</td>\n",
       "      <td>80</td>\n",
       "      <td>65</td>\n",
       "      <td>80</td>\n",
       "      <td>3</td>\n",
       "      <td>0</td>\n",
       "      <td>0</td>\n",
       "      <td>0</td>\n",
       "      <td>...</td>\n",
       "      <td>0</td>\n",
       "      <td>3</td>\n",
       "      <td>10</td>\n",
       "      <td>9</td>\n",
       "      <td>6</td>\n",
       "      <td>2</td>\n",
       "      <td>3</td>\n",
       "      <td>0</td>\n",
       "      <td>50.000000</td>\n",
       "      <td>0</td>\n",
       "    </tr>\n",
       "    <tr>\n",
       "      <th>...</th>\n",
       "      <td>...</td>\n",
       "      <td>...</td>\n",
       "      <td>...</td>\n",
       "      <td>...</td>\n",
       "      <td>...</td>\n",
       "      <td>...</td>\n",
       "      <td>...</td>\n",
       "      <td>...</td>\n",
       "      <td>...</td>\n",
       "      <td>...</td>\n",
       "      <td>...</td>\n",
       "      <td>...</td>\n",
       "      <td>...</td>\n",
       "      <td>...</td>\n",
       "      <td>...</td>\n",
       "      <td>...</td>\n",
       "      <td>...</td>\n",
       "      <td>...</td>\n",
       "      <td>...</td>\n",
       "      <td>...</td>\n",
       "      <td>...</td>\n",
       "    </tr>\n",
       "    <tr>\n",
       "      <th>Glastrier</th>\n",
       "      <td>100</td>\n",
       "      <td>145</td>\n",
       "      <td>130</td>\n",
       "      <td>65</td>\n",
       "      <td>110</td>\n",
       "      <td>30</td>\n",
       "      <td>-3</td>\n",
       "      <td>0</td>\n",
       "      <td>0</td>\n",
       "      <td>0</td>\n",
       "      <td>...</td>\n",
       "      <td>0</td>\n",
       "      <td>1</td>\n",
       "      <td>12</td>\n",
       "      <td>7</td>\n",
       "      <td>3</td>\n",
       "      <td>2</td>\n",
       "      <td>2</td>\n",
       "      <td>0</td>\n",
       "      <td>75.000000</td>\n",
       "      <td>0</td>\n",
       "    </tr>\n",
       "    <tr>\n",
       "      <th>Spectrier</th>\n",
       "      <td>100</td>\n",
       "      <td>65</td>\n",
       "      <td>60</td>\n",
       "      <td>145</td>\n",
       "      <td>80</td>\n",
       "      <td>130</td>\n",
       "      <td>8</td>\n",
       "      <td>0</td>\n",
       "      <td>0</td>\n",
       "      <td>1</td>\n",
       "      <td>...</td>\n",
       "      <td>0</td>\n",
       "      <td>0</td>\n",
       "      <td>4</td>\n",
       "      <td>4</td>\n",
       "      <td>4</td>\n",
       "      <td>3</td>\n",
       "      <td>3</td>\n",
       "      <td>0</td>\n",
       "      <td>1.000000</td>\n",
       "      <td>0</td>\n",
       "    </tr>\n",
       "    <tr>\n",
       "      <th>Calyrex</th>\n",
       "      <td>100</td>\n",
       "      <td>80</td>\n",
       "      <td>80</td>\n",
       "      <td>80</td>\n",
       "      <td>80</td>\n",
       "      <td>80</td>\n",
       "      <td>-2</td>\n",
       "      <td>0</td>\n",
       "      <td>0</td>\n",
       "      <td>0</td>\n",
       "      <td>...</td>\n",
       "      <td>2</td>\n",
       "      <td>2</td>\n",
       "      <td>3</td>\n",
       "      <td>3</td>\n",
       "      <td>9</td>\n",
       "      <td>4</td>\n",
       "      <td>3</td>\n",
       "      <td>0</td>\n",
       "      <td>18.181818</td>\n",
       "      <td>2</td>\n",
       "    </tr>\n",
       "    <tr>\n",
       "      <th>Calyrex-Ice</th>\n",
       "      <td>100</td>\n",
       "      <td>165</td>\n",
       "      <td>150</td>\n",
       "      <td>85</td>\n",
       "      <td>130</td>\n",
       "      <td>50</td>\n",
       "      <td>-4</td>\n",
       "      <td>0</td>\n",
       "      <td>0</td>\n",
       "      <td>0</td>\n",
       "      <td>...</td>\n",
       "      <td>2</td>\n",
       "      <td>2</td>\n",
       "      <td>15</td>\n",
       "      <td>9</td>\n",
       "      <td>12</td>\n",
       "      <td>5</td>\n",
       "      <td>3</td>\n",
       "      <td>1</td>\n",
       "      <td>1.000000</td>\n",
       "      <td>2</td>\n",
       "    </tr>\n",
       "    <tr>\n",
       "      <th>Calyrex-Shadow</th>\n",
       "      <td>100</td>\n",
       "      <td>85</td>\n",
       "      <td>80</td>\n",
       "      <td>165</td>\n",
       "      <td>100</td>\n",
       "      <td>150</td>\n",
       "      <td>6</td>\n",
       "      <td>0</td>\n",
       "      <td>0</td>\n",
       "      <td>1</td>\n",
       "      <td>...</td>\n",
       "      <td>2</td>\n",
       "      <td>2</td>\n",
       "      <td>7</td>\n",
       "      <td>6</td>\n",
       "      <td>13</td>\n",
       "      <td>6</td>\n",
       "      <td>3</td>\n",
       "      <td>1</td>\n",
       "      <td>1.000000</td>\n",
       "      <td>2</td>\n",
       "    </tr>\n",
       "  </tbody>\n",
       "</table>\n",
       "<p>738 rows × 25 columns</p>\n",
       "</div>"
      ],
      "text/plain": [
       "                 hp  atk  def  spa  spd  spe  Resistance Index  Entry Hazards  \\\n",
       "name                                                                            \n",
       "Bulbasaur        45   49   49   65   65   45                 2              0   \n",
       "Ivysaur          60   62   63   80   80   60                 2              0   \n",
       "Venusaur         80   82   83  100  100   80                 2              0   \n",
       "Charmander       39   52   43   60   50   65                 3              0   \n",
       "Charmeleon       58   64   58   80   65   80                 3              0   \n",
       "...             ...  ...  ...  ...  ...  ...               ...            ...   \n",
       "Glastrier       100  145  130   65  110   30                -3              0   \n",
       "Spectrier       100   65   60  145   80  130                 8              0   \n",
       "Calyrex         100   80   80   80   80   80                -2              0   \n",
       "Calyrex-Ice     100  165  150   85  130   50                -4              0   \n",
       "Calyrex-Shadow  100   85   80  165  100  150                 6              0   \n",
       "\n",
       "                Hazard Removal  Removal Deterrent  ...  HP Drain  \\\n",
       "name                                               ...             \n",
       "Bulbasaur                    0                  0  ...         3   \n",
       "Ivysaur                      0                  0  ...         3   \n",
       "Venusaur                     0                  0  ...         3   \n",
       "Charmander                   0                  0  ...         0   \n",
       "Charmeleon                   0                  0  ...         0   \n",
       "...                        ...                ...  ...       ...   \n",
       "Glastrier                    0                  0  ...         0   \n",
       "Spectrier                    0                  1  ...         0   \n",
       "Calyrex                      0                  0  ...         2   \n",
       "Calyrex-Ice                  0                  0  ...         2   \n",
       "Calyrex-Shadow               0                  1  ...         2   \n",
       "\n",
       "                Weather Gimmick  Physical Cutoff 3  Physical Coverage 3  \\\n",
       "name                                                                      \n",
       "Bulbasaur                     5                  4                    3   \n",
       "Ivysaur                       5                  4                    3   \n",
       "Venusaur                      5                  6                    4   \n",
       "Charmander                    3                 10                    9   \n",
       "Charmeleon                    3                 10                    9   \n",
       "...                         ...                ...                  ...   \n",
       "Glastrier                     1                 12                    7   \n",
       "Spectrier                     0                  4                    4   \n",
       "Calyrex                       2                  3                    3   \n",
       "Calyrex-Ice                   2                 15                    9   \n",
       "Calyrex-Shadow                2                  7                    6   \n",
       "\n",
       "                Special Cutoff 3  Special Coverage 5  Misc Status  \\\n",
       "name                                                                \n",
       "Bulbasaur                      5                   2            4   \n",
       "Ivysaur                        5                   2            4   \n",
       "Venusaur                       6                   4            4   \n",
       "Charmander                     6                   2            3   \n",
       "Charmeleon                     6                   2            3   \n",
       "...                          ...                 ...          ...   \n",
       "Glastrier                      3                   2            2   \n",
       "Spectrier                      4                   3            3   \n",
       "Calyrex                        9                   4            3   \n",
       "Calyrex-Ice                   12                   5            3   \n",
       "Calyrex-Shadow                13                   6            3   \n",
       "\n",
       "                Unique Powerful Move  Best Ability  HP Recovery  \n",
       "name                                                             \n",
       "Bulbasaur                          0     63.636364            3  \n",
       "Ivysaur                            0     63.636364            3  \n",
       "Venusaur                           0     63.636364            3  \n",
       "Charmander                         0     50.000000            0  \n",
       "Charmeleon                         0     50.000000            0  \n",
       "...                              ...           ...          ...  \n",
       "Glastrier                          0     75.000000            0  \n",
       "Spectrier                          0      1.000000            0  \n",
       "Calyrex                            0     18.181818            2  \n",
       "Calyrex-Ice                        1      1.000000            2  \n",
       "Calyrex-Shadow                     1      1.000000            2  \n",
       "\n",
       "[738 rows x 25 columns]"
      ]
     },
     "execution_count": 17,
     "metadata": {},
     "output_type": "execute_result"
    }
   ],
   "source": [
    "X['HP Recovery'] = X['HP Drain']\n",
    "X"
   ]
  },
  {
   "cell_type": "code",
   "execution_count": 18,
   "metadata": {},
   "outputs": [
    {
     "data": {
      "text/html": [
       "<div>\n",
       "<style scoped>\n",
       "    .dataframe tbody tr th:only-of-type {\n",
       "        vertical-align: middle;\n",
       "    }\n",
       "\n",
       "    .dataframe tbody tr th {\n",
       "        vertical-align: top;\n",
       "    }\n",
       "\n",
       "    .dataframe thead th {\n",
       "        text-align: right;\n",
       "    }\n",
       "</style>\n",
       "<table border=\"1\" class=\"dataframe\">\n",
       "  <thead>\n",
       "    <tr style=\"text-align: right;\">\n",
       "      <th></th>\n",
       "      <th>hp</th>\n",
       "      <th>atk</th>\n",
       "      <th>def</th>\n",
       "      <th>spa</th>\n",
       "      <th>spd</th>\n",
       "      <th>spe</th>\n",
       "      <th>Resistance Index</th>\n",
       "      <th>Entry Hazards</th>\n",
       "      <th>Hazard Removal</th>\n",
       "      <th>Removal Deterrent</th>\n",
       "      <th>...</th>\n",
       "      <th>Priority</th>\n",
       "      <th>Weather Gimmick</th>\n",
       "      <th>Physical Cutoff 3</th>\n",
       "      <th>Physical Coverage 3</th>\n",
       "      <th>Special Cutoff 3</th>\n",
       "      <th>Special Coverage 5</th>\n",
       "      <th>Misc Status</th>\n",
       "      <th>Unique Powerful Move</th>\n",
       "      <th>Best Ability</th>\n",
       "      <th>HP Recovery</th>\n",
       "    </tr>\n",
       "    <tr>\n",
       "      <th>name</th>\n",
       "      <th></th>\n",
       "      <th></th>\n",
       "      <th></th>\n",
       "      <th></th>\n",
       "      <th></th>\n",
       "      <th></th>\n",
       "      <th></th>\n",
       "      <th></th>\n",
       "      <th></th>\n",
       "      <th></th>\n",
       "      <th></th>\n",
       "      <th></th>\n",
       "      <th></th>\n",
       "      <th></th>\n",
       "      <th></th>\n",
       "      <th></th>\n",
       "      <th></th>\n",
       "      <th></th>\n",
       "      <th></th>\n",
       "      <th></th>\n",
       "      <th></th>\n",
       "    </tr>\n",
       "  </thead>\n",
       "  <tbody>\n",
       "    <tr>\n",
       "      <th>Bulbasaur</th>\n",
       "      <td>45</td>\n",
       "      <td>49</td>\n",
       "      <td>49</td>\n",
       "      <td>65</td>\n",
       "      <td>65</td>\n",
       "      <td>45</td>\n",
       "      <td>2</td>\n",
       "      <td>0</td>\n",
       "      <td>0</td>\n",
       "      <td>0</td>\n",
       "      <td>...</td>\n",
       "      <td>0</td>\n",
       "      <td>5</td>\n",
       "      <td>4</td>\n",
       "      <td>3</td>\n",
       "      <td>5</td>\n",
       "      <td>2</td>\n",
       "      <td>4</td>\n",
       "      <td>0</td>\n",
       "      <td>63.636364</td>\n",
       "      <td>3</td>\n",
       "    </tr>\n",
       "    <tr>\n",
       "      <th>Ivysaur</th>\n",
       "      <td>60</td>\n",
       "      <td>62</td>\n",
       "      <td>63</td>\n",
       "      <td>80</td>\n",
       "      <td>80</td>\n",
       "      <td>60</td>\n",
       "      <td>2</td>\n",
       "      <td>0</td>\n",
       "      <td>0</td>\n",
       "      <td>0</td>\n",
       "      <td>...</td>\n",
       "      <td>0</td>\n",
       "      <td>5</td>\n",
       "      <td>4</td>\n",
       "      <td>3</td>\n",
       "      <td>5</td>\n",
       "      <td>2</td>\n",
       "      <td>4</td>\n",
       "      <td>0</td>\n",
       "      <td>63.636364</td>\n",
       "      <td>3</td>\n",
       "    </tr>\n",
       "    <tr>\n",
       "      <th>Venusaur</th>\n",
       "      <td>80</td>\n",
       "      <td>82</td>\n",
       "      <td>83</td>\n",
       "      <td>100</td>\n",
       "      <td>100</td>\n",
       "      <td>80</td>\n",
       "      <td>2</td>\n",
       "      <td>0</td>\n",
       "      <td>0</td>\n",
       "      <td>0</td>\n",
       "      <td>...</td>\n",
       "      <td>0</td>\n",
       "      <td>5</td>\n",
       "      <td>6</td>\n",
       "      <td>4</td>\n",
       "      <td>6</td>\n",
       "      <td>4</td>\n",
       "      <td>4</td>\n",
       "      <td>0</td>\n",
       "      <td>63.636364</td>\n",
       "      <td>3</td>\n",
       "    </tr>\n",
       "    <tr>\n",
       "      <th>Charmander</th>\n",
       "      <td>39</td>\n",
       "      <td>52</td>\n",
       "      <td>43</td>\n",
       "      <td>60</td>\n",
       "      <td>50</td>\n",
       "      <td>65</td>\n",
       "      <td>3</td>\n",
       "      <td>0</td>\n",
       "      <td>0</td>\n",
       "      <td>0</td>\n",
       "      <td>...</td>\n",
       "      <td>1</td>\n",
       "      <td>3</td>\n",
       "      <td>10</td>\n",
       "      <td>9</td>\n",
       "      <td>6</td>\n",
       "      <td>2</td>\n",
       "      <td>3</td>\n",
       "      <td>0</td>\n",
       "      <td>50.000000</td>\n",
       "      <td>0</td>\n",
       "    </tr>\n",
       "    <tr>\n",
       "      <th>Charmeleon</th>\n",
       "      <td>58</td>\n",
       "      <td>64</td>\n",
       "      <td>58</td>\n",
       "      <td>80</td>\n",
       "      <td>65</td>\n",
       "      <td>80</td>\n",
       "      <td>3</td>\n",
       "      <td>0</td>\n",
       "      <td>0</td>\n",
       "      <td>0</td>\n",
       "      <td>...</td>\n",
       "      <td>1</td>\n",
       "      <td>3</td>\n",
       "      <td>10</td>\n",
       "      <td>9</td>\n",
       "      <td>6</td>\n",
       "      <td>2</td>\n",
       "      <td>3</td>\n",
       "      <td>0</td>\n",
       "      <td>50.000000</td>\n",
       "      <td>0</td>\n",
       "    </tr>\n",
       "    <tr>\n",
       "      <th>...</th>\n",
       "      <td>...</td>\n",
       "      <td>...</td>\n",
       "      <td>...</td>\n",
       "      <td>...</td>\n",
       "      <td>...</td>\n",
       "      <td>...</td>\n",
       "      <td>...</td>\n",
       "      <td>...</td>\n",
       "      <td>...</td>\n",
       "      <td>...</td>\n",
       "      <td>...</td>\n",
       "      <td>...</td>\n",
       "      <td>...</td>\n",
       "      <td>...</td>\n",
       "      <td>...</td>\n",
       "      <td>...</td>\n",
       "      <td>...</td>\n",
       "      <td>...</td>\n",
       "      <td>...</td>\n",
       "      <td>...</td>\n",
       "      <td>...</td>\n",
       "    </tr>\n",
       "    <tr>\n",
       "      <th>Glastrier</th>\n",
       "      <td>100</td>\n",
       "      <td>145</td>\n",
       "      <td>130</td>\n",
       "      <td>65</td>\n",
       "      <td>110</td>\n",
       "      <td>30</td>\n",
       "      <td>-3</td>\n",
       "      <td>0</td>\n",
       "      <td>0</td>\n",
       "      <td>0</td>\n",
       "      <td>...</td>\n",
       "      <td>0</td>\n",
       "      <td>1</td>\n",
       "      <td>12</td>\n",
       "      <td>7</td>\n",
       "      <td>3</td>\n",
       "      <td>2</td>\n",
       "      <td>2</td>\n",
       "      <td>0</td>\n",
       "      <td>75.000000</td>\n",
       "      <td>0</td>\n",
       "    </tr>\n",
       "    <tr>\n",
       "      <th>Spectrier</th>\n",
       "      <td>100</td>\n",
       "      <td>65</td>\n",
       "      <td>60</td>\n",
       "      <td>145</td>\n",
       "      <td>80</td>\n",
       "      <td>130</td>\n",
       "      <td>8</td>\n",
       "      <td>0</td>\n",
       "      <td>0</td>\n",
       "      <td>1</td>\n",
       "      <td>...</td>\n",
       "      <td>0</td>\n",
       "      <td>0</td>\n",
       "      <td>4</td>\n",
       "      <td>4</td>\n",
       "      <td>4</td>\n",
       "      <td>3</td>\n",
       "      <td>3</td>\n",
       "      <td>0</td>\n",
       "      <td>1.000000</td>\n",
       "      <td>0</td>\n",
       "    </tr>\n",
       "    <tr>\n",
       "      <th>Calyrex</th>\n",
       "      <td>100</td>\n",
       "      <td>80</td>\n",
       "      <td>80</td>\n",
       "      <td>80</td>\n",
       "      <td>80</td>\n",
       "      <td>80</td>\n",
       "      <td>-2</td>\n",
       "      <td>0</td>\n",
       "      <td>0</td>\n",
       "      <td>0</td>\n",
       "      <td>...</td>\n",
       "      <td>0</td>\n",
       "      <td>2</td>\n",
       "      <td>3</td>\n",
       "      <td>3</td>\n",
       "      <td>9</td>\n",
       "      <td>4</td>\n",
       "      <td>3</td>\n",
       "      <td>0</td>\n",
       "      <td>18.181818</td>\n",
       "      <td>2</td>\n",
       "    </tr>\n",
       "    <tr>\n",
       "      <th>Calyrex-Ice</th>\n",
       "      <td>100</td>\n",
       "      <td>165</td>\n",
       "      <td>150</td>\n",
       "      <td>85</td>\n",
       "      <td>130</td>\n",
       "      <td>50</td>\n",
       "      <td>-4</td>\n",
       "      <td>0</td>\n",
       "      <td>0</td>\n",
       "      <td>0</td>\n",
       "      <td>...</td>\n",
       "      <td>0</td>\n",
       "      <td>2</td>\n",
       "      <td>15</td>\n",
       "      <td>9</td>\n",
       "      <td>12</td>\n",
       "      <td>5</td>\n",
       "      <td>3</td>\n",
       "      <td>1</td>\n",
       "      <td>1.000000</td>\n",
       "      <td>2</td>\n",
       "    </tr>\n",
       "    <tr>\n",
       "      <th>Calyrex-Shadow</th>\n",
       "      <td>100</td>\n",
       "      <td>85</td>\n",
       "      <td>80</td>\n",
       "      <td>165</td>\n",
       "      <td>100</td>\n",
       "      <td>150</td>\n",
       "      <td>6</td>\n",
       "      <td>0</td>\n",
       "      <td>0</td>\n",
       "      <td>1</td>\n",
       "      <td>...</td>\n",
       "      <td>0</td>\n",
       "      <td>2</td>\n",
       "      <td>7</td>\n",
       "      <td>6</td>\n",
       "      <td>13</td>\n",
       "      <td>6</td>\n",
       "      <td>3</td>\n",
       "      <td>1</td>\n",
       "      <td>1.000000</td>\n",
       "      <td>2</td>\n",
       "    </tr>\n",
       "  </tbody>\n",
       "</table>\n",
       "<p>738 rows × 24 columns</p>\n",
       "</div>"
      ],
      "text/plain": [
       "                 hp  atk  def  spa  spd  spe  Resistance Index  Entry Hazards  \\\n",
       "name                                                                            \n",
       "Bulbasaur        45   49   49   65   65   45                 2              0   \n",
       "Ivysaur          60   62   63   80   80   60                 2              0   \n",
       "Venusaur         80   82   83  100  100   80                 2              0   \n",
       "Charmander       39   52   43   60   50   65                 3              0   \n",
       "Charmeleon       58   64   58   80   65   80                 3              0   \n",
       "...             ...  ...  ...  ...  ...  ...               ...            ...   \n",
       "Glastrier       100  145  130   65  110   30                -3              0   \n",
       "Spectrier       100   65   60  145   80  130                 8              0   \n",
       "Calyrex         100   80   80   80   80   80                -2              0   \n",
       "Calyrex-Ice     100  165  150   85  130   50                -4              0   \n",
       "Calyrex-Shadow  100   85   80  165  100  150                 6              0   \n",
       "\n",
       "                Hazard Removal  Removal Deterrent  ...  Priority  \\\n",
       "name                                               ...             \n",
       "Bulbasaur                    0                  0  ...         0   \n",
       "Ivysaur                      0                  0  ...         0   \n",
       "Venusaur                     0                  0  ...         0   \n",
       "Charmander                   0                  0  ...         1   \n",
       "Charmeleon                   0                  0  ...         1   \n",
       "...                        ...                ...  ...       ...   \n",
       "Glastrier                    0                  0  ...         0   \n",
       "Spectrier                    0                  1  ...         0   \n",
       "Calyrex                      0                  0  ...         0   \n",
       "Calyrex-Ice                  0                  0  ...         0   \n",
       "Calyrex-Shadow               0                  1  ...         0   \n",
       "\n",
       "                Weather Gimmick  Physical Cutoff 3  Physical Coverage 3  \\\n",
       "name                                                                      \n",
       "Bulbasaur                     5                  4                    3   \n",
       "Ivysaur                       5                  4                    3   \n",
       "Venusaur                      5                  6                    4   \n",
       "Charmander                    3                 10                    9   \n",
       "Charmeleon                    3                 10                    9   \n",
       "...                         ...                ...                  ...   \n",
       "Glastrier                     1                 12                    7   \n",
       "Spectrier                     0                  4                    4   \n",
       "Calyrex                       2                  3                    3   \n",
       "Calyrex-Ice                   2                 15                    9   \n",
       "Calyrex-Shadow                2                  7                    6   \n",
       "\n",
       "                Special Cutoff 3  Special Coverage 5  Misc Status  \\\n",
       "name                                                                \n",
       "Bulbasaur                      5                   2            4   \n",
       "Ivysaur                        5                   2            4   \n",
       "Venusaur                       6                   4            4   \n",
       "Charmander                     6                   2            3   \n",
       "Charmeleon                     6                   2            3   \n",
       "...                          ...                 ...          ...   \n",
       "Glastrier                      3                   2            2   \n",
       "Spectrier                      4                   3            3   \n",
       "Calyrex                        9                   4            3   \n",
       "Calyrex-Ice                   12                   5            3   \n",
       "Calyrex-Shadow                13                   6            3   \n",
       "\n",
       "                Unique Powerful Move  Best Ability  HP Recovery  \n",
       "name                                                             \n",
       "Bulbasaur                          0     63.636364            3  \n",
       "Ivysaur                            0     63.636364            3  \n",
       "Venusaur                           0     63.636364            3  \n",
       "Charmander                         0     50.000000            0  \n",
       "Charmeleon                         0     50.000000            0  \n",
       "...                              ...           ...          ...  \n",
       "Glastrier                          0     75.000000            0  \n",
       "Spectrier                          0      1.000000            0  \n",
       "Calyrex                            0     18.181818            2  \n",
       "Calyrex-Ice                        1      1.000000            2  \n",
       "Calyrex-Shadow                     1      1.000000            2  \n",
       "\n",
       "[738 rows x 24 columns]"
      ]
     },
     "execution_count": 18,
     "metadata": {},
     "output_type": "execute_result"
    }
   ],
   "source": [
    "X.drop(columns=['HP Drain'], inplace=True)\n",
    "X"
   ]
  },
  {
   "cell_type": "code",
   "execution_count": 19,
   "metadata": {
    "scrolled": true
   },
   "outputs": [
    {
     "data": {
      "text/plain": [
       "0    382\n",
       "3    187\n",
       "2     91\n",
       "1     41\n",
       "4     37\n",
       "Name: HP Recovery, dtype: int64"
      ]
     },
     "execution_count": 19,
     "metadata": {},
     "output_type": "execute_result"
    }
   ],
   "source": [
    "X['HP Recovery'].value_counts()"
   ]
  },
  {
   "cell_type": "markdown",
   "metadata": {},
   "source": [
    "- considering: removal deterrent (could arguably just remove since its abilities), hazard removal, cleric, entry hazards (all 3 of those might go into misc status)"
   ]
  },
  {
   "cell_type": "code",
   "execution_count": 20,
   "metadata": {},
   "outputs": [
    {
     "data": {
      "text/html": [
       "<div>\n",
       "<style scoped>\n",
       "    .dataframe tbody tr th:only-of-type {\n",
       "        vertical-align: middle;\n",
       "    }\n",
       "\n",
       "    .dataframe tbody tr th {\n",
       "        vertical-align: top;\n",
       "    }\n",
       "\n",
       "    .dataframe thead th {\n",
       "        text-align: right;\n",
       "    }\n",
       "</style>\n",
       "<table border=\"1\" class=\"dataframe\">\n",
       "  <thead>\n",
       "    <tr style=\"text-align: right;\">\n",
       "      <th></th>\n",
       "      <th>hp</th>\n",
       "      <th>atk</th>\n",
       "      <th>def</th>\n",
       "      <th>spa</th>\n",
       "      <th>spd</th>\n",
       "      <th>spe</th>\n",
       "      <th>Resistance Index</th>\n",
       "      <th>Entry Hazards</th>\n",
       "      <th>Hazard Removal</th>\n",
       "      <th>Cleric</th>\n",
       "      <th>...</th>\n",
       "      <th>Priority</th>\n",
       "      <th>Weather Gimmick</th>\n",
       "      <th>Physical Cutoff 3</th>\n",
       "      <th>Physical Coverage 3</th>\n",
       "      <th>Special Cutoff 3</th>\n",
       "      <th>Special Coverage 5</th>\n",
       "      <th>Misc Status</th>\n",
       "      <th>Unique Powerful Move</th>\n",
       "      <th>Best Ability</th>\n",
       "      <th>HP Recovery</th>\n",
       "    </tr>\n",
       "    <tr>\n",
       "      <th>name</th>\n",
       "      <th></th>\n",
       "      <th></th>\n",
       "      <th></th>\n",
       "      <th></th>\n",
       "      <th></th>\n",
       "      <th></th>\n",
       "      <th></th>\n",
       "      <th></th>\n",
       "      <th></th>\n",
       "      <th></th>\n",
       "      <th></th>\n",
       "      <th></th>\n",
       "      <th></th>\n",
       "      <th></th>\n",
       "      <th></th>\n",
       "      <th></th>\n",
       "      <th></th>\n",
       "      <th></th>\n",
       "      <th></th>\n",
       "      <th></th>\n",
       "      <th></th>\n",
       "    </tr>\n",
       "  </thead>\n",
       "  <tbody>\n",
       "    <tr>\n",
       "      <th>Bulbasaur</th>\n",
       "      <td>45</td>\n",
       "      <td>49</td>\n",
       "      <td>49</td>\n",
       "      <td>65</td>\n",
       "      <td>65</td>\n",
       "      <td>45</td>\n",
       "      <td>2</td>\n",
       "      <td>0</td>\n",
       "      <td>0</td>\n",
       "      <td>0</td>\n",
       "      <td>...</td>\n",
       "      <td>0</td>\n",
       "      <td>5</td>\n",
       "      <td>4</td>\n",
       "      <td>3</td>\n",
       "      <td>5</td>\n",
       "      <td>2</td>\n",
       "      <td>4</td>\n",
       "      <td>0</td>\n",
       "      <td>63.636364</td>\n",
       "      <td>3</td>\n",
       "    </tr>\n",
       "    <tr>\n",
       "      <th>Ivysaur</th>\n",
       "      <td>60</td>\n",
       "      <td>62</td>\n",
       "      <td>63</td>\n",
       "      <td>80</td>\n",
       "      <td>80</td>\n",
       "      <td>60</td>\n",
       "      <td>2</td>\n",
       "      <td>0</td>\n",
       "      <td>0</td>\n",
       "      <td>0</td>\n",
       "      <td>...</td>\n",
       "      <td>0</td>\n",
       "      <td>5</td>\n",
       "      <td>4</td>\n",
       "      <td>3</td>\n",
       "      <td>5</td>\n",
       "      <td>2</td>\n",
       "      <td>4</td>\n",
       "      <td>0</td>\n",
       "      <td>63.636364</td>\n",
       "      <td>3</td>\n",
       "    </tr>\n",
       "    <tr>\n",
       "      <th>Venusaur</th>\n",
       "      <td>80</td>\n",
       "      <td>82</td>\n",
       "      <td>83</td>\n",
       "      <td>100</td>\n",
       "      <td>100</td>\n",
       "      <td>80</td>\n",
       "      <td>2</td>\n",
       "      <td>0</td>\n",
       "      <td>0</td>\n",
       "      <td>0</td>\n",
       "      <td>...</td>\n",
       "      <td>0</td>\n",
       "      <td>5</td>\n",
       "      <td>6</td>\n",
       "      <td>4</td>\n",
       "      <td>6</td>\n",
       "      <td>4</td>\n",
       "      <td>4</td>\n",
       "      <td>0</td>\n",
       "      <td>63.636364</td>\n",
       "      <td>3</td>\n",
       "    </tr>\n",
       "    <tr>\n",
       "      <th>Charmander</th>\n",
       "      <td>39</td>\n",
       "      <td>52</td>\n",
       "      <td>43</td>\n",
       "      <td>60</td>\n",
       "      <td>50</td>\n",
       "      <td>65</td>\n",
       "      <td>3</td>\n",
       "      <td>0</td>\n",
       "      <td>0</td>\n",
       "      <td>0</td>\n",
       "      <td>...</td>\n",
       "      <td>1</td>\n",
       "      <td>3</td>\n",
       "      <td>10</td>\n",
       "      <td>9</td>\n",
       "      <td>6</td>\n",
       "      <td>2</td>\n",
       "      <td>3</td>\n",
       "      <td>0</td>\n",
       "      <td>50.000000</td>\n",
       "      <td>0</td>\n",
       "    </tr>\n",
       "    <tr>\n",
       "      <th>Charmeleon</th>\n",
       "      <td>58</td>\n",
       "      <td>64</td>\n",
       "      <td>58</td>\n",
       "      <td>80</td>\n",
       "      <td>65</td>\n",
       "      <td>80</td>\n",
       "      <td>3</td>\n",
       "      <td>0</td>\n",
       "      <td>0</td>\n",
       "      <td>0</td>\n",
       "      <td>...</td>\n",
       "      <td>1</td>\n",
       "      <td>3</td>\n",
       "      <td>10</td>\n",
       "      <td>9</td>\n",
       "      <td>6</td>\n",
       "      <td>2</td>\n",
       "      <td>3</td>\n",
       "      <td>0</td>\n",
       "      <td>50.000000</td>\n",
       "      <td>0</td>\n",
       "    </tr>\n",
       "    <tr>\n",
       "      <th>...</th>\n",
       "      <td>...</td>\n",
       "      <td>...</td>\n",
       "      <td>...</td>\n",
       "      <td>...</td>\n",
       "      <td>...</td>\n",
       "      <td>...</td>\n",
       "      <td>...</td>\n",
       "      <td>...</td>\n",
       "      <td>...</td>\n",
       "      <td>...</td>\n",
       "      <td>...</td>\n",
       "      <td>...</td>\n",
       "      <td>...</td>\n",
       "      <td>...</td>\n",
       "      <td>...</td>\n",
       "      <td>...</td>\n",
       "      <td>...</td>\n",
       "      <td>...</td>\n",
       "      <td>...</td>\n",
       "      <td>...</td>\n",
       "      <td>...</td>\n",
       "    </tr>\n",
       "    <tr>\n",
       "      <th>Glastrier</th>\n",
       "      <td>100</td>\n",
       "      <td>145</td>\n",
       "      <td>130</td>\n",
       "      <td>65</td>\n",
       "      <td>110</td>\n",
       "      <td>30</td>\n",
       "      <td>-3</td>\n",
       "      <td>0</td>\n",
       "      <td>0</td>\n",
       "      <td>0</td>\n",
       "      <td>...</td>\n",
       "      <td>0</td>\n",
       "      <td>1</td>\n",
       "      <td>12</td>\n",
       "      <td>7</td>\n",
       "      <td>3</td>\n",
       "      <td>2</td>\n",
       "      <td>2</td>\n",
       "      <td>0</td>\n",
       "      <td>75.000000</td>\n",
       "      <td>0</td>\n",
       "    </tr>\n",
       "    <tr>\n",
       "      <th>Spectrier</th>\n",
       "      <td>100</td>\n",
       "      <td>65</td>\n",
       "      <td>60</td>\n",
       "      <td>145</td>\n",
       "      <td>80</td>\n",
       "      <td>130</td>\n",
       "      <td>8</td>\n",
       "      <td>0</td>\n",
       "      <td>0</td>\n",
       "      <td>0</td>\n",
       "      <td>...</td>\n",
       "      <td>0</td>\n",
       "      <td>0</td>\n",
       "      <td>4</td>\n",
       "      <td>4</td>\n",
       "      <td>4</td>\n",
       "      <td>3</td>\n",
       "      <td>3</td>\n",
       "      <td>0</td>\n",
       "      <td>1.000000</td>\n",
       "      <td>0</td>\n",
       "    </tr>\n",
       "    <tr>\n",
       "      <th>Calyrex</th>\n",
       "      <td>100</td>\n",
       "      <td>80</td>\n",
       "      <td>80</td>\n",
       "      <td>80</td>\n",
       "      <td>80</td>\n",
       "      <td>80</td>\n",
       "      <td>-2</td>\n",
       "      <td>0</td>\n",
       "      <td>0</td>\n",
       "      <td>1</td>\n",
       "      <td>...</td>\n",
       "      <td>0</td>\n",
       "      <td>2</td>\n",
       "      <td>3</td>\n",
       "      <td>3</td>\n",
       "      <td>9</td>\n",
       "      <td>4</td>\n",
       "      <td>3</td>\n",
       "      <td>0</td>\n",
       "      <td>18.181818</td>\n",
       "      <td>2</td>\n",
       "    </tr>\n",
       "    <tr>\n",
       "      <th>Calyrex-Ice</th>\n",
       "      <td>100</td>\n",
       "      <td>165</td>\n",
       "      <td>150</td>\n",
       "      <td>85</td>\n",
       "      <td>130</td>\n",
       "      <td>50</td>\n",
       "      <td>-4</td>\n",
       "      <td>0</td>\n",
       "      <td>0</td>\n",
       "      <td>1</td>\n",
       "      <td>...</td>\n",
       "      <td>0</td>\n",
       "      <td>2</td>\n",
       "      <td>15</td>\n",
       "      <td>9</td>\n",
       "      <td>12</td>\n",
       "      <td>5</td>\n",
       "      <td>3</td>\n",
       "      <td>1</td>\n",
       "      <td>1.000000</td>\n",
       "      <td>2</td>\n",
       "    </tr>\n",
       "    <tr>\n",
       "      <th>Calyrex-Shadow</th>\n",
       "      <td>100</td>\n",
       "      <td>85</td>\n",
       "      <td>80</td>\n",
       "      <td>165</td>\n",
       "      <td>100</td>\n",
       "      <td>150</td>\n",
       "      <td>6</td>\n",
       "      <td>0</td>\n",
       "      <td>0</td>\n",
       "      <td>1</td>\n",
       "      <td>...</td>\n",
       "      <td>0</td>\n",
       "      <td>2</td>\n",
       "      <td>7</td>\n",
       "      <td>6</td>\n",
       "      <td>13</td>\n",
       "      <td>6</td>\n",
       "      <td>3</td>\n",
       "      <td>1</td>\n",
       "      <td>1.000000</td>\n",
       "      <td>2</td>\n",
       "    </tr>\n",
       "  </tbody>\n",
       "</table>\n",
       "<p>738 rows × 23 columns</p>\n",
       "</div>"
      ],
      "text/plain": [
       "                 hp  atk  def  spa  spd  spe  Resistance Index  Entry Hazards  \\\n",
       "name                                                                            \n",
       "Bulbasaur        45   49   49   65   65   45                 2              0   \n",
       "Ivysaur          60   62   63   80   80   60                 2              0   \n",
       "Venusaur         80   82   83  100  100   80                 2              0   \n",
       "Charmander       39   52   43   60   50   65                 3              0   \n",
       "Charmeleon       58   64   58   80   65   80                 3              0   \n",
       "...             ...  ...  ...  ...  ...  ...               ...            ...   \n",
       "Glastrier       100  145  130   65  110   30                -3              0   \n",
       "Spectrier       100   65   60  145   80  130                 8              0   \n",
       "Calyrex         100   80   80   80   80   80                -2              0   \n",
       "Calyrex-Ice     100  165  150   85  130   50                -4              0   \n",
       "Calyrex-Shadow  100   85   80  165  100  150                 6              0   \n",
       "\n",
       "                Hazard Removal  Cleric  ...  Priority  Weather Gimmick  \\\n",
       "name                                    ...                              \n",
       "Bulbasaur                    0       0  ...         0                5   \n",
       "Ivysaur                      0       0  ...         0                5   \n",
       "Venusaur                     0       0  ...         0                5   \n",
       "Charmander                   0       0  ...         1                3   \n",
       "Charmeleon                   0       0  ...         1                3   \n",
       "...                        ...     ...  ...       ...              ...   \n",
       "Glastrier                    0       0  ...         0                1   \n",
       "Spectrier                    0       0  ...         0                0   \n",
       "Calyrex                      0       1  ...         0                2   \n",
       "Calyrex-Ice                  0       1  ...         0                2   \n",
       "Calyrex-Shadow               0       1  ...         0                2   \n",
       "\n",
       "                Physical Cutoff 3  Physical Coverage 3  Special Cutoff 3  \\\n",
       "name                                                                       \n",
       "Bulbasaur                       4                    3                 5   \n",
       "Ivysaur                         4                    3                 5   \n",
       "Venusaur                        6                    4                 6   \n",
       "Charmander                     10                    9                 6   \n",
       "Charmeleon                     10                    9                 6   \n",
       "...                           ...                  ...               ...   \n",
       "Glastrier                      12                    7                 3   \n",
       "Spectrier                       4                    4                 4   \n",
       "Calyrex                         3                    3                 9   \n",
       "Calyrex-Ice                    15                    9                12   \n",
       "Calyrex-Shadow                  7                    6                13   \n",
       "\n",
       "                Special Coverage 5  Misc Status  Unique Powerful Move  \\\n",
       "name                                                                    \n",
       "Bulbasaur                        2            4                     0   \n",
       "Ivysaur                          2            4                     0   \n",
       "Venusaur                         4            4                     0   \n",
       "Charmander                       2            3                     0   \n",
       "Charmeleon                       2            3                     0   \n",
       "...                            ...          ...                   ...   \n",
       "Glastrier                        2            2                     0   \n",
       "Spectrier                        3            3                     0   \n",
       "Calyrex                          4            3                     0   \n",
       "Calyrex-Ice                      5            3                     1   \n",
       "Calyrex-Shadow                   6            3                     1   \n",
       "\n",
       "                Best Ability  HP Recovery  \n",
       "name                                       \n",
       "Bulbasaur          63.636364            3  \n",
       "Ivysaur            63.636364            3  \n",
       "Venusaur           63.636364            3  \n",
       "Charmander         50.000000            0  \n",
       "Charmeleon         50.000000            0  \n",
       "...                      ...          ...  \n",
       "Glastrier          75.000000            0  \n",
       "Spectrier           1.000000            0  \n",
       "Calyrex            18.181818            2  \n",
       "Calyrex-Ice         1.000000            2  \n",
       "Calyrex-Shadow      1.000000            2  \n",
       "\n",
       "[738 rows x 23 columns]"
      ]
     },
     "execution_count": 20,
     "metadata": {},
     "output_type": "execute_result"
    }
   ],
   "source": [
    "X.drop(columns=['Removal Deterrent'], inplace=True)\n",
    "X"
   ]
  },
  {
   "cell_type": "code",
   "execution_count": 21,
   "metadata": {},
   "outputs": [
    {
     "data": {
      "text/plain": [
       "3    335\n",
       "2    234\n",
       "1     89\n",
       "0     41\n",
       "4     35\n",
       "5      4\n",
       "Name: Misc Status, dtype: int64"
      ]
     },
     "execution_count": 21,
     "metadata": {},
     "output_type": "execute_result"
    }
   ],
   "source": [
    "X['Misc Status'].value_counts()"
   ]
  },
  {
   "cell_type": "code",
   "execution_count": 22,
   "metadata": {},
   "outputs": [
    {
     "data": {
      "text/plain": [
       "0    558\n",
       "1    174\n",
       "2      6\n",
       "Name: Hazard Removal, dtype: int64"
      ]
     },
     "execution_count": 22,
     "metadata": {},
     "output_type": "execute_result"
    }
   ],
   "source": [
    "X['Hazard Removal'].value_counts()"
   ]
  },
  {
   "cell_type": "code",
   "execution_count": 23,
   "metadata": {},
   "outputs": [
    {
     "data": {
      "text/plain": [
       "3    249\n",
       "4    205\n",
       "2    185\n",
       "1     63\n",
       "0     32\n",
       "5      4\n",
       "Name: Misc Status, dtype: int64"
      ]
     },
     "execution_count": 23,
     "metadata": {},
     "output_type": "execute_result"
    }
   ],
   "source": [
    "X.loc[X['Hazard Removal'] == 1, 'Misc Status'] = 4\n",
    "X['Misc Status'].value_counts()"
   ]
  },
  {
   "cell_type": "code",
   "execution_count": 24,
   "metadata": {},
   "outputs": [
    {
     "data": {
      "text/html": [
       "<div>\n",
       "<style scoped>\n",
       "    .dataframe tbody tr th:only-of-type {\n",
       "        vertical-align: middle;\n",
       "    }\n",
       "\n",
       "    .dataframe tbody tr th {\n",
       "        vertical-align: top;\n",
       "    }\n",
       "\n",
       "    .dataframe thead th {\n",
       "        text-align: right;\n",
       "    }\n",
       "</style>\n",
       "<table border=\"1\" class=\"dataframe\">\n",
       "  <thead>\n",
       "    <tr style=\"text-align: right;\">\n",
       "      <th></th>\n",
       "      <th>hp</th>\n",
       "      <th>atk</th>\n",
       "      <th>def</th>\n",
       "      <th>spa</th>\n",
       "      <th>spd</th>\n",
       "      <th>spe</th>\n",
       "      <th>Resistance Index</th>\n",
       "      <th>Entry Hazards</th>\n",
       "      <th>Cleric</th>\n",
       "      <th>Pivot</th>\n",
       "      <th>...</th>\n",
       "      <th>Priority</th>\n",
       "      <th>Weather Gimmick</th>\n",
       "      <th>Physical Cutoff 3</th>\n",
       "      <th>Physical Coverage 3</th>\n",
       "      <th>Special Cutoff 3</th>\n",
       "      <th>Special Coverage 5</th>\n",
       "      <th>Misc Status</th>\n",
       "      <th>Unique Powerful Move</th>\n",
       "      <th>Best Ability</th>\n",
       "      <th>HP Recovery</th>\n",
       "    </tr>\n",
       "    <tr>\n",
       "      <th>name</th>\n",
       "      <th></th>\n",
       "      <th></th>\n",
       "      <th></th>\n",
       "      <th></th>\n",
       "      <th></th>\n",
       "      <th></th>\n",
       "      <th></th>\n",
       "      <th></th>\n",
       "      <th></th>\n",
       "      <th></th>\n",
       "      <th></th>\n",
       "      <th></th>\n",
       "      <th></th>\n",
       "      <th></th>\n",
       "      <th></th>\n",
       "      <th></th>\n",
       "      <th></th>\n",
       "      <th></th>\n",
       "      <th></th>\n",
       "      <th></th>\n",
       "      <th></th>\n",
       "    </tr>\n",
       "  </thead>\n",
       "  <tbody>\n",
       "    <tr>\n",
       "      <th>Bulbasaur</th>\n",
       "      <td>45</td>\n",
       "      <td>49</td>\n",
       "      <td>49</td>\n",
       "      <td>65</td>\n",
       "      <td>65</td>\n",
       "      <td>45</td>\n",
       "      <td>2</td>\n",
       "      <td>0</td>\n",
       "      <td>0</td>\n",
       "      <td>0</td>\n",
       "      <td>...</td>\n",
       "      <td>0</td>\n",
       "      <td>5</td>\n",
       "      <td>4</td>\n",
       "      <td>3</td>\n",
       "      <td>5</td>\n",
       "      <td>2</td>\n",
       "      <td>4</td>\n",
       "      <td>0</td>\n",
       "      <td>63.636364</td>\n",
       "      <td>3</td>\n",
       "    </tr>\n",
       "    <tr>\n",
       "      <th>Ivysaur</th>\n",
       "      <td>60</td>\n",
       "      <td>62</td>\n",
       "      <td>63</td>\n",
       "      <td>80</td>\n",
       "      <td>80</td>\n",
       "      <td>60</td>\n",
       "      <td>2</td>\n",
       "      <td>0</td>\n",
       "      <td>0</td>\n",
       "      <td>0</td>\n",
       "      <td>...</td>\n",
       "      <td>0</td>\n",
       "      <td>5</td>\n",
       "      <td>4</td>\n",
       "      <td>3</td>\n",
       "      <td>5</td>\n",
       "      <td>2</td>\n",
       "      <td>4</td>\n",
       "      <td>0</td>\n",
       "      <td>63.636364</td>\n",
       "      <td>3</td>\n",
       "    </tr>\n",
       "    <tr>\n",
       "      <th>Venusaur</th>\n",
       "      <td>80</td>\n",
       "      <td>82</td>\n",
       "      <td>83</td>\n",
       "      <td>100</td>\n",
       "      <td>100</td>\n",
       "      <td>80</td>\n",
       "      <td>2</td>\n",
       "      <td>0</td>\n",
       "      <td>0</td>\n",
       "      <td>0</td>\n",
       "      <td>...</td>\n",
       "      <td>0</td>\n",
       "      <td>5</td>\n",
       "      <td>6</td>\n",
       "      <td>4</td>\n",
       "      <td>6</td>\n",
       "      <td>4</td>\n",
       "      <td>4</td>\n",
       "      <td>0</td>\n",
       "      <td>63.636364</td>\n",
       "      <td>3</td>\n",
       "    </tr>\n",
       "    <tr>\n",
       "      <th>Charmander</th>\n",
       "      <td>39</td>\n",
       "      <td>52</td>\n",
       "      <td>43</td>\n",
       "      <td>60</td>\n",
       "      <td>50</td>\n",
       "      <td>65</td>\n",
       "      <td>3</td>\n",
       "      <td>0</td>\n",
       "      <td>0</td>\n",
       "      <td>0</td>\n",
       "      <td>...</td>\n",
       "      <td>1</td>\n",
       "      <td>3</td>\n",
       "      <td>10</td>\n",
       "      <td>9</td>\n",
       "      <td>6</td>\n",
       "      <td>2</td>\n",
       "      <td>3</td>\n",
       "      <td>0</td>\n",
       "      <td>50.000000</td>\n",
       "      <td>0</td>\n",
       "    </tr>\n",
       "    <tr>\n",
       "      <th>Charmeleon</th>\n",
       "      <td>58</td>\n",
       "      <td>64</td>\n",
       "      <td>58</td>\n",
       "      <td>80</td>\n",
       "      <td>65</td>\n",
       "      <td>80</td>\n",
       "      <td>3</td>\n",
       "      <td>0</td>\n",
       "      <td>0</td>\n",
       "      <td>0</td>\n",
       "      <td>...</td>\n",
       "      <td>1</td>\n",
       "      <td>3</td>\n",
       "      <td>10</td>\n",
       "      <td>9</td>\n",
       "      <td>6</td>\n",
       "      <td>2</td>\n",
       "      <td>3</td>\n",
       "      <td>0</td>\n",
       "      <td>50.000000</td>\n",
       "      <td>0</td>\n",
       "    </tr>\n",
       "    <tr>\n",
       "      <th>...</th>\n",
       "      <td>...</td>\n",
       "      <td>...</td>\n",
       "      <td>...</td>\n",
       "      <td>...</td>\n",
       "      <td>...</td>\n",
       "      <td>...</td>\n",
       "      <td>...</td>\n",
       "      <td>...</td>\n",
       "      <td>...</td>\n",
       "      <td>...</td>\n",
       "      <td>...</td>\n",
       "      <td>...</td>\n",
       "      <td>...</td>\n",
       "      <td>...</td>\n",
       "      <td>...</td>\n",
       "      <td>...</td>\n",
       "      <td>...</td>\n",
       "      <td>...</td>\n",
       "      <td>...</td>\n",
       "      <td>...</td>\n",
       "      <td>...</td>\n",
       "    </tr>\n",
       "    <tr>\n",
       "      <th>Glastrier</th>\n",
       "      <td>100</td>\n",
       "      <td>145</td>\n",
       "      <td>130</td>\n",
       "      <td>65</td>\n",
       "      <td>110</td>\n",
       "      <td>30</td>\n",
       "      <td>-3</td>\n",
       "      <td>0</td>\n",
       "      <td>0</td>\n",
       "      <td>0</td>\n",
       "      <td>...</td>\n",
       "      <td>0</td>\n",
       "      <td>1</td>\n",
       "      <td>12</td>\n",
       "      <td>7</td>\n",
       "      <td>3</td>\n",
       "      <td>2</td>\n",
       "      <td>2</td>\n",
       "      <td>0</td>\n",
       "      <td>75.000000</td>\n",
       "      <td>0</td>\n",
       "    </tr>\n",
       "    <tr>\n",
       "      <th>Spectrier</th>\n",
       "      <td>100</td>\n",
       "      <td>65</td>\n",
       "      <td>60</td>\n",
       "      <td>145</td>\n",
       "      <td>80</td>\n",
       "      <td>130</td>\n",
       "      <td>8</td>\n",
       "      <td>0</td>\n",
       "      <td>0</td>\n",
       "      <td>0</td>\n",
       "      <td>...</td>\n",
       "      <td>0</td>\n",
       "      <td>0</td>\n",
       "      <td>4</td>\n",
       "      <td>4</td>\n",
       "      <td>4</td>\n",
       "      <td>3</td>\n",
       "      <td>3</td>\n",
       "      <td>0</td>\n",
       "      <td>1.000000</td>\n",
       "      <td>0</td>\n",
       "    </tr>\n",
       "    <tr>\n",
       "      <th>Calyrex</th>\n",
       "      <td>100</td>\n",
       "      <td>80</td>\n",
       "      <td>80</td>\n",
       "      <td>80</td>\n",
       "      <td>80</td>\n",
       "      <td>80</td>\n",
       "      <td>-2</td>\n",
       "      <td>0</td>\n",
       "      <td>1</td>\n",
       "      <td>0</td>\n",
       "      <td>...</td>\n",
       "      <td>0</td>\n",
       "      <td>2</td>\n",
       "      <td>3</td>\n",
       "      <td>3</td>\n",
       "      <td>9</td>\n",
       "      <td>4</td>\n",
       "      <td>3</td>\n",
       "      <td>0</td>\n",
       "      <td>18.181818</td>\n",
       "      <td>2</td>\n",
       "    </tr>\n",
       "    <tr>\n",
       "      <th>Calyrex-Ice</th>\n",
       "      <td>100</td>\n",
       "      <td>165</td>\n",
       "      <td>150</td>\n",
       "      <td>85</td>\n",
       "      <td>130</td>\n",
       "      <td>50</td>\n",
       "      <td>-4</td>\n",
       "      <td>0</td>\n",
       "      <td>1</td>\n",
       "      <td>0</td>\n",
       "      <td>...</td>\n",
       "      <td>0</td>\n",
       "      <td>2</td>\n",
       "      <td>15</td>\n",
       "      <td>9</td>\n",
       "      <td>12</td>\n",
       "      <td>5</td>\n",
       "      <td>3</td>\n",
       "      <td>1</td>\n",
       "      <td>1.000000</td>\n",
       "      <td>2</td>\n",
       "    </tr>\n",
       "    <tr>\n",
       "      <th>Calyrex-Shadow</th>\n",
       "      <td>100</td>\n",
       "      <td>85</td>\n",
       "      <td>80</td>\n",
       "      <td>165</td>\n",
       "      <td>100</td>\n",
       "      <td>150</td>\n",
       "      <td>6</td>\n",
       "      <td>0</td>\n",
       "      <td>1</td>\n",
       "      <td>0</td>\n",
       "      <td>...</td>\n",
       "      <td>0</td>\n",
       "      <td>2</td>\n",
       "      <td>7</td>\n",
       "      <td>6</td>\n",
       "      <td>13</td>\n",
       "      <td>6</td>\n",
       "      <td>3</td>\n",
       "      <td>1</td>\n",
       "      <td>1.000000</td>\n",
       "      <td>2</td>\n",
       "    </tr>\n",
       "  </tbody>\n",
       "</table>\n",
       "<p>738 rows × 22 columns</p>\n",
       "</div>"
      ],
      "text/plain": [
       "                 hp  atk  def  spa  spd  spe  Resistance Index  Entry Hazards  \\\n",
       "name                                                                            \n",
       "Bulbasaur        45   49   49   65   65   45                 2              0   \n",
       "Ivysaur          60   62   63   80   80   60                 2              0   \n",
       "Venusaur         80   82   83  100  100   80                 2              0   \n",
       "Charmander       39   52   43   60   50   65                 3              0   \n",
       "Charmeleon       58   64   58   80   65   80                 3              0   \n",
       "...             ...  ...  ...  ...  ...  ...               ...            ...   \n",
       "Glastrier       100  145  130   65  110   30                -3              0   \n",
       "Spectrier       100   65   60  145   80  130                 8              0   \n",
       "Calyrex         100   80   80   80   80   80                -2              0   \n",
       "Calyrex-Ice     100  165  150   85  130   50                -4              0   \n",
       "Calyrex-Shadow  100   85   80  165  100  150                 6              0   \n",
       "\n",
       "                Cleric  Pivot  ...  Priority  Weather Gimmick  \\\n",
       "name                           ...                              \n",
       "Bulbasaur            0      0  ...         0                5   \n",
       "Ivysaur              0      0  ...         0                5   \n",
       "Venusaur             0      0  ...         0                5   \n",
       "Charmander           0      0  ...         1                3   \n",
       "Charmeleon           0      0  ...         1                3   \n",
       "...                ...    ...  ...       ...              ...   \n",
       "Glastrier            0      0  ...         0                1   \n",
       "Spectrier            0      0  ...         0                0   \n",
       "Calyrex              1      0  ...         0                2   \n",
       "Calyrex-Ice          1      0  ...         0                2   \n",
       "Calyrex-Shadow       1      0  ...         0                2   \n",
       "\n",
       "                Physical Cutoff 3  Physical Coverage 3  Special Cutoff 3  \\\n",
       "name                                                                       \n",
       "Bulbasaur                       4                    3                 5   \n",
       "Ivysaur                         4                    3                 5   \n",
       "Venusaur                        6                    4                 6   \n",
       "Charmander                     10                    9                 6   \n",
       "Charmeleon                     10                    9                 6   \n",
       "...                           ...                  ...               ...   \n",
       "Glastrier                      12                    7                 3   \n",
       "Spectrier                       4                    4                 4   \n",
       "Calyrex                         3                    3                 9   \n",
       "Calyrex-Ice                    15                    9                12   \n",
       "Calyrex-Shadow                  7                    6                13   \n",
       "\n",
       "                Special Coverage 5  Misc Status  Unique Powerful Move  \\\n",
       "name                                                                    \n",
       "Bulbasaur                        2            4                     0   \n",
       "Ivysaur                          2            4                     0   \n",
       "Venusaur                         4            4                     0   \n",
       "Charmander                       2            3                     0   \n",
       "Charmeleon                       2            3                     0   \n",
       "...                            ...          ...                   ...   \n",
       "Glastrier                        2            2                     0   \n",
       "Spectrier                        3            3                     0   \n",
       "Calyrex                          4            3                     0   \n",
       "Calyrex-Ice                      5            3                     1   \n",
       "Calyrex-Shadow                   6            3                     1   \n",
       "\n",
       "                Best Ability  HP Recovery  \n",
       "name                                       \n",
       "Bulbasaur          63.636364            3  \n",
       "Ivysaur            63.636364            3  \n",
       "Venusaur           63.636364            3  \n",
       "Charmander         50.000000            0  \n",
       "Charmeleon         50.000000            0  \n",
       "...                      ...          ...  \n",
       "Glastrier          75.000000            0  \n",
       "Spectrier           1.000000            0  \n",
       "Calyrex            18.181818            2  \n",
       "Calyrex-Ice         1.000000            2  \n",
       "Calyrex-Shadow      1.000000            2  \n",
       "\n",
       "[738 rows x 22 columns]"
      ]
     },
     "execution_count": 24,
     "metadata": {},
     "output_type": "execute_result"
    }
   ],
   "source": [
    "X.drop(columns=['Hazard Removal'], inplace=True)\n",
    "X"
   ]
  },
  {
   "cell_type": "markdown",
   "metadata": {},
   "source": [
    "I'll just leave the other one's (Cleric and Entry Hazards) alone for now, updating them would be complicated and it's probably not even a good idea since they performed better than Hazard Removal"
   ]
  },
  {
   "cell_type": "markdown",
   "metadata": {},
   "source": [
    "<a id=\"clustering\"></a>\n",
    "### Clustering"
   ]
  },
  {
   "cell_type": "code",
   "execution_count": 25,
   "metadata": {},
   "outputs": [
    {
     "data": {
      "text/plain": [
       "[5, 10, 15, 20, 25, 30]"
      ]
     },
     "execution_count": 25,
     "metadata": {},
     "output_type": "execute_result"
    }
   ],
   "source": [
    "cluster_dfs = {}\n",
    "\n",
    "n_clusters = list(range(5, 35, 5))\n",
    "n_clusters"
   ]
  },
  {
   "cell_type": "markdown",
   "metadata": {},
   "source": [
    "The number of clusters we'll test in each model that uses clusters, which is only half of them, and we'll want to remember to convert those clusters to categories.\n",
    "\n",
    "We are going to do clustering of 4 different subsets of features, as we did during EDA:\n",
    "- one for overall features (scaled)\n",
    "- one for stats (scaled)\n",
    "- one for abilities (not scaled, because abilities are one-hot encoded)\n",
    "- one for learnsets (not scaled, because learnsets are one-hot encoded)\n",
    "\n",
    "Then we'll make 6 dataframes for each of the different amount of clusters, each with all of those 4 types, and they will go in the cluster_dfs dictionary"
   ]
  },
  {
   "cell_type": "code",
   "execution_count": 26,
   "metadata": {},
   "outputs": [],
   "source": [
    "cluster5 = pd.DataFrame(index=X.index, columns=['features', 'stats', 'abilities', 'learnsets'])\n",
    "\n",
    "X_scaled = StandardScaler().fit_transform(X)\n",
    "stats_scaled = StandardScaler().fit_transform(X.loc[:, ['hp', 'atk', 'def', 'spa', 'spd', 'spe']])\n",
    "\n",
    "kmeans = KMeans(n_clusters=5, random_state=273)\n",
    "cluster5['features'] = kmeans.fit_predict(X_scaled)\n",
    "\n",
    "kmeans = KMeans(n_clusters=5, random_state=273)\n",
    "cluster5['stats'] = kmeans.fit_predict(stats_scaled)\n",
    "\n",
    "kmeans = KMeans(n_clusters=5, random_state=273)\n",
    "cluster5['abilities'] = kmeans.fit_predict(pokemon_abilities_df)\n",
    "\n",
    "kmeans = KMeans(n_clusters=5, random_state=273)\n",
    "cluster5['learnsets'] = kmeans.fit_predict(pokemon_learnsets_df)\n",
    "\n",
    "cluster_dfs[5] = cluster5"
   ]
  },
  {
   "cell_type": "code",
   "execution_count": 27,
   "metadata": {},
   "outputs": [],
   "source": [
    "cluster10 = pd.DataFrame(index=X.index, columns=['features', 'stats', 'abilities', 'learnsets'])\n",
    "\n",
    "X_scaled = StandardScaler().fit_transform(X)\n",
    "stats_scaled = StandardScaler().fit_transform(X.loc[:, ['hp', 'atk', 'def', 'spa', 'spd', 'spe']])\n",
    "\n",
    "kmeans = KMeans(n_clusters=10, random_state=273)\n",
    "cluster10['features'] = kmeans.fit_predict(X_scaled)\n",
    "\n",
    "kmeans = KMeans(n_clusters=10, random_state=273)\n",
    "cluster10['stats'] = kmeans.fit_predict(stats_scaled)\n",
    "\n",
    "kmeans = KMeans(n_clusters=10, random_state=273)\n",
    "cluster10['abilities'] = kmeans.fit_predict(pokemon_abilities_df)\n",
    "\n",
    "kmeans = KMeans(n_clusters=10, random_state=273)\n",
    "cluster10['learnsets'] = kmeans.fit_predict(pokemon_learnsets_df)\n",
    "\n",
    "cluster_dfs[10] = cluster10"
   ]
  },
  {
   "cell_type": "code",
   "execution_count": 28,
   "metadata": {},
   "outputs": [],
   "source": [
    "cluster15 = pd.DataFrame(index=X.index, columns=['features', 'stats', 'abilities', 'learnsets'])\n",
    "\n",
    "X_scaled = StandardScaler().fit_transform(X)\n",
    "stats_scaled = StandardScaler().fit_transform(X.loc[:, ['hp', 'atk', 'def', 'spa', 'spd', 'spe']])\n",
    "\n",
    "kmeans = KMeans(n_clusters=15, random_state=273)\n",
    "cluster15['features'] = kmeans.fit_predict(X_scaled)\n",
    "\n",
    "kmeans = KMeans(n_clusters=15, random_state=273)\n",
    "cluster15['stats'] = kmeans.fit_predict(stats_scaled)\n",
    "\n",
    "kmeans = KMeans(n_clusters=15, random_state=273)\n",
    "cluster15['abilities'] = kmeans.fit_predict(pokemon_abilities_df)\n",
    "\n",
    "kmeans = KMeans(n_clusters=15, random_state=273)\n",
    "cluster15['learnsets'] = kmeans.fit_predict(pokemon_learnsets_df)\n",
    "\n",
    "cluster_dfs[15] = cluster15"
   ]
  },
  {
   "cell_type": "code",
   "execution_count": 29,
   "metadata": {},
   "outputs": [],
   "source": [
    "cluster20 = pd.DataFrame(index=X.index, columns=['features', 'stats', 'abilities', 'learnsets'])\n",
    "\n",
    "X_scaled = StandardScaler().fit_transform(X)\n",
    "stats_scaled = StandardScaler().fit_transform(X.loc[:, ['hp', 'atk', 'def', 'spa', 'spd', 'spe']])\n",
    "\n",
    "kmeans = KMeans(n_clusters=20, random_state=273)\n",
    "cluster20['features'] = kmeans.fit_predict(X_scaled)\n",
    "\n",
    "kmeans = KMeans(n_clusters=20, random_state=273)\n",
    "cluster20['stats'] = kmeans.fit_predict(stats_scaled)\n",
    "\n",
    "kmeans = KMeans(n_clusters=20, random_state=273)\n",
    "cluster20['abilities'] = kmeans.fit_predict(pokemon_abilities_df)\n",
    "\n",
    "kmeans = KMeans(n_clusters=20, random_state=273)\n",
    "cluster20['learnsets'] = kmeans.fit_predict(pokemon_learnsets_df)\n",
    "\n",
    "cluster_dfs[20] = cluster20"
   ]
  },
  {
   "cell_type": "code",
   "execution_count": 30,
   "metadata": {},
   "outputs": [],
   "source": [
    "cluster25 = pd.DataFrame(index=X.index, columns=['features', 'stats', 'abilities', 'learnsets'])\n",
    "\n",
    "X_scaled = StandardScaler().fit_transform(X)\n",
    "stats_scaled = StandardScaler().fit_transform(X.loc[:, ['hp', 'atk', 'def', 'spa', 'spd', 'spe']])\n",
    "\n",
    "kmeans = KMeans(n_clusters=25, random_state=273)\n",
    "cluster25['features'] = kmeans.fit_predict(X_scaled)\n",
    "\n",
    "kmeans = KMeans(n_clusters=25, random_state=273)\n",
    "cluster25['stats'] = kmeans.fit_predict(stats_scaled)\n",
    "\n",
    "kmeans = KMeans(n_clusters=25, random_state=273)\n",
    "cluster25['abilities'] = kmeans.fit_predict(pokemon_abilities_df)\n",
    "\n",
    "kmeans = KMeans(n_clusters=25, random_state=273)\n",
    "cluster25['learnsets'] = kmeans.fit_predict(pokemon_learnsets_df)\n",
    "\n",
    "cluster_dfs[25] = cluster25"
   ]
  },
  {
   "cell_type": "code",
   "execution_count": 31,
   "metadata": {},
   "outputs": [],
   "source": [
    "cluster30 = pd.DataFrame(index=X.index, columns=['features', 'stats', 'abilities', 'learnsets'])\n",
    "\n",
    "X_scaled = StandardScaler().fit_transform(X)\n",
    "stats_scaled = StandardScaler().fit_transform(X.loc[:, ['hp', 'atk', 'def', 'spa', 'spd', 'spe']])\n",
    "\n",
    "kmeans = KMeans(n_clusters=30, random_state=273)\n",
    "cluster30['features'] = kmeans.fit_predict(X_scaled)\n",
    "\n",
    "kmeans = KMeans(n_clusters=30, random_state=273)\n",
    "cluster30['stats'] = kmeans.fit_predict(stats_scaled)\n",
    "\n",
    "kmeans = KMeans(n_clusters=30, random_state=273)\n",
    "cluster30['abilities'] = kmeans.fit_predict(pokemon_abilities_df)\n",
    "\n",
    "kmeans = KMeans(n_clusters=30, random_state=273)\n",
    "cluster30['learnsets'] = kmeans.fit_predict(pokemon_learnsets_df)\n",
    "\n",
    "cluster_dfs[30] = cluster30"
   ]
  },
  {
   "cell_type": "code",
   "execution_count": 32,
   "metadata": {},
   "outputs": [
    {
     "data": {
      "text/plain": [
       "{5:                 features  stats  abilities  learnsets\n",
       " name                                                 \n",
       " Bulbasaur              1      0          1          1\n",
       " Ivysaur                3      0          1          1\n",
       " Venusaur               3      3          1          1\n",
       " Charmander             1      0          1          4\n",
       " Charmeleon             2      1          1          4\n",
       " ...                  ...    ...        ...        ...\n",
       " Glastrier              2      2          1          1\n",
       " Spectrier              0      3          1          1\n",
       " Calyrex                3      4          1          3\n",
       " Calyrex-Ice            4      2          1          3\n",
       " Calyrex-Shadow         4      3          1          3\n",
       " \n",
       " [738 rows x 4 columns],\n",
       " 10:                 features  stats  abilities  learnsets\n",
       " name                                                 \n",
       " Bulbasaur              9      3          7          6\n",
       " Ivysaur                9      9          7          6\n",
       " Venusaur               9      6          7          6\n",
       " Charmander             6      3          7          9\n",
       " Charmeleon             0      2          7          9\n",
       " ...                  ...    ...        ...        ...\n",
       " Glastrier              0      5          7          1\n",
       " Spectrier              3      6          7          1\n",
       " Calyrex                5      1          1          3\n",
       " Calyrex-Ice            8      5          7          3\n",
       " Calyrex-Shadow         8      0          7          3\n",
       " \n",
       " [738 rows x 4 columns],\n",
       " 15:                 features  stats  abilities  learnsets\n",
       " name                                                 \n",
       " Bulbasaur              0     13         14          4\n",
       " Ivysaur                0     13         14          4\n",
       " Venusaur               0      2         14          4\n",
       " Charmander             4     12          1         13\n",
       " Charmeleon             4      1          1         13\n",
       " ...                  ...    ...        ...        ...\n",
       " Glastrier              8     11          1          0\n",
       " Spectrier              1      1          1          0\n",
       " Calyrex               13      8          3          6\n",
       " Calyrex-Ice           11      9          1          6\n",
       " Calyrex-Shadow        11      6          1          6\n",
       " \n",
       " [738 rows x 4 columns],\n",
       " 20:                 features  stats  abilities  learnsets\n",
       " name                                                 \n",
       " Bulbasaur              1      5         14         18\n",
       " Ivysaur                1      5         14         18\n",
       " Venusaur               9      8         14         18\n",
       " Charmander             1     13          1          2\n",
       " Charmeleon             1      1          1          2\n",
       " ...                  ...    ...        ...        ...\n",
       " Glastrier             11      7          1          3\n",
       " Spectrier              9     11          1          3\n",
       " Calyrex               13      8          3         17\n",
       " Calyrex-Ice            4     14          1         17\n",
       " Calyrex-Shadow         8     11          1         17\n",
       " \n",
       " [738 rows x 4 columns],\n",
       " 25:                 features  stats  abilities  learnsets\n",
       " name                                                 \n",
       " Bulbasaur             16     23         11         11\n",
       " Ivysaur               16     10         11         11\n",
       " Venusaur              16     17         11         11\n",
       " Charmander            18     14         23         18\n",
       " Charmeleon            18     10         23         18\n",
       " ...                  ...    ...        ...        ...\n",
       " Glastrier              1     12          7          5\n",
       " Spectrier              2      7          7          5\n",
       " Calyrex               17      3          1         12\n",
       " Calyrex-Ice            4      5          7         12\n",
       " Calyrex-Shadow         4      6          7         12\n",
       " \n",
       " [738 rows x 4 columns],\n",
       " 30:                 features  stats  abilities  learnsets\n",
       " name                                                 \n",
       " Bulbasaur             14     23         11         29\n",
       " Ivysaur               14     10         11         29\n",
       " Venusaur              14     17         11         29\n",
       " Charmander            21     14         23          1\n",
       " Charmeleon            25     10         23          1\n",
       " ...                  ...    ...        ...        ...\n",
       " Glastrier             25     12          7          0\n",
       " Spectrier             12      7          7          0\n",
       " Calyrex               24      3          1         24\n",
       " Calyrex-Ice            3      5          7         24\n",
       " Calyrex-Shadow         7      6          7         24\n",
       " \n",
       " [738 rows x 4 columns]}"
      ]
     },
     "execution_count": 32,
     "metadata": {},
     "output_type": "execute_result"
    }
   ],
   "source": [
    "cluster_dfs"
   ]
  },
  {
   "cell_type": "markdown",
   "metadata": {},
   "source": [
    "<a id=\"modeling_guidelines\"></a>\n",
    "### Modeling guidelines"
   ]
  },
  {
   "cell_type": "markdown",
   "metadata": {},
   "source": [
    "How many models am I making:\n",
    "\n",
    "one-stage: (3 + 1) x 2, 8 one-stage models: 7 class no clusters, 4 class no clusters, 4 class modified no clusters, 2 class no clusters, then each with clusters\n",
    "\n",
    "two-stage: (2 + 1) x 2, 6 two-stage models: 7 class no clusters, 4 class no clusters, 4 class modified no clusters, then each with clusters\n",
    "\n",
    "14 total models for each modeling type\n",
    "\n",
    "Modeling types: Logistic Regression, KNN, Decision Tree, Random Forest, CatBoost"
   ]
  },
  {
   "cell_type": "markdown",
   "metadata": {},
   "source": [
    "Extra considerations:\n",
    "\n",
    "- For Logistic Regression and KNN we will need to scale our features.\n",
    "\n",
    "- We might not even bother with clustering using something like logistic regression, though we can look up whether it might be worthwhile\n",
    "\n",
    "- Metric will be weighted F1 score, there is no well developed ROC curve for multi-class, log loss is not good for unbalanced classes, F1 score weighted should be especially appropriate for unbalanced classes and where we don't care more about precision or recall (there is no greater cost to a false positive or false negative for our problem)"
   ]
  },
  {
   "cell_type": "code",
   "execution_count": 33,
   "metadata": {},
   "outputs": [],
   "source": [
    "k_list = [2, 3, 5, 10]\n",
    "\n",
    "cluster_types = list(cluster_dfs[5].columns)"
   ]
  },
  {
   "cell_type": "markdown",
   "metadata": {},
   "source": [
    "<a id=\"knn\"></a>\n",
    "### KNN"
   ]
  },
  {
   "cell_type": "code",
   "execution_count": 34,
   "metadata": {},
   "outputs": [
    {
     "data": {
      "text/plain": [
       "dict_keys(['memory', 'steps', 'verbose', 'standardscaler', 'kneighborsclassifier', 'standardscaler__copy', 'standardscaler__with_mean', 'standardscaler__with_std', 'kneighborsclassifier__algorithm', 'kneighborsclassifier__leaf_size', 'kneighborsclassifier__metric', 'kneighborsclassifier__metric_params', 'kneighborsclassifier__n_jobs', 'kneighborsclassifier__n_neighbors', 'kneighborsclassifier__p', 'kneighborsclassifier__weights'])"
      ]
     },
     "execution_count": 34,
     "metadata": {},
     "output_type": "execute_result"
    }
   ],
   "source": [
    "pipe = make_pipeline(\n",
    "    StandardScaler(),\n",
    "    KNeighborsClassifier())\n",
    "\n",
    "pipe.get_params().keys()"
   ]
  },
  {
   "cell_type": "code",
   "execution_count": 35,
   "metadata": {},
   "outputs": [
    {
     "data": {
      "text/plain": [
       "{'kneighborsclassifier__n_neighbors': [1,\n",
       "  2,\n",
       "  3,\n",
       "  4,\n",
       "  5,\n",
       "  6,\n",
       "  7,\n",
       "  8,\n",
       "  9,\n",
       "  10,\n",
       "  11,\n",
       "  12,\n",
       "  13,\n",
       "  14,\n",
       "  15],\n",
       " 'kneighborsclassifier__p': [1, 2],\n",
       " 'kneighborsclassifier__weights': ['uniform', 'distance']}"
      ]
     },
     "execution_count": 35,
     "metadata": {},
     "output_type": "execute_result"
    }
   ],
   "source": [
    "param_grid = {'kneighborsclassifier__n_neighbors': list(range(1, 16)),\n",
    "              'kneighborsclassifier__p': [1, 2],\n",
    "              'kneighborsclassifier__weights': ['uniform', 'distance']}\n",
    "param_grid"
   ]
  },
  {
   "cell_type": "markdown",
   "metadata": {},
   "source": [
    "#### 7 classes, no clusters"
   ]
  },
  {
   "cell_type": "code",
   "execution_count": 36,
   "metadata": {},
   "outputs": [
    {
     "data": {
      "text/plain": [
       "(0.5173231380306713, 5)"
      ]
     },
     "execution_count": 36,
     "metadata": {},
     "output_type": "execute_result"
    }
   ],
   "source": [
    "best = []\n",
    "\n",
    "for k in k_list:\n",
    "    pipe = make_pipeline(\n",
    "        StandardScaler(),\n",
    "        KNeighborsClassifier())\n",
    "    X_train, X_test, y_train, y_test = train_test_split(X, y_df['formats'],\n",
    "                                                    test_size=0.25,\n",
    "                                                    random_state=273,\n",
    "                                                    stratify=y_df['formats'].values)\n",
    "    knn_grid = GridSearchCV(pipe, param_grid, scoring=make_scorer(f1_score, average='weighted'), n_jobs=-1, cv=k, verbose=0)\n",
    "    knn_grid.fit(X_train, y_train)\n",
    "    best.append(knn_grid.best_score_)\n",
    "\n",
    "max(best), k_list[best.index(max(best))]"
   ]
  },
  {
   "cell_type": "code",
   "execution_count": 37,
   "metadata": {},
   "outputs": [
    {
     "data": {
      "text/plain": [
       "({'kneighborsclassifier__n_neighbors': 5,\n",
       "  'kneighborsclassifier__p': 1,\n",
       "  'kneighborsclassifier__weights': 'uniform'},\n",
       " 0.5173231380306713)"
      ]
     },
     "execution_count": 37,
     "metadata": {},
     "output_type": "execute_result"
    }
   ],
   "source": [
    "pipe = make_pipeline(\n",
    "    StandardScaler(),\n",
    "    KNeighborsClassifier())\n",
    "X_train, X_test, y_train, y_test = train_test_split(X, y_df['formats'],\n",
    "                                                    test_size=0.25,\n",
    "                                                    random_state=273,\n",
    "                                                    stratify=y_df['formats'].values)\n",
    "knn_grid = GridSearchCV(pipe, param_grid, scoring=make_scorer(f1_score, average='weighted'), n_jobs=-1, cv=5, verbose=0)\n",
    "knn_grid.fit(X_train, y_train)\n",
    "knn_grid.best_params_, knn_grid.best_score_"
   ]
  },
  {
   "cell_type": "code",
   "execution_count": 38,
   "metadata": {},
   "outputs": [
    {
     "data": {
      "text/plain": [
       "0.6531496355198588"
      ]
     },
     "execution_count": 38,
     "metadata": {},
     "output_type": "execute_result"
    }
   ],
   "source": [
    "f1_score(y_train, knn_grid.predict(X_train), labels=['ZU', 'PU', 'NU', 'RU', 'UU', 'OU', 'Uber'], average='weighted')"
   ]
  },
  {
   "cell_type": "code",
   "execution_count": 39,
   "metadata": {},
   "outputs": [
    {
     "data": {
      "text/plain": [
       "(array([0.83636364, 0.54362416, 0.25925926, 0.33333333, 0.52941176,\n",
       "        0.47727273, 0.73913043]),\n",
       " array([0.91633466, 0.68067227, 0.22580645, 0.17142857, 0.26470588,\n",
       "        0.48837209, 0.425     ]),\n",
       " array([0.87452471, 0.60447761, 0.24137931, 0.22641509, 0.35294118,\n",
       "        0.48275862, 0.53968254]),\n",
       " array([251, 119,  31,  35,  34,  43,  40], dtype=int64))"
      ]
     },
     "execution_count": 39,
     "metadata": {},
     "output_type": "execute_result"
    }
   ],
   "source": [
    "precision_recall_fscore_support(y_train, knn_grid.predict(X_train), labels=['ZU', 'PU', 'NU', 'RU', 'UU', 'OU', 'Uber'])"
   ]
  },
  {
   "cell_type": "markdown",
   "metadata": {},
   "source": [
    "Compared to logistic regression, the scores on ZU and PU are similar, though this does better with NU, UU and OU, and worse in RU and Ubers. So the performance could be said to be comparable."
   ]
  },
  {
   "cell_type": "markdown",
   "metadata": {},
   "source": [
    "KNN doesn't offer anything in terms of explainability, since it's just calculating the nearest neighbors, which in some sense isn't a \"model\". Therefore it will need to have better performance to justify its use, but it's not looking like it will obviously achieve that, but we still need to experiment a lot more."
   ]
  },
  {
   "cell_type": "markdown",
   "metadata": {},
   "source": [
    "#### 4 class no clusters"
   ]
  },
  {
   "cell_type": "code",
   "execution_count": 40,
   "metadata": {},
   "outputs": [
    {
     "data": {
      "text/plain": [
       "(0.6083256519383994, 10)"
      ]
     },
     "execution_count": 40,
     "metadata": {},
     "output_type": "execute_result"
    }
   ],
   "source": [
    "best = []\n",
    "\n",
    "for k in k_list:\n",
    "    pipe = make_pipeline(\n",
    "        StandardScaler(),\n",
    "        KNeighborsClassifier())\n",
    "    X_train, X_test, y_train, y_test = train_test_split(X, y_df['formats4'],\n",
    "                                                    test_size=0.25,\n",
    "                                                    random_state=273,\n",
    "                                                    stratify=y_df['formats4'].values)\n",
    "    knn_grid = GridSearchCV(pipe, param_grid, scoring=make_scorer(f1_score, average='weighted'), n_jobs=-1, cv=k, verbose=0)\n",
    "    knn_grid.fit(X_train, y_train)\n",
    "    best.append(knn_grid.best_score_)\n",
    "\n",
    "max(best), k_list[best.index(max(best))]"
   ]
  },
  {
   "cell_type": "code",
   "execution_count": 41,
   "metadata": {},
   "outputs": [
    {
     "data": {
      "text/plain": [
       "({'kneighborsclassifier__n_neighbors': 9,\n",
       "  'kneighborsclassifier__p': 1,\n",
       "  'kneighborsclassifier__weights': 'uniform'},\n",
       " 0.6083256519383994)"
      ]
     },
     "execution_count": 41,
     "metadata": {},
     "output_type": "execute_result"
    }
   ],
   "source": [
    "pipe = make_pipeline(\n",
    "    StandardScaler(),\n",
    "    KNeighborsClassifier())\n",
    "X_train, X_test, y_train, y_test = train_test_split(X, y_df['formats4'],\n",
    "                                                    test_size=0.25,\n",
    "                                                    random_state=273,\n",
    "                                                    stratify=y_df['formats4'].values)\n",
    "knn_grid = GridSearchCV(pipe, param_grid, scoring=make_scorer(f1_score, average='weighted'), n_jobs=-1, cv=10, verbose=0)\n",
    "knn_grid.fit(X_train, y_train)\n",
    "knn_grid.best_params_, knn_grid.best_score_"
   ]
  },
  {
   "cell_type": "code",
   "execution_count": 42,
   "metadata": {},
   "outputs": [
    {
     "data": {
      "text/plain": [
       "0.6798280384593879"
      ]
     },
     "execution_count": 42,
     "metadata": {},
     "output_type": "execute_result"
    }
   ],
   "source": [
    "f1_score(y_train, knn_grid.predict(X_train), labels=['Not c', 'Low c', 'Mid c', 'High c'], average='weighted')"
   ]
  },
  {
   "cell_type": "code",
   "execution_count": 43,
   "metadata": {},
   "outputs": [
    {
     "data": {
      "text/plain": [
       "(array([0.76315789, 0.55454545, 0.55555556, 0.77586207]),\n",
       " array([0.92430279, 0.51260504, 0.45      , 0.54216867]),\n",
       " array([0.83603604, 0.53275109, 0.49723757, 0.63829787]),\n",
       " array([251, 119, 100,  83], dtype=int64))"
      ]
     },
     "execution_count": 43,
     "metadata": {},
     "output_type": "execute_result"
    }
   ],
   "source": [
    "precision_recall_fscore_support(y_train, knn_grid.predict(X_train), labels=['Not c', 'Low c', 'Mid c', 'High c'])"
   ]
  },
  {
   "cell_type": "markdown",
   "metadata": {},
   "source": [
    "Very similar scores to logistic regression, except a bit worse on mid competitive pokemon.\n",
    "\n",
    "It's also worth noting that Manhattan distance and uniform weights are continue to be the best parameters."
   ]
  },
  {
   "cell_type": "markdown",
   "metadata": {},
   "source": [
    "#### 4 class alt no clusters"
   ]
  },
  {
   "cell_type": "code",
   "execution_count": 44,
   "metadata": {},
   "outputs": [
    {
     "data": {
      "text/plain": [
       "(0.6352113271349081, 3)"
      ]
     },
     "execution_count": 44,
     "metadata": {},
     "output_type": "execute_result"
    }
   ],
   "source": [
    "best = []\n",
    "\n",
    "for k in k_list:\n",
    "    pipe = make_pipeline(\n",
    "        StandardScaler(),\n",
    "        KNeighborsClassifier())\n",
    "    X_train, X_test, y_train, y_test = train_test_split(X, y_df['formats4alt'],\n",
    "                                                    test_size=0.25,\n",
    "                                                    random_state=273,\n",
    "                                                    stratify=y_df['formats4alt'].values)\n",
    "    knn_grid = GridSearchCV(pipe, param_grid, scoring=make_scorer(f1_score, average='weighted'), n_jobs=-1, cv=k, verbose=0)\n",
    "    knn_grid.fit(X_train, y_train)\n",
    "    best.append(knn_grid.best_score_)\n",
    "\n",
    "max(best), k_list[best.index(max(best))]"
   ]
  },
  {
   "cell_type": "code",
   "execution_count": 45,
   "metadata": {},
   "outputs": [
    {
     "data": {
      "text/plain": [
       "({'kneighborsclassifier__n_neighbors': 9,\n",
       "  'kneighborsclassifier__p': 1,\n",
       "  'kneighborsclassifier__weights': 'uniform'},\n",
       " 0.6352113271349081)"
      ]
     },
     "execution_count": 45,
     "metadata": {},
     "output_type": "execute_result"
    }
   ],
   "source": [
    "pipe = make_pipeline(\n",
    "    StandardScaler(),\n",
    "    KNeighborsClassifier())\n",
    "X_train, X_test, y_train, y_test = train_test_split(X, y_df['formats4alt'],\n",
    "                                                    test_size=0.25,\n",
    "                                                    random_state=273,\n",
    "                                                    stratify=y_df['formats4alt'].values)\n",
    "knn_grid = GridSearchCV(pipe, param_grid, scoring=make_scorer(f1_score, average='weighted'), n_jobs=-1, cv=3, verbose=0)\n",
    "knn_grid.fit(X_train, y_train)\n",
    "knn_grid.best_params_, knn_grid.best_score_"
   ]
  },
  {
   "cell_type": "markdown",
   "metadata": {},
   "source": [
    "Strange, there is very little regularization for this model, which may just mean that regularization choice is somewhat random and not having much impact"
   ]
  },
  {
   "cell_type": "code",
   "execution_count": 46,
   "metadata": {},
   "outputs": [
    {
     "data": {
      "text/plain": [
       "0.6865193037830023"
      ]
     },
     "execution_count": 46,
     "metadata": {},
     "output_type": "execute_result"
    }
   ],
   "source": [
    "f1_score(y_train, knn_grid.predict(X_train), labels=['Not c', 'Low c', 'Mid c', 'High c'], average='weighted')"
   ]
  },
  {
   "cell_type": "code",
   "execution_count": 47,
   "metadata": {},
   "outputs": [
    {
     "data": {
      "text/plain": [
       "(array([0.76470588, 0.5       , 0.67479675, 0.94444444]),\n",
       " array([0.93227092, 0.44537815, 0.58041958, 0.425     ]),\n",
       " array([0.84021544, 0.47111111, 0.62406015, 0.5862069 ]),\n",
       " array([251, 119, 143,  40], dtype=int64))"
      ]
     },
     "execution_count": 47,
     "metadata": {},
     "output_type": "execute_result"
    }
   ],
   "source": [
    "precision_recall_fscore_support(y_train, knn_grid.predict(X_train), labels=['Not c', 'Low c', 'Mid c', 'High c'])"
   ]
  },
  {
   "cell_type": "markdown",
   "metadata": {},
   "source": [
    "This model performed notably worse than logistic regression, with about .05 worse f scores in 3 categories and almost .15 worse in Ubers.\n",
    "\n",
    "The trend of Manhattan distance and uniform weights being the best parameters continues"
   ]
  },
  {
   "cell_type": "markdown",
   "metadata": {},
   "source": [
    "#### 2 class no clusters"
   ]
  },
  {
   "cell_type": "code",
   "execution_count": 48,
   "metadata": {},
   "outputs": [
    {
     "data": {
      "text/plain": [
       "(0.8753511195158892, 5)"
      ]
     },
     "execution_count": 48,
     "metadata": {},
     "output_type": "execute_result"
    }
   ],
   "source": [
    "best = []\n",
    "\n",
    "for k in k_list:\n",
    "    pipe = make_pipeline(\n",
    "        StandardScaler(),\n",
    "        KNeighborsClassifier())\n",
    "    X_train, X_test, y_train, y_test = train_test_split(X, y_df['formats2'],\n",
    "                                                    test_size=0.25,\n",
    "                                                    random_state=273,\n",
    "                                                    stratify=y_df['formats2'].values)\n",
    "    knn_grid = GridSearchCV(pipe, param_grid, scoring=make_scorer(f1_score, average='weighted'), n_jobs=-1, cv=k, verbose=0)\n",
    "    knn_grid.fit(X_train, y_train)\n",
    "    best.append(knn_grid.best_score_)\n",
    "\n",
    "max(best), k_list[best.index(max(best))]"
   ]
  },
  {
   "cell_type": "markdown",
   "metadata": {},
   "source": [
    "Interesting that 5 fold cv works better here, even though 10 worked better for 4 classes (maybe 10 fold did so well by lowering variance in those cases)"
   ]
  },
  {
   "cell_type": "code",
   "execution_count": 49,
   "metadata": {},
   "outputs": [
    {
     "data": {
      "text/plain": [
       "({'kneighborsclassifier__n_neighbors': 13,\n",
       "  'kneighborsclassifier__p': 2,\n",
       "  'kneighborsclassifier__weights': 'uniform'},\n",
       " 0.8753511195158892)"
      ]
     },
     "execution_count": 49,
     "metadata": {},
     "output_type": "execute_result"
    }
   ],
   "source": [
    "pipe = make_pipeline(\n",
    "    StandardScaler(),\n",
    "    KNeighborsClassifier())\n",
    "X_train, X_test, y_train, y_test = train_test_split(X, y_df['formats2'],\n",
    "                                                    test_size=0.25,\n",
    "                                                    random_state=273,\n",
    "                                                    stratify=y_df['formats2'].values)\n",
    "knn_grid = GridSearchCV(pipe, param_grid, scoring=make_scorer(f1_score, average='weighted'), n_jobs=-1, cv=5, verbose=0)\n",
    "knn_grid.fit(X_train, y_train)\n",
    "knn_grid.best_params_, knn_grid.best_score_"
   ]
  },
  {
   "cell_type": "markdown",
   "metadata": {},
   "source": [
    "This also has a higher regularization strength, so we've had a lot of variance in that c parameter"
   ]
  },
  {
   "cell_type": "code",
   "execution_count": 50,
   "metadata": {},
   "outputs": [
    {
     "data": {
      "text/plain": [
       "0.9041078722534099"
      ]
     },
     "execution_count": 50,
     "metadata": {},
     "output_type": "execute_result"
    }
   ],
   "source": [
    "f1_score(y_train, knn_grid.predict(X_train), labels=['No', 'Yes'], average='weighted')"
   ]
  },
  {
   "cell_type": "code",
   "execution_count": 51,
   "metadata": {},
   "outputs": [
    {
     "data": {
      "text/plain": [
       "(array([0.89919355, 0.90819672]),\n",
       " array([0.88844622, 0.91721854]),\n",
       " array([0.89378758, 0.91268534]),\n",
       " array([251, 302], dtype=int64))"
      ]
     },
     "execution_count": 51,
     "metadata": {},
     "output_type": "execute_result"
    }
   ],
   "source": [
    "precision_recall_fscore_support(y_train, knn_grid.predict(X_train), labels=['No', 'Yes'])"
   ]
  },
  {
   "cell_type": "markdown",
   "metadata": {},
   "source": [
    "These are very close scores to logistic regression. But we did get Euclidean distance outperforming Manhattan distance this time, which means I'm probably right to be testing for that. If uniform continues to outperform distance-based weights every time, then I may stop testing for that during the two-stage modeling, since it improves run-time."
   ]
  },
  {
   "cell_type": "markdown",
   "metadata": {},
   "source": [
    "<a id=\"knn_cluster\"></a>\n",
    "#### KNN with clustering\n",
    "\n",
    "#### 7 class with clustering"
   ]
  },
  {
   "cell_type": "markdown",
   "metadata": {},
   "source": [
    "Since one-hot encoded columns shouldn't really be scaled, we can scale the rest of our data to be compatible with them via minmax scaling between 0 and 1 (which is the default setting for minmaxscaler)"
   ]
  },
  {
   "cell_type": "code",
   "execution_count": 52,
   "metadata": {},
   "outputs": [
    {
     "data": {
      "text/plain": [
       "[0.5786460635292554, 10, 'stats', 15]"
      ]
     },
     "execution_count": 52,
     "metadata": {},
     "output_type": "execute_result"
    }
   ],
   "source": [
    "best = [0, 0, 0, 0]\n",
    "\n",
    "for n in n_clusters:\n",
    "    for c_type in cluster_types:\n",
    "        for k in k_list:\n",
    "            pipe = make_pipeline(\n",
    "                KNeighborsClassifier())\n",
    "            X_scaled = pd.DataFrame(MinMaxScaler().fit_transform(X), index=X.index, columns=X.columns)\n",
    "            X_final = pd.merge(X_scaled, pd.get_dummies(cluster_dfs[n][c_type]), on='name')\n",
    "            X_train, X_test, y_train, y_test = train_test_split(X_final, y_df['formats'],\n",
    "                                                                test_size=0.25,\n",
    "                                                                random_state=273,\n",
    "                                                                stratify=y_df['formats'].values)\n",
    "            knn_grid = GridSearchCV(pipe, param_grid, scoring=make_scorer(f1_score, average='weighted'), n_jobs=-1, cv=k, verbose=0)\n",
    "            knn_grid.fit(X_train, y_train)\n",
    "            if knn_grid.best_score_ > best[0]:\n",
    "                best = [knn_grid.best_score_, k, c_type, n]\n",
    "                \n",
    "best"
   ]
  },
  {
   "cell_type": "markdown",
   "metadata": {},
   "source": [
    "The performance is very similar to logistic regression, but it's interesting that it chose the stats clusters this time for the 7 class model, as opposed to the general features chosen in logistic regression"
   ]
  },
  {
   "cell_type": "code",
   "execution_count": 53,
   "metadata": {},
   "outputs": [
    {
     "data": {
      "text/plain": [
       "({'kneighborsclassifier__n_neighbors': 5,\n",
       "  'kneighborsclassifier__p': 2,\n",
       "  'kneighborsclassifier__weights': 'uniform'},\n",
       " 0.5786460635292554)"
      ]
     },
     "execution_count": 53,
     "metadata": {},
     "output_type": "execute_result"
    }
   ],
   "source": [
    "pipe = make_pipeline(\n",
    "    KNeighborsClassifier())\n",
    "X_scaled = pd.DataFrame(MinMaxScaler().fit_transform(X), index=X.index, columns=X.columns)\n",
    "X_final = pd.merge(X_scaled, pd.get_dummies(cluster_dfs[15]['stats']), on='name')\n",
    "X_train, X_test, y_train, y_test = train_test_split(X_final, y_df['formats'],\n",
    "                                                    test_size=0.25,\n",
    "                                                    random_state=273,\n",
    "                                                    stratify=y_df['formats'].values)\n",
    "knn_grid = GridSearchCV(pipe, param_grid, scoring=make_scorer(f1_score, average='weighted'), n_jobs=-1, cv=10, verbose=0)\n",
    "knn_grid.fit(X_train, y_train)\n",
    "knn_grid.best_params_, knn_grid.best_score_"
   ]
  },
  {
   "cell_type": "markdown",
   "metadata": {},
   "source": [
    "We have Euclidean outperforming Manhattan distance for a second time!"
   ]
  },
  {
   "cell_type": "code",
   "execution_count": 54,
   "metadata": {},
   "outputs": [
    {
     "data": {
      "text/plain": [
       "0.6768973425739454"
      ]
     },
     "execution_count": 54,
     "metadata": {},
     "output_type": "execute_result"
    }
   ],
   "source": [
    "f1_score(y_train, knn_grid.predict(X_train), labels=['ZU', 'PU', 'NU', 'RU', 'UU', 'OU', 'Uber'], average='weighted')"
   ]
  },
  {
   "cell_type": "code",
   "execution_count": 55,
   "metadata": {},
   "outputs": [
    {
     "data": {
      "text/plain": [
       "(array([0.87401575, 0.51176471, 0.38235294, 0.58823529, 0.57894737,\n",
       "        0.425     , 0.94736842]),\n",
       " array([0.88446215, 0.73109244, 0.41935484, 0.28571429, 0.32352941,\n",
       "        0.39534884, 0.45      ]),\n",
       " array([0.87920792, 0.60207612, 0.4       , 0.38461538, 0.41509434,\n",
       "        0.40963855, 0.61016949]),\n",
       " array([251, 119,  31,  35,  34,  43,  40], dtype=int64))"
      ]
     },
     "execution_count": 55,
     "metadata": {},
     "output_type": "execute_result"
    }
   ],
   "source": [
    "precision_recall_fscore_support(y_train, knn_grid.predict(X_train), labels=['ZU', 'PU', 'NU', 'RU', 'UU', 'OU', 'Uber'])"
   ]
  },
  {
   "cell_type": "markdown",
   "metadata": {},
   "source": [
    "KNN is performing slightly worse on high performing classes like ZU, PU and Ubers, and slightly worse on most classes in general, but it's doing a lot better on the worst classes like NU, which went up almost .3. I like the evenness of its performance compared to logistic regression, but I'm not sure it's better."
   ]
  },
  {
   "cell_type": "markdown",
   "metadata": {},
   "source": [
    "#### 4 class with clustering"
   ]
  },
  {
   "cell_type": "code",
   "execution_count": 56,
   "metadata": {},
   "outputs": [
    {
     "data": {
      "text/plain": [
       "[0.6525176296607775, 5, 'stats', 25]"
      ]
     },
     "execution_count": 56,
     "metadata": {},
     "output_type": "execute_result"
    }
   ],
   "source": [
    "best = [0, 0, 0, 0]\n",
    "\n",
    "for n in n_clusters:\n",
    "    for c_type in cluster_types:\n",
    "        for k in k_list:\n",
    "            pipe = make_pipeline(\n",
    "                KNeighborsClassifier())\n",
    "            X_scaled = pd.DataFrame(MinMaxScaler().fit_transform(X), index=X.index, columns=X.columns)\n",
    "            X_final = pd.merge(X_scaled, pd.get_dummies(cluster_dfs[n][c_type]), on='name')\n",
    "            X_train, X_test, y_train, y_test = train_test_split(X_final, y_df['formats4'],\n",
    "                                                                test_size=0.25,\n",
    "                                                                random_state=273,\n",
    "                                                                stratify=y_df['formats4'].values)\n",
    "            knn_grid = GridSearchCV(pipe, param_grid, scoring=make_scorer(f1_score, average='weighted'), n_jobs=-1, cv=k, verbose=0)\n",
    "            knn_grid.fit(X_train, y_train)\n",
    "            if knn_grid.best_score_ > best[0]:\n",
    "                best = [knn_grid.best_score_, k, c_type, n]\n",
    "                \n",
    "best"
   ]
  },
  {
   "cell_type": "markdown",
   "metadata": {},
   "source": [
    "KNN is clustering by stats every single time, which is quite different than logistic regression which often preferred learnsets or features, but logistic regression also chose stats on the 2 class model which we also used for the two-stage model"
   ]
  },
  {
   "cell_type": "code",
   "execution_count": 57,
   "metadata": {},
   "outputs": [
    {
     "data": {
      "text/plain": [
       "({'kneighborsclassifier__n_neighbors': 5,\n",
       "  'kneighborsclassifier__p': 2,\n",
       "  'kneighborsclassifier__weights': 'distance'},\n",
       " 0.6525176296607775)"
      ]
     },
     "execution_count": 57,
     "metadata": {},
     "output_type": "execute_result"
    }
   ],
   "source": [
    "pipe = make_pipeline(\n",
    "    KNeighborsClassifier())\n",
    "X_scaled = pd.DataFrame(MinMaxScaler().fit_transform(X), index=X.index, columns=X.columns)\n",
    "X_final = pd.merge(X_scaled, pd.get_dummies(cluster_dfs[25]['stats']), on='name')\n",
    "X_train, X_test, y_train, y_test = train_test_split(X_final, y_df['formats4'],\n",
    "                                                    test_size=0.25,\n",
    "                                                    random_state=273,\n",
    "                                                    stratify=y_df['formats4'].values)\n",
    "knn_grid = GridSearchCV(pipe, param_grid, scoring=make_scorer(f1_score, average='weighted'), n_jobs=-1, cv=5, verbose=0)\n",
    "knn_grid.fit(X_train, y_train)\n",
    "knn_grid.best_params_, knn_grid.best_score_"
   ]
  },
  {
   "cell_type": "markdown",
   "metadata": {},
   "source": [
    "And not only did Euclidean distance outperform Manhattan again, distance weighting outperformed uniformed weighting for the first time, so we do need to test for it after all"
   ]
  },
  {
   "cell_type": "code",
   "execution_count": 58,
   "metadata": {},
   "outputs": [
    {
     "data": {
      "text/plain": [
       "0.9963911995177818"
      ]
     },
     "execution_count": 58,
     "metadata": {},
     "output_type": "execute_result"
    }
   ],
   "source": [
    "f1_score(y_train, knn_grid.predict(X_train), labels=['Not c', 'Low c', 'Mid c', 'High c'], average='weighted')"
   ]
  },
  {
   "cell_type": "code",
   "execution_count": 59,
   "metadata": {},
   "outputs": [
    {
     "data": {
      "text/plain": [
       "(array([1.        , 0.98347107, 1.        , 1.        ]),\n",
       " array([0.99203187, 1.        , 1.        , 1.        ]),\n",
       " array([0.996     , 0.99166667, 1.        , 1.        ]),\n",
       " array([251, 119, 100,  83], dtype=int64))"
      ]
     },
     "execution_count": 59,
     "metadata": {},
     "output_type": "execute_result"
    }
   ],
   "source": [
    "precision_recall_fscore_support(y_train, knn_grid.predict(X_train), labels=['Not c', 'Low c', 'Mid c', 'High c'])"
   ]
  },
  {
   "cell_type": "markdown",
   "metadata": {},
   "source": [
    "Wait, this is shocking.  The model got almost everything right?\n",
    "\n",
    "This is amazing, but I'm also concerned about overfitting. Maybe grid search cross validation doesn't work well with knn with so few examples because when you remove the cross validation folds the neighbors change drastically.\n",
    "\n",
    "Solution: in my final notebook for modeling, I'm going to test all of my best models on the test set, instead of just my one best model. Normally you shouldn't test multiple models on the test set, since then there is a danger of tuning your performance to the test set, but I think there are ways to mitigate that problem. I'm not going to choose the best model based on minor improvements or close comparisons on the test set; I'll value training and validation scores more there. But if there is a massive performance change on the test on only some of the models but not others, then statistically that is extremely unlikely to be due to the peculiarities of the test set. Rather it is a sign of massive overfitting, and that's the value of seeing the performance of more than one model on the test set in this case. Minor overfitting is to be expected, and maybe that's all this is, but if this model does quite poorly again on the test set and other models are doing much better, then I won't be able to accept this one.\n",
    "\n",
    "Let's look at which one's the model actually got wrong, since there are so few:"
   ]
  },
  {
   "cell_type": "code",
   "execution_count": 60,
   "metadata": {},
   "outputs": [
    {
     "data": {
      "text/html": [
       "<div>\n",
       "<style scoped>\n",
       "    .dataframe tbody tr th:only-of-type {\n",
       "        vertical-align: middle;\n",
       "    }\n",
       "\n",
       "    .dataframe tbody tr th {\n",
       "        vertical-align: top;\n",
       "    }\n",
       "\n",
       "    .dataframe thead th {\n",
       "        text-align: right;\n",
       "    }\n",
       "</style>\n",
       "<table border=\"1\" class=\"dataframe\">\n",
       "  <thead>\n",
       "    <tr style=\"text-align: right;\">\n",
       "      <th></th>\n",
       "      <th>0</th>\n",
       "      <th>formats4</th>\n",
       "    </tr>\n",
       "    <tr>\n",
       "      <th>name</th>\n",
       "      <th></th>\n",
       "      <th></th>\n",
       "    </tr>\n",
       "  </thead>\n",
       "  <tbody>\n",
       "    <tr>\n",
       "      <th>Silvally-Dark</th>\n",
       "      <td>Low c</td>\n",
       "      <td>Not c</td>\n",
       "    </tr>\n",
       "    <tr>\n",
       "      <th>Silvally-Fighting</th>\n",
       "      <td>Low c</td>\n",
       "      <td>Not c</td>\n",
       "    </tr>\n",
       "  </tbody>\n",
       "</table>\n",
       "</div>"
      ],
      "text/plain": [
       "                       0 formats4\n",
       "name                             \n",
       "Silvally-Dark      Low c    Not c\n",
       "Silvally-Fighting  Low c    Not c"
      ]
     },
     "execution_count": 60,
     "metadata": {},
     "output_type": "execute_result"
    }
   ],
   "source": [
    "wrong = pd.DataFrame(knn_grid.predict(X_train), index=X_train.index).merge(y_train, on='name')\n",
    "wrong.loc[wrong[0] != wrong['formats4']]"
   ]
  },
  {
   "cell_type": "markdown",
   "metadata": {},
   "source": [
    "Probably in the case of Silvally it used the resistance index to differentiate between them, and dark and fighting may be good typings which caused them to be closer to some stronger neighbors.\n",
    "\n",
    "The fact that the model did get these few wrong shows that it's probably making real mistakes, which is a somewhat good sign as to its possible legitimacy."
   ]
  },
  {
   "cell_type": "markdown",
   "metadata": {},
   "source": [
    "#### 4 class alt with clustering"
   ]
  },
  {
   "cell_type": "code",
   "execution_count": 61,
   "metadata": {},
   "outputs": [
    {
     "data": {
      "text/plain": [
       "[0.6865444747067663, 5, 'stats', 25]"
      ]
     },
     "execution_count": 61,
     "metadata": {},
     "output_type": "execute_result"
    }
   ],
   "source": [
    "best = [0, 0, 0, 0]\n",
    "\n",
    "for n in n_clusters:\n",
    "    for c_type in cluster_types:\n",
    "        for k in k_list:\n",
    "            pipe = make_pipeline(\n",
    "                KNeighborsClassifier())\n",
    "            X_scaled = pd.DataFrame(MinMaxScaler().fit_transform(X), index=X.index, columns=X.columns)\n",
    "            X_final = pd.merge(X_scaled, pd.get_dummies(cluster_dfs[n][c_type]), on='name')\n",
    "            X_train, X_test, y_train, y_test = train_test_split(X_final, y_df['formats4alt'],\n",
    "                                                                test_size=0.25,\n",
    "                                                                random_state=273,\n",
    "                                                                stratify=y_df['formats4alt'].values)\n",
    "            knn_grid = GridSearchCV(pipe, param_grid, scoring=make_scorer(f1_score, average='weighted'), n_jobs=-1, cv=k, verbose=0)\n",
    "            knn_grid.fit(X_train, y_train)\n",
    "            if knn_grid.best_score_ > best[0]:\n",
    "                best = [knn_grid.best_score_, k, c_type, n]\n",
    "                \n",
    "best"
   ]
  },
  {
   "cell_type": "markdown",
   "metadata": {},
   "source": [
    "This has the same best clustering parameters as the other 4 class clustering model, which is sensible."
   ]
  },
  {
   "cell_type": "code",
   "execution_count": 62,
   "metadata": {},
   "outputs": [
    {
     "data": {
      "text/plain": [
       "({'kneighborsclassifier__n_neighbors': 13,\n",
       "  'kneighborsclassifier__p': 2,\n",
       "  'kneighborsclassifier__weights': 'uniform'},\n",
       " 0.6865444747067663)"
      ]
     },
     "execution_count": 62,
     "metadata": {},
     "output_type": "execute_result"
    }
   ],
   "source": [
    "pipe = make_pipeline(\n",
    "    KNeighborsClassifier())\n",
    "X_scaled = pd.DataFrame(MinMaxScaler().fit_transform(X), index=X.index, columns=X.columns)\n",
    "X_final = pd.merge(X_scaled, pd.get_dummies(cluster_dfs[25]['stats']), on='name')\n",
    "X_train, X_test, y_train, y_test = train_test_split(X_final, y_df['formats4alt'],\n",
    "                                                    test_size=0.25,\n",
    "                                                    random_state=273,\n",
    "                                                    stratify=y_df['formats4alt'].values)\n",
    "knn_grid = GridSearchCV(pipe, param_grid, scoring=make_scorer(f1_score, average='weighted'), n_jobs=-1, cv=5, verbose=0)\n",
    "knn_grid.fit(X_train, y_train)\n",
    "knn_grid.best_params_, knn_grid.best_score_"
   ]
  },
  {
   "cell_type": "markdown",
   "metadata": {},
   "source": [
    "However, it has a higher number of best nearest neighbors, and does back to uniform weighting of the neighbors."
   ]
  },
  {
   "cell_type": "code",
   "execution_count": 63,
   "metadata": {},
   "outputs": [
    {
     "data": {
      "text/plain": [
       "0.7131340875081684"
      ]
     },
     "execution_count": 63,
     "metadata": {},
     "output_type": "execute_result"
    }
   ],
   "source": [
    "f1_score(y_train, knn_grid.predict(X_train), labels=['Not c', 'Low c', 'Mid c', 'High c'], average='weighted')"
   ]
  },
  {
   "cell_type": "code",
   "execution_count": 64,
   "metadata": {},
   "outputs": [
    {
     "data": {
      "text/plain": [
       "(array([0.87250996, 0.52      , 0.58333333, 0.9047619 ]),\n",
       " array([0.87250996, 0.54621849, 0.63636364, 0.475     ]),\n",
       " array([0.87250996, 0.53278689, 0.60869565, 0.62295082]),\n",
       " array([251, 119, 143,  40], dtype=int64))"
      ]
     },
     "execution_count": 64,
     "metadata": {},
     "output_type": "execute_result"
    }
   ],
   "source": [
    "precision_recall_fscore_support(y_train, knn_grid.predict(X_train), labels=['Not c', 'Low c', 'Mid c', 'High c'])"
   ]
  },
  {
   "cell_type": "markdown",
   "metadata": {},
   "source": [
    "This model actually performs worse than the logistic regression again. And we got the result for logistic regression that the standard 4 class model performs better than the alternative, which we are seeing again even more drastically in the case of KNN."
   ]
  },
  {
   "cell_type": "markdown",
   "metadata": {},
   "source": [
    "#### 2 class with clustering"
   ]
  },
  {
   "cell_type": "code",
   "execution_count": 65,
   "metadata": {},
   "outputs": [
    {
     "data": {
      "text/plain": [
       "[0.9018900579706037, 3, 'stats', 25]"
      ]
     },
     "execution_count": 65,
     "metadata": {},
     "output_type": "execute_result"
    }
   ],
   "source": [
    "best = [0, 0, 0, 0]\n",
    "\n",
    "for n in n_clusters:\n",
    "    for c_type in cluster_types:\n",
    "        for k in k_list:\n",
    "            pipe = make_pipeline(\n",
    "                KNeighborsClassifier())\n",
    "            X_scaled = pd.DataFrame(MinMaxScaler().fit_transform(X), index=X.index, columns=X.columns)\n",
    "            X_final = pd.merge(X_scaled, pd.get_dummies(cluster_dfs[n][c_type]), on='name')\n",
    "            X_train, X_test, y_train, y_test = train_test_split(X_final, y_df['formats2'],\n",
    "                                                                test_size=0.25,\n",
    "                                                                random_state=273,\n",
    "                                                                stratify=y_df['formats2'].values)\n",
    "            knn_grid = GridSearchCV(pipe, param_grid, scoring=make_scorer(f1_score, average='weighted'), n_jobs=-1, cv=k, verbose=0)\n",
    "            knn_grid.fit(X_train, y_train)\n",
    "            if knn_grid.best_score_ > best[0]:\n",
    "                best = [knn_grid.best_score_, k, c_type, n]\n",
    "                \n",
    "best"
   ]
  },
  {
   "cell_type": "markdown",
   "metadata": {},
   "source": [
    "Exactly the same best parameters as for logistic regression. It's very interesting that KNN seems to cluster by stats every time, whereas other algorithms use learnsets and features also."
   ]
  },
  {
   "cell_type": "code",
   "execution_count": 66,
   "metadata": {},
   "outputs": [
    {
     "data": {
      "text/plain": [
       "({'kneighborsclassifier__n_neighbors': 15,\n",
       "  'kneighborsclassifier__p': 2,\n",
       "  'kneighborsclassifier__weights': 'uniform'},\n",
       " 0.9018900579706037)"
      ]
     },
     "execution_count": 66,
     "metadata": {},
     "output_type": "execute_result"
    }
   ],
   "source": [
    "pipe = make_pipeline(\n",
    "    KNeighborsClassifier())\n",
    "X_scaled = pd.DataFrame(MinMaxScaler().fit_transform(X), index=X.index, columns=X.columns)\n",
    "X_final = pd.merge(X_scaled, pd.get_dummies(cluster_dfs[25]['stats']), on='name')\n",
    "X_train, X_test, y_train, y_test = train_test_split(X_final, y_df['formats2'],\n",
    "                                                    test_size=0.25,\n",
    "                                                    random_state=273,\n",
    "                                                    stratify=y_df['formats2'].values)\n",
    "knn_grid = GridSearchCV(pipe, param_grid, scoring=make_scorer(f1_score, average='weighted'), n_jobs=-1, cv=3, verbose=0)\n",
    "knn_grid.fit(X_train, y_train)\n",
    "knn_grid.best_params_, knn_grid.best_score_"
   ]
  },
  {
   "cell_type": "markdown",
   "metadata": {},
   "source": [
    "For two classes, it likes a high number of neighbors, maybe even higher than 15 would do well but I'm not sure it matters, though higher often leads to underfitting"
   ]
  },
  {
   "cell_type": "code",
   "execution_count": 67,
   "metadata": {},
   "outputs": [
    {
     "data": {
      "text/plain": [
       "0.9016989074110657"
      ]
     },
     "execution_count": 67,
     "metadata": {},
     "output_type": "execute_result"
    }
   ],
   "source": [
    "f1_score(y_train, knn_grid.predict(X_train), labels=['No', 'Yes'], average='weighted')"
   ]
  },
  {
   "cell_type": "code",
   "execution_count": 68,
   "metadata": {},
   "outputs": [
    {
     "data": {
      "text/plain": [
       "(array([0.93777778, 0.87804878]),\n",
       " array([0.84063745, 0.95364238]),\n",
       " array([0.88655462, 0.91428571]),\n",
       " array([251, 302], dtype=int64))"
      ]
     },
     "execution_count": 68,
     "metadata": {},
     "output_type": "execute_result"
    }
   ],
   "source": [
    "precision_recall_fscore_support(y_train, knn_grid.predict(X_train), labels=['No', 'Yes'])"
   ]
  },
  {
   "cell_type": "markdown",
   "metadata": {},
   "source": [
    "This is very comparable performance to logistic regression. It's still amazing how much better the class model performed, even than a 2 class model! Assuming no mistakes or absurd overfitting, it's almost like 4 is a more natural clustering amount for the dataset."
   ]
  },
  {
   "cell_type": "markdown",
   "metadata": {},
   "source": [
    "<a id=\"two_stage_knn\"></a>\n",
    "#### two-stage KNN"
   ]
  },
  {
   "cell_type": "markdown",
   "metadata": {},
   "source": [
    "#### two-stage 7 class, no clusters"
   ]
  },
  {
   "cell_type": "markdown",
   "metadata": {},
   "source": [
    "The first part of this two stage model is just regular knn for two classes (which we already did! so we can just use that model again), to separate out the largest class, ZU i.e. relatively non-competitive pokemon, so that the second model doesn't have to include it and can exercise ALL of its discernment on figuring out which competitive class a competitive pokemon belongs to (which, as we saw from many of the f-scores above, can in some cases be quite difficult, so it's good that the second model can focus on that, and it might lead to higher performance than a single-stage model)."
   ]
  },
  {
   "cell_type": "code",
   "execution_count": 69,
   "metadata": {},
   "outputs": [
    {
     "data": {
      "text/plain": [
       "({'kneighborsclassifier__n_neighbors': 13,\n",
       "  'kneighborsclassifier__p': 2,\n",
       "  'kneighborsclassifier__weights': 'uniform'},\n",
       " 0.8753511195158892)"
      ]
     },
     "execution_count": 69,
     "metadata": {},
     "output_type": "execute_result"
    }
   ],
   "source": [
    "pipe = make_pipeline(\n",
    "    StandardScaler(),\n",
    "    KNeighborsClassifier())\n",
    "X_train, X_test, y_train, y_test = train_test_split(X, y_df['formats2'],\n",
    "                                                    test_size=0.25,\n",
    "                                                    random_state=273,\n",
    "                                                    stratify=y_df['formats2'].values)\n",
    "first_stage = GridSearchCV(pipe, param_grid, scoring=make_scorer(f1_score, average='weighted'), n_jobs=-1, cv=5, verbose=0)\n",
    "first_stage.fit(X_train, y_train)\n",
    "first_stage.best_params_, first_stage.best_score_"
   ]
  },
  {
   "cell_type": "markdown",
   "metadata": {},
   "source": [
    "That's the same model that we used before to separate competitive and non-competitive pokemon. Now let's use it to predict which pokemon in all of the training data will belong to ZU, so that we can remove them from consideration in the next model that we build (by filtering X and y_df so that we're only looking at competitive pokemon):"
   ]
  },
  {
   "cell_type": "code",
   "execution_count": 70,
   "metadata": {
    "scrolled": true
   },
   "outputs": [
    {
     "data": {
      "text/plain": [
       "name\n",
       "Venusaur          Yes\n",
       "Charizard         Yes\n",
       "Blastoise         Yes\n",
       "Pikachu           Yes\n",
       "Raichu            Yes\n",
       "                 ... \n",
       "Glastrier         Yes\n",
       "Spectrier         Yes\n",
       "Calyrex           Yes\n",
       "Calyrex-Ice       Yes\n",
       "Calyrex-Shadow    Yes\n",
       "Name: formats2, Length: 403, dtype: object"
      ]
     },
     "execution_count": 70,
     "metadata": {},
     "output_type": "execute_result"
    }
   ],
   "source": [
    "y_df['formats2'].loc[y_df['formats2'] == 'Yes']"
   ]
  },
  {
   "cell_type": "code",
   "execution_count": 71,
   "metadata": {},
   "outputs": [
    {
     "data": {
      "text/html": [
       "<div>\n",
       "<style scoped>\n",
       "    .dataframe tbody tr th:only-of-type {\n",
       "        vertical-align: middle;\n",
       "    }\n",
       "\n",
       "    .dataframe tbody tr th {\n",
       "        vertical-align: top;\n",
       "    }\n",
       "\n",
       "    .dataframe thead th {\n",
       "        text-align: right;\n",
       "    }\n",
       "</style>\n",
       "<table border=\"1\" class=\"dataframe\">\n",
       "  <thead>\n",
       "    <tr style=\"text-align: right;\">\n",
       "      <th></th>\n",
       "      <th>hp</th>\n",
       "      <th>atk</th>\n",
       "      <th>def</th>\n",
       "      <th>spa</th>\n",
       "      <th>spd</th>\n",
       "      <th>spe</th>\n",
       "      <th>Resistance Index</th>\n",
       "      <th>Entry Hazards</th>\n",
       "      <th>Cleric</th>\n",
       "      <th>Pivot</th>\n",
       "      <th>...</th>\n",
       "      <th>Priority</th>\n",
       "      <th>Weather Gimmick</th>\n",
       "      <th>Physical Cutoff 3</th>\n",
       "      <th>Physical Coverage 3</th>\n",
       "      <th>Special Cutoff 3</th>\n",
       "      <th>Special Coverage 5</th>\n",
       "      <th>Misc Status</th>\n",
       "      <th>Unique Powerful Move</th>\n",
       "      <th>Best Ability</th>\n",
       "      <th>HP Recovery</th>\n",
       "    </tr>\n",
       "    <tr>\n",
       "      <th>name</th>\n",
       "      <th></th>\n",
       "      <th></th>\n",
       "      <th></th>\n",
       "      <th></th>\n",
       "      <th></th>\n",
       "      <th></th>\n",
       "      <th></th>\n",
       "      <th></th>\n",
       "      <th></th>\n",
       "      <th></th>\n",
       "      <th></th>\n",
       "      <th></th>\n",
       "      <th></th>\n",
       "      <th></th>\n",
       "      <th></th>\n",
       "      <th></th>\n",
       "      <th></th>\n",
       "      <th></th>\n",
       "      <th></th>\n",
       "      <th></th>\n",
       "      <th></th>\n",
       "    </tr>\n",
       "  </thead>\n",
       "  <tbody>\n",
       "    <tr>\n",
       "      <th>Venusaur</th>\n",
       "      <td>80</td>\n",
       "      <td>82</td>\n",
       "      <td>83</td>\n",
       "      <td>100</td>\n",
       "      <td>100</td>\n",
       "      <td>80</td>\n",
       "      <td>2</td>\n",
       "      <td>0</td>\n",
       "      <td>0</td>\n",
       "      <td>0</td>\n",
       "      <td>...</td>\n",
       "      <td>0</td>\n",
       "      <td>5</td>\n",
       "      <td>6</td>\n",
       "      <td>4</td>\n",
       "      <td>6</td>\n",
       "      <td>4</td>\n",
       "      <td>4</td>\n",
       "      <td>0</td>\n",
       "      <td>63.636364</td>\n",
       "      <td>3</td>\n",
       "    </tr>\n",
       "    <tr>\n",
       "      <th>Charizard</th>\n",
       "      <td>78</td>\n",
       "      <td>84</td>\n",
       "      <td>78</td>\n",
       "      <td>109</td>\n",
       "      <td>85</td>\n",
       "      <td>100</td>\n",
       "      <td>8</td>\n",
       "      <td>0</td>\n",
       "      <td>0</td>\n",
       "      <td>0</td>\n",
       "      <td>...</td>\n",
       "      <td>1</td>\n",
       "      <td>3</td>\n",
       "      <td>14</td>\n",
       "      <td>10</td>\n",
       "      <td>11</td>\n",
       "      <td>5</td>\n",
       "      <td>4</td>\n",
       "      <td>0</td>\n",
       "      <td>50.000000</td>\n",
       "      <td>3</td>\n",
       "    </tr>\n",
       "    <tr>\n",
       "      <th>Blastoise</th>\n",
       "      <td>79</td>\n",
       "      <td>83</td>\n",
       "      <td>100</td>\n",
       "      <td>85</td>\n",
       "      <td>105</td>\n",
       "      <td>78</td>\n",
       "      <td>2</td>\n",
       "      <td>0</td>\n",
       "      <td>0</td>\n",
       "      <td>3</td>\n",
       "      <td>...</td>\n",
       "      <td>2</td>\n",
       "      <td>2</td>\n",
       "      <td>12</td>\n",
       "      <td>10</td>\n",
       "      <td>11</td>\n",
       "      <td>7</td>\n",
       "      <td>4</td>\n",
       "      <td>0</td>\n",
       "      <td>75.000000</td>\n",
       "      <td>0</td>\n",
       "    </tr>\n",
       "    <tr>\n",
       "      <th>Pikachu</th>\n",
       "      <td>35</td>\n",
       "      <td>55</td>\n",
       "      <td>40</td>\n",
       "      <td>50</td>\n",
       "      <td>50</td>\n",
       "      <td>90</td>\n",
       "      <td>2</td>\n",
       "      <td>0</td>\n",
       "      <td>1</td>\n",
       "      <td>3</td>\n",
       "      <td>...</td>\n",
       "      <td>2</td>\n",
       "      <td>2</td>\n",
       "      <td>7</td>\n",
       "      <td>7</td>\n",
       "      <td>5</td>\n",
       "      <td>3</td>\n",
       "      <td>3</td>\n",
       "      <td>0</td>\n",
       "      <td>70.000000</td>\n",
       "      <td>1</td>\n",
       "    </tr>\n",
       "    <tr>\n",
       "      <th>Raichu</th>\n",
       "      <td>60</td>\n",
       "      <td>90</td>\n",
       "      <td>55</td>\n",
       "      <td>90</td>\n",
       "      <td>80</td>\n",
       "      <td>110</td>\n",
       "      <td>2</td>\n",
       "      <td>0</td>\n",
       "      <td>1</td>\n",
       "      <td>3</td>\n",
       "      <td>...</td>\n",
       "      <td>2</td>\n",
       "      <td>2</td>\n",
       "      <td>7</td>\n",
       "      <td>7</td>\n",
       "      <td>6</td>\n",
       "      <td>4</td>\n",
       "      <td>3</td>\n",
       "      <td>0</td>\n",
       "      <td>70.000000</td>\n",
       "      <td>1</td>\n",
       "    </tr>\n",
       "    <tr>\n",
       "      <th>...</th>\n",
       "      <td>...</td>\n",
       "      <td>...</td>\n",
       "      <td>...</td>\n",
       "      <td>...</td>\n",
       "      <td>...</td>\n",
       "      <td>...</td>\n",
       "      <td>...</td>\n",
       "      <td>...</td>\n",
       "      <td>...</td>\n",
       "      <td>...</td>\n",
       "      <td>...</td>\n",
       "      <td>...</td>\n",
       "      <td>...</td>\n",
       "      <td>...</td>\n",
       "      <td>...</td>\n",
       "      <td>...</td>\n",
       "      <td>...</td>\n",
       "      <td>...</td>\n",
       "      <td>...</td>\n",
       "      <td>...</td>\n",
       "      <td>...</td>\n",
       "    </tr>\n",
       "    <tr>\n",
       "      <th>Glastrier</th>\n",
       "      <td>100</td>\n",
       "      <td>145</td>\n",
       "      <td>130</td>\n",
       "      <td>65</td>\n",
       "      <td>110</td>\n",
       "      <td>30</td>\n",
       "      <td>-3</td>\n",
       "      <td>0</td>\n",
       "      <td>0</td>\n",
       "      <td>0</td>\n",
       "      <td>...</td>\n",
       "      <td>0</td>\n",
       "      <td>1</td>\n",
       "      <td>12</td>\n",
       "      <td>7</td>\n",
       "      <td>3</td>\n",
       "      <td>2</td>\n",
       "      <td>2</td>\n",
       "      <td>0</td>\n",
       "      <td>75.000000</td>\n",
       "      <td>0</td>\n",
       "    </tr>\n",
       "    <tr>\n",
       "      <th>Spectrier</th>\n",
       "      <td>100</td>\n",
       "      <td>65</td>\n",
       "      <td>60</td>\n",
       "      <td>145</td>\n",
       "      <td>80</td>\n",
       "      <td>130</td>\n",
       "      <td>8</td>\n",
       "      <td>0</td>\n",
       "      <td>0</td>\n",
       "      <td>0</td>\n",
       "      <td>...</td>\n",
       "      <td>0</td>\n",
       "      <td>0</td>\n",
       "      <td>4</td>\n",
       "      <td>4</td>\n",
       "      <td>4</td>\n",
       "      <td>3</td>\n",
       "      <td>3</td>\n",
       "      <td>0</td>\n",
       "      <td>1.000000</td>\n",
       "      <td>0</td>\n",
       "    </tr>\n",
       "    <tr>\n",
       "      <th>Calyrex</th>\n",
       "      <td>100</td>\n",
       "      <td>80</td>\n",
       "      <td>80</td>\n",
       "      <td>80</td>\n",
       "      <td>80</td>\n",
       "      <td>80</td>\n",
       "      <td>-2</td>\n",
       "      <td>0</td>\n",
       "      <td>1</td>\n",
       "      <td>0</td>\n",
       "      <td>...</td>\n",
       "      <td>0</td>\n",
       "      <td>2</td>\n",
       "      <td>3</td>\n",
       "      <td>3</td>\n",
       "      <td>9</td>\n",
       "      <td>4</td>\n",
       "      <td>3</td>\n",
       "      <td>0</td>\n",
       "      <td>18.181818</td>\n",
       "      <td>2</td>\n",
       "    </tr>\n",
       "    <tr>\n",
       "      <th>Calyrex-Ice</th>\n",
       "      <td>100</td>\n",
       "      <td>165</td>\n",
       "      <td>150</td>\n",
       "      <td>85</td>\n",
       "      <td>130</td>\n",
       "      <td>50</td>\n",
       "      <td>-4</td>\n",
       "      <td>0</td>\n",
       "      <td>1</td>\n",
       "      <td>0</td>\n",
       "      <td>...</td>\n",
       "      <td>0</td>\n",
       "      <td>2</td>\n",
       "      <td>15</td>\n",
       "      <td>9</td>\n",
       "      <td>12</td>\n",
       "      <td>5</td>\n",
       "      <td>3</td>\n",
       "      <td>1</td>\n",
       "      <td>1.000000</td>\n",
       "      <td>2</td>\n",
       "    </tr>\n",
       "    <tr>\n",
       "      <th>Calyrex-Shadow</th>\n",
       "      <td>100</td>\n",
       "      <td>85</td>\n",
       "      <td>80</td>\n",
       "      <td>165</td>\n",
       "      <td>100</td>\n",
       "      <td>150</td>\n",
       "      <td>6</td>\n",
       "      <td>0</td>\n",
       "      <td>1</td>\n",
       "      <td>0</td>\n",
       "      <td>...</td>\n",
       "      <td>0</td>\n",
       "      <td>2</td>\n",
       "      <td>7</td>\n",
       "      <td>6</td>\n",
       "      <td>13</td>\n",
       "      <td>6</td>\n",
       "      <td>3</td>\n",
       "      <td>1</td>\n",
       "      <td>1.000000</td>\n",
       "      <td>2</td>\n",
       "    </tr>\n",
       "  </tbody>\n",
       "</table>\n",
       "<p>403 rows × 22 columns</p>\n",
       "</div>"
      ],
      "text/plain": [
       "                 hp  atk  def  spa  spd  spe  Resistance Index  Entry Hazards  \\\n",
       "name                                                                            \n",
       "Venusaur         80   82   83  100  100   80                 2              0   \n",
       "Charizard        78   84   78  109   85  100                 8              0   \n",
       "Blastoise        79   83  100   85  105   78                 2              0   \n",
       "Pikachu          35   55   40   50   50   90                 2              0   \n",
       "Raichu           60   90   55   90   80  110                 2              0   \n",
       "...             ...  ...  ...  ...  ...  ...               ...            ...   \n",
       "Glastrier       100  145  130   65  110   30                -3              0   \n",
       "Spectrier       100   65   60  145   80  130                 8              0   \n",
       "Calyrex         100   80   80   80   80   80                -2              0   \n",
       "Calyrex-Ice     100  165  150   85  130   50                -4              0   \n",
       "Calyrex-Shadow  100   85   80  165  100  150                 6              0   \n",
       "\n",
       "                Cleric  Pivot  ...  Priority  Weather Gimmick  \\\n",
       "name                           ...                              \n",
       "Venusaur             0      0  ...         0                5   \n",
       "Charizard            0      0  ...         1                3   \n",
       "Blastoise            0      3  ...         2                2   \n",
       "Pikachu              1      3  ...         2                2   \n",
       "Raichu               1      3  ...         2                2   \n",
       "...                ...    ...  ...       ...              ...   \n",
       "Glastrier            0      0  ...         0                1   \n",
       "Spectrier            0      0  ...         0                0   \n",
       "Calyrex              1      0  ...         0                2   \n",
       "Calyrex-Ice          1      0  ...         0                2   \n",
       "Calyrex-Shadow       1      0  ...         0                2   \n",
       "\n",
       "                Physical Cutoff 3  Physical Coverage 3  Special Cutoff 3  \\\n",
       "name                                                                       \n",
       "Venusaur                        6                    4                 6   \n",
       "Charizard                      14                   10                11   \n",
       "Blastoise                      12                   10                11   \n",
       "Pikachu                         7                    7                 5   \n",
       "Raichu                          7                    7                 6   \n",
       "...                           ...                  ...               ...   \n",
       "Glastrier                      12                    7                 3   \n",
       "Spectrier                       4                    4                 4   \n",
       "Calyrex                         3                    3                 9   \n",
       "Calyrex-Ice                    15                    9                12   \n",
       "Calyrex-Shadow                  7                    6                13   \n",
       "\n",
       "                Special Coverage 5  Misc Status  Unique Powerful Move  \\\n",
       "name                                                                    \n",
       "Venusaur                         4            4                     0   \n",
       "Charizard                        5            4                     0   \n",
       "Blastoise                        7            4                     0   \n",
       "Pikachu                          3            3                     0   \n",
       "Raichu                           4            3                     0   \n",
       "...                            ...          ...                   ...   \n",
       "Glastrier                        2            2                     0   \n",
       "Spectrier                        3            3                     0   \n",
       "Calyrex                          4            3                     0   \n",
       "Calyrex-Ice                      5            3                     1   \n",
       "Calyrex-Shadow                   6            3                     1   \n",
       "\n",
       "                Best Ability  HP Recovery  \n",
       "name                                       \n",
       "Venusaur           63.636364            3  \n",
       "Charizard          50.000000            3  \n",
       "Blastoise          75.000000            0  \n",
       "Pikachu            70.000000            1  \n",
       "Raichu             70.000000            1  \n",
       "...                      ...          ...  \n",
       "Glastrier          75.000000            0  \n",
       "Spectrier           1.000000            0  \n",
       "Calyrex            18.181818            2  \n",
       "Calyrex-Ice         1.000000            2  \n",
       "Calyrex-Shadow      1.000000            2  \n",
       "\n",
       "[403 rows x 22 columns]"
      ]
     },
     "execution_count": 71,
     "metadata": {},
     "output_type": "execute_result"
    }
   ],
   "source": [
    "X_second = X.loc[y_df['formats2'] == 'Yes']\n",
    "X_second"
   ]
  },
  {
   "cell_type": "code",
   "execution_count": 72,
   "metadata": {},
   "outputs": [
    {
     "data": {
      "text/plain": [
       "name\n",
       "Venusaur            OU\n",
       "Charizard           PU\n",
       "Blastoise           NU\n",
       "Pikachu             PU\n",
       "Raichu              PU\n",
       "                  ... \n",
       "Glastrier           NU\n",
       "Spectrier         Uber\n",
       "Calyrex             PU\n",
       "Calyrex-Ice       Uber\n",
       "Calyrex-Shadow    Uber\n",
       "Name: formats, Length: 403, dtype: object"
      ]
     },
     "execution_count": 72,
     "metadata": {},
     "output_type": "execute_result"
    }
   ],
   "source": [
    "y_second_7 = y_df['formats'].loc[y_df['formats2'] == 'Yes']\n",
    "y_second_7"
   ]
  },
  {
   "cell_type": "code",
   "execution_count": 73,
   "metadata": {},
   "outputs": [
    {
     "data": {
      "text/plain": [
       "(0.3909825466677862, 5)"
      ]
     },
     "execution_count": 73,
     "metadata": {},
     "output_type": "execute_result"
    }
   ],
   "source": [
    "best = []\n",
    "\n",
    "for k in k_list:\n",
    "    pipe = make_pipeline(\n",
    "        StandardScaler(),\n",
    "        KNeighborsClassifier())\n",
    "    X_train, X_test, y_train, y_test = train_test_split(X_second, y_second_7,\n",
    "                                                    test_size=0.25,\n",
    "                                                    random_state=273,\n",
    "                                                    stratify=y_second_7.values)\n",
    "    knn_grid = GridSearchCV(pipe, param_grid, scoring=make_scorer(f1_score, average='weighted'), n_jobs=-1, cv=k, verbose=0)\n",
    "    knn_grid.fit(X_train, y_train)\n",
    "    best.append(knn_grid.best_score_)\n",
    "\n",
    "max(best), k_list[best.index(max(best))]"
   ]
  },
  {
   "cell_type": "markdown",
   "metadata": {},
   "source": [
    "As with logistic regression, this is quite a low score."
   ]
  },
  {
   "cell_type": "code",
   "execution_count": 74,
   "metadata": {},
   "outputs": [
    {
     "data": {
      "text/plain": [
       "({'kneighborsclassifier__n_neighbors': 4,\n",
       "  'kneighborsclassifier__p': 1,\n",
       "  'kneighborsclassifier__weights': 'distance'},\n",
       " 0.3909825466677862)"
      ]
     },
     "execution_count": 74,
     "metadata": {},
     "output_type": "execute_result"
    }
   ],
   "source": [
    "pipe = make_pipeline(\n",
    "    StandardScaler(),\n",
    "    KNeighborsClassifier())\n",
    "X_train, X_test, y_train, y_test = train_test_split(X_second, y_second_7,\n",
    "                                                    test_size=0.25,\n",
    "                                                    random_state=273,\n",
    "                                                    stratify=y_second_7.values)\n",
    "second_stage = GridSearchCV(pipe, param_grid, scoring=make_scorer(f1_score, average='weighted'), n_jobs=-1, cv=5, verbose=0)\n",
    "second_stage.fit(X_train, y_train)\n",
    "second_stage.best_params_, second_stage.best_score_"
   ]
  },
  {
   "cell_type": "code",
   "execution_count": 75,
   "metadata": {},
   "outputs": [
    {
     "data": {
      "text/plain": [
       "(array([1.     , 0.96875, 1.     , 1.     , 1.     , 1.     ]),\n",
       " array([0.99159664, 1.        , 1.        , 1.        , 1.        ,\n",
       "        1.        ]),\n",
       " array([0.99578059, 0.98412698, 1.        , 1.        , 1.        ,\n",
       "        1.        ]),\n",
       " array([119,  31,  35,  34,  43,  40], dtype=int64))"
      ]
     },
     "execution_count": 75,
     "metadata": {},
     "output_type": "execute_result"
    }
   ],
   "source": [
    "precision_recall_fscore_support(y_train, second_stage.predict(X_train), labels=['PU', 'NU', 'RU', 'UU', 'OU', 'Uber'])"
   ]
  },
  {
   "cell_type": "markdown",
   "metadata": {},
   "source": [
    "What!?!?! Yet again we are faced with a model that gets almost everything correct! And this is in cross contradiction to its cross validation f score! It may be the case that using a low number of neighbors, like 4 or 5, doesn't usually perform well in cross-validation, so it doesn't get chosen, but then when we use it with all of the training data, it overfits, as often happens with relatively low k. Yet again, we'll have to try it on the test set to see whether there is overfitting or not, but the performance here is astonishingly good."
   ]
  },
  {
   "cell_type": "code",
   "execution_count": 76,
   "metadata": {},
   "outputs": [
    {
     "data": {
      "text/html": [
       "<div>\n",
       "<style scoped>\n",
       "    .dataframe tbody tr th:only-of-type {\n",
       "        vertical-align: middle;\n",
       "    }\n",
       "\n",
       "    .dataframe tbody tr th {\n",
       "        vertical-align: top;\n",
       "    }\n",
       "\n",
       "    .dataframe thead th {\n",
       "        text-align: right;\n",
       "    }\n",
       "</style>\n",
       "<table border=\"1\" class=\"dataframe\">\n",
       "  <thead>\n",
       "    <tr style=\"text-align: right;\">\n",
       "      <th></th>\n",
       "      <th>0</th>\n",
       "      <th>formats</th>\n",
       "    </tr>\n",
       "    <tr>\n",
       "      <th>name</th>\n",
       "      <th></th>\n",
       "      <th></th>\n",
       "    </tr>\n",
       "  </thead>\n",
       "  <tbody>\n",
       "    <tr>\n",
       "      <th>Silvally-Poison</th>\n",
       "      <td>NU</td>\n",
       "      <td>PU</td>\n",
       "    </tr>\n",
       "  </tbody>\n",
       "</table>\n",
       "</div>"
      ],
      "text/plain": [
       "                  0 formats\n",
       "name                       \n",
       "Silvally-Poison  NU      PU"
      ]
     },
     "execution_count": 76,
     "metadata": {},
     "output_type": "execute_result"
    }
   ],
   "source": [
    "wrong = pd.DataFrame(second_stage.predict(X_train), index=X_train.index).merge(y_train, on='name')\n",
    "wrong.loc[wrong[0] != wrong['formats']]"
   ]
  },
  {
   "cell_type": "markdown",
   "metadata": {},
   "source": [
    "Silvally poison is in fact the only pokemon we got wrong! This is interesting and may be due to resistance index again."
   ]
  },
  {
   "cell_type": "code",
   "execution_count": 77,
   "metadata": {},
   "outputs": [
    {
     "data": {
      "text/plain": [
       "name\n",
       "Absol              PU\n",
       "Ninetales-Alola    OU\n",
       "Palossand          PU\n",
       "Ponyta-Galar       ZU\n",
       "Carvanha           ZU\n",
       "                   ..\n",
       "Dragonair          ZU\n",
       "Qwilfish           PU\n",
       "Cryogonal          PU\n",
       "Wailord            ZU\n",
       "Blaziken           OU\n",
       "Name: formats, Length: 553, dtype: object"
      ]
     },
     "execution_count": 77,
     "metadata": {},
     "output_type": "execute_result"
    }
   ],
   "source": [
    "X_train, X_test, y_train, y_test = train_test_split(X, y_df['formats2'],\n",
    "                                                    test_size=0.25,\n",
    "                                                    random_state=273,\n",
    "                                                    stratify=y_df['formats2'].values)\n",
    "pred_1 = pd.DataFrame(first_stage.predict(X_train), index=X_train.index)\n",
    "pred_2 = pd.DataFrame(second_stage.predict(X_train[pred_1[0] == 'Yes']), index=X_train[pred_1[0] == 'Yes'].index)\n",
    "y_pred = pred_1.merge(pred_2, on='name', how='left')['0_y'].fillna(value='ZU')\n",
    "y_validation = y_train.to_frame().merge(y_df['formats'], on='name', how='left')['formats']\n",
    "y_validation"
   ]
  },
  {
   "cell_type": "code",
   "execution_count": 78,
   "metadata": {},
   "outputs": [
    {
     "data": {
      "text/plain": [
       "0.8435444591764393"
      ]
     },
     "execution_count": 78,
     "metadata": {},
     "output_type": "execute_result"
    }
   ],
   "source": [
    "f1_score(y_validation, y_pred, labels=['ZU', 'PU', 'NU', 'RU', 'UU', 'OU', 'Uber'], average='weighted')"
   ]
  },
  {
   "cell_type": "code",
   "execution_count": 79,
   "metadata": {},
   "outputs": [
    {
     "data": {
      "text/plain": [
       "(array([0.89919355, 0.71851852, 0.82142857, 0.80555556, 0.87878788,\n",
       "        0.86842105, 0.91428571]),\n",
       " array([0.88844622, 0.76377953, 0.76666667, 0.85294118, 0.85294118,\n",
       "        0.80487805, 0.88888889]),\n",
       " array([0.89378758, 0.74045802, 0.79310345, 0.82857143, 0.86567164,\n",
       "        0.83544304, 0.90140845]),\n",
       " array([251, 127,  30,  34,  34,  41,  36], dtype=int64))"
      ]
     },
     "execution_count": 79,
     "metadata": {},
     "output_type": "execute_result"
    }
   ],
   "source": [
    "precision_recall_fscore_support(y_validation, y_pred, labels=['ZU', 'PU', 'NU', 'RU', 'UU', 'OU', 'Uber'])"
   ]
  },
  {
   "cell_type": "markdown",
   "metadata": {},
   "source": [
    "This is actually a very fascinating result. Making the model two-stages not only has very good performance on all 7 classes, it also seems to lower the amount of overfitting so that it's not getting EVERY pokemon correct (which would hardly be believable)."
   ]
  },
  {
   "cell_type": "markdown",
   "metadata": {},
   "source": [
    "#### two-stage 4 class, no clusters"
   ]
  },
  {
   "cell_type": "code",
   "execution_count": 80,
   "metadata": {},
   "outputs": [
    {
     "data": {
      "text/plain": [
       "(0.5617779163259898, 10)"
      ]
     },
     "execution_count": 80,
     "metadata": {},
     "output_type": "execute_result"
    }
   ],
   "source": [
    "y_second_4 = y_df['formats4'].loc[y_df['formats2'] == 'Yes']\n",
    "best = []\n",
    "\n",
    "for k in k_list:\n",
    "    pipe = make_pipeline(\n",
    "        StandardScaler(),\n",
    "        KNeighborsClassifier())\n",
    "    X_train, X_test, y_train, y_test = train_test_split(X_second, y_second_4,\n",
    "                                                    test_size=0.25,\n",
    "                                                    random_state=273,\n",
    "                                                    stratify=y_second_4.values)\n",
    "    knn_grid = GridSearchCV(pipe, param_grid, scoring=make_scorer(f1_score, average='weighted'), n_jobs=-1, cv=k, verbose=0)\n",
    "    knn_grid.fit(X_train, y_train)\n",
    "    best.append(knn_grid.best_score_)\n",
    "\n",
    "max(best), k_list[best.index(max(best))]"
   ]
  },
  {
   "cell_type": "code",
   "execution_count": 81,
   "metadata": {},
   "outputs": [
    {
     "data": {
      "text/plain": [
       "({'kneighborsclassifier__n_neighbors': 12,\n",
       "  'kneighborsclassifier__p': 2,\n",
       "  'kneighborsclassifier__weights': 'distance'},\n",
       " 0.5617779163259898)"
      ]
     },
     "execution_count": 81,
     "metadata": {},
     "output_type": "execute_result"
    }
   ],
   "source": [
    "pipe = make_pipeline(\n",
    "    StandardScaler(),\n",
    "    KNeighborsClassifier())\n",
    "X_train, X_test, y_train, y_test = train_test_split(X_second, y_second_4,\n",
    "                                                    test_size=0.25,\n",
    "                                                    random_state=273,\n",
    "                                                    stratify=y_second_4.values)\n",
    "second_stage = GridSearchCV(pipe, param_grid, scoring=make_scorer(f1_score, average='weighted'), n_jobs=-1, cv=10, verbose=0)\n",
    "second_stage.fit(X_train, y_train)\n",
    "second_stage.best_params_, second_stage.best_score_"
   ]
  },
  {
   "cell_type": "code",
   "execution_count": 82,
   "metadata": {},
   "outputs": [
    {
     "data": {
      "text/plain": [
       "(array([1., 1., 1.]),\n",
       " array([1., 1., 1.]),\n",
       " array([1., 1., 1.]),\n",
       " array([119, 100,  83], dtype=int64))"
      ]
     },
     "execution_count": 82,
     "metadata": {},
     "output_type": "execute_result"
    }
   ],
   "source": [
    "precision_recall_fscore_support(y_train, second_stage.predict(X_train), labels=['Low c', 'Mid c', 'High c'])"
   ]
  },
  {
   "cell_type": "markdown",
   "metadata": {},
   "source": [
    "Perfect scores again, which is just funny at this point. Luckily the two-stage model might bail us out from this level of overfitting."
   ]
  },
  {
   "cell_type": "code",
   "execution_count": 83,
   "metadata": {},
   "outputs": [
    {
     "data": {
      "text/plain": [
       "name\n",
       "Absol               Low c\n",
       "Ninetales-Alola    High c\n",
       "Palossand           Low c\n",
       "Ponyta-Galar        Not c\n",
       "Carvanha            Not c\n",
       "                    ...  \n",
       "Dragonair           Not c\n",
       "Qwilfish            Low c\n",
       "Cryogonal           Low c\n",
       "Wailord             Not c\n",
       "Blaziken           High c\n",
       "Name: formats4, Length: 553, dtype: object"
      ]
     },
     "execution_count": 83,
     "metadata": {},
     "output_type": "execute_result"
    }
   ],
   "source": [
    "X_train, X_test, y_train, y_test = train_test_split(X, y_df['formats2'],\n",
    "                                                    test_size=0.25,\n",
    "                                                    random_state=273,\n",
    "                                                    stratify=y_df['formats2'].values)\n",
    "pred_1 = pd.DataFrame(first_stage.predict(X_train), index=X_train.index)\n",
    "pred_2 = pd.DataFrame(second_stage.predict(X_train[pred_1[0] == 'Yes']), index=X_train[pred_1[0] == 'Yes'].index)\n",
    "y_pred = pred_1.merge(pred_2, on='name', how='left')['0_y'].fillna(value='Not c')\n",
    "y_validation = y_train.to_frame().merge(y_df['formats4'], on='name', how='left')['formats4']\n",
    "y_validation"
   ]
  },
  {
   "cell_type": "code",
   "execution_count": 84,
   "metadata": {},
   "outputs": [
    {
     "data": {
      "text/plain": [
       "0.8479552672955538"
      ]
     },
     "execution_count": 84,
     "metadata": {},
     "output_type": "execute_result"
    }
   ],
   "source": [
    "f1_score(y_validation, y_pred, labels=['Not c', 'Low c', 'Mid c', 'High c'], average='weighted')"
   ]
  },
  {
   "cell_type": "code",
   "execution_count": 85,
   "metadata": {},
   "outputs": [
    {
     "data": {
      "text/plain": [
       "(array([0.89919355, 0.71631206, 0.82474227, 0.95522388]),\n",
       " array([0.88844622, 0.79527559, 0.81632653, 0.83116883]),\n",
       " array([0.89378758, 0.75373134, 0.82051282, 0.88888889]),\n",
       " array([251, 127,  98,  77], dtype=int64))"
      ]
     },
     "execution_count": 85,
     "metadata": {},
     "output_type": "execute_result"
    }
   ],
   "source": [
    "precision_recall_fscore_support(y_validation, y_pred, labels=['Not c', 'Low c', 'Mid c', 'High c'])"
   ]
  },
  {
   "cell_type": "markdown",
   "metadata": {},
   "source": [
    "Similarly to the 7 class model, the two-stage seems to take away a lot of overfitting while still giving quite GOOD performance, which is promising. However, since the performance isn't necessarily notably better than the 7 class model, there might not be a reason to use 4 classes when doing a two-stage model, which is also what we found for logistic regression.\n",
    "\n",
    "Another interesting fact is that this model used 12 neighbors, which actually isn't that small. So maybe the low number of neighbors wasn't that important. but cross validation is still having a large effect on the availability of neighbors that are useful for the model."
   ]
  },
  {
   "cell_type": "markdown",
   "metadata": {},
   "source": [
    "#### two-stage 4 class alt, no clusters"
   ]
  },
  {
   "cell_type": "code",
   "execution_count": 86,
   "metadata": {},
   "outputs": [
    {
     "data": {
      "text/plain": [
       "(0.5934554693725439, 2)"
      ]
     },
     "execution_count": 86,
     "metadata": {},
     "output_type": "execute_result"
    }
   ],
   "source": [
    "y_second_4alt = y_df['formats4alt'].loc[y_df['formats2'] == 'Yes']\n",
    "best = []\n",
    "\n",
    "for k in k_list:\n",
    "    pipe = make_pipeline(\n",
    "        StandardScaler(),\n",
    "        KNeighborsClassifier())\n",
    "    X_train, X_test, y_train, y_test = train_test_split(X_second, y_second_4alt,\n",
    "                                                    test_size=0.25,\n",
    "                                                    random_state=273,\n",
    "                                                    stratify=y_second_4alt.values)\n",
    "    knn_grid = GridSearchCV(pipe, param_grid, scoring=make_scorer(f1_score, average='weighted'), n_jobs=-1, cv=k, verbose=0)\n",
    "    knn_grid.fit(X_train, y_train)\n",
    "    best.append(knn_grid.best_score_)\n",
    "\n",
    "max(best), k_list[best.index(max(best))]"
   ]
  },
  {
   "cell_type": "code",
   "execution_count": 87,
   "metadata": {},
   "outputs": [
    {
     "data": {
      "text/plain": [
       "({'kneighborsclassifier__n_neighbors': 14,\n",
       "  'kneighborsclassifier__p': 2,\n",
       "  'kneighborsclassifier__weights': 'distance'},\n",
       " 0.5934554693725439)"
      ]
     },
     "execution_count": 87,
     "metadata": {},
     "output_type": "execute_result"
    }
   ],
   "source": [
    "pipe = make_pipeline(\n",
    "    StandardScaler(),\n",
    "    KNeighborsClassifier())\n",
    "X_train, X_test, y_train, y_test = train_test_split(X_second, y_second_4alt,\n",
    "                                                    test_size=0.25,\n",
    "                                                    random_state=273,\n",
    "                                                    stratify=y_second_4alt.values)\n",
    "second_stage = GridSearchCV(pipe, param_grid, scoring=make_scorer(f1_score, average='weighted'), n_jobs=-1, cv=2, verbose=0)\n",
    "second_stage.fit(X_train, y_train)\n",
    "second_stage.best_params_, second_stage.best_score_"
   ]
  },
  {
   "cell_type": "code",
   "execution_count": 88,
   "metadata": {},
   "outputs": [
    {
     "data": {
      "text/plain": [
       "(array([1., 1., 1.]),\n",
       " array([1., 1., 1.]),\n",
       " array([1., 1., 1.]),\n",
       " array([119, 143,  40], dtype=int64))"
      ]
     },
     "execution_count": 88,
     "metadata": {},
     "output_type": "execute_result"
    }
   ],
   "source": [
    "precision_recall_fscore_support(y_train, second_stage.predict(X_train), labels=['Low c', 'Mid c', 'High c'])"
   ]
  },
  {
   "cell_type": "markdown",
   "metadata": {},
   "source": [
    "Perfect again, unsurprisingly"
   ]
  },
  {
   "cell_type": "code",
   "execution_count": 89,
   "metadata": {},
   "outputs": [
    {
     "data": {
      "text/plain": [
       "name\n",
       "Absol              Low c\n",
       "Ninetales-Alola    Mid c\n",
       "Palossand          Low c\n",
       "Ponyta-Galar       Not c\n",
       "Carvanha           Not c\n",
       "                   ...  \n",
       "Dragonair          Not c\n",
       "Qwilfish           Low c\n",
       "Cryogonal          Low c\n",
       "Wailord            Not c\n",
       "Blaziken           Mid c\n",
       "Name: formats4alt, Length: 553, dtype: object"
      ]
     },
     "execution_count": 89,
     "metadata": {},
     "output_type": "execute_result"
    }
   ],
   "source": [
    "X_train, X_test, y_train, y_test = train_test_split(X, y_df['formats2'],\n",
    "                                                    test_size=0.25,\n",
    "                                                    random_state=273,\n",
    "                                                    stratify=y_df['formats2'].values)\n",
    "pred_1 = pd.DataFrame(first_stage.predict(X_train), index=X_train.index)\n",
    "pred_2 = pd.DataFrame(second_stage.predict(X_train[pred_1[0] == 'Yes']), index=X_train[pred_1[0] == 'Yes'].index)\n",
    "y_pred = pred_1.merge(pred_2, on='name', how='left')['0_y'].fillna(value='Not c')\n",
    "y_validation = y_train.to_frame().merge(y_df['formats4alt'], on='name', how='left')['formats4alt']\n",
    "y_validation"
   ]
  },
  {
   "cell_type": "code",
   "execution_count": 90,
   "metadata": {},
   "outputs": [
    {
     "data": {
      "text/plain": [
       "0.8579077608459496"
      ]
     },
     "execution_count": 90,
     "metadata": {},
     "output_type": "execute_result"
    }
   ],
   "source": [
    "f1_score(y_validation, y_pred, labels=['Not c', 'Low c', 'Mid c', 'High c'], average='weighted')"
   ]
  },
  {
   "cell_type": "code",
   "execution_count": 91,
   "metadata": {},
   "outputs": [
    {
     "data": {
      "text/plain": [
       "(array([0.89919355, 0.79831933, 0.81875   , 1.        ]),\n",
       " array([0.88844622, 0.7480315 , 0.94244604, 0.72222222]),\n",
       " array([0.89378758, 0.77235772, 0.87625418, 0.83870968]),\n",
       " array([251, 127, 139,  36], dtype=int64))"
      ]
     },
     "execution_count": 91,
     "metadata": {},
     "output_type": "execute_result"
    }
   ],
   "source": [
    "precision_recall_fscore_support(y_validation, y_pred, labels=['Not c', 'Low c', 'Mid c', 'High c'])"
   ]
  },
  {
   "cell_type": "markdown",
   "metadata": {},
   "source": [
    "And again, good performance, but not much better than 7 classes."
   ]
  },
  {
   "cell_type": "markdown",
   "metadata": {},
   "source": [
    "<a id=\"two_stage_knn_cluster\"></a>\n",
    "#### two-stage KNN with clustering"
   ]
  },
  {
   "cell_type": "markdown",
   "metadata": {},
   "source": [
    "#### two-stage 7 class with clustering"
   ]
  },
  {
   "cell_type": "markdown",
   "metadata": {},
   "source": [
    "We need to set it up so that our first stage has clustering now:"
   ]
  },
  {
   "cell_type": "code",
   "execution_count": 92,
   "metadata": {},
   "outputs": [
    {
     "data": {
      "text/plain": [
       "({'kneighborsclassifier__n_neighbors': 15,\n",
       "  'kneighborsclassifier__p': 2,\n",
       "  'kneighborsclassifier__weights': 'uniform'},\n",
       " 0.9018900579706037)"
      ]
     },
     "execution_count": 92,
     "metadata": {},
     "output_type": "execute_result"
    }
   ],
   "source": [
    "pipe = make_pipeline(\n",
    "    KNeighborsClassifier())\n",
    "X_scaled = pd.DataFrame(MinMaxScaler().fit_transform(X), index=X.index, columns=X.columns)\n",
    "X_final = pd.merge(X_scaled, pd.get_dummies(cluster_dfs[25]['stats']), on='name')\n",
    "X_train, X_test, y_train, y_test = train_test_split(X_final, y_df['formats2'],\n",
    "                                                    test_size=0.25,\n",
    "                                                    random_state=273,\n",
    "                                                    stratify=y_df['formats2'].values)\n",
    "first_stage = GridSearchCV(pipe, param_grid, scoring=make_scorer(f1_score, average='weighted'), n_jobs=-1, cv=3, verbose=0)\n",
    "first_stage.fit(X_train, y_train)\n",
    "first_stage.best_params_, first_stage.best_score_"
   ]
  },
  {
   "cell_type": "markdown",
   "metadata": {},
   "source": [
    "And we already have X_second and all iterations of y_second set up to make our training and testing sets, so we can just go ahead and do hyperparameter search:"
   ]
  },
  {
   "cell_type": "code",
   "execution_count": 93,
   "metadata": {},
   "outputs": [
    {
     "data": {
      "text/plain": [
       "[0.4365004582201468, 10, 'stats', 15]"
      ]
     },
     "execution_count": 93,
     "metadata": {},
     "output_type": "execute_result"
    }
   ],
   "source": [
    "best = [0, 0, 0, 0]\n",
    "\n",
    "for n in n_clusters:\n",
    "    for c_type in cluster_types:\n",
    "        for k in k_list:\n",
    "            pipe = make_pipeline(\n",
    "                KNeighborsClassifier())\n",
    "            X_scaled = pd.DataFrame(MinMaxScaler().fit_transform(X_second), index=X_second.index, columns=X_second.columns)\n",
    "            X_final = pd.merge(X_scaled, pd.get_dummies(cluster_dfs[n][c_type]), on='name')\n",
    "            X_train, X_test, y_train, y_test = train_test_split(X_final, y_second_7,\n",
    "                                                                test_size=0.25,\n",
    "                                                                random_state=273,\n",
    "                                                                stratify=y_second_7.values)\n",
    "            knn_grid = GridSearchCV(pipe, param_grid, scoring=make_scorer(f1_score, average='weighted'), n_jobs=-1, cv=k, verbose=0)\n",
    "            knn_grid.fit(X_train, y_train)\n",
    "            if knn_grid.best_score_ > best[0]:\n",
    "                best = [knn_grid.best_score_, k, c_type, n]\n",
    "                \n",
    "best"
   ]
  },
  {
   "cell_type": "markdown",
   "metadata": {},
   "source": [
    "It is interesting that KNN always seems to choose to cluster based on stats, but logistic regression had more variance in the type of clustering it used."
   ]
  },
  {
   "cell_type": "code",
   "execution_count": 94,
   "metadata": {},
   "outputs": [
    {
     "data": {
      "text/plain": [
       "({'kneighborsclassifier__n_neighbors': 8,\n",
       "  'kneighborsclassifier__p': 2,\n",
       "  'kneighborsclassifier__weights': 'distance'},\n",
       " 0.4365004582201468)"
      ]
     },
     "execution_count": 94,
     "metadata": {},
     "output_type": "execute_result"
    }
   ],
   "source": [
    "pipe = make_pipeline(\n",
    "    KNeighborsClassifier())\n",
    "X_scaled = pd.DataFrame(MinMaxScaler().fit_transform(X_second), index=X_second.index, columns=X_second.columns)\n",
    "X_final = pd.merge(X_scaled, pd.get_dummies(cluster_dfs[15]['stats']), on='name')\n",
    "X_train, X_test, y_train, y_test = train_test_split(X_final, y_second_7,\n",
    "                                                    test_size=0.25,\n",
    "                                                    random_state=273,\n",
    "                                                    stratify=y_second_7.values)\n",
    "second_stage = GridSearchCV(pipe, param_grid, scoring=make_scorer(f1_score, average='weighted'), n_jobs=-1, cv=10, verbose=0)\n",
    "second_stage.fit(X_train, y_train)\n",
    "second_stage.best_params_, second_stage.best_score_"
   ]
  },
  {
   "cell_type": "code",
   "execution_count": 95,
   "metadata": {},
   "outputs": [
    {
     "data": {
      "text/plain": [
       "(array([1.     , 0.96875, 1.     , 1.     , 1.     , 1.     ]),\n",
       " array([0.99159664, 1.        , 1.        , 1.        , 1.        ,\n",
       "        1.        ]),\n",
       " array([0.99578059, 0.98412698, 1.        , 1.        , 1.        ,\n",
       "        1.        ]),\n",
       " array([119,  31,  35,  34,  43,  40], dtype=int64))"
      ]
     },
     "execution_count": 95,
     "metadata": {},
     "output_type": "execute_result"
    }
   ],
   "source": [
    "precision_recall_fscore_support(y_train, second_stage.predict(X_train), labels=['PU', 'NU', 'RU', 'UU', 'OU', 'Uber'])"
   ]
  },
  {
   "cell_type": "markdown",
   "metadata": {},
   "source": [
    "Again very nearly 100%. We can guess that Silvally will be what it gets wrong again:"
   ]
  },
  {
   "cell_type": "code",
   "execution_count": 96,
   "metadata": {},
   "outputs": [
    {
     "data": {
      "text/html": [
       "<div>\n",
       "<style scoped>\n",
       "    .dataframe tbody tr th:only-of-type {\n",
       "        vertical-align: middle;\n",
       "    }\n",
       "\n",
       "    .dataframe tbody tr th {\n",
       "        vertical-align: top;\n",
       "    }\n",
       "\n",
       "    .dataframe thead th {\n",
       "        text-align: right;\n",
       "    }\n",
       "</style>\n",
       "<table border=\"1\" class=\"dataframe\">\n",
       "  <thead>\n",
       "    <tr style=\"text-align: right;\">\n",
       "      <th></th>\n",
       "      <th>0</th>\n",
       "      <th>formats</th>\n",
       "    </tr>\n",
       "    <tr>\n",
       "      <th>name</th>\n",
       "      <th></th>\n",
       "      <th></th>\n",
       "    </tr>\n",
       "  </thead>\n",
       "  <tbody>\n",
       "    <tr>\n",
       "      <th>Silvally-Poison</th>\n",
       "      <td>NU</td>\n",
       "      <td>PU</td>\n",
       "    </tr>\n",
       "  </tbody>\n",
       "</table>\n",
       "</div>"
      ],
      "text/plain": [
       "                  0 formats\n",
       "name                       \n",
       "Silvally-Poison  NU      PU"
      ]
     },
     "execution_count": 96,
     "metadata": {},
     "output_type": "execute_result"
    }
   ],
   "source": [
    "wrong = pd.DataFrame(second_stage.predict(X_train), index=X_train.index).merge(y_train, on='name')\n",
    "wrong.loc[wrong[0] != wrong['formats']]"
   ]
  },
  {
   "cell_type": "markdown",
   "metadata": {},
   "source": [
    "Yep, just Silvally poison is wrong again"
   ]
  },
  {
   "cell_type": "code",
   "execution_count": 97,
   "metadata": {},
   "outputs": [
    {
     "data": {
      "text/plain": [
       "name\n",
       "Absol              PU\n",
       "Ninetales-Alola    OU\n",
       "Palossand          PU\n",
       "Ponyta-Galar       ZU\n",
       "Carvanha           ZU\n",
       "                   ..\n",
       "Dragonair          ZU\n",
       "Qwilfish           PU\n",
       "Cryogonal          PU\n",
       "Wailord            ZU\n",
       "Blaziken           OU\n",
       "Name: formats, Length: 553, dtype: object"
      ]
     },
     "execution_count": 97,
     "metadata": {},
     "output_type": "execute_result"
    }
   ],
   "source": [
    "X_scaled = pd.DataFrame(MinMaxScaler().fit_transform(X), index=X.index, columns=X.columns)\n",
    "X_final = pd.merge(X_scaled, pd.get_dummies(cluster_dfs[25]['stats']), on='name')\n",
    "X_train, X_test, y_train, y_test = train_test_split(X_final, y_df['formats2'],\n",
    "                                                    test_size=0.25,\n",
    "                                                    random_state=273,\n",
    "                                                    stratify=y_df['formats2'].values)\n",
    "pred_1 = pd.DataFrame(first_stage.predict(X_train), index=X_train.index)\n",
    "\n",
    "#drop old clusters and merge the new clusters\n",
    "#because the two models work with different clusterings\n",
    "X_train = X_train.drop(columns=list(range(0, 25)))\n",
    "X_train = X_train.merge(pd.get_dummies(cluster_dfs[15]['stats']), on='name', how='left')\n",
    "\n",
    "pred_2 = pd.DataFrame(second_stage.predict(X_train[pred_1[0] == 'Yes']), index=X_train[pred_1[0] == 'Yes'].index)\n",
    "y_pred = pred_1.merge(pred_2, on='name', how='left')['0_y'].fillna(value='ZU')\n",
    "y_validation = y_train.to_frame().merge(y_df['formats'], on='name', how='left')['formats']\n",
    "y_validation"
   ]
  },
  {
   "cell_type": "code",
   "execution_count": 98,
   "metadata": {},
   "outputs": [
    {
     "data": {
      "text/plain": [
       "0.849138551373321"
      ]
     },
     "execution_count": 98,
     "metadata": {},
     "output_type": "execute_result"
    }
   ],
   "source": [
    "f1_score(y_validation, y_pred, labels=['ZU', 'PU', 'NU', 'RU', 'UU', 'OU', 'Uber'], average='weighted')"
   ]
  },
  {
   "cell_type": "code",
   "execution_count": 99,
   "metadata": {},
   "outputs": [
    {
     "data": {
      "text/plain": [
       "(array([0.93777778, 0.69871795, 0.91666667, 0.87878788, 0.79487179,\n",
       "        0.83333333, 0.91176471]),\n",
       " array([0.84063745, 0.85826772, 0.73333333, 0.85294118, 0.91176471,\n",
       "        0.85365854, 0.86111111]),\n",
       " array([0.88655462, 0.77031802, 0.81481481, 0.86567164, 0.84931507,\n",
       "        0.84337349, 0.88571429]),\n",
       " array([251, 127,  30,  34,  34,  41,  36], dtype=int64))"
      ]
     },
     "execution_count": 99,
     "metadata": {},
     "output_type": "execute_result"
    }
   ],
   "source": [
    "precision_recall_fscore_support(y_validation, y_pred, labels=['ZU', 'PU', 'NU', 'RU', 'UU', 'OU', 'Uber'])"
   ]
  },
  {
   "cell_type": "markdown",
   "metadata": {},
   "source": [
    "This is very slightly better, albeit extremely similar performance to the two stage model that didn't use clustering.\n",
    "\n",
    "Intuitively, it makes some sense why the clustering wouldn't help KNN by much, since it's just looking for the data points that are closest, and the clsuters only give somewhat redundant information on what is closer, since they are ALSO judging by what is closer. This may be a good justification for not using a clustering model for KNN even if it performs slightly better, since it wouldn't be anymore near a performance \"elbow\" or \"knee\", and because it's obviously redundant to a large extent."
   ]
  },
  {
   "cell_type": "markdown",
   "metadata": {},
   "source": [
    "#### two-stage 4 class with clustering"
   ]
  },
  {
   "cell_type": "code",
   "execution_count": 100,
   "metadata": {},
   "outputs": [
    {
     "data": {
      "text/plain": [
       "[0.5586070813170988, 10, 'learnsets', 15]"
      ]
     },
     "execution_count": 100,
     "metadata": {},
     "output_type": "execute_result"
    }
   ],
   "source": [
    "best = [0, 0, 0, 0]\n",
    "\n",
    "for n in n_clusters:\n",
    "    for c_type in cluster_types:\n",
    "        for k in k_list:\n",
    "            pipe = make_pipeline(\n",
    "                KNeighborsClassifier())\n",
    "            X_scaled = pd.DataFrame(MinMaxScaler().fit_transform(X_second), index=X_second.index, columns=X_second.columns)\n",
    "            X_final = pd.merge(X_scaled, pd.get_dummies(cluster_dfs[n][c_type]), on='name')\n",
    "            X_train, X_test, y_train, y_test = train_test_split(X_final, y_second_4,\n",
    "                                                                test_size=0.25,\n",
    "                                                                random_state=273,\n",
    "                                                                stratify=y_second_4.values)\n",
    "            knn_grid = GridSearchCV(pipe, param_grid, scoring=make_scorer(f1_score, average='weighted'), n_jobs=-1, cv=k, verbose=0)\n",
    "            knn_grid.fit(X_train, y_train)\n",
    "            if knn_grid.best_score_ > best[0]:\n",
    "                best = [knn_grid.best_score_, k, c_type, n]\n",
    "                \n",
    "best"
   ]
  },
  {
   "cell_type": "markdown",
   "metadata": {},
   "source": [
    "That's the first time in a while that learnsets has been the best clustering parameter, but let's see if it's to any significant effect:"
   ]
  },
  {
   "cell_type": "code",
   "execution_count": 101,
   "metadata": {},
   "outputs": [
    {
     "data": {
      "text/plain": [
       "({'kneighborsclassifier__n_neighbors': 12,\n",
       "  'kneighborsclassifier__p': 1,\n",
       "  'kneighborsclassifier__weights': 'distance'},\n",
       " 0.5586070813170988)"
      ]
     },
     "execution_count": 101,
     "metadata": {},
     "output_type": "execute_result"
    }
   ],
   "source": [
    "pipe = make_pipeline(\n",
    "    KNeighborsClassifier())\n",
    "X_scaled = pd.DataFrame(MinMaxScaler().fit_transform(X_second), index=X_second.index, columns=X_second.columns)\n",
    "X_final = pd.merge(X_scaled, pd.get_dummies(cluster_dfs[15]['learnsets']), on='name')\n",
    "X_train, X_test, y_train, y_test = train_test_split(X_final, y_second_4,\n",
    "                                                    test_size=0.25,\n",
    "                                                    random_state=273,\n",
    "                                                    stratify=y_second_4.values)\n",
    "second_stage = GridSearchCV(pipe, param_grid, scoring=make_scorer(f1_score, average='weighted'), n_jobs=-1, cv=10, verbose=0)\n",
    "second_stage.fit(X_train, y_train)\n",
    "second_stage.best_params_, second_stage.best_score_"
   ]
  },
  {
   "cell_type": "code",
   "execution_count": 102,
   "metadata": {},
   "outputs": [
    {
     "data": {
      "text/plain": [
       "(array([1., 1., 1.]),\n",
       " array([1., 1., 1.]),\n",
       " array([1., 1., 1.]),\n",
       " array([119, 100,  83], dtype=int64))"
      ]
     },
     "execution_count": 102,
     "metadata": {},
     "output_type": "execute_result"
    }
   ],
   "source": [
    "precision_recall_fscore_support(y_train, second_stage.predict(X_train), labels=['Low c', 'Mid c', 'High c'])"
   ]
  },
  {
   "cell_type": "markdown",
   "metadata": {},
   "source": [
    "Predictable"
   ]
  },
  {
   "cell_type": "code",
   "execution_count": 103,
   "metadata": {},
   "outputs": [
    {
     "data": {
      "text/plain": [
       "name\n",
       "Absol               Low c\n",
       "Ninetales-Alola    High c\n",
       "Palossand           Low c\n",
       "Ponyta-Galar        Not c\n",
       "Carvanha            Not c\n",
       "                    ...  \n",
       "Dragonair           Not c\n",
       "Qwilfish            Low c\n",
       "Cryogonal           Low c\n",
       "Wailord             Not c\n",
       "Blaziken           High c\n",
       "Name: formats4, Length: 553, dtype: object"
      ]
     },
     "execution_count": 103,
     "metadata": {},
     "output_type": "execute_result"
    }
   ],
   "source": [
    "X_scaled = pd.DataFrame(MinMaxScaler().fit_transform(X), index=X.index, columns=X.columns)\n",
    "X_final = pd.merge(X_scaled, pd.get_dummies(cluster_dfs[25]['stats']), on='name')\n",
    "X_train, X_test, y_train, y_test = train_test_split(X_final, y_df['formats2'],\n",
    "                                                    test_size=0.25,\n",
    "                                                    random_state=273,\n",
    "                                                    stratify=y_df['formats2'].values)\n",
    "pred_1 = pd.DataFrame(first_stage.predict(X_train), index=X_train.index)\n",
    "\n",
    "#drop old clusters and merge the new clusters\n",
    "#because the two models work with different clusterings\n",
    "X_train = X_train.drop(columns=list(range(0, 25)))\n",
    "X_train = X_train.merge(pd.get_dummies(cluster_dfs[15]['learnsets']), on='name', how='left')\n",
    "\n",
    "pred_2 = pd.DataFrame(second_stage.predict(X_train[pred_1[0] == 'Yes']), index=X_train[pred_1[0] == 'Yes'].index)\n",
    "y_pred = pred_1.merge(pred_2, on='name', how='left')['0_y'].fillna(value='Not c')\n",
    "y_validation = y_train.to_frame().merge(y_df['formats4'], on='name', how='left')['formats4']\n",
    "y_validation"
   ]
  },
  {
   "cell_type": "code",
   "execution_count": 104,
   "metadata": {},
   "outputs": [
    {
     "data": {
      "text/plain": [
       "0.8355227241160874"
      ]
     },
     "execution_count": 104,
     "metadata": {},
     "output_type": "execute_result"
    }
   ],
   "source": [
    "f1_score(y_validation, y_pred, labels=['Not c', 'Low c', 'Mid c', 'High c'], average='weighted')"
   ]
  },
  {
   "cell_type": "code",
   "execution_count": 105,
   "metadata": {},
   "outputs": [
    {
     "data": {
      "text/plain": [
       "(array([0.93777778, 0.7       , 0.73636364, 0.92647059]),\n",
       " array([0.84063745, 0.82677165, 0.82653061, 0.81818182]),\n",
       " array([0.88655462, 0.75812274, 0.77884615, 0.86896552]),\n",
       " array([251, 127,  98,  77], dtype=int64))"
      ]
     },
     "execution_count": 105,
     "metadata": {},
     "output_type": "execute_result"
    }
   ],
   "source": [
    "precision_recall_fscore_support(y_validation, y_pred, labels=['Not c', 'Low c', 'Mid c', 'High c'])"
   ]
  },
  {
   "cell_type": "markdown",
   "metadata": {},
   "source": [
    "Typical, and actually even worse performance than the 7 class model, which is funny."
   ]
  },
  {
   "cell_type": "markdown",
   "metadata": {},
   "source": [
    "#### two-stage 4 class alt with clustering"
   ]
  },
  {
   "cell_type": "code",
   "execution_count": 106,
   "metadata": {},
   "outputs": [
    {
     "data": {
      "text/plain": [
       "[0.6321945296191911, 2, 'stats', 15]"
      ]
     },
     "execution_count": 106,
     "metadata": {},
     "output_type": "execute_result"
    }
   ],
   "source": [
    "best = [0, 0, 0, 0]\n",
    "\n",
    "for n in n_clusters:\n",
    "    for c_type in cluster_types:\n",
    "        for k in k_list:\n",
    "            pipe = make_pipeline(\n",
    "                KNeighborsClassifier())\n",
    "            X_scaled = pd.DataFrame(MinMaxScaler().fit_transform(X_second), index=X_second.index, columns=X_second.columns)\n",
    "            X_final = pd.merge(X_scaled, pd.get_dummies(cluster_dfs[n][c_type]), on='name')\n",
    "            X_train, X_test, y_train, y_test = train_test_split(X_final, y_second_4alt,\n",
    "                                                                test_size=0.25,\n",
    "                                                                random_state=273,\n",
    "                                                                stratify=y_second_4alt.values)\n",
    "            knn_grid = GridSearchCV(pipe, param_grid, scoring=make_scorer(f1_score, average='weighted'), n_jobs=-1, cv=k, verbose=0)\n",
    "            knn_grid.fit(X_train, y_train)\n",
    "            if knn_grid.best_score_ > best[0]:\n",
    "                best = [knn_grid.best_score_, k, c_type, n]\n",
    "                \n",
    "best"
   ]
  },
  {
   "cell_type": "code",
   "execution_count": 107,
   "metadata": {},
   "outputs": [
    {
     "data": {
      "text/plain": [
       "({'kneighborsclassifier__n_neighbors': 15,\n",
       "  'kneighborsclassifier__p': 2,\n",
       "  'kneighborsclassifier__weights': 'uniform'},\n",
       " 0.6321945296191911)"
      ]
     },
     "execution_count": 107,
     "metadata": {},
     "output_type": "execute_result"
    }
   ],
   "source": [
    "pipe = make_pipeline(\n",
    "    KNeighborsClassifier())\n",
    "X_scaled = pd.DataFrame(MinMaxScaler().fit_transform(X_second), index=X_second.index, columns=X_second.columns)\n",
    "X_final = pd.merge(X_scaled, pd.get_dummies(cluster_dfs[15]['stats']), on='name')\n",
    "X_train, X_test, y_train, y_test = train_test_split(X_final, y_second_4alt,\n",
    "                                                    test_size=0.25,\n",
    "                                                    random_state=273,\n",
    "                                                    stratify=y_second_4alt.values)\n",
    "second_stage = GridSearchCV(pipe, param_grid, scoring=make_scorer(f1_score, average='weighted'), n_jobs=-1, cv=2, verbose=0)\n",
    "second_stage.fit(X_train, y_train)\n",
    "second_stage.best_params_, second_stage.best_score_"
   ]
  },
  {
   "cell_type": "code",
   "execution_count": 108,
   "metadata": {},
   "outputs": [
    {
     "data": {
      "text/plain": [
       "(array([0.55072464, 0.62758621, 1.        ]),\n",
       " array([0.63865546, 0.63636364, 0.475     ]),\n",
       " array([0.59143969, 0.63194444, 0.6440678 ]),\n",
       " array([119, 143,  40], dtype=int64))"
      ]
     },
     "execution_count": 108,
     "metadata": {},
     "output_type": "execute_result"
    }
   ],
   "source": [
    "precision_recall_fscore_support(y_train, second_stage.predict(X_train), labels=['Low c', 'Mid c', 'High c'])"
   ]
  },
  {
   "cell_type": "markdown",
   "metadata": {},
   "source": [
    "The alt classes seem to fall off of perfect scores back to pretty poor scores, which is good information."
   ]
  },
  {
   "cell_type": "code",
   "execution_count": 109,
   "metadata": {},
   "outputs": [
    {
     "data": {
      "text/plain": [
       "name\n",
       "Absol              Low c\n",
       "Ninetales-Alola    Mid c\n",
       "Palossand          Low c\n",
       "Ponyta-Galar       Not c\n",
       "Carvanha           Not c\n",
       "                   ...  \n",
       "Dragonair          Not c\n",
       "Qwilfish           Low c\n",
       "Cryogonal          Low c\n",
       "Wailord            Not c\n",
       "Blaziken           Mid c\n",
       "Name: formats4alt, Length: 553, dtype: object"
      ]
     },
     "execution_count": 109,
     "metadata": {},
     "output_type": "execute_result"
    }
   ],
   "source": [
    "X_scaled = pd.DataFrame(MinMaxScaler().fit_transform(X), index=X.index, columns=X.columns)\n",
    "X_final = pd.merge(X_scaled, pd.get_dummies(cluster_dfs[25]['stats']), on='name')\n",
    "X_train, X_test, y_train, y_test = train_test_split(X_final, y_df['formats2'],\n",
    "                                                    test_size=0.25,\n",
    "                                                    random_state=273,\n",
    "                                                    stratify=y_df['formats2'].values)\n",
    "pred_1 = pd.DataFrame(first_stage.predict(X_train), index=X_train.index)\n",
    "\n",
    "#drop old clusters and merge the new clusters\n",
    "#because the two models work with different clusterings\n",
    "X_train = X_train.drop(columns=list(range(0, 25)))\n",
    "X_train = X_train.merge(pd.get_dummies(cluster_dfs[15]['stats']), on='name', how='left')\n",
    "\n",
    "pred_2 = pd.DataFrame(second_stage.predict(X_train[pred_1[0] == 'Yes']), index=X_train[pred_1[0] == 'Yes'].index)\n",
    "y_pred = pred_1.merge(pred_2, on='name', how='left')['0_y'].fillna(value='Not c')\n",
    "y_validation = y_train.to_frame().merge(y_df['formats4alt'], on='name', how='left')['formats4alt']\n",
    "y_validation"
   ]
  },
  {
   "cell_type": "code",
   "execution_count": 110,
   "metadata": {},
   "outputs": [
    {
     "data": {
      "text/plain": [
       "0.7104159549676446"
      ]
     },
     "execution_count": 110,
     "metadata": {},
     "output_type": "execute_result"
    }
   ],
   "source": [
    "f1_score(y_validation, y_pred, labels=['Not c', 'Low c', 'Mid c', 'High c'], average='weighted')"
   ]
  },
  {
   "cell_type": "code",
   "execution_count": 111,
   "metadata": {},
   "outputs": [
    {
     "data": {
      "text/plain": [
       "(array([0.93777778, 0.48322148, 0.55      , 0.89473684]),\n",
       " array([0.84063745, 0.56692913, 0.63309353, 0.47222222]),\n",
       " array([0.88655462, 0.52173913, 0.58862876, 0.61818182]),\n",
       " array([251, 127, 139,  36], dtype=int64))"
      ]
     },
     "execution_count": 111,
     "metadata": {},
     "output_type": "execute_result"
    }
   ],
   "source": [
    "precision_recall_fscore_support(y_validation, y_pred, labels=['Not c', 'Low c', 'Mid c', 'High c'])"
   ]
  },
  {
   "cell_type": "markdown",
   "metadata": {},
   "source": [
    "This is greatly reduced performance compared to one-stage models, the standard 4 class model, and models that don't use clustering. It is certainly a useless model."
   ]
  },
  {
   "cell_type": "markdown",
   "metadata": {},
   "source": [
    "Notebook runtime: about 7 minutes and 30 seconds on my computer"
   ]
  },
  {
   "cell_type": "markdown",
   "metadata": {},
   "source": [
    "<a id=\"performance\"></a>\n",
    "## Score Summary:"
   ]
  },
  {
   "cell_type": "markdown",
   "metadata": {},
   "source": [
    "### one-stage, no clusters\n",
    "\n",
    "#### 7 classes, no clusters\n",
    "0.6531496355198588\\\n",
    "[0.87452471, 0.60447761, 0.24137931, 0.22641509, 0.35294118, 0.48275862, 0.53968254]\n",
    " \n",
    "#### 4 classes, no clusters\n",
    "0.6798280384593879\\\n",
    "[0.83603604, 0.53275109, 0.49723757, 0.63829787]\n",
    "\n",
    "#### 4 class alt no clusters\n",
    "0.6865193037830023\\\n",
    "[0.84021544, 0.47111111, 0.62406015, 0.5862069 ]\n",
    "\n",
    "#### 2 class no clusters\n",
    "0.9041078722534099\\\n",
    "[0.89378758, 0.91268534]"
   ]
  },
  {
   "cell_type": "markdown",
   "metadata": {},
   "source": [
    "### one-stage, with clustering\n",
    "\n",
    "#### 7 class with clustering\n",
    "0.6768973425739454\\\n",
    "[0.87920792, 0.60207612, 0.4, 0.38461538, 0.41509434, 0.40963855, 0.61016949]\n",
    "\n",
    "#### 4 class with clustering\n",
    "0.9963911995177818\\\n",
    "[0.996     , 0.99166667, 1.        , 1.        ]\n",
    "\n",
    "#### 4 class alt with clustering\n",
    "0.7131340875081684\\\n",
    "[0.87250996, 0.53278689, 0.60869565, 0.62295082]\n",
    "\n",
    "#### 2 class with clustering\n",
    "0.9016989074110657\\\n",
    "[0.88655462, 0.91428571]"
   ]
  },
  {
   "cell_type": "markdown",
   "metadata": {},
   "source": [
    "### two-stage, no clustering\n",
    "\n",
    "#### two-stage 7 class, no clusters\n",
    "0.8435444591764393\\\n",
    "[0.89378758, 0.74045802, 0.79310345, 0.82857143, 0.86567164, 0.83544304, 0.90140845]\n",
    "\n",
    "#### two-stage 4 class, no clusters\n",
    "0.8479552672955538\\\n",
    "[0.89378758, 0.75373134, 0.82051282, 0.88888889]\n",
    "\n",
    "#### two-stage 4 class alt, no clusters\n",
    "0.8579077608459496\\\n",
    "[0.89378758, 0.77235772, 0.87625418, 0.83870968]"
   ]
  },
  {
   "cell_type": "markdown",
   "metadata": {},
   "source": [
    "### two-stage, with clustering\n",
    "\n",
    "#### two-stage 7 class with clustering\n",
    "0.849138551373321\\\n",
    "[0.88655462, 0.77031802, 0.81481481, 0.86567164, 0.84931507, 0.84337349, 0.88571429]\n",
    "\n",
    "#### two-stage 4 class with clustering\n",
    "0.8355227241160874\\\n",
    "[0.88655462, 0.75812274, 0.77884615, 0.86896552]\n",
    "\n",
    "#### two-stage 4 class alt with clustering\n",
    "0.7104159549676446\\\n",
    "[0.88655462, 0.52173913, 0.58862876, 0.61818182]"
   ]
  },
  {
   "cell_type": "markdown",
   "metadata": {},
   "source": [
    "## Performance Summary"
   ]
  },
  {
   "cell_type": "markdown",
   "metadata": {},
   "source": [
    "### best 7 class model: two-stage 7 class with clustering (5/8)\n",
    "\n",
    "#### best 7 class overall\n",
    "- two-stage 7 class with clustering, 0.849138551373321\n",
    "\n",
    "#### best 7 class ZU\n",
    "- two-stage 7 class, no clusters, 0.89378758\n",
    "\n",
    "#### best 7 class PU\n",
    "- two-stage 7 class with clustering, 0.77031802\n",
    "\n",
    "#### best 7 class NU\n",
    "- two-stage 7 class with clustering, 0.81481481\n",
    "\n",
    "#### best 7 class RU\n",
    "- two-stage 7 class with clustering, 0.86567164\n",
    "\n",
    "#### best 7 class UU\n",
    "- two-stage 7 class, no clusters, 0.86567164\n",
    "\n",
    "#### best 7 class OU\n",
    "- two-stage 7 class with clustering, 0.84337349\n",
    "\n",
    "#### best 7 class Uber\n",
    "- two-stage 7 class, no clusters, 0.90140845"
   ]
  },
  {
   "cell_type": "markdown",
   "metadata": {},
   "source": [
    "### best 4 class model: 4 class with clustering (3/5), one-stage\n",
    "\n",
    "#### best 4 class overall\n",
    "- 4 class with clustering, 0.9963911995177818\n",
    "\n",
    "#### best 4 class \"not competitive\"\n",
    "- 4 class with clustering, 0.996\n",
    "\n",
    "#### best 4 class \"low competitive\"\n",
    "- 4 class with clustering, 0.99166667\n",
    "\n",
    "#### best 4 class \"mid competitive\"\n",
    "- 4 class alt with clustering, 1.\n",
    "\n",
    "#### best 4 class \"high competitive\"\n",
    "- 4 class with clustering, 1."
   ]
  },
  {
   "cell_type": "markdown",
   "metadata": {},
   "source": [
    "### 2 class no clusters"
   ]
  },
  {
   "cell_type": "markdown",
   "metadata": {},
   "source": [
    "Intuitively, it makes some sense why the clustering wouldn't help KNN by much, since it's just looking for the data points that are closest, and the clsuters only give somewhat redundant information on what is closer, since they are ALSO judging by what is closer. This may be a good justification for not using a clustering model for KNN even if it performs slightly better, since it wouldn't be anymore near a performance \"elbow\" or \"knee\", and because it's obviously redundant to a large extent.\n",
    "\n",
    "Therefore, for the 7 class model, I'm going to choose the model which doesn't use clustering even though the one that uses clustering slightly outperforms it, because the gains in performance are small and don't justify such increased complexity in the modeling.\n",
    "\n",
    "Two-stage modeling, on the other hand, seems to make a big difference for KNN, but we'll see based on the other models and the test set. This is only for 7 classes though, just like for logistic regression; for 4 classes two-stage models are worse.\n",
    "\n",
    "We will use the one-stage standard 4 class model, because it has near perfect performance. Even though we expect this to have a lot of overfitting, there's no reason to use two-stage 4 class models instead because the 7 class two-stage models outperform the 4 class one and give more nuanced results."
   ]
  },
  {
   "cell_type": "markdown",
   "metadata": {},
   "source": [
    "## Explainability Summary\n",
    "\n",
    "KNN doesn't offer us any explanation at all compared to other models, since there are no coefficients, splits, visualizations or feature importances of any relevance. It's just about finding the best ways to split the data based on manifold neighbor relationships. Therefore its only justified use could come from its performance. This might be high, but we have to make sure it's not overfitting. If it really does perform best, then I might use both KNN and another model as my best models since the KNN will have the best predictions as a model, but another model might offer more insights into how our features are leading to the results which is more useful to people actually working with and building pokemon."
   ]
  },
  {
   "cell_type": "code",
   "execution_count": null,
   "metadata": {},
   "outputs": [],
   "source": []
  }
 ],
 "metadata": {
  "kernelspec": {
   "display_name": "Python 3",
   "language": "python",
   "name": "python3"
  },
  "language_info": {
   "codemirror_mode": {
    "name": "ipython",
    "version": 3
   },
   "file_extension": ".py",
   "mimetype": "text/x-python",
   "name": "python",
   "nbconvert_exporter": "python",
   "pygments_lexer": "ipython3",
   "version": "3.8.10"
  }
 },
 "nbformat": 4,
 "nbformat_minor": 4
}
