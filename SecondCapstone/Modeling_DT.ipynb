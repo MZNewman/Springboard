{
 "cells": [
  {
   "cell_type": "markdown",
   "metadata": {},
   "source": [
    "## Table of Contents\n",
    "\n",
    "#### Set-Up\n",
    "- [Splitting the data](#split)\n",
    "- [Adjusting some features](#adjusting)\n",
    "- [Clustering](#clustering)\n",
    "- [Modeling guidelines](#modeling_guidelines)\n",
    "\n",
    "#### Modeling\n",
    "- [Decision Tree](#dt)\n",
    "    - [Decision Tree with clustering](#dt_cluster)\n",
    "    - [Two-Stage Decision Tree](#two_stage_dt)\n",
    "    - [Two-Stage Decision Tree with clustering](#two_stage_dt_cluster)\n",
    "    \n",
    "- [Performance Results](#performance)"
   ]
  },
  {
   "cell_type": "markdown",
   "metadata": {},
   "source": [
    "Don't forget to upload this notebook and the EDA notebook again when uploading all this to github"
   ]
  },
  {
   "cell_type": "code",
   "execution_count": 1,
   "metadata": {},
   "outputs": [],
   "source": [
    "import numpy as np\n",
    "import pandas as pd\n",
    "import matplotlib.pyplot as plt\n",
    "import seaborn as sns\n",
    "import os\n",
    "import re\n",
    "import json\n",
    "import pandas_profiling\n",
    "import requests\n",
    "from subprocess import call\n",
    "from IPython.display import Image\n",
    "from graphviz import render\n",
    "from bs4 import BeautifulSoup\n",
    "from scipy import stats\n",
    "from sklearn.decomposition import PCA\n",
    "from sklearn.preprocessing import scale, StandardScaler, MinMaxScaler\n",
    "from sklearn.feature_selection import SelectKBest\n",
    "from sklearn.manifold import TSNE\n",
    "from sklearn.linear_model import LogisticRegression, Lasso\n",
    "from sklearn.metrics import precision_recall_fscore_support, log_loss, r2_score, mean_squared_error, f1_score, make_scorer\n",
    "from sklearn.pipeline import make_pipeline\n",
    "from sklearn.ensemble import RandomForestClassifier\n",
    "from sklearn.model_selection import GridSearchCV, train_test_split\n",
    "from sklearn.cluster import KMeans, DBSCAN, MeanShift\n",
    "from sklearn.neighbors import KNeighborsClassifier\n",
    "from sklearn.tree import DecisionTreeClassifier, export_graphviz\n",
    "from scipy.cluster.hierarchy import linkage, dendrogram, fcluster"
   ]
  },
  {
   "cell_type": "code",
   "execution_count": 2,
   "metadata": {},
   "outputs": [],
   "source": [
    "pokemon_abilities_df = pd.read_csv('./data/pokemon_abilities_df.csv', index_col=\"name\")\n",
    "pokemon_learnsets_df = pd.read_csv('./data/pokemon_learnsets_df.csv', index_col='name')\n",
    "pokemon_data = pd.read_csv('./data/pokemon_data.csv', index_col=\"name\")"
   ]
  },
  {
   "cell_type": "code",
   "execution_count": 3,
   "metadata": {},
   "outputs": [
    {
     "data": {
      "text/html": [
       "<div>\n",
       "<style scoped>\n",
       "    .dataframe tbody tr th:only-of-type {\n",
       "        vertical-align: middle;\n",
       "    }\n",
       "\n",
       "    .dataframe tbody tr th {\n",
       "        vertical-align: top;\n",
       "    }\n",
       "\n",
       "    .dataframe thead th {\n",
       "        text-align: right;\n",
       "    }\n",
       "</style>\n",
       "<table border=\"1\" class=\"dataframe\">\n",
       "  <thead>\n",
       "    <tr style=\"text-align: right;\">\n",
       "      <th></th>\n",
       "      <th>hp</th>\n",
       "      <th>atk</th>\n",
       "      <th>def</th>\n",
       "      <th>spa</th>\n",
       "      <th>spd</th>\n",
       "      <th>spe</th>\n",
       "      <th>weight</th>\n",
       "      <th>height</th>\n",
       "      <th>formats</th>\n",
       "      <th>generation</th>\n",
       "      <th>...</th>\n",
       "      <th>Ability Cutoff 2</th>\n",
       "      <th>Ability Cutoff 3</th>\n",
       "      <th>Ability Cutoff 4</th>\n",
       "      <th>Ability Cutoff 5</th>\n",
       "      <th>Ability Cutoff 6</th>\n",
       "      <th>Best Ability</th>\n",
       "      <th>Best Ability &lt;100</th>\n",
       "      <th>Unique Powerful Ability</th>\n",
       "      <th>oldformats</th>\n",
       "      <th>oldformat codes</th>\n",
       "    </tr>\n",
       "    <tr>\n",
       "      <th>name</th>\n",
       "      <th></th>\n",
       "      <th></th>\n",
       "      <th></th>\n",
       "      <th></th>\n",
       "      <th></th>\n",
       "      <th></th>\n",
       "      <th></th>\n",
       "      <th></th>\n",
       "      <th></th>\n",
       "      <th></th>\n",
       "      <th></th>\n",
       "      <th></th>\n",
       "      <th></th>\n",
       "      <th></th>\n",
       "      <th></th>\n",
       "      <th></th>\n",
       "      <th></th>\n",
       "      <th></th>\n",
       "      <th></th>\n",
       "      <th></th>\n",
       "      <th></th>\n",
       "    </tr>\n",
       "  </thead>\n",
       "  <tbody>\n",
       "    <tr>\n",
       "      <th>Bulbasaur</th>\n",
       "      <td>45</td>\n",
       "      <td>49</td>\n",
       "      <td>49</td>\n",
       "      <td>65</td>\n",
       "      <td>65</td>\n",
       "      <td>45</td>\n",
       "      <td>6.9</td>\n",
       "      <td>0.7</td>\n",
       "      <td>ZU</td>\n",
       "      <td>RB</td>\n",
       "      <td>...</td>\n",
       "      <td>1.0</td>\n",
       "      <td>0.0</td>\n",
       "      <td>0.0</td>\n",
       "      <td>0.0</td>\n",
       "      <td>0.0</td>\n",
       "      <td>63.636364</td>\n",
       "      <td>63.636364</td>\n",
       "      <td>0</td>\n",
       "      <td>ZU</td>\n",
       "      <td>0</td>\n",
       "    </tr>\n",
       "    <tr>\n",
       "      <th>Ivysaur</th>\n",
       "      <td>60</td>\n",
       "      <td>62</td>\n",
       "      <td>63</td>\n",
       "      <td>80</td>\n",
       "      <td>80</td>\n",
       "      <td>60</td>\n",
       "      <td>13.0</td>\n",
       "      <td>1.0</td>\n",
       "      <td>ZU</td>\n",
       "      <td>RB</td>\n",
       "      <td>...</td>\n",
       "      <td>1.0</td>\n",
       "      <td>0.0</td>\n",
       "      <td>0.0</td>\n",
       "      <td>0.0</td>\n",
       "      <td>0.0</td>\n",
       "      <td>63.636364</td>\n",
       "      <td>63.636364</td>\n",
       "      <td>0</td>\n",
       "      <td>ZU</td>\n",
       "      <td>0</td>\n",
       "    </tr>\n",
       "    <tr>\n",
       "      <th>Venusaur</th>\n",
       "      <td>80</td>\n",
       "      <td>82</td>\n",
       "      <td>83</td>\n",
       "      <td>100</td>\n",
       "      <td>100</td>\n",
       "      <td>80</td>\n",
       "      <td>100.0</td>\n",
       "      <td>2.0</td>\n",
       "      <td>OU</td>\n",
       "      <td>RB</td>\n",
       "      <td>...</td>\n",
       "      <td>1.0</td>\n",
       "      <td>0.0</td>\n",
       "      <td>0.0</td>\n",
       "      <td>0.0</td>\n",
       "      <td>0.0</td>\n",
       "      <td>63.636364</td>\n",
       "      <td>63.636364</td>\n",
       "      <td>0</td>\n",
       "      <td>UU</td>\n",
       "      <td>4</td>\n",
       "    </tr>\n",
       "    <tr>\n",
       "      <th>Charmander</th>\n",
       "      <td>39</td>\n",
       "      <td>52</td>\n",
       "      <td>43</td>\n",
       "      <td>60</td>\n",
       "      <td>50</td>\n",
       "      <td>65</td>\n",
       "      <td>8.5</td>\n",
       "      <td>0.6</td>\n",
       "      <td>ZU</td>\n",
       "      <td>RB</td>\n",
       "      <td>...</td>\n",
       "      <td>1.0</td>\n",
       "      <td>0.0</td>\n",
       "      <td>0.0</td>\n",
       "      <td>0.0</td>\n",
       "      <td>0.0</td>\n",
       "      <td>50.000000</td>\n",
       "      <td>50.000000</td>\n",
       "      <td>0</td>\n",
       "      <td>ZU</td>\n",
       "      <td>0</td>\n",
       "    </tr>\n",
       "    <tr>\n",
       "      <th>Charmeleon</th>\n",
       "      <td>58</td>\n",
       "      <td>64</td>\n",
       "      <td>58</td>\n",
       "      <td>80</td>\n",
       "      <td>65</td>\n",
       "      <td>80</td>\n",
       "      <td>19.0</td>\n",
       "      <td>1.1</td>\n",
       "      <td>ZU</td>\n",
       "      <td>RB</td>\n",
       "      <td>...</td>\n",
       "      <td>1.0</td>\n",
       "      <td>0.0</td>\n",
       "      <td>0.0</td>\n",
       "      <td>0.0</td>\n",
       "      <td>0.0</td>\n",
       "      <td>50.000000</td>\n",
       "      <td>50.000000</td>\n",
       "      <td>0</td>\n",
       "      <td>ZU</td>\n",
       "      <td>0</td>\n",
       "    </tr>\n",
       "    <tr>\n",
       "      <th>...</th>\n",
       "      <td>...</td>\n",
       "      <td>...</td>\n",
       "      <td>...</td>\n",
       "      <td>...</td>\n",
       "      <td>...</td>\n",
       "      <td>...</td>\n",
       "      <td>...</td>\n",
       "      <td>...</td>\n",
       "      <td>...</td>\n",
       "      <td>...</td>\n",
       "      <td>...</td>\n",
       "      <td>...</td>\n",
       "      <td>...</td>\n",
       "      <td>...</td>\n",
       "      <td>...</td>\n",
       "      <td>...</td>\n",
       "      <td>...</td>\n",
       "      <td>...</td>\n",
       "      <td>...</td>\n",
       "      <td>...</td>\n",
       "      <td>...</td>\n",
       "    </tr>\n",
       "    <tr>\n",
       "      <th>Glastrier</th>\n",
       "      <td>100</td>\n",
       "      <td>145</td>\n",
       "      <td>130</td>\n",
       "      <td>65</td>\n",
       "      <td>110</td>\n",
       "      <td>30</td>\n",
       "      <td>800.0</td>\n",
       "      <td>2.2</td>\n",
       "      <td>NU</td>\n",
       "      <td>SS</td>\n",
       "      <td>...</td>\n",
       "      <td>1.0</td>\n",
       "      <td>1.0</td>\n",
       "      <td>1.0</td>\n",
       "      <td>0.0</td>\n",
       "      <td>0.0</td>\n",
       "      <td>75.000000</td>\n",
       "      <td>75.000000</td>\n",
       "      <td>0</td>\n",
       "      <td>NU</td>\n",
       "      <td>2</td>\n",
       "    </tr>\n",
       "    <tr>\n",
       "      <th>Spectrier</th>\n",
       "      <td>100</td>\n",
       "      <td>65</td>\n",
       "      <td>60</td>\n",
       "      <td>145</td>\n",
       "      <td>80</td>\n",
       "      <td>130</td>\n",
       "      <td>44.5</td>\n",
       "      <td>2.0</td>\n",
       "      <td>Uber</td>\n",
       "      <td>SS</td>\n",
       "      <td>...</td>\n",
       "      <td>0.0</td>\n",
       "      <td>0.0</td>\n",
       "      <td>0.0</td>\n",
       "      <td>0.0</td>\n",
       "      <td>0.0</td>\n",
       "      <td>1.000000</td>\n",
       "      <td>0.000000</td>\n",
       "      <td>1</td>\n",
       "      <td>Uber</td>\n",
       "      <td>6</td>\n",
       "    </tr>\n",
       "    <tr>\n",
       "      <th>Calyrex</th>\n",
       "      <td>100</td>\n",
       "      <td>80</td>\n",
       "      <td>80</td>\n",
       "      <td>80</td>\n",
       "      <td>80</td>\n",
       "      <td>80</td>\n",
       "      <td>7.7</td>\n",
       "      <td>1.1</td>\n",
       "      <td>PU</td>\n",
       "      <td>SS</td>\n",
       "      <td>...</td>\n",
       "      <td>0.0</td>\n",
       "      <td>0.0</td>\n",
       "      <td>0.0</td>\n",
       "      <td>0.0</td>\n",
       "      <td>0.0</td>\n",
       "      <td>18.181818</td>\n",
       "      <td>18.181818</td>\n",
       "      <td>0</td>\n",
       "      <td>ZU</td>\n",
       "      <td>0</td>\n",
       "    </tr>\n",
       "    <tr>\n",
       "      <th>Calyrex-Ice</th>\n",
       "      <td>100</td>\n",
       "      <td>165</td>\n",
       "      <td>150</td>\n",
       "      <td>85</td>\n",
       "      <td>130</td>\n",
       "      <td>50</td>\n",
       "      <td>809.1</td>\n",
       "      <td>2.4</td>\n",
       "      <td>Uber</td>\n",
       "      <td>SS</td>\n",
       "      <td>...</td>\n",
       "      <td>0.0</td>\n",
       "      <td>0.0</td>\n",
       "      <td>0.0</td>\n",
       "      <td>0.0</td>\n",
       "      <td>0.0</td>\n",
       "      <td>1.000000</td>\n",
       "      <td>0.000000</td>\n",
       "      <td>1</td>\n",
       "      <td>Uber</td>\n",
       "      <td>6</td>\n",
       "    </tr>\n",
       "    <tr>\n",
       "      <th>Calyrex-Shadow</th>\n",
       "      <td>100</td>\n",
       "      <td>85</td>\n",
       "      <td>80</td>\n",
       "      <td>165</td>\n",
       "      <td>100</td>\n",
       "      <td>150</td>\n",
       "      <td>53.6</td>\n",
       "      <td>2.4</td>\n",
       "      <td>Uber</td>\n",
       "      <td>SS</td>\n",
       "      <td>...</td>\n",
       "      <td>0.0</td>\n",
       "      <td>0.0</td>\n",
       "      <td>0.0</td>\n",
       "      <td>0.0</td>\n",
       "      <td>0.0</td>\n",
       "      <td>1.000000</td>\n",
       "      <td>0.000000</td>\n",
       "      <td>1</td>\n",
       "      <td>Uber</td>\n",
       "      <td>6</td>\n",
       "    </tr>\n",
       "  </tbody>\n",
       "</table>\n",
       "<p>738 rows × 70 columns</p>\n",
       "</div>"
      ],
      "text/plain": [
       "                 hp  atk  def  spa  spd  spe  weight  height formats  \\\n",
       "name                                                                   \n",
       "Bulbasaur        45   49   49   65   65   45     6.9     0.7      ZU   \n",
       "Ivysaur          60   62   63   80   80   60    13.0     1.0      ZU   \n",
       "Venusaur         80   82   83  100  100   80   100.0     2.0      OU   \n",
       "Charmander       39   52   43   60   50   65     8.5     0.6      ZU   \n",
       "Charmeleon       58   64   58   80   65   80    19.0     1.1      ZU   \n",
       "...             ...  ...  ...  ...  ...  ...     ...     ...     ...   \n",
       "Glastrier       100  145  130   65  110   30   800.0     2.2      NU   \n",
       "Spectrier       100   65   60  145   80  130    44.5     2.0    Uber   \n",
       "Calyrex         100   80   80   80   80   80     7.7     1.1      PU   \n",
       "Calyrex-Ice     100  165  150   85  130   50   809.1     2.4    Uber   \n",
       "Calyrex-Shadow  100   85   80  165  100  150    53.6     2.4    Uber   \n",
       "\n",
       "               generation  ...  Ability Cutoff 2  Ability Cutoff 3  \\\n",
       "name                       ...                                       \n",
       "Bulbasaur              RB  ...               1.0               0.0   \n",
       "Ivysaur                RB  ...               1.0               0.0   \n",
       "Venusaur               RB  ...               1.0               0.0   \n",
       "Charmander             RB  ...               1.0               0.0   \n",
       "Charmeleon             RB  ...               1.0               0.0   \n",
       "...                   ...  ...               ...               ...   \n",
       "Glastrier              SS  ...               1.0               1.0   \n",
       "Spectrier              SS  ...               0.0               0.0   \n",
       "Calyrex                SS  ...               0.0               0.0   \n",
       "Calyrex-Ice            SS  ...               0.0               0.0   \n",
       "Calyrex-Shadow         SS  ...               0.0               0.0   \n",
       "\n",
       "                Ability Cutoff 4  Ability Cutoff 5  Ability Cutoff 6  \\\n",
       "name                                                                   \n",
       "Bulbasaur                    0.0               0.0               0.0   \n",
       "Ivysaur                      0.0               0.0               0.0   \n",
       "Venusaur                     0.0               0.0               0.0   \n",
       "Charmander                   0.0               0.0               0.0   \n",
       "Charmeleon                   0.0               0.0               0.0   \n",
       "...                          ...               ...               ...   \n",
       "Glastrier                    1.0               0.0               0.0   \n",
       "Spectrier                    0.0               0.0               0.0   \n",
       "Calyrex                      0.0               0.0               0.0   \n",
       "Calyrex-Ice                  0.0               0.0               0.0   \n",
       "Calyrex-Shadow               0.0               0.0               0.0   \n",
       "\n",
       "                Best Ability  Best Ability <100  Unique Powerful Ability  \\\n",
       "name                                                                       \n",
       "Bulbasaur          63.636364          63.636364                        0   \n",
       "Ivysaur            63.636364          63.636364                        0   \n",
       "Venusaur           63.636364          63.636364                        0   \n",
       "Charmander         50.000000          50.000000                        0   \n",
       "Charmeleon         50.000000          50.000000                        0   \n",
       "...                      ...                ...                      ...   \n",
       "Glastrier          75.000000          75.000000                        0   \n",
       "Spectrier           1.000000           0.000000                        1   \n",
       "Calyrex            18.181818          18.181818                        0   \n",
       "Calyrex-Ice         1.000000           0.000000                        1   \n",
       "Calyrex-Shadow      1.000000           0.000000                        1   \n",
       "\n",
       "                oldformats  oldformat codes  \n",
       "name                                         \n",
       "Bulbasaur               ZU                0  \n",
       "Ivysaur                 ZU                0  \n",
       "Venusaur                UU                4  \n",
       "Charmander              ZU                0  \n",
       "Charmeleon              ZU                0  \n",
       "...                    ...              ...  \n",
       "Glastrier               NU                2  \n",
       "Spectrier             Uber                6  \n",
       "Calyrex                 ZU                0  \n",
       "Calyrex-Ice           Uber                6  \n",
       "Calyrex-Shadow        Uber                6  \n",
       "\n",
       "[738 rows x 70 columns]"
      ]
     },
     "execution_count": 3,
     "metadata": {},
     "output_type": "execute_result"
    }
   ],
   "source": [
    "pokemon_data"
   ]
  },
  {
   "cell_type": "markdown",
   "metadata": {},
   "source": [
    "<a id=\"split\"></a>\n",
    "### Splitting the Data"
   ]
  },
  {
   "cell_type": "code",
   "execution_count": 4,
   "metadata": {},
   "outputs": [
    {
     "data": {
      "text/plain": [
       "Index(['hp', 'atk', 'def', 'spa', 'spd', 'spe', 'weight', 'height', 'formats',\n",
       "       'generation', 'format codes', 'Weaknesses', 'Strong Weaknesses',\n",
       "       'Resists', 'Strong Resists', 'Immune', 'STAB', 'Resistance Index',\n",
       "       'Entry Hazards', 'Hazard Removal', 'Removal Deterrent', 'Cleric',\n",
       "       'Pivot', 'Item Removal', 'Setup', 'Priority', 'HP Drain', 'HP Recovery',\n",
       "       'Weather Set', 'Weather Gimmick', 'Physical Cutoff 1',\n",
       "       'Physical Cutoff 2', 'Physical Cutoff 3', 'Physical Cutoff 4',\n",
       "       'Physical Cutoff 5', 'Physical Cutoff 6', 'Physical Coverage 1',\n",
       "       'Physical Coverage 2', 'Physical Coverage 3', 'Physical Coverage 4',\n",
       "       'Special Cutoff 1', 'Special Cutoff 2', 'Special Cutoff 3',\n",
       "       'Special Cutoff 4', 'Special Cutoff 5', 'Special Cutoff 6',\n",
       "       'Special Cutoff 7', 'Special Coverage 1', 'Special Coverage 2',\n",
       "       'Special Coverage 3', 'Special Coverage 4', 'Special Coverage 5',\n",
       "       'Special Coverage 6', 'Special Coverage 7', 'Special Coverage 8',\n",
       "       'Special Coverage 9', 'Special Coverage 10', 'Misc Status',\n",
       "       'Unique Powerful Move', 'Ability Cutoff 1', 'Ability Cutoff 2',\n",
       "       'Ability Cutoff 3', 'Ability Cutoff 4', 'Ability Cutoff 5',\n",
       "       'Ability Cutoff 6', 'Best Ability', 'Best Ability <100',\n",
       "       'Unique Powerful Ability', 'oldformats', 'oldformat codes'],\n",
       "      dtype='object')"
      ]
     },
     "execution_count": 4,
     "metadata": {},
     "output_type": "execute_result"
    }
   ],
   "source": [
    "pokemon_data.columns"
   ]
  },
  {
   "cell_type": "code",
   "execution_count": 5,
   "metadata": {},
   "outputs": [
    {
     "data": {
      "text/html": [
       "<div>\n",
       "<style scoped>\n",
       "    .dataframe tbody tr th:only-of-type {\n",
       "        vertical-align: middle;\n",
       "    }\n",
       "\n",
       "    .dataframe tbody tr th {\n",
       "        vertical-align: top;\n",
       "    }\n",
       "\n",
       "    .dataframe thead th {\n",
       "        text-align: right;\n",
       "    }\n",
       "</style>\n",
       "<table border=\"1\" class=\"dataframe\">\n",
       "  <thead>\n",
       "    <tr style=\"text-align: right;\">\n",
       "      <th></th>\n",
       "      <th>formats</th>\n",
       "      <th>format codes</th>\n",
       "      <th>oldformats</th>\n",
       "      <th>oldformat codes</th>\n",
       "      <th>formats4</th>\n",
       "      <th>format codes4</th>\n",
       "      <th>formats4alt</th>\n",
       "      <th>format codes4alt</th>\n",
       "      <th>formats2</th>\n",
       "    </tr>\n",
       "    <tr>\n",
       "      <th>name</th>\n",
       "      <th></th>\n",
       "      <th></th>\n",
       "      <th></th>\n",
       "      <th></th>\n",
       "      <th></th>\n",
       "      <th></th>\n",
       "      <th></th>\n",
       "      <th></th>\n",
       "      <th></th>\n",
       "    </tr>\n",
       "  </thead>\n",
       "  <tbody>\n",
       "    <tr>\n",
       "      <th>Bulbasaur</th>\n",
       "      <td>ZU</td>\n",
       "      <td>0</td>\n",
       "      <td>NaN</td>\n",
       "      <td>NaN</td>\n",
       "      <td>Not c</td>\n",
       "      <td>0</td>\n",
       "      <td>Not c</td>\n",
       "      <td>0</td>\n",
       "      <td>No</td>\n",
       "    </tr>\n",
       "    <tr>\n",
       "      <th>Ivysaur</th>\n",
       "      <td>ZU</td>\n",
       "      <td>0</td>\n",
       "      <td>NaN</td>\n",
       "      <td>NaN</td>\n",
       "      <td>Not c</td>\n",
       "      <td>0</td>\n",
       "      <td>Not c</td>\n",
       "      <td>0</td>\n",
       "      <td>No</td>\n",
       "    </tr>\n",
       "    <tr>\n",
       "      <th>Venusaur</th>\n",
       "      <td>OU</td>\n",
       "      <td>5</td>\n",
       "      <td>NaN</td>\n",
       "      <td>NaN</td>\n",
       "      <td>High c</td>\n",
       "      <td>3</td>\n",
       "      <td>Mid c</td>\n",
       "      <td>2</td>\n",
       "      <td>Yes</td>\n",
       "    </tr>\n",
       "    <tr>\n",
       "      <th>Charmander</th>\n",
       "      <td>ZU</td>\n",
       "      <td>0</td>\n",
       "      <td>NaN</td>\n",
       "      <td>NaN</td>\n",
       "      <td>Not c</td>\n",
       "      <td>0</td>\n",
       "      <td>Not c</td>\n",
       "      <td>0</td>\n",
       "      <td>No</td>\n",
       "    </tr>\n",
       "    <tr>\n",
       "      <th>Charmeleon</th>\n",
       "      <td>ZU</td>\n",
       "      <td>0</td>\n",
       "      <td>NaN</td>\n",
       "      <td>NaN</td>\n",
       "      <td>Not c</td>\n",
       "      <td>0</td>\n",
       "      <td>Not c</td>\n",
       "      <td>0</td>\n",
       "      <td>No</td>\n",
       "    </tr>\n",
       "    <tr>\n",
       "      <th>...</th>\n",
       "      <td>...</td>\n",
       "      <td>...</td>\n",
       "      <td>...</td>\n",
       "      <td>...</td>\n",
       "      <td>...</td>\n",
       "      <td>...</td>\n",
       "      <td>...</td>\n",
       "      <td>...</td>\n",
       "      <td>...</td>\n",
       "    </tr>\n",
       "    <tr>\n",
       "      <th>Glastrier</th>\n",
       "      <td>NU</td>\n",
       "      <td>2</td>\n",
       "      <td>NaN</td>\n",
       "      <td>NaN</td>\n",
       "      <td>Mid c</td>\n",
       "      <td>2</td>\n",
       "      <td>Mid c</td>\n",
       "      <td>2</td>\n",
       "      <td>Yes</td>\n",
       "    </tr>\n",
       "    <tr>\n",
       "      <th>Spectrier</th>\n",
       "      <td>Uber</td>\n",
       "      <td>6</td>\n",
       "      <td>NaN</td>\n",
       "      <td>NaN</td>\n",
       "      <td>High c</td>\n",
       "      <td>3</td>\n",
       "      <td>High c</td>\n",
       "      <td>3</td>\n",
       "      <td>Yes</td>\n",
       "    </tr>\n",
       "    <tr>\n",
       "      <th>Calyrex</th>\n",
       "      <td>PU</td>\n",
       "      <td>1</td>\n",
       "      <td>NaN</td>\n",
       "      <td>NaN</td>\n",
       "      <td>Low c</td>\n",
       "      <td>1</td>\n",
       "      <td>Low c</td>\n",
       "      <td>1</td>\n",
       "      <td>Yes</td>\n",
       "    </tr>\n",
       "    <tr>\n",
       "      <th>Calyrex-Ice</th>\n",
       "      <td>Uber</td>\n",
       "      <td>6</td>\n",
       "      <td>NaN</td>\n",
       "      <td>NaN</td>\n",
       "      <td>High c</td>\n",
       "      <td>3</td>\n",
       "      <td>High c</td>\n",
       "      <td>3</td>\n",
       "      <td>Yes</td>\n",
       "    </tr>\n",
       "    <tr>\n",
       "      <th>Calyrex-Shadow</th>\n",
       "      <td>Uber</td>\n",
       "      <td>6</td>\n",
       "      <td>NaN</td>\n",
       "      <td>NaN</td>\n",
       "      <td>High c</td>\n",
       "      <td>3</td>\n",
       "      <td>High c</td>\n",
       "      <td>3</td>\n",
       "      <td>Yes</td>\n",
       "    </tr>\n",
       "  </tbody>\n",
       "</table>\n",
       "<p>738 rows × 9 columns</p>\n",
       "</div>"
      ],
      "text/plain": [
       "               formats  format codes  oldformats  oldformat codes formats4  \\\n",
       "name                                                                         \n",
       "Bulbasaur           ZU             0         NaN              NaN    Not c   \n",
       "Ivysaur             ZU             0         NaN              NaN    Not c   \n",
       "Venusaur            OU             5         NaN              NaN   High c   \n",
       "Charmander          ZU             0         NaN              NaN    Not c   \n",
       "Charmeleon          ZU             0         NaN              NaN    Not c   \n",
       "...                ...           ...         ...              ...      ...   \n",
       "Glastrier           NU             2         NaN              NaN    Mid c   \n",
       "Spectrier         Uber             6         NaN              NaN   High c   \n",
       "Calyrex             PU             1         NaN              NaN    Low c   \n",
       "Calyrex-Ice       Uber             6         NaN              NaN   High c   \n",
       "Calyrex-Shadow    Uber             6         NaN              NaN   High c   \n",
       "\n",
       "                format codes4 formats4alt  format codes4alt formats2  \n",
       "name                                                                  \n",
       "Bulbasaur                   0       Not c                 0       No  \n",
       "Ivysaur                     0       Not c                 0       No  \n",
       "Venusaur                    3       Mid c                 2      Yes  \n",
       "Charmander                  0       Not c                 0       No  \n",
       "Charmeleon                  0       Not c                 0       No  \n",
       "...                       ...         ...               ...      ...  \n",
       "Glastrier                   2       Mid c                 2      Yes  \n",
       "Spectrier                   3      High c                 3      Yes  \n",
       "Calyrex                     1       Low c                 1      Yes  \n",
       "Calyrex-Ice                 3      High c                 3      Yes  \n",
       "Calyrex-Shadow              3      High c                 3      Yes  \n",
       "\n",
       "[738 rows x 9 columns]"
      ]
     },
     "execution_count": 5,
     "metadata": {},
     "output_type": "execute_result"
    }
   ],
   "source": [
    "X = pokemon_data.drop(columns=['weight', 'height', 'Weaknesses', 'Strong Weaknesses', 'Resists',\n",
    "                                'Strong Resists', 'Immune', 'STAB', 'Physical Cutoff 1', 'Physical Cutoff 2',\n",
    "                                'Physical Cutoff 4', 'Physical Cutoff 5', 'Physical Cutoff 6',\n",
    "                                'Physical Coverage 1', 'Physical Coverage 2', 'Physical Coverage 4',\n",
    "                                'Special Cutoff 1', 'Special Cutoff 2', 'Special Cutoff 4',\n",
    "                                'Special Cutoff 5', 'Special Cutoff 6', 'Special Cutoff 7',\n",
    "                                'Special Coverage 1', 'Special Coverage 2', 'Special Coverage 3',\n",
    "                                'Special Coverage 4', 'Special Coverage 6', 'Special Coverage 7',\n",
    "                                'Special Coverage 8', 'Special Coverage 9', 'Special Coverage 10',\n",
    "                                'Ability Cutoff 1', 'Ability Cutoff 2', 'Ability Cutoff 4', 'Ability Cutoff 5',\n",
    "                                'Ability Cutoff 6', 'Best Ability <100', 'formats', 'generation',\n",
    "                                'format codes', 'oldformats', 'oldformat codes'])\n",
    "\n",
    "y_df = pd.DataFrame(pokemon_data[['formats', 'format codes']], index=pokemon_data.index, columns=['formats', 'format codes', 'oldformats', 'oldformat codes'])\n",
    "y_df['formats4'] = y_df['formats'].replace({'ZU':'Not c', 'PU': 'Low c', 'NU': 'Mid c', 'RU': 'Mid c', 'UU': 'Mid c', 'OU': 'High c', 'Uber': 'High c'})\n",
    "y_df['format codes4'] = y_df['format codes'].replace({3:2, 4: 2, 5:3, 6:3})\n",
    "y_df['formats4alt'] = y_df['formats'].replace({'ZU':'Not c', 'PU': 'Low c', 'NU': 'Mid c', 'RU': 'Mid c', 'UU': 'Mid c', 'OU': 'Mid c', 'Uber': 'High c'})\n",
    "y_df['format codes4alt'] = y_df['format codes'].replace({3:2, 4: 2, 5:2, 6:3})\n",
    "y_df['formats2'] = y_df['formats'].replace({'ZU':'No', 'PU': 'Yes', 'NU': 'Yes', 'RU': 'Yes', 'UU': 'Yes', 'OU': 'Yes', 'Uber': 'Yes'})\n",
    "y_df"
   ]
  },
  {
   "cell_type": "markdown",
   "metadata": {},
   "source": [
    "<a id=\"adjusting\"></a>\n",
    "### Adjusting some features"
   ]
  },
  {
   "cell_type": "markdown",
   "metadata": {},
   "source": [
    "- remove: ability cutoff, unique powerful ability"
   ]
  },
  {
   "cell_type": "code",
   "execution_count": 6,
   "metadata": {},
   "outputs": [
    {
     "data": {
      "text/plain": [
       "Index(['hp', 'atk', 'def', 'spa', 'spd', 'spe', 'Resistance Index',\n",
       "       'Entry Hazards', 'Hazard Removal', 'Removal Deterrent', 'Cleric',\n",
       "       'Pivot', 'Item Removal', 'Setup', 'Priority', 'HP Drain', 'HP Recovery',\n",
       "       'Weather Set', 'Weather Gimmick', 'Physical Cutoff 3',\n",
       "       'Physical Coverage 3', 'Special Cutoff 3', 'Special Coverage 5',\n",
       "       'Misc Status', 'Unique Powerful Move', 'Ability Cutoff 3',\n",
       "       'Best Ability', 'Unique Powerful Ability'],\n",
       "      dtype='object')"
      ]
     },
     "execution_count": 6,
     "metadata": {},
     "output_type": "execute_result"
    }
   ],
   "source": [
    "X.columns"
   ]
  },
  {
   "cell_type": "code",
   "execution_count": 7,
   "metadata": {},
   "outputs": [
    {
     "data": {
      "text/html": [
       "<div>\n",
       "<style scoped>\n",
       "    .dataframe tbody tr th:only-of-type {\n",
       "        vertical-align: middle;\n",
       "    }\n",
       "\n",
       "    .dataframe tbody tr th {\n",
       "        vertical-align: top;\n",
       "    }\n",
       "\n",
       "    .dataframe thead th {\n",
       "        text-align: right;\n",
       "    }\n",
       "</style>\n",
       "<table border=\"1\" class=\"dataframe\">\n",
       "  <thead>\n",
       "    <tr style=\"text-align: right;\">\n",
       "      <th></th>\n",
       "      <th>hp</th>\n",
       "      <th>atk</th>\n",
       "      <th>def</th>\n",
       "      <th>spa</th>\n",
       "      <th>spd</th>\n",
       "      <th>spe</th>\n",
       "      <th>Resistance Index</th>\n",
       "      <th>Entry Hazards</th>\n",
       "      <th>Hazard Removal</th>\n",
       "      <th>Removal Deterrent</th>\n",
       "      <th>...</th>\n",
       "      <th>HP Recovery</th>\n",
       "      <th>Weather Set</th>\n",
       "      <th>Weather Gimmick</th>\n",
       "      <th>Physical Cutoff 3</th>\n",
       "      <th>Physical Coverage 3</th>\n",
       "      <th>Special Cutoff 3</th>\n",
       "      <th>Special Coverage 5</th>\n",
       "      <th>Misc Status</th>\n",
       "      <th>Unique Powerful Move</th>\n",
       "      <th>Best Ability</th>\n",
       "    </tr>\n",
       "    <tr>\n",
       "      <th>name</th>\n",
       "      <th></th>\n",
       "      <th></th>\n",
       "      <th></th>\n",
       "      <th></th>\n",
       "      <th></th>\n",
       "      <th></th>\n",
       "      <th></th>\n",
       "      <th></th>\n",
       "      <th></th>\n",
       "      <th></th>\n",
       "      <th></th>\n",
       "      <th></th>\n",
       "      <th></th>\n",
       "      <th></th>\n",
       "      <th></th>\n",
       "      <th></th>\n",
       "      <th></th>\n",
       "      <th></th>\n",
       "      <th></th>\n",
       "      <th></th>\n",
       "      <th></th>\n",
       "    </tr>\n",
       "  </thead>\n",
       "  <tbody>\n",
       "    <tr>\n",
       "      <th>Bulbasaur</th>\n",
       "      <td>45</td>\n",
       "      <td>49</td>\n",
       "      <td>49</td>\n",
       "      <td>65</td>\n",
       "      <td>65</td>\n",
       "      <td>45</td>\n",
       "      <td>2</td>\n",
       "      <td>0</td>\n",
       "      <td>0</td>\n",
       "      <td>0</td>\n",
       "      <td>...</td>\n",
       "      <td>1</td>\n",
       "      <td>0</td>\n",
       "      <td>5</td>\n",
       "      <td>4</td>\n",
       "      <td>3</td>\n",
       "      <td>5</td>\n",
       "      <td>2</td>\n",
       "      <td>4</td>\n",
       "      <td>0</td>\n",
       "      <td>63.636364</td>\n",
       "    </tr>\n",
       "    <tr>\n",
       "      <th>Ivysaur</th>\n",
       "      <td>60</td>\n",
       "      <td>62</td>\n",
       "      <td>63</td>\n",
       "      <td>80</td>\n",
       "      <td>80</td>\n",
       "      <td>60</td>\n",
       "      <td>2</td>\n",
       "      <td>0</td>\n",
       "      <td>0</td>\n",
       "      <td>0</td>\n",
       "      <td>...</td>\n",
       "      <td>1</td>\n",
       "      <td>0</td>\n",
       "      <td>5</td>\n",
       "      <td>4</td>\n",
       "      <td>3</td>\n",
       "      <td>5</td>\n",
       "      <td>2</td>\n",
       "      <td>4</td>\n",
       "      <td>0</td>\n",
       "      <td>63.636364</td>\n",
       "    </tr>\n",
       "    <tr>\n",
       "      <th>Venusaur</th>\n",
       "      <td>80</td>\n",
       "      <td>82</td>\n",
       "      <td>83</td>\n",
       "      <td>100</td>\n",
       "      <td>100</td>\n",
       "      <td>80</td>\n",
       "      <td>2</td>\n",
       "      <td>0</td>\n",
       "      <td>0</td>\n",
       "      <td>0</td>\n",
       "      <td>...</td>\n",
       "      <td>1</td>\n",
       "      <td>0</td>\n",
       "      <td>5</td>\n",
       "      <td>6</td>\n",
       "      <td>4</td>\n",
       "      <td>6</td>\n",
       "      <td>4</td>\n",
       "      <td>4</td>\n",
       "      <td>0</td>\n",
       "      <td>63.636364</td>\n",
       "    </tr>\n",
       "    <tr>\n",
       "      <th>Charmander</th>\n",
       "      <td>39</td>\n",
       "      <td>52</td>\n",
       "      <td>43</td>\n",
       "      <td>60</td>\n",
       "      <td>50</td>\n",
       "      <td>65</td>\n",
       "      <td>3</td>\n",
       "      <td>0</td>\n",
       "      <td>0</td>\n",
       "      <td>0</td>\n",
       "      <td>...</td>\n",
       "      <td>0</td>\n",
       "      <td>0</td>\n",
       "      <td>3</td>\n",
       "      <td>10</td>\n",
       "      <td>9</td>\n",
       "      <td>6</td>\n",
       "      <td>2</td>\n",
       "      <td>3</td>\n",
       "      <td>0</td>\n",
       "      <td>50.000000</td>\n",
       "    </tr>\n",
       "    <tr>\n",
       "      <th>Charmeleon</th>\n",
       "      <td>58</td>\n",
       "      <td>64</td>\n",
       "      <td>58</td>\n",
       "      <td>80</td>\n",
       "      <td>65</td>\n",
       "      <td>80</td>\n",
       "      <td>3</td>\n",
       "      <td>0</td>\n",
       "      <td>0</td>\n",
       "      <td>0</td>\n",
       "      <td>...</td>\n",
       "      <td>0</td>\n",
       "      <td>0</td>\n",
       "      <td>3</td>\n",
       "      <td>10</td>\n",
       "      <td>9</td>\n",
       "      <td>6</td>\n",
       "      <td>2</td>\n",
       "      <td>3</td>\n",
       "      <td>0</td>\n",
       "      <td>50.000000</td>\n",
       "    </tr>\n",
       "    <tr>\n",
       "      <th>...</th>\n",
       "      <td>...</td>\n",
       "      <td>...</td>\n",
       "      <td>...</td>\n",
       "      <td>...</td>\n",
       "      <td>...</td>\n",
       "      <td>...</td>\n",
       "      <td>...</td>\n",
       "      <td>...</td>\n",
       "      <td>...</td>\n",
       "      <td>...</td>\n",
       "      <td>...</td>\n",
       "      <td>...</td>\n",
       "      <td>...</td>\n",
       "      <td>...</td>\n",
       "      <td>...</td>\n",
       "      <td>...</td>\n",
       "      <td>...</td>\n",
       "      <td>...</td>\n",
       "      <td>...</td>\n",
       "      <td>...</td>\n",
       "      <td>...</td>\n",
       "    </tr>\n",
       "    <tr>\n",
       "      <th>Glastrier</th>\n",
       "      <td>100</td>\n",
       "      <td>145</td>\n",
       "      <td>130</td>\n",
       "      <td>65</td>\n",
       "      <td>110</td>\n",
       "      <td>30</td>\n",
       "      <td>-3</td>\n",
       "      <td>0</td>\n",
       "      <td>0</td>\n",
       "      <td>0</td>\n",
       "      <td>...</td>\n",
       "      <td>0</td>\n",
       "      <td>0</td>\n",
       "      <td>1</td>\n",
       "      <td>12</td>\n",
       "      <td>7</td>\n",
       "      <td>3</td>\n",
       "      <td>2</td>\n",
       "      <td>2</td>\n",
       "      <td>0</td>\n",
       "      <td>75.000000</td>\n",
       "    </tr>\n",
       "    <tr>\n",
       "      <th>Spectrier</th>\n",
       "      <td>100</td>\n",
       "      <td>65</td>\n",
       "      <td>60</td>\n",
       "      <td>145</td>\n",
       "      <td>80</td>\n",
       "      <td>130</td>\n",
       "      <td>8</td>\n",
       "      <td>0</td>\n",
       "      <td>0</td>\n",
       "      <td>1</td>\n",
       "      <td>...</td>\n",
       "      <td>0</td>\n",
       "      <td>0</td>\n",
       "      <td>0</td>\n",
       "      <td>4</td>\n",
       "      <td>4</td>\n",
       "      <td>4</td>\n",
       "      <td>3</td>\n",
       "      <td>3</td>\n",
       "      <td>0</td>\n",
       "      <td>1.000000</td>\n",
       "    </tr>\n",
       "    <tr>\n",
       "      <th>Calyrex</th>\n",
       "      <td>100</td>\n",
       "      <td>80</td>\n",
       "      <td>80</td>\n",
       "      <td>80</td>\n",
       "      <td>80</td>\n",
       "      <td>80</td>\n",
       "      <td>-2</td>\n",
       "      <td>0</td>\n",
       "      <td>0</td>\n",
       "      <td>0</td>\n",
       "      <td>...</td>\n",
       "      <td>0</td>\n",
       "      <td>0</td>\n",
       "      <td>2</td>\n",
       "      <td>3</td>\n",
       "      <td>3</td>\n",
       "      <td>9</td>\n",
       "      <td>4</td>\n",
       "      <td>3</td>\n",
       "      <td>0</td>\n",
       "      <td>18.181818</td>\n",
       "    </tr>\n",
       "    <tr>\n",
       "      <th>Calyrex-Ice</th>\n",
       "      <td>100</td>\n",
       "      <td>165</td>\n",
       "      <td>150</td>\n",
       "      <td>85</td>\n",
       "      <td>130</td>\n",
       "      <td>50</td>\n",
       "      <td>-4</td>\n",
       "      <td>0</td>\n",
       "      <td>0</td>\n",
       "      <td>0</td>\n",
       "      <td>...</td>\n",
       "      <td>0</td>\n",
       "      <td>0</td>\n",
       "      <td>2</td>\n",
       "      <td>15</td>\n",
       "      <td>9</td>\n",
       "      <td>12</td>\n",
       "      <td>5</td>\n",
       "      <td>3</td>\n",
       "      <td>1</td>\n",
       "      <td>1.000000</td>\n",
       "    </tr>\n",
       "    <tr>\n",
       "      <th>Calyrex-Shadow</th>\n",
       "      <td>100</td>\n",
       "      <td>85</td>\n",
       "      <td>80</td>\n",
       "      <td>165</td>\n",
       "      <td>100</td>\n",
       "      <td>150</td>\n",
       "      <td>6</td>\n",
       "      <td>0</td>\n",
       "      <td>0</td>\n",
       "      <td>1</td>\n",
       "      <td>...</td>\n",
       "      <td>0</td>\n",
       "      <td>0</td>\n",
       "      <td>2</td>\n",
       "      <td>7</td>\n",
       "      <td>6</td>\n",
       "      <td>13</td>\n",
       "      <td>6</td>\n",
       "      <td>3</td>\n",
       "      <td>1</td>\n",
       "      <td>1.000000</td>\n",
       "    </tr>\n",
       "  </tbody>\n",
       "</table>\n",
       "<p>738 rows × 26 columns</p>\n",
       "</div>"
      ],
      "text/plain": [
       "                 hp  atk  def  spa  spd  spe  Resistance Index  Entry Hazards  \\\n",
       "name                                                                            \n",
       "Bulbasaur        45   49   49   65   65   45                 2              0   \n",
       "Ivysaur          60   62   63   80   80   60                 2              0   \n",
       "Venusaur         80   82   83  100  100   80                 2              0   \n",
       "Charmander       39   52   43   60   50   65                 3              0   \n",
       "Charmeleon       58   64   58   80   65   80                 3              0   \n",
       "...             ...  ...  ...  ...  ...  ...               ...            ...   \n",
       "Glastrier       100  145  130   65  110   30                -3              0   \n",
       "Spectrier       100   65   60  145   80  130                 8              0   \n",
       "Calyrex         100   80   80   80   80   80                -2              0   \n",
       "Calyrex-Ice     100  165  150   85  130   50                -4              0   \n",
       "Calyrex-Shadow  100   85   80  165  100  150                 6              0   \n",
       "\n",
       "                Hazard Removal  Removal Deterrent  ...  HP Recovery  \\\n",
       "name                                               ...                \n",
       "Bulbasaur                    0                  0  ...            1   \n",
       "Ivysaur                      0                  0  ...            1   \n",
       "Venusaur                     0                  0  ...            1   \n",
       "Charmander                   0                  0  ...            0   \n",
       "Charmeleon                   0                  0  ...            0   \n",
       "...                        ...                ...  ...          ...   \n",
       "Glastrier                    0                  0  ...            0   \n",
       "Spectrier                    0                  1  ...            0   \n",
       "Calyrex                      0                  0  ...            0   \n",
       "Calyrex-Ice                  0                  0  ...            0   \n",
       "Calyrex-Shadow               0                  1  ...            0   \n",
       "\n",
       "                Weather Set  Weather Gimmick  Physical Cutoff 3  \\\n",
       "name                                                              \n",
       "Bulbasaur                 0                5                  4   \n",
       "Ivysaur                   0                5                  4   \n",
       "Venusaur                  0                5                  6   \n",
       "Charmander                0                3                 10   \n",
       "Charmeleon                0                3                 10   \n",
       "...                     ...              ...                ...   \n",
       "Glastrier                 0                1                 12   \n",
       "Spectrier                 0                0                  4   \n",
       "Calyrex                   0                2                  3   \n",
       "Calyrex-Ice               0                2                 15   \n",
       "Calyrex-Shadow            0                2                  7   \n",
       "\n",
       "                Physical Coverage 3  Special Cutoff 3  Special Coverage 5  \\\n",
       "name                                                                        \n",
       "Bulbasaur                         3                 5                   2   \n",
       "Ivysaur                           3                 5                   2   \n",
       "Venusaur                          4                 6                   4   \n",
       "Charmander                        9                 6                   2   \n",
       "Charmeleon                        9                 6                   2   \n",
       "...                             ...               ...                 ...   \n",
       "Glastrier                         7                 3                   2   \n",
       "Spectrier                         4                 4                   3   \n",
       "Calyrex                           3                 9                   4   \n",
       "Calyrex-Ice                       9                12                   5   \n",
       "Calyrex-Shadow                    6                13                   6   \n",
       "\n",
       "                Misc Status  Unique Powerful Move  Best Ability  \n",
       "name                                                             \n",
       "Bulbasaur                 4                     0     63.636364  \n",
       "Ivysaur                   4                     0     63.636364  \n",
       "Venusaur                  4                     0     63.636364  \n",
       "Charmander                3                     0     50.000000  \n",
       "Charmeleon                3                     0     50.000000  \n",
       "...                     ...                   ...           ...  \n",
       "Glastrier                 2                     0     75.000000  \n",
       "Spectrier                 3                     0      1.000000  \n",
       "Calyrex                   3                     0     18.181818  \n",
       "Calyrex-Ice               3                     1      1.000000  \n",
       "Calyrex-Shadow            3                     1      1.000000  \n",
       "\n",
       "[738 rows x 26 columns]"
      ]
     },
     "execution_count": 7,
     "metadata": {},
     "output_type": "execute_result"
    }
   ],
   "source": [
    "X.drop(columns=['Ability Cutoff 3', 'Unique Powerful Ability'], inplace=True)\n",
    "X"
   ]
  },
  {
   "cell_type": "code",
   "execution_count": 8,
   "metadata": {},
   "outputs": [
    {
     "data": {
      "text/plain": [
       "Index(['hp', 'atk', 'def', 'spa', 'spd', 'spe', 'Resistance Index',\n",
       "       'Entry Hazards', 'Hazard Removal', 'Removal Deterrent', 'Cleric',\n",
       "       'Pivot', 'Item Removal', 'Setup', 'Priority', 'HP Drain', 'HP Recovery',\n",
       "       'Weather Set', 'Weather Gimmick', 'Physical Cutoff 3',\n",
       "       'Physical Coverage 3', 'Special Cutoff 3', 'Special Coverage 5',\n",
       "       'Misc Status', 'Unique Powerful Move', 'Best Ability'],\n",
       "      dtype='object')"
      ]
     },
     "execution_count": 8,
     "metadata": {},
     "output_type": "execute_result"
    }
   ],
   "source": [
    "X.columns"
   ]
  },
  {
   "cell_type": "markdown",
   "metadata": {},
   "source": [
    "- fold weather set into weather gimmick"
   ]
  },
  {
   "cell_type": "code",
   "execution_count": 9,
   "metadata": {},
   "outputs": [
    {
     "data": {
      "text/plain": [
       "2    289\n",
       "1    171\n",
       "0    161\n",
       "5     70\n",
       "3     40\n",
       "4      7\n",
       "Name: Weather Gimmick, dtype: int64"
      ]
     },
     "execution_count": 9,
     "metadata": {},
     "output_type": "execute_result"
    }
   ],
   "source": [
    "X['Weather Gimmick'].value_counts()"
   ]
  },
  {
   "cell_type": "code",
   "execution_count": 10,
   "metadata": {},
   "outputs": [
    {
     "data": {
      "text/plain": [
       "0    709\n",
       "1     29\n",
       "Name: Weather Set, dtype: int64"
      ]
     },
     "execution_count": 10,
     "metadata": {},
     "output_type": "execute_result"
    }
   ],
   "source": [
    "X['Weather Set'].value_counts()"
   ]
  },
  {
   "cell_type": "code",
   "execution_count": 11,
   "metadata": {},
   "outputs": [
    {
     "data": {
      "text/plain": [
       "2    265\n",
       "1    167\n",
       "0    161\n",
       "5     70\n",
       "3     39\n",
       "6     29\n",
       "4      7\n",
       "Name: Weather Gimmick, dtype: int64"
      ]
     },
     "execution_count": 11,
     "metadata": {},
     "output_type": "execute_result"
    }
   ],
   "source": [
    "X.loc[X['Weather Set'] == 1, 'Weather Gimmick'] = 6\n",
    "X['Weather Gimmick'].value_counts()"
   ]
  },
  {
   "cell_type": "code",
   "execution_count": 12,
   "metadata": {},
   "outputs": [
    {
     "data": {
      "text/html": [
       "<div>\n",
       "<style scoped>\n",
       "    .dataframe tbody tr th:only-of-type {\n",
       "        vertical-align: middle;\n",
       "    }\n",
       "\n",
       "    .dataframe tbody tr th {\n",
       "        vertical-align: top;\n",
       "    }\n",
       "\n",
       "    .dataframe thead th {\n",
       "        text-align: right;\n",
       "    }\n",
       "</style>\n",
       "<table border=\"1\" class=\"dataframe\">\n",
       "  <thead>\n",
       "    <tr style=\"text-align: right;\">\n",
       "      <th></th>\n",
       "      <th>hp</th>\n",
       "      <th>atk</th>\n",
       "      <th>def</th>\n",
       "      <th>spa</th>\n",
       "      <th>spd</th>\n",
       "      <th>spe</th>\n",
       "      <th>Resistance Index</th>\n",
       "      <th>Entry Hazards</th>\n",
       "      <th>Hazard Removal</th>\n",
       "      <th>Removal Deterrent</th>\n",
       "      <th>...</th>\n",
       "      <th>HP Drain</th>\n",
       "      <th>HP Recovery</th>\n",
       "      <th>Weather Gimmick</th>\n",
       "      <th>Physical Cutoff 3</th>\n",
       "      <th>Physical Coverage 3</th>\n",
       "      <th>Special Cutoff 3</th>\n",
       "      <th>Special Coverage 5</th>\n",
       "      <th>Misc Status</th>\n",
       "      <th>Unique Powerful Move</th>\n",
       "      <th>Best Ability</th>\n",
       "    </tr>\n",
       "    <tr>\n",
       "      <th>name</th>\n",
       "      <th></th>\n",
       "      <th></th>\n",
       "      <th></th>\n",
       "      <th></th>\n",
       "      <th></th>\n",
       "      <th></th>\n",
       "      <th></th>\n",
       "      <th></th>\n",
       "      <th></th>\n",
       "      <th></th>\n",
       "      <th></th>\n",
       "      <th></th>\n",
       "      <th></th>\n",
       "      <th></th>\n",
       "      <th></th>\n",
       "      <th></th>\n",
       "      <th></th>\n",
       "      <th></th>\n",
       "      <th></th>\n",
       "      <th></th>\n",
       "      <th></th>\n",
       "    </tr>\n",
       "  </thead>\n",
       "  <tbody>\n",
       "    <tr>\n",
       "      <th>Bulbasaur</th>\n",
       "      <td>45</td>\n",
       "      <td>49</td>\n",
       "      <td>49</td>\n",
       "      <td>65</td>\n",
       "      <td>65</td>\n",
       "      <td>45</td>\n",
       "      <td>2</td>\n",
       "      <td>0</td>\n",
       "      <td>0</td>\n",
       "      <td>0</td>\n",
       "      <td>...</td>\n",
       "      <td>2</td>\n",
       "      <td>1</td>\n",
       "      <td>5</td>\n",
       "      <td>4</td>\n",
       "      <td>3</td>\n",
       "      <td>5</td>\n",
       "      <td>2</td>\n",
       "      <td>4</td>\n",
       "      <td>0</td>\n",
       "      <td>63.636364</td>\n",
       "    </tr>\n",
       "    <tr>\n",
       "      <th>Ivysaur</th>\n",
       "      <td>60</td>\n",
       "      <td>62</td>\n",
       "      <td>63</td>\n",
       "      <td>80</td>\n",
       "      <td>80</td>\n",
       "      <td>60</td>\n",
       "      <td>2</td>\n",
       "      <td>0</td>\n",
       "      <td>0</td>\n",
       "      <td>0</td>\n",
       "      <td>...</td>\n",
       "      <td>2</td>\n",
       "      <td>1</td>\n",
       "      <td>5</td>\n",
       "      <td>4</td>\n",
       "      <td>3</td>\n",
       "      <td>5</td>\n",
       "      <td>2</td>\n",
       "      <td>4</td>\n",
       "      <td>0</td>\n",
       "      <td>63.636364</td>\n",
       "    </tr>\n",
       "    <tr>\n",
       "      <th>Venusaur</th>\n",
       "      <td>80</td>\n",
       "      <td>82</td>\n",
       "      <td>83</td>\n",
       "      <td>100</td>\n",
       "      <td>100</td>\n",
       "      <td>80</td>\n",
       "      <td>2</td>\n",
       "      <td>0</td>\n",
       "      <td>0</td>\n",
       "      <td>0</td>\n",
       "      <td>...</td>\n",
       "      <td>2</td>\n",
       "      <td>1</td>\n",
       "      <td>5</td>\n",
       "      <td>6</td>\n",
       "      <td>4</td>\n",
       "      <td>6</td>\n",
       "      <td>4</td>\n",
       "      <td>4</td>\n",
       "      <td>0</td>\n",
       "      <td>63.636364</td>\n",
       "    </tr>\n",
       "    <tr>\n",
       "      <th>Charmander</th>\n",
       "      <td>39</td>\n",
       "      <td>52</td>\n",
       "      <td>43</td>\n",
       "      <td>60</td>\n",
       "      <td>50</td>\n",
       "      <td>65</td>\n",
       "      <td>3</td>\n",
       "      <td>0</td>\n",
       "      <td>0</td>\n",
       "      <td>0</td>\n",
       "      <td>...</td>\n",
       "      <td>0</td>\n",
       "      <td>0</td>\n",
       "      <td>3</td>\n",
       "      <td>10</td>\n",
       "      <td>9</td>\n",
       "      <td>6</td>\n",
       "      <td>2</td>\n",
       "      <td>3</td>\n",
       "      <td>0</td>\n",
       "      <td>50.000000</td>\n",
       "    </tr>\n",
       "    <tr>\n",
       "      <th>Charmeleon</th>\n",
       "      <td>58</td>\n",
       "      <td>64</td>\n",
       "      <td>58</td>\n",
       "      <td>80</td>\n",
       "      <td>65</td>\n",
       "      <td>80</td>\n",
       "      <td>3</td>\n",
       "      <td>0</td>\n",
       "      <td>0</td>\n",
       "      <td>0</td>\n",
       "      <td>...</td>\n",
       "      <td>0</td>\n",
       "      <td>0</td>\n",
       "      <td>3</td>\n",
       "      <td>10</td>\n",
       "      <td>9</td>\n",
       "      <td>6</td>\n",
       "      <td>2</td>\n",
       "      <td>3</td>\n",
       "      <td>0</td>\n",
       "      <td>50.000000</td>\n",
       "    </tr>\n",
       "    <tr>\n",
       "      <th>...</th>\n",
       "      <td>...</td>\n",
       "      <td>...</td>\n",
       "      <td>...</td>\n",
       "      <td>...</td>\n",
       "      <td>...</td>\n",
       "      <td>...</td>\n",
       "      <td>...</td>\n",
       "      <td>...</td>\n",
       "      <td>...</td>\n",
       "      <td>...</td>\n",
       "      <td>...</td>\n",
       "      <td>...</td>\n",
       "      <td>...</td>\n",
       "      <td>...</td>\n",
       "      <td>...</td>\n",
       "      <td>...</td>\n",
       "      <td>...</td>\n",
       "      <td>...</td>\n",
       "      <td>...</td>\n",
       "      <td>...</td>\n",
       "      <td>...</td>\n",
       "    </tr>\n",
       "    <tr>\n",
       "      <th>Glastrier</th>\n",
       "      <td>100</td>\n",
       "      <td>145</td>\n",
       "      <td>130</td>\n",
       "      <td>65</td>\n",
       "      <td>110</td>\n",
       "      <td>30</td>\n",
       "      <td>-3</td>\n",
       "      <td>0</td>\n",
       "      <td>0</td>\n",
       "      <td>0</td>\n",
       "      <td>...</td>\n",
       "      <td>0</td>\n",
       "      <td>0</td>\n",
       "      <td>1</td>\n",
       "      <td>12</td>\n",
       "      <td>7</td>\n",
       "      <td>3</td>\n",
       "      <td>2</td>\n",
       "      <td>2</td>\n",
       "      <td>0</td>\n",
       "      <td>75.000000</td>\n",
       "    </tr>\n",
       "    <tr>\n",
       "      <th>Spectrier</th>\n",
       "      <td>100</td>\n",
       "      <td>65</td>\n",
       "      <td>60</td>\n",
       "      <td>145</td>\n",
       "      <td>80</td>\n",
       "      <td>130</td>\n",
       "      <td>8</td>\n",
       "      <td>0</td>\n",
       "      <td>0</td>\n",
       "      <td>1</td>\n",
       "      <td>...</td>\n",
       "      <td>0</td>\n",
       "      <td>0</td>\n",
       "      <td>0</td>\n",
       "      <td>4</td>\n",
       "      <td>4</td>\n",
       "      <td>4</td>\n",
       "      <td>3</td>\n",
       "      <td>3</td>\n",
       "      <td>0</td>\n",
       "      <td>1.000000</td>\n",
       "    </tr>\n",
       "    <tr>\n",
       "      <th>Calyrex</th>\n",
       "      <td>100</td>\n",
       "      <td>80</td>\n",
       "      <td>80</td>\n",
       "      <td>80</td>\n",
       "      <td>80</td>\n",
       "      <td>80</td>\n",
       "      <td>-2</td>\n",
       "      <td>0</td>\n",
       "      <td>0</td>\n",
       "      <td>0</td>\n",
       "      <td>...</td>\n",
       "      <td>2</td>\n",
       "      <td>0</td>\n",
       "      <td>2</td>\n",
       "      <td>3</td>\n",
       "      <td>3</td>\n",
       "      <td>9</td>\n",
       "      <td>4</td>\n",
       "      <td>3</td>\n",
       "      <td>0</td>\n",
       "      <td>18.181818</td>\n",
       "    </tr>\n",
       "    <tr>\n",
       "      <th>Calyrex-Ice</th>\n",
       "      <td>100</td>\n",
       "      <td>165</td>\n",
       "      <td>150</td>\n",
       "      <td>85</td>\n",
       "      <td>130</td>\n",
       "      <td>50</td>\n",
       "      <td>-4</td>\n",
       "      <td>0</td>\n",
       "      <td>0</td>\n",
       "      <td>0</td>\n",
       "      <td>...</td>\n",
       "      <td>2</td>\n",
       "      <td>0</td>\n",
       "      <td>2</td>\n",
       "      <td>15</td>\n",
       "      <td>9</td>\n",
       "      <td>12</td>\n",
       "      <td>5</td>\n",
       "      <td>3</td>\n",
       "      <td>1</td>\n",
       "      <td>1.000000</td>\n",
       "    </tr>\n",
       "    <tr>\n",
       "      <th>Calyrex-Shadow</th>\n",
       "      <td>100</td>\n",
       "      <td>85</td>\n",
       "      <td>80</td>\n",
       "      <td>165</td>\n",
       "      <td>100</td>\n",
       "      <td>150</td>\n",
       "      <td>6</td>\n",
       "      <td>0</td>\n",
       "      <td>0</td>\n",
       "      <td>1</td>\n",
       "      <td>...</td>\n",
       "      <td>2</td>\n",
       "      <td>0</td>\n",
       "      <td>2</td>\n",
       "      <td>7</td>\n",
       "      <td>6</td>\n",
       "      <td>13</td>\n",
       "      <td>6</td>\n",
       "      <td>3</td>\n",
       "      <td>1</td>\n",
       "      <td>1.000000</td>\n",
       "    </tr>\n",
       "  </tbody>\n",
       "</table>\n",
       "<p>738 rows × 25 columns</p>\n",
       "</div>"
      ],
      "text/plain": [
       "                 hp  atk  def  spa  spd  spe  Resistance Index  Entry Hazards  \\\n",
       "name                                                                            \n",
       "Bulbasaur        45   49   49   65   65   45                 2              0   \n",
       "Ivysaur          60   62   63   80   80   60                 2              0   \n",
       "Venusaur         80   82   83  100  100   80                 2              0   \n",
       "Charmander       39   52   43   60   50   65                 3              0   \n",
       "Charmeleon       58   64   58   80   65   80                 3              0   \n",
       "...             ...  ...  ...  ...  ...  ...               ...            ...   \n",
       "Glastrier       100  145  130   65  110   30                -3              0   \n",
       "Spectrier       100   65   60  145   80  130                 8              0   \n",
       "Calyrex         100   80   80   80   80   80                -2              0   \n",
       "Calyrex-Ice     100  165  150   85  130   50                -4              0   \n",
       "Calyrex-Shadow  100   85   80  165  100  150                 6              0   \n",
       "\n",
       "                Hazard Removal  Removal Deterrent  ...  HP Drain  HP Recovery  \\\n",
       "name                                               ...                          \n",
       "Bulbasaur                    0                  0  ...         2            1   \n",
       "Ivysaur                      0                  0  ...         2            1   \n",
       "Venusaur                     0                  0  ...         2            1   \n",
       "Charmander                   0                  0  ...         0            0   \n",
       "Charmeleon                   0                  0  ...         0            0   \n",
       "...                        ...                ...  ...       ...          ...   \n",
       "Glastrier                    0                  0  ...         0            0   \n",
       "Spectrier                    0                  1  ...         0            0   \n",
       "Calyrex                      0                  0  ...         2            0   \n",
       "Calyrex-Ice                  0                  0  ...         2            0   \n",
       "Calyrex-Shadow               0                  1  ...         2            0   \n",
       "\n",
       "                Weather Gimmick  Physical Cutoff 3  Physical Coverage 3  \\\n",
       "name                                                                      \n",
       "Bulbasaur                     5                  4                    3   \n",
       "Ivysaur                       5                  4                    3   \n",
       "Venusaur                      5                  6                    4   \n",
       "Charmander                    3                 10                    9   \n",
       "Charmeleon                    3                 10                    9   \n",
       "...                         ...                ...                  ...   \n",
       "Glastrier                     1                 12                    7   \n",
       "Spectrier                     0                  4                    4   \n",
       "Calyrex                       2                  3                    3   \n",
       "Calyrex-Ice                   2                 15                    9   \n",
       "Calyrex-Shadow                2                  7                    6   \n",
       "\n",
       "                Special Cutoff 3  Special Coverage 5  Misc Status  \\\n",
       "name                                                                \n",
       "Bulbasaur                      5                   2            4   \n",
       "Ivysaur                        5                   2            4   \n",
       "Venusaur                       6                   4            4   \n",
       "Charmander                     6                   2            3   \n",
       "Charmeleon                     6                   2            3   \n",
       "...                          ...                 ...          ...   \n",
       "Glastrier                      3                   2            2   \n",
       "Spectrier                      4                   3            3   \n",
       "Calyrex                        9                   4            3   \n",
       "Calyrex-Ice                   12                   5            3   \n",
       "Calyrex-Shadow                13                   6            3   \n",
       "\n",
       "                Unique Powerful Move  Best Ability  \n",
       "name                                                \n",
       "Bulbasaur                          0     63.636364  \n",
       "Ivysaur                            0     63.636364  \n",
       "Venusaur                           0     63.636364  \n",
       "Charmander                         0     50.000000  \n",
       "Charmeleon                         0     50.000000  \n",
       "...                              ...           ...  \n",
       "Glastrier                          0     75.000000  \n",
       "Spectrier                          0      1.000000  \n",
       "Calyrex                            0     18.181818  \n",
       "Calyrex-Ice                        1      1.000000  \n",
       "Calyrex-Shadow                     1      1.000000  \n",
       "\n",
       "[738 rows x 25 columns]"
      ]
     },
     "execution_count": 12,
     "metadata": {},
     "output_type": "execute_result"
    }
   ],
   "source": [
    "X.drop(columns=['Weather Set'], inplace=True)\n",
    "X"
   ]
  },
  {
   "cell_type": "markdown",
   "metadata": {},
   "source": [
    "- fold hp drain and hp recovery together into a recovery feature"
   ]
  },
  {
   "cell_type": "code",
   "execution_count": 13,
   "metadata": {},
   "outputs": [
    {
     "data": {
      "text/plain": [
       "0    517\n",
       "1    184\n",
       "2     37\n",
       "Name: HP Recovery, dtype: int64"
      ]
     },
     "execution_count": 13,
     "metadata": {},
     "output_type": "execute_result"
    }
   ],
   "source": [
    "X['HP Recovery'].value_counts()"
   ]
  },
  {
   "cell_type": "code",
   "execution_count": 14,
   "metadata": {},
   "outputs": [
    {
     "data": {
      "text/plain": [
       "0    482\n",
       "2    202\n",
       "1     49\n",
       "3      4\n",
       "4      1\n",
       "Name: HP Drain, dtype: int64"
      ]
     },
     "execution_count": 14,
     "metadata": {},
     "output_type": "execute_result"
    }
   ],
   "source": [
    "X['HP Drain'].value_counts()"
   ]
  },
  {
   "cell_type": "code",
   "execution_count": 15,
   "metadata": {},
   "outputs": [
    {
     "data": {
      "text/plain": [
       "0    382\n",
       "3    187\n",
       "2     91\n",
       "1     41\n",
       "4     37\n",
       "Name: HP Drain, dtype: int64"
      ]
     },
     "execution_count": 15,
     "metadata": {},
     "output_type": "execute_result"
    }
   ],
   "source": [
    "X.loc[X['HP Recovery'] == 1, 'HP Drain'] = 3\n",
    "X.loc[X['HP Recovery'] == 2, 'HP Drain'] = 4\n",
    "X['HP Drain'].value_counts()"
   ]
  },
  {
   "cell_type": "code",
   "execution_count": 16,
   "metadata": {},
   "outputs": [
    {
     "data": {
      "text/html": [
       "<div>\n",
       "<style scoped>\n",
       "    .dataframe tbody tr th:only-of-type {\n",
       "        vertical-align: middle;\n",
       "    }\n",
       "\n",
       "    .dataframe tbody tr th {\n",
       "        vertical-align: top;\n",
       "    }\n",
       "\n",
       "    .dataframe thead th {\n",
       "        text-align: right;\n",
       "    }\n",
       "</style>\n",
       "<table border=\"1\" class=\"dataframe\">\n",
       "  <thead>\n",
       "    <tr style=\"text-align: right;\">\n",
       "      <th></th>\n",
       "      <th>hp</th>\n",
       "      <th>atk</th>\n",
       "      <th>def</th>\n",
       "      <th>spa</th>\n",
       "      <th>spd</th>\n",
       "      <th>spe</th>\n",
       "      <th>Resistance Index</th>\n",
       "      <th>Entry Hazards</th>\n",
       "      <th>Hazard Removal</th>\n",
       "      <th>Removal Deterrent</th>\n",
       "      <th>...</th>\n",
       "      <th>Priority</th>\n",
       "      <th>HP Drain</th>\n",
       "      <th>Weather Gimmick</th>\n",
       "      <th>Physical Cutoff 3</th>\n",
       "      <th>Physical Coverage 3</th>\n",
       "      <th>Special Cutoff 3</th>\n",
       "      <th>Special Coverage 5</th>\n",
       "      <th>Misc Status</th>\n",
       "      <th>Unique Powerful Move</th>\n",
       "      <th>Best Ability</th>\n",
       "    </tr>\n",
       "    <tr>\n",
       "      <th>name</th>\n",
       "      <th></th>\n",
       "      <th></th>\n",
       "      <th></th>\n",
       "      <th></th>\n",
       "      <th></th>\n",
       "      <th></th>\n",
       "      <th></th>\n",
       "      <th></th>\n",
       "      <th></th>\n",
       "      <th></th>\n",
       "      <th></th>\n",
       "      <th></th>\n",
       "      <th></th>\n",
       "      <th></th>\n",
       "      <th></th>\n",
       "      <th></th>\n",
       "      <th></th>\n",
       "      <th></th>\n",
       "      <th></th>\n",
       "      <th></th>\n",
       "      <th></th>\n",
       "    </tr>\n",
       "  </thead>\n",
       "  <tbody>\n",
       "    <tr>\n",
       "      <th>Bulbasaur</th>\n",
       "      <td>45</td>\n",
       "      <td>49</td>\n",
       "      <td>49</td>\n",
       "      <td>65</td>\n",
       "      <td>65</td>\n",
       "      <td>45</td>\n",
       "      <td>2</td>\n",
       "      <td>0</td>\n",
       "      <td>0</td>\n",
       "      <td>0</td>\n",
       "      <td>...</td>\n",
       "      <td>0</td>\n",
       "      <td>3</td>\n",
       "      <td>5</td>\n",
       "      <td>4</td>\n",
       "      <td>3</td>\n",
       "      <td>5</td>\n",
       "      <td>2</td>\n",
       "      <td>4</td>\n",
       "      <td>0</td>\n",
       "      <td>63.636364</td>\n",
       "    </tr>\n",
       "    <tr>\n",
       "      <th>Ivysaur</th>\n",
       "      <td>60</td>\n",
       "      <td>62</td>\n",
       "      <td>63</td>\n",
       "      <td>80</td>\n",
       "      <td>80</td>\n",
       "      <td>60</td>\n",
       "      <td>2</td>\n",
       "      <td>0</td>\n",
       "      <td>0</td>\n",
       "      <td>0</td>\n",
       "      <td>...</td>\n",
       "      <td>0</td>\n",
       "      <td>3</td>\n",
       "      <td>5</td>\n",
       "      <td>4</td>\n",
       "      <td>3</td>\n",
       "      <td>5</td>\n",
       "      <td>2</td>\n",
       "      <td>4</td>\n",
       "      <td>0</td>\n",
       "      <td>63.636364</td>\n",
       "    </tr>\n",
       "    <tr>\n",
       "      <th>Venusaur</th>\n",
       "      <td>80</td>\n",
       "      <td>82</td>\n",
       "      <td>83</td>\n",
       "      <td>100</td>\n",
       "      <td>100</td>\n",
       "      <td>80</td>\n",
       "      <td>2</td>\n",
       "      <td>0</td>\n",
       "      <td>0</td>\n",
       "      <td>0</td>\n",
       "      <td>...</td>\n",
       "      <td>0</td>\n",
       "      <td>3</td>\n",
       "      <td>5</td>\n",
       "      <td>6</td>\n",
       "      <td>4</td>\n",
       "      <td>6</td>\n",
       "      <td>4</td>\n",
       "      <td>4</td>\n",
       "      <td>0</td>\n",
       "      <td>63.636364</td>\n",
       "    </tr>\n",
       "    <tr>\n",
       "      <th>Charmander</th>\n",
       "      <td>39</td>\n",
       "      <td>52</td>\n",
       "      <td>43</td>\n",
       "      <td>60</td>\n",
       "      <td>50</td>\n",
       "      <td>65</td>\n",
       "      <td>3</td>\n",
       "      <td>0</td>\n",
       "      <td>0</td>\n",
       "      <td>0</td>\n",
       "      <td>...</td>\n",
       "      <td>1</td>\n",
       "      <td>0</td>\n",
       "      <td>3</td>\n",
       "      <td>10</td>\n",
       "      <td>9</td>\n",
       "      <td>6</td>\n",
       "      <td>2</td>\n",
       "      <td>3</td>\n",
       "      <td>0</td>\n",
       "      <td>50.000000</td>\n",
       "    </tr>\n",
       "    <tr>\n",
       "      <th>Charmeleon</th>\n",
       "      <td>58</td>\n",
       "      <td>64</td>\n",
       "      <td>58</td>\n",
       "      <td>80</td>\n",
       "      <td>65</td>\n",
       "      <td>80</td>\n",
       "      <td>3</td>\n",
       "      <td>0</td>\n",
       "      <td>0</td>\n",
       "      <td>0</td>\n",
       "      <td>...</td>\n",
       "      <td>1</td>\n",
       "      <td>0</td>\n",
       "      <td>3</td>\n",
       "      <td>10</td>\n",
       "      <td>9</td>\n",
       "      <td>6</td>\n",
       "      <td>2</td>\n",
       "      <td>3</td>\n",
       "      <td>0</td>\n",
       "      <td>50.000000</td>\n",
       "    </tr>\n",
       "    <tr>\n",
       "      <th>...</th>\n",
       "      <td>...</td>\n",
       "      <td>...</td>\n",
       "      <td>...</td>\n",
       "      <td>...</td>\n",
       "      <td>...</td>\n",
       "      <td>...</td>\n",
       "      <td>...</td>\n",
       "      <td>...</td>\n",
       "      <td>...</td>\n",
       "      <td>...</td>\n",
       "      <td>...</td>\n",
       "      <td>...</td>\n",
       "      <td>...</td>\n",
       "      <td>...</td>\n",
       "      <td>...</td>\n",
       "      <td>...</td>\n",
       "      <td>...</td>\n",
       "      <td>...</td>\n",
       "      <td>...</td>\n",
       "      <td>...</td>\n",
       "      <td>...</td>\n",
       "    </tr>\n",
       "    <tr>\n",
       "      <th>Glastrier</th>\n",
       "      <td>100</td>\n",
       "      <td>145</td>\n",
       "      <td>130</td>\n",
       "      <td>65</td>\n",
       "      <td>110</td>\n",
       "      <td>30</td>\n",
       "      <td>-3</td>\n",
       "      <td>0</td>\n",
       "      <td>0</td>\n",
       "      <td>0</td>\n",
       "      <td>...</td>\n",
       "      <td>0</td>\n",
       "      <td>0</td>\n",
       "      <td>1</td>\n",
       "      <td>12</td>\n",
       "      <td>7</td>\n",
       "      <td>3</td>\n",
       "      <td>2</td>\n",
       "      <td>2</td>\n",
       "      <td>0</td>\n",
       "      <td>75.000000</td>\n",
       "    </tr>\n",
       "    <tr>\n",
       "      <th>Spectrier</th>\n",
       "      <td>100</td>\n",
       "      <td>65</td>\n",
       "      <td>60</td>\n",
       "      <td>145</td>\n",
       "      <td>80</td>\n",
       "      <td>130</td>\n",
       "      <td>8</td>\n",
       "      <td>0</td>\n",
       "      <td>0</td>\n",
       "      <td>1</td>\n",
       "      <td>...</td>\n",
       "      <td>0</td>\n",
       "      <td>0</td>\n",
       "      <td>0</td>\n",
       "      <td>4</td>\n",
       "      <td>4</td>\n",
       "      <td>4</td>\n",
       "      <td>3</td>\n",
       "      <td>3</td>\n",
       "      <td>0</td>\n",
       "      <td>1.000000</td>\n",
       "    </tr>\n",
       "    <tr>\n",
       "      <th>Calyrex</th>\n",
       "      <td>100</td>\n",
       "      <td>80</td>\n",
       "      <td>80</td>\n",
       "      <td>80</td>\n",
       "      <td>80</td>\n",
       "      <td>80</td>\n",
       "      <td>-2</td>\n",
       "      <td>0</td>\n",
       "      <td>0</td>\n",
       "      <td>0</td>\n",
       "      <td>...</td>\n",
       "      <td>0</td>\n",
       "      <td>2</td>\n",
       "      <td>2</td>\n",
       "      <td>3</td>\n",
       "      <td>3</td>\n",
       "      <td>9</td>\n",
       "      <td>4</td>\n",
       "      <td>3</td>\n",
       "      <td>0</td>\n",
       "      <td>18.181818</td>\n",
       "    </tr>\n",
       "    <tr>\n",
       "      <th>Calyrex-Ice</th>\n",
       "      <td>100</td>\n",
       "      <td>165</td>\n",
       "      <td>150</td>\n",
       "      <td>85</td>\n",
       "      <td>130</td>\n",
       "      <td>50</td>\n",
       "      <td>-4</td>\n",
       "      <td>0</td>\n",
       "      <td>0</td>\n",
       "      <td>0</td>\n",
       "      <td>...</td>\n",
       "      <td>0</td>\n",
       "      <td>2</td>\n",
       "      <td>2</td>\n",
       "      <td>15</td>\n",
       "      <td>9</td>\n",
       "      <td>12</td>\n",
       "      <td>5</td>\n",
       "      <td>3</td>\n",
       "      <td>1</td>\n",
       "      <td>1.000000</td>\n",
       "    </tr>\n",
       "    <tr>\n",
       "      <th>Calyrex-Shadow</th>\n",
       "      <td>100</td>\n",
       "      <td>85</td>\n",
       "      <td>80</td>\n",
       "      <td>165</td>\n",
       "      <td>100</td>\n",
       "      <td>150</td>\n",
       "      <td>6</td>\n",
       "      <td>0</td>\n",
       "      <td>0</td>\n",
       "      <td>1</td>\n",
       "      <td>...</td>\n",
       "      <td>0</td>\n",
       "      <td>2</td>\n",
       "      <td>2</td>\n",
       "      <td>7</td>\n",
       "      <td>6</td>\n",
       "      <td>13</td>\n",
       "      <td>6</td>\n",
       "      <td>3</td>\n",
       "      <td>1</td>\n",
       "      <td>1.000000</td>\n",
       "    </tr>\n",
       "  </tbody>\n",
       "</table>\n",
       "<p>738 rows × 24 columns</p>\n",
       "</div>"
      ],
      "text/plain": [
       "                 hp  atk  def  spa  spd  spe  Resistance Index  Entry Hazards  \\\n",
       "name                                                                            \n",
       "Bulbasaur        45   49   49   65   65   45                 2              0   \n",
       "Ivysaur          60   62   63   80   80   60                 2              0   \n",
       "Venusaur         80   82   83  100  100   80                 2              0   \n",
       "Charmander       39   52   43   60   50   65                 3              0   \n",
       "Charmeleon       58   64   58   80   65   80                 3              0   \n",
       "...             ...  ...  ...  ...  ...  ...               ...            ...   \n",
       "Glastrier       100  145  130   65  110   30                -3              0   \n",
       "Spectrier       100   65   60  145   80  130                 8              0   \n",
       "Calyrex         100   80   80   80   80   80                -2              0   \n",
       "Calyrex-Ice     100  165  150   85  130   50                -4              0   \n",
       "Calyrex-Shadow  100   85   80  165  100  150                 6              0   \n",
       "\n",
       "                Hazard Removal  Removal Deterrent  ...  Priority  HP Drain  \\\n",
       "name                                               ...                       \n",
       "Bulbasaur                    0                  0  ...         0         3   \n",
       "Ivysaur                      0                  0  ...         0         3   \n",
       "Venusaur                     0                  0  ...         0         3   \n",
       "Charmander                   0                  0  ...         1         0   \n",
       "Charmeleon                   0                  0  ...         1         0   \n",
       "...                        ...                ...  ...       ...       ...   \n",
       "Glastrier                    0                  0  ...         0         0   \n",
       "Spectrier                    0                  1  ...         0         0   \n",
       "Calyrex                      0                  0  ...         0         2   \n",
       "Calyrex-Ice                  0                  0  ...         0         2   \n",
       "Calyrex-Shadow               0                  1  ...         0         2   \n",
       "\n",
       "                Weather Gimmick  Physical Cutoff 3  Physical Coverage 3  \\\n",
       "name                                                                      \n",
       "Bulbasaur                     5                  4                    3   \n",
       "Ivysaur                       5                  4                    3   \n",
       "Venusaur                      5                  6                    4   \n",
       "Charmander                    3                 10                    9   \n",
       "Charmeleon                    3                 10                    9   \n",
       "...                         ...                ...                  ...   \n",
       "Glastrier                     1                 12                    7   \n",
       "Spectrier                     0                  4                    4   \n",
       "Calyrex                       2                  3                    3   \n",
       "Calyrex-Ice                   2                 15                    9   \n",
       "Calyrex-Shadow                2                  7                    6   \n",
       "\n",
       "                Special Cutoff 3  Special Coverage 5  Misc Status  \\\n",
       "name                                                                \n",
       "Bulbasaur                      5                   2            4   \n",
       "Ivysaur                        5                   2            4   \n",
       "Venusaur                       6                   4            4   \n",
       "Charmander                     6                   2            3   \n",
       "Charmeleon                     6                   2            3   \n",
       "...                          ...                 ...          ...   \n",
       "Glastrier                      3                   2            2   \n",
       "Spectrier                      4                   3            3   \n",
       "Calyrex                        9                   4            3   \n",
       "Calyrex-Ice                   12                   5            3   \n",
       "Calyrex-Shadow                13                   6            3   \n",
       "\n",
       "                Unique Powerful Move  Best Ability  \n",
       "name                                                \n",
       "Bulbasaur                          0     63.636364  \n",
       "Ivysaur                            0     63.636364  \n",
       "Venusaur                           0     63.636364  \n",
       "Charmander                         0     50.000000  \n",
       "Charmeleon                         0     50.000000  \n",
       "...                              ...           ...  \n",
       "Glastrier                          0     75.000000  \n",
       "Spectrier                          0      1.000000  \n",
       "Calyrex                            0     18.181818  \n",
       "Calyrex-Ice                        1      1.000000  \n",
       "Calyrex-Shadow                     1      1.000000  \n",
       "\n",
       "[738 rows x 24 columns]"
      ]
     },
     "execution_count": 16,
     "metadata": {},
     "output_type": "execute_result"
    }
   ],
   "source": [
    "X.drop(columns=['HP Recovery'], inplace=True)\n",
    "X"
   ]
  },
  {
   "cell_type": "code",
   "execution_count": 17,
   "metadata": {},
   "outputs": [
    {
     "data": {
      "text/html": [
       "<div>\n",
       "<style scoped>\n",
       "    .dataframe tbody tr th:only-of-type {\n",
       "        vertical-align: middle;\n",
       "    }\n",
       "\n",
       "    .dataframe tbody tr th {\n",
       "        vertical-align: top;\n",
       "    }\n",
       "\n",
       "    .dataframe thead th {\n",
       "        text-align: right;\n",
       "    }\n",
       "</style>\n",
       "<table border=\"1\" class=\"dataframe\">\n",
       "  <thead>\n",
       "    <tr style=\"text-align: right;\">\n",
       "      <th></th>\n",
       "      <th>hp</th>\n",
       "      <th>atk</th>\n",
       "      <th>def</th>\n",
       "      <th>spa</th>\n",
       "      <th>spd</th>\n",
       "      <th>spe</th>\n",
       "      <th>Resistance Index</th>\n",
       "      <th>Entry Hazards</th>\n",
       "      <th>Hazard Removal</th>\n",
       "      <th>Removal Deterrent</th>\n",
       "      <th>...</th>\n",
       "      <th>HP Drain</th>\n",
       "      <th>Weather Gimmick</th>\n",
       "      <th>Physical Cutoff 3</th>\n",
       "      <th>Physical Coverage 3</th>\n",
       "      <th>Special Cutoff 3</th>\n",
       "      <th>Special Coverage 5</th>\n",
       "      <th>Misc Status</th>\n",
       "      <th>Unique Powerful Move</th>\n",
       "      <th>Best Ability</th>\n",
       "      <th>HP Recovery</th>\n",
       "    </tr>\n",
       "    <tr>\n",
       "      <th>name</th>\n",
       "      <th></th>\n",
       "      <th></th>\n",
       "      <th></th>\n",
       "      <th></th>\n",
       "      <th></th>\n",
       "      <th></th>\n",
       "      <th></th>\n",
       "      <th></th>\n",
       "      <th></th>\n",
       "      <th></th>\n",
       "      <th></th>\n",
       "      <th></th>\n",
       "      <th></th>\n",
       "      <th></th>\n",
       "      <th></th>\n",
       "      <th></th>\n",
       "      <th></th>\n",
       "      <th></th>\n",
       "      <th></th>\n",
       "      <th></th>\n",
       "      <th></th>\n",
       "    </tr>\n",
       "  </thead>\n",
       "  <tbody>\n",
       "    <tr>\n",
       "      <th>Bulbasaur</th>\n",
       "      <td>45</td>\n",
       "      <td>49</td>\n",
       "      <td>49</td>\n",
       "      <td>65</td>\n",
       "      <td>65</td>\n",
       "      <td>45</td>\n",
       "      <td>2</td>\n",
       "      <td>0</td>\n",
       "      <td>0</td>\n",
       "      <td>0</td>\n",
       "      <td>...</td>\n",
       "      <td>3</td>\n",
       "      <td>5</td>\n",
       "      <td>4</td>\n",
       "      <td>3</td>\n",
       "      <td>5</td>\n",
       "      <td>2</td>\n",
       "      <td>4</td>\n",
       "      <td>0</td>\n",
       "      <td>63.636364</td>\n",
       "      <td>3</td>\n",
       "    </tr>\n",
       "    <tr>\n",
       "      <th>Ivysaur</th>\n",
       "      <td>60</td>\n",
       "      <td>62</td>\n",
       "      <td>63</td>\n",
       "      <td>80</td>\n",
       "      <td>80</td>\n",
       "      <td>60</td>\n",
       "      <td>2</td>\n",
       "      <td>0</td>\n",
       "      <td>0</td>\n",
       "      <td>0</td>\n",
       "      <td>...</td>\n",
       "      <td>3</td>\n",
       "      <td>5</td>\n",
       "      <td>4</td>\n",
       "      <td>3</td>\n",
       "      <td>5</td>\n",
       "      <td>2</td>\n",
       "      <td>4</td>\n",
       "      <td>0</td>\n",
       "      <td>63.636364</td>\n",
       "      <td>3</td>\n",
       "    </tr>\n",
       "    <tr>\n",
       "      <th>Venusaur</th>\n",
       "      <td>80</td>\n",
       "      <td>82</td>\n",
       "      <td>83</td>\n",
       "      <td>100</td>\n",
       "      <td>100</td>\n",
       "      <td>80</td>\n",
       "      <td>2</td>\n",
       "      <td>0</td>\n",
       "      <td>0</td>\n",
       "      <td>0</td>\n",
       "      <td>...</td>\n",
       "      <td>3</td>\n",
       "      <td>5</td>\n",
       "      <td>6</td>\n",
       "      <td>4</td>\n",
       "      <td>6</td>\n",
       "      <td>4</td>\n",
       "      <td>4</td>\n",
       "      <td>0</td>\n",
       "      <td>63.636364</td>\n",
       "      <td>3</td>\n",
       "    </tr>\n",
       "    <tr>\n",
       "      <th>Charmander</th>\n",
       "      <td>39</td>\n",
       "      <td>52</td>\n",
       "      <td>43</td>\n",
       "      <td>60</td>\n",
       "      <td>50</td>\n",
       "      <td>65</td>\n",
       "      <td>3</td>\n",
       "      <td>0</td>\n",
       "      <td>0</td>\n",
       "      <td>0</td>\n",
       "      <td>...</td>\n",
       "      <td>0</td>\n",
       "      <td>3</td>\n",
       "      <td>10</td>\n",
       "      <td>9</td>\n",
       "      <td>6</td>\n",
       "      <td>2</td>\n",
       "      <td>3</td>\n",
       "      <td>0</td>\n",
       "      <td>50.000000</td>\n",
       "      <td>0</td>\n",
       "    </tr>\n",
       "    <tr>\n",
       "      <th>Charmeleon</th>\n",
       "      <td>58</td>\n",
       "      <td>64</td>\n",
       "      <td>58</td>\n",
       "      <td>80</td>\n",
       "      <td>65</td>\n",
       "      <td>80</td>\n",
       "      <td>3</td>\n",
       "      <td>0</td>\n",
       "      <td>0</td>\n",
       "      <td>0</td>\n",
       "      <td>...</td>\n",
       "      <td>0</td>\n",
       "      <td>3</td>\n",
       "      <td>10</td>\n",
       "      <td>9</td>\n",
       "      <td>6</td>\n",
       "      <td>2</td>\n",
       "      <td>3</td>\n",
       "      <td>0</td>\n",
       "      <td>50.000000</td>\n",
       "      <td>0</td>\n",
       "    </tr>\n",
       "    <tr>\n",
       "      <th>...</th>\n",
       "      <td>...</td>\n",
       "      <td>...</td>\n",
       "      <td>...</td>\n",
       "      <td>...</td>\n",
       "      <td>...</td>\n",
       "      <td>...</td>\n",
       "      <td>...</td>\n",
       "      <td>...</td>\n",
       "      <td>...</td>\n",
       "      <td>...</td>\n",
       "      <td>...</td>\n",
       "      <td>...</td>\n",
       "      <td>...</td>\n",
       "      <td>...</td>\n",
       "      <td>...</td>\n",
       "      <td>...</td>\n",
       "      <td>...</td>\n",
       "      <td>...</td>\n",
       "      <td>...</td>\n",
       "      <td>...</td>\n",
       "      <td>...</td>\n",
       "    </tr>\n",
       "    <tr>\n",
       "      <th>Glastrier</th>\n",
       "      <td>100</td>\n",
       "      <td>145</td>\n",
       "      <td>130</td>\n",
       "      <td>65</td>\n",
       "      <td>110</td>\n",
       "      <td>30</td>\n",
       "      <td>-3</td>\n",
       "      <td>0</td>\n",
       "      <td>0</td>\n",
       "      <td>0</td>\n",
       "      <td>...</td>\n",
       "      <td>0</td>\n",
       "      <td>1</td>\n",
       "      <td>12</td>\n",
       "      <td>7</td>\n",
       "      <td>3</td>\n",
       "      <td>2</td>\n",
       "      <td>2</td>\n",
       "      <td>0</td>\n",
       "      <td>75.000000</td>\n",
       "      <td>0</td>\n",
       "    </tr>\n",
       "    <tr>\n",
       "      <th>Spectrier</th>\n",
       "      <td>100</td>\n",
       "      <td>65</td>\n",
       "      <td>60</td>\n",
       "      <td>145</td>\n",
       "      <td>80</td>\n",
       "      <td>130</td>\n",
       "      <td>8</td>\n",
       "      <td>0</td>\n",
       "      <td>0</td>\n",
       "      <td>1</td>\n",
       "      <td>...</td>\n",
       "      <td>0</td>\n",
       "      <td>0</td>\n",
       "      <td>4</td>\n",
       "      <td>4</td>\n",
       "      <td>4</td>\n",
       "      <td>3</td>\n",
       "      <td>3</td>\n",
       "      <td>0</td>\n",
       "      <td>1.000000</td>\n",
       "      <td>0</td>\n",
       "    </tr>\n",
       "    <tr>\n",
       "      <th>Calyrex</th>\n",
       "      <td>100</td>\n",
       "      <td>80</td>\n",
       "      <td>80</td>\n",
       "      <td>80</td>\n",
       "      <td>80</td>\n",
       "      <td>80</td>\n",
       "      <td>-2</td>\n",
       "      <td>0</td>\n",
       "      <td>0</td>\n",
       "      <td>0</td>\n",
       "      <td>...</td>\n",
       "      <td>2</td>\n",
       "      <td>2</td>\n",
       "      <td>3</td>\n",
       "      <td>3</td>\n",
       "      <td>9</td>\n",
       "      <td>4</td>\n",
       "      <td>3</td>\n",
       "      <td>0</td>\n",
       "      <td>18.181818</td>\n",
       "      <td>2</td>\n",
       "    </tr>\n",
       "    <tr>\n",
       "      <th>Calyrex-Ice</th>\n",
       "      <td>100</td>\n",
       "      <td>165</td>\n",
       "      <td>150</td>\n",
       "      <td>85</td>\n",
       "      <td>130</td>\n",
       "      <td>50</td>\n",
       "      <td>-4</td>\n",
       "      <td>0</td>\n",
       "      <td>0</td>\n",
       "      <td>0</td>\n",
       "      <td>...</td>\n",
       "      <td>2</td>\n",
       "      <td>2</td>\n",
       "      <td>15</td>\n",
       "      <td>9</td>\n",
       "      <td>12</td>\n",
       "      <td>5</td>\n",
       "      <td>3</td>\n",
       "      <td>1</td>\n",
       "      <td>1.000000</td>\n",
       "      <td>2</td>\n",
       "    </tr>\n",
       "    <tr>\n",
       "      <th>Calyrex-Shadow</th>\n",
       "      <td>100</td>\n",
       "      <td>85</td>\n",
       "      <td>80</td>\n",
       "      <td>165</td>\n",
       "      <td>100</td>\n",
       "      <td>150</td>\n",
       "      <td>6</td>\n",
       "      <td>0</td>\n",
       "      <td>0</td>\n",
       "      <td>1</td>\n",
       "      <td>...</td>\n",
       "      <td>2</td>\n",
       "      <td>2</td>\n",
       "      <td>7</td>\n",
       "      <td>6</td>\n",
       "      <td>13</td>\n",
       "      <td>6</td>\n",
       "      <td>3</td>\n",
       "      <td>1</td>\n",
       "      <td>1.000000</td>\n",
       "      <td>2</td>\n",
       "    </tr>\n",
       "  </tbody>\n",
       "</table>\n",
       "<p>738 rows × 25 columns</p>\n",
       "</div>"
      ],
      "text/plain": [
       "                 hp  atk  def  spa  spd  spe  Resistance Index  Entry Hazards  \\\n",
       "name                                                                            \n",
       "Bulbasaur        45   49   49   65   65   45                 2              0   \n",
       "Ivysaur          60   62   63   80   80   60                 2              0   \n",
       "Venusaur         80   82   83  100  100   80                 2              0   \n",
       "Charmander       39   52   43   60   50   65                 3              0   \n",
       "Charmeleon       58   64   58   80   65   80                 3              0   \n",
       "...             ...  ...  ...  ...  ...  ...               ...            ...   \n",
       "Glastrier       100  145  130   65  110   30                -3              0   \n",
       "Spectrier       100   65   60  145   80  130                 8              0   \n",
       "Calyrex         100   80   80   80   80   80                -2              0   \n",
       "Calyrex-Ice     100  165  150   85  130   50                -4              0   \n",
       "Calyrex-Shadow  100   85   80  165  100  150                 6              0   \n",
       "\n",
       "                Hazard Removal  Removal Deterrent  ...  HP Drain  \\\n",
       "name                                               ...             \n",
       "Bulbasaur                    0                  0  ...         3   \n",
       "Ivysaur                      0                  0  ...         3   \n",
       "Venusaur                     0                  0  ...         3   \n",
       "Charmander                   0                  0  ...         0   \n",
       "Charmeleon                   0                  0  ...         0   \n",
       "...                        ...                ...  ...       ...   \n",
       "Glastrier                    0                  0  ...         0   \n",
       "Spectrier                    0                  1  ...         0   \n",
       "Calyrex                      0                  0  ...         2   \n",
       "Calyrex-Ice                  0                  0  ...         2   \n",
       "Calyrex-Shadow               0                  1  ...         2   \n",
       "\n",
       "                Weather Gimmick  Physical Cutoff 3  Physical Coverage 3  \\\n",
       "name                                                                      \n",
       "Bulbasaur                     5                  4                    3   \n",
       "Ivysaur                       5                  4                    3   \n",
       "Venusaur                      5                  6                    4   \n",
       "Charmander                    3                 10                    9   \n",
       "Charmeleon                    3                 10                    9   \n",
       "...                         ...                ...                  ...   \n",
       "Glastrier                     1                 12                    7   \n",
       "Spectrier                     0                  4                    4   \n",
       "Calyrex                       2                  3                    3   \n",
       "Calyrex-Ice                   2                 15                    9   \n",
       "Calyrex-Shadow                2                  7                    6   \n",
       "\n",
       "                Special Cutoff 3  Special Coverage 5  Misc Status  \\\n",
       "name                                                                \n",
       "Bulbasaur                      5                   2            4   \n",
       "Ivysaur                        5                   2            4   \n",
       "Venusaur                       6                   4            4   \n",
       "Charmander                     6                   2            3   \n",
       "Charmeleon                     6                   2            3   \n",
       "...                          ...                 ...          ...   \n",
       "Glastrier                      3                   2            2   \n",
       "Spectrier                      4                   3            3   \n",
       "Calyrex                        9                   4            3   \n",
       "Calyrex-Ice                   12                   5            3   \n",
       "Calyrex-Shadow                13                   6            3   \n",
       "\n",
       "                Unique Powerful Move  Best Ability  HP Recovery  \n",
       "name                                                             \n",
       "Bulbasaur                          0     63.636364            3  \n",
       "Ivysaur                            0     63.636364            3  \n",
       "Venusaur                           0     63.636364            3  \n",
       "Charmander                         0     50.000000            0  \n",
       "Charmeleon                         0     50.000000            0  \n",
       "...                              ...           ...          ...  \n",
       "Glastrier                          0     75.000000            0  \n",
       "Spectrier                          0      1.000000            0  \n",
       "Calyrex                            0     18.181818            2  \n",
       "Calyrex-Ice                        1      1.000000            2  \n",
       "Calyrex-Shadow                     1      1.000000            2  \n",
       "\n",
       "[738 rows x 25 columns]"
      ]
     },
     "execution_count": 17,
     "metadata": {},
     "output_type": "execute_result"
    }
   ],
   "source": [
    "X['HP Recovery'] = X['HP Drain']\n",
    "X"
   ]
  },
  {
   "cell_type": "code",
   "execution_count": 18,
   "metadata": {},
   "outputs": [
    {
     "data": {
      "text/html": [
       "<div>\n",
       "<style scoped>\n",
       "    .dataframe tbody tr th:only-of-type {\n",
       "        vertical-align: middle;\n",
       "    }\n",
       "\n",
       "    .dataframe tbody tr th {\n",
       "        vertical-align: top;\n",
       "    }\n",
       "\n",
       "    .dataframe thead th {\n",
       "        text-align: right;\n",
       "    }\n",
       "</style>\n",
       "<table border=\"1\" class=\"dataframe\">\n",
       "  <thead>\n",
       "    <tr style=\"text-align: right;\">\n",
       "      <th></th>\n",
       "      <th>hp</th>\n",
       "      <th>atk</th>\n",
       "      <th>def</th>\n",
       "      <th>spa</th>\n",
       "      <th>spd</th>\n",
       "      <th>spe</th>\n",
       "      <th>Resistance Index</th>\n",
       "      <th>Entry Hazards</th>\n",
       "      <th>Hazard Removal</th>\n",
       "      <th>Removal Deterrent</th>\n",
       "      <th>...</th>\n",
       "      <th>Priority</th>\n",
       "      <th>Weather Gimmick</th>\n",
       "      <th>Physical Cutoff 3</th>\n",
       "      <th>Physical Coverage 3</th>\n",
       "      <th>Special Cutoff 3</th>\n",
       "      <th>Special Coverage 5</th>\n",
       "      <th>Misc Status</th>\n",
       "      <th>Unique Powerful Move</th>\n",
       "      <th>Best Ability</th>\n",
       "      <th>HP Recovery</th>\n",
       "    </tr>\n",
       "    <tr>\n",
       "      <th>name</th>\n",
       "      <th></th>\n",
       "      <th></th>\n",
       "      <th></th>\n",
       "      <th></th>\n",
       "      <th></th>\n",
       "      <th></th>\n",
       "      <th></th>\n",
       "      <th></th>\n",
       "      <th></th>\n",
       "      <th></th>\n",
       "      <th></th>\n",
       "      <th></th>\n",
       "      <th></th>\n",
       "      <th></th>\n",
       "      <th></th>\n",
       "      <th></th>\n",
       "      <th></th>\n",
       "      <th></th>\n",
       "      <th></th>\n",
       "      <th></th>\n",
       "      <th></th>\n",
       "    </tr>\n",
       "  </thead>\n",
       "  <tbody>\n",
       "    <tr>\n",
       "      <th>Bulbasaur</th>\n",
       "      <td>45</td>\n",
       "      <td>49</td>\n",
       "      <td>49</td>\n",
       "      <td>65</td>\n",
       "      <td>65</td>\n",
       "      <td>45</td>\n",
       "      <td>2</td>\n",
       "      <td>0</td>\n",
       "      <td>0</td>\n",
       "      <td>0</td>\n",
       "      <td>...</td>\n",
       "      <td>0</td>\n",
       "      <td>5</td>\n",
       "      <td>4</td>\n",
       "      <td>3</td>\n",
       "      <td>5</td>\n",
       "      <td>2</td>\n",
       "      <td>4</td>\n",
       "      <td>0</td>\n",
       "      <td>63.636364</td>\n",
       "      <td>3</td>\n",
       "    </tr>\n",
       "    <tr>\n",
       "      <th>Ivysaur</th>\n",
       "      <td>60</td>\n",
       "      <td>62</td>\n",
       "      <td>63</td>\n",
       "      <td>80</td>\n",
       "      <td>80</td>\n",
       "      <td>60</td>\n",
       "      <td>2</td>\n",
       "      <td>0</td>\n",
       "      <td>0</td>\n",
       "      <td>0</td>\n",
       "      <td>...</td>\n",
       "      <td>0</td>\n",
       "      <td>5</td>\n",
       "      <td>4</td>\n",
       "      <td>3</td>\n",
       "      <td>5</td>\n",
       "      <td>2</td>\n",
       "      <td>4</td>\n",
       "      <td>0</td>\n",
       "      <td>63.636364</td>\n",
       "      <td>3</td>\n",
       "    </tr>\n",
       "    <tr>\n",
       "      <th>Venusaur</th>\n",
       "      <td>80</td>\n",
       "      <td>82</td>\n",
       "      <td>83</td>\n",
       "      <td>100</td>\n",
       "      <td>100</td>\n",
       "      <td>80</td>\n",
       "      <td>2</td>\n",
       "      <td>0</td>\n",
       "      <td>0</td>\n",
       "      <td>0</td>\n",
       "      <td>...</td>\n",
       "      <td>0</td>\n",
       "      <td>5</td>\n",
       "      <td>6</td>\n",
       "      <td>4</td>\n",
       "      <td>6</td>\n",
       "      <td>4</td>\n",
       "      <td>4</td>\n",
       "      <td>0</td>\n",
       "      <td>63.636364</td>\n",
       "      <td>3</td>\n",
       "    </tr>\n",
       "    <tr>\n",
       "      <th>Charmander</th>\n",
       "      <td>39</td>\n",
       "      <td>52</td>\n",
       "      <td>43</td>\n",
       "      <td>60</td>\n",
       "      <td>50</td>\n",
       "      <td>65</td>\n",
       "      <td>3</td>\n",
       "      <td>0</td>\n",
       "      <td>0</td>\n",
       "      <td>0</td>\n",
       "      <td>...</td>\n",
       "      <td>1</td>\n",
       "      <td>3</td>\n",
       "      <td>10</td>\n",
       "      <td>9</td>\n",
       "      <td>6</td>\n",
       "      <td>2</td>\n",
       "      <td>3</td>\n",
       "      <td>0</td>\n",
       "      <td>50.000000</td>\n",
       "      <td>0</td>\n",
       "    </tr>\n",
       "    <tr>\n",
       "      <th>Charmeleon</th>\n",
       "      <td>58</td>\n",
       "      <td>64</td>\n",
       "      <td>58</td>\n",
       "      <td>80</td>\n",
       "      <td>65</td>\n",
       "      <td>80</td>\n",
       "      <td>3</td>\n",
       "      <td>0</td>\n",
       "      <td>0</td>\n",
       "      <td>0</td>\n",
       "      <td>...</td>\n",
       "      <td>1</td>\n",
       "      <td>3</td>\n",
       "      <td>10</td>\n",
       "      <td>9</td>\n",
       "      <td>6</td>\n",
       "      <td>2</td>\n",
       "      <td>3</td>\n",
       "      <td>0</td>\n",
       "      <td>50.000000</td>\n",
       "      <td>0</td>\n",
       "    </tr>\n",
       "    <tr>\n",
       "      <th>...</th>\n",
       "      <td>...</td>\n",
       "      <td>...</td>\n",
       "      <td>...</td>\n",
       "      <td>...</td>\n",
       "      <td>...</td>\n",
       "      <td>...</td>\n",
       "      <td>...</td>\n",
       "      <td>...</td>\n",
       "      <td>...</td>\n",
       "      <td>...</td>\n",
       "      <td>...</td>\n",
       "      <td>...</td>\n",
       "      <td>...</td>\n",
       "      <td>...</td>\n",
       "      <td>...</td>\n",
       "      <td>...</td>\n",
       "      <td>...</td>\n",
       "      <td>...</td>\n",
       "      <td>...</td>\n",
       "      <td>...</td>\n",
       "      <td>...</td>\n",
       "    </tr>\n",
       "    <tr>\n",
       "      <th>Glastrier</th>\n",
       "      <td>100</td>\n",
       "      <td>145</td>\n",
       "      <td>130</td>\n",
       "      <td>65</td>\n",
       "      <td>110</td>\n",
       "      <td>30</td>\n",
       "      <td>-3</td>\n",
       "      <td>0</td>\n",
       "      <td>0</td>\n",
       "      <td>0</td>\n",
       "      <td>...</td>\n",
       "      <td>0</td>\n",
       "      <td>1</td>\n",
       "      <td>12</td>\n",
       "      <td>7</td>\n",
       "      <td>3</td>\n",
       "      <td>2</td>\n",
       "      <td>2</td>\n",
       "      <td>0</td>\n",
       "      <td>75.000000</td>\n",
       "      <td>0</td>\n",
       "    </tr>\n",
       "    <tr>\n",
       "      <th>Spectrier</th>\n",
       "      <td>100</td>\n",
       "      <td>65</td>\n",
       "      <td>60</td>\n",
       "      <td>145</td>\n",
       "      <td>80</td>\n",
       "      <td>130</td>\n",
       "      <td>8</td>\n",
       "      <td>0</td>\n",
       "      <td>0</td>\n",
       "      <td>1</td>\n",
       "      <td>...</td>\n",
       "      <td>0</td>\n",
       "      <td>0</td>\n",
       "      <td>4</td>\n",
       "      <td>4</td>\n",
       "      <td>4</td>\n",
       "      <td>3</td>\n",
       "      <td>3</td>\n",
       "      <td>0</td>\n",
       "      <td>1.000000</td>\n",
       "      <td>0</td>\n",
       "    </tr>\n",
       "    <tr>\n",
       "      <th>Calyrex</th>\n",
       "      <td>100</td>\n",
       "      <td>80</td>\n",
       "      <td>80</td>\n",
       "      <td>80</td>\n",
       "      <td>80</td>\n",
       "      <td>80</td>\n",
       "      <td>-2</td>\n",
       "      <td>0</td>\n",
       "      <td>0</td>\n",
       "      <td>0</td>\n",
       "      <td>...</td>\n",
       "      <td>0</td>\n",
       "      <td>2</td>\n",
       "      <td>3</td>\n",
       "      <td>3</td>\n",
       "      <td>9</td>\n",
       "      <td>4</td>\n",
       "      <td>3</td>\n",
       "      <td>0</td>\n",
       "      <td>18.181818</td>\n",
       "      <td>2</td>\n",
       "    </tr>\n",
       "    <tr>\n",
       "      <th>Calyrex-Ice</th>\n",
       "      <td>100</td>\n",
       "      <td>165</td>\n",
       "      <td>150</td>\n",
       "      <td>85</td>\n",
       "      <td>130</td>\n",
       "      <td>50</td>\n",
       "      <td>-4</td>\n",
       "      <td>0</td>\n",
       "      <td>0</td>\n",
       "      <td>0</td>\n",
       "      <td>...</td>\n",
       "      <td>0</td>\n",
       "      <td>2</td>\n",
       "      <td>15</td>\n",
       "      <td>9</td>\n",
       "      <td>12</td>\n",
       "      <td>5</td>\n",
       "      <td>3</td>\n",
       "      <td>1</td>\n",
       "      <td>1.000000</td>\n",
       "      <td>2</td>\n",
       "    </tr>\n",
       "    <tr>\n",
       "      <th>Calyrex-Shadow</th>\n",
       "      <td>100</td>\n",
       "      <td>85</td>\n",
       "      <td>80</td>\n",
       "      <td>165</td>\n",
       "      <td>100</td>\n",
       "      <td>150</td>\n",
       "      <td>6</td>\n",
       "      <td>0</td>\n",
       "      <td>0</td>\n",
       "      <td>1</td>\n",
       "      <td>...</td>\n",
       "      <td>0</td>\n",
       "      <td>2</td>\n",
       "      <td>7</td>\n",
       "      <td>6</td>\n",
       "      <td>13</td>\n",
       "      <td>6</td>\n",
       "      <td>3</td>\n",
       "      <td>1</td>\n",
       "      <td>1.000000</td>\n",
       "      <td>2</td>\n",
       "    </tr>\n",
       "  </tbody>\n",
       "</table>\n",
       "<p>738 rows × 24 columns</p>\n",
       "</div>"
      ],
      "text/plain": [
       "                 hp  atk  def  spa  spd  spe  Resistance Index  Entry Hazards  \\\n",
       "name                                                                            \n",
       "Bulbasaur        45   49   49   65   65   45                 2              0   \n",
       "Ivysaur          60   62   63   80   80   60                 2              0   \n",
       "Venusaur         80   82   83  100  100   80                 2              0   \n",
       "Charmander       39   52   43   60   50   65                 3              0   \n",
       "Charmeleon       58   64   58   80   65   80                 3              0   \n",
       "...             ...  ...  ...  ...  ...  ...               ...            ...   \n",
       "Glastrier       100  145  130   65  110   30                -3              0   \n",
       "Spectrier       100   65   60  145   80  130                 8              0   \n",
       "Calyrex         100   80   80   80   80   80                -2              0   \n",
       "Calyrex-Ice     100  165  150   85  130   50                -4              0   \n",
       "Calyrex-Shadow  100   85   80  165  100  150                 6              0   \n",
       "\n",
       "                Hazard Removal  Removal Deterrent  ...  Priority  \\\n",
       "name                                               ...             \n",
       "Bulbasaur                    0                  0  ...         0   \n",
       "Ivysaur                      0                  0  ...         0   \n",
       "Venusaur                     0                  0  ...         0   \n",
       "Charmander                   0                  0  ...         1   \n",
       "Charmeleon                   0                  0  ...         1   \n",
       "...                        ...                ...  ...       ...   \n",
       "Glastrier                    0                  0  ...         0   \n",
       "Spectrier                    0                  1  ...         0   \n",
       "Calyrex                      0                  0  ...         0   \n",
       "Calyrex-Ice                  0                  0  ...         0   \n",
       "Calyrex-Shadow               0                  1  ...         0   \n",
       "\n",
       "                Weather Gimmick  Physical Cutoff 3  Physical Coverage 3  \\\n",
       "name                                                                      \n",
       "Bulbasaur                     5                  4                    3   \n",
       "Ivysaur                       5                  4                    3   \n",
       "Venusaur                      5                  6                    4   \n",
       "Charmander                    3                 10                    9   \n",
       "Charmeleon                    3                 10                    9   \n",
       "...                         ...                ...                  ...   \n",
       "Glastrier                     1                 12                    7   \n",
       "Spectrier                     0                  4                    4   \n",
       "Calyrex                       2                  3                    3   \n",
       "Calyrex-Ice                   2                 15                    9   \n",
       "Calyrex-Shadow                2                  7                    6   \n",
       "\n",
       "                Special Cutoff 3  Special Coverage 5  Misc Status  \\\n",
       "name                                                                \n",
       "Bulbasaur                      5                   2            4   \n",
       "Ivysaur                        5                   2            4   \n",
       "Venusaur                       6                   4            4   \n",
       "Charmander                     6                   2            3   \n",
       "Charmeleon                     6                   2            3   \n",
       "...                          ...                 ...          ...   \n",
       "Glastrier                      3                   2            2   \n",
       "Spectrier                      4                   3            3   \n",
       "Calyrex                        9                   4            3   \n",
       "Calyrex-Ice                   12                   5            3   \n",
       "Calyrex-Shadow                13                   6            3   \n",
       "\n",
       "                Unique Powerful Move  Best Ability  HP Recovery  \n",
       "name                                                             \n",
       "Bulbasaur                          0     63.636364            3  \n",
       "Ivysaur                            0     63.636364            3  \n",
       "Venusaur                           0     63.636364            3  \n",
       "Charmander                         0     50.000000            0  \n",
       "Charmeleon                         0     50.000000            0  \n",
       "...                              ...           ...          ...  \n",
       "Glastrier                          0     75.000000            0  \n",
       "Spectrier                          0      1.000000            0  \n",
       "Calyrex                            0     18.181818            2  \n",
       "Calyrex-Ice                        1      1.000000            2  \n",
       "Calyrex-Shadow                     1      1.000000            2  \n",
       "\n",
       "[738 rows x 24 columns]"
      ]
     },
     "execution_count": 18,
     "metadata": {},
     "output_type": "execute_result"
    }
   ],
   "source": [
    "X.drop(columns=['HP Drain'], inplace=True)\n",
    "X"
   ]
  },
  {
   "cell_type": "code",
   "execution_count": 19,
   "metadata": {
    "scrolled": true
   },
   "outputs": [
    {
     "data": {
      "text/plain": [
       "0    382\n",
       "3    187\n",
       "2     91\n",
       "1     41\n",
       "4     37\n",
       "Name: HP Recovery, dtype: int64"
      ]
     },
     "execution_count": 19,
     "metadata": {},
     "output_type": "execute_result"
    }
   ],
   "source": [
    "X['HP Recovery'].value_counts()"
   ]
  },
  {
   "cell_type": "markdown",
   "metadata": {},
   "source": [
    "- considering: removal deterrent (could arguably just remove since its abilities), hazard removal, cleric, entry hazards (all 3 of those might go into misc status)"
   ]
  },
  {
   "cell_type": "code",
   "execution_count": 20,
   "metadata": {},
   "outputs": [
    {
     "data": {
      "text/html": [
       "<div>\n",
       "<style scoped>\n",
       "    .dataframe tbody tr th:only-of-type {\n",
       "        vertical-align: middle;\n",
       "    }\n",
       "\n",
       "    .dataframe tbody tr th {\n",
       "        vertical-align: top;\n",
       "    }\n",
       "\n",
       "    .dataframe thead th {\n",
       "        text-align: right;\n",
       "    }\n",
       "</style>\n",
       "<table border=\"1\" class=\"dataframe\">\n",
       "  <thead>\n",
       "    <tr style=\"text-align: right;\">\n",
       "      <th></th>\n",
       "      <th>hp</th>\n",
       "      <th>atk</th>\n",
       "      <th>def</th>\n",
       "      <th>spa</th>\n",
       "      <th>spd</th>\n",
       "      <th>spe</th>\n",
       "      <th>Resistance Index</th>\n",
       "      <th>Entry Hazards</th>\n",
       "      <th>Hazard Removal</th>\n",
       "      <th>Cleric</th>\n",
       "      <th>...</th>\n",
       "      <th>Priority</th>\n",
       "      <th>Weather Gimmick</th>\n",
       "      <th>Physical Cutoff 3</th>\n",
       "      <th>Physical Coverage 3</th>\n",
       "      <th>Special Cutoff 3</th>\n",
       "      <th>Special Coverage 5</th>\n",
       "      <th>Misc Status</th>\n",
       "      <th>Unique Powerful Move</th>\n",
       "      <th>Best Ability</th>\n",
       "      <th>HP Recovery</th>\n",
       "    </tr>\n",
       "    <tr>\n",
       "      <th>name</th>\n",
       "      <th></th>\n",
       "      <th></th>\n",
       "      <th></th>\n",
       "      <th></th>\n",
       "      <th></th>\n",
       "      <th></th>\n",
       "      <th></th>\n",
       "      <th></th>\n",
       "      <th></th>\n",
       "      <th></th>\n",
       "      <th></th>\n",
       "      <th></th>\n",
       "      <th></th>\n",
       "      <th></th>\n",
       "      <th></th>\n",
       "      <th></th>\n",
       "      <th></th>\n",
       "      <th></th>\n",
       "      <th></th>\n",
       "      <th></th>\n",
       "      <th></th>\n",
       "    </tr>\n",
       "  </thead>\n",
       "  <tbody>\n",
       "    <tr>\n",
       "      <th>Bulbasaur</th>\n",
       "      <td>45</td>\n",
       "      <td>49</td>\n",
       "      <td>49</td>\n",
       "      <td>65</td>\n",
       "      <td>65</td>\n",
       "      <td>45</td>\n",
       "      <td>2</td>\n",
       "      <td>0</td>\n",
       "      <td>0</td>\n",
       "      <td>0</td>\n",
       "      <td>...</td>\n",
       "      <td>0</td>\n",
       "      <td>5</td>\n",
       "      <td>4</td>\n",
       "      <td>3</td>\n",
       "      <td>5</td>\n",
       "      <td>2</td>\n",
       "      <td>4</td>\n",
       "      <td>0</td>\n",
       "      <td>63.636364</td>\n",
       "      <td>3</td>\n",
       "    </tr>\n",
       "    <tr>\n",
       "      <th>Ivysaur</th>\n",
       "      <td>60</td>\n",
       "      <td>62</td>\n",
       "      <td>63</td>\n",
       "      <td>80</td>\n",
       "      <td>80</td>\n",
       "      <td>60</td>\n",
       "      <td>2</td>\n",
       "      <td>0</td>\n",
       "      <td>0</td>\n",
       "      <td>0</td>\n",
       "      <td>...</td>\n",
       "      <td>0</td>\n",
       "      <td>5</td>\n",
       "      <td>4</td>\n",
       "      <td>3</td>\n",
       "      <td>5</td>\n",
       "      <td>2</td>\n",
       "      <td>4</td>\n",
       "      <td>0</td>\n",
       "      <td>63.636364</td>\n",
       "      <td>3</td>\n",
       "    </tr>\n",
       "    <tr>\n",
       "      <th>Venusaur</th>\n",
       "      <td>80</td>\n",
       "      <td>82</td>\n",
       "      <td>83</td>\n",
       "      <td>100</td>\n",
       "      <td>100</td>\n",
       "      <td>80</td>\n",
       "      <td>2</td>\n",
       "      <td>0</td>\n",
       "      <td>0</td>\n",
       "      <td>0</td>\n",
       "      <td>...</td>\n",
       "      <td>0</td>\n",
       "      <td>5</td>\n",
       "      <td>6</td>\n",
       "      <td>4</td>\n",
       "      <td>6</td>\n",
       "      <td>4</td>\n",
       "      <td>4</td>\n",
       "      <td>0</td>\n",
       "      <td>63.636364</td>\n",
       "      <td>3</td>\n",
       "    </tr>\n",
       "    <tr>\n",
       "      <th>Charmander</th>\n",
       "      <td>39</td>\n",
       "      <td>52</td>\n",
       "      <td>43</td>\n",
       "      <td>60</td>\n",
       "      <td>50</td>\n",
       "      <td>65</td>\n",
       "      <td>3</td>\n",
       "      <td>0</td>\n",
       "      <td>0</td>\n",
       "      <td>0</td>\n",
       "      <td>...</td>\n",
       "      <td>1</td>\n",
       "      <td>3</td>\n",
       "      <td>10</td>\n",
       "      <td>9</td>\n",
       "      <td>6</td>\n",
       "      <td>2</td>\n",
       "      <td>3</td>\n",
       "      <td>0</td>\n",
       "      <td>50.000000</td>\n",
       "      <td>0</td>\n",
       "    </tr>\n",
       "    <tr>\n",
       "      <th>Charmeleon</th>\n",
       "      <td>58</td>\n",
       "      <td>64</td>\n",
       "      <td>58</td>\n",
       "      <td>80</td>\n",
       "      <td>65</td>\n",
       "      <td>80</td>\n",
       "      <td>3</td>\n",
       "      <td>0</td>\n",
       "      <td>0</td>\n",
       "      <td>0</td>\n",
       "      <td>...</td>\n",
       "      <td>1</td>\n",
       "      <td>3</td>\n",
       "      <td>10</td>\n",
       "      <td>9</td>\n",
       "      <td>6</td>\n",
       "      <td>2</td>\n",
       "      <td>3</td>\n",
       "      <td>0</td>\n",
       "      <td>50.000000</td>\n",
       "      <td>0</td>\n",
       "    </tr>\n",
       "    <tr>\n",
       "      <th>...</th>\n",
       "      <td>...</td>\n",
       "      <td>...</td>\n",
       "      <td>...</td>\n",
       "      <td>...</td>\n",
       "      <td>...</td>\n",
       "      <td>...</td>\n",
       "      <td>...</td>\n",
       "      <td>...</td>\n",
       "      <td>...</td>\n",
       "      <td>...</td>\n",
       "      <td>...</td>\n",
       "      <td>...</td>\n",
       "      <td>...</td>\n",
       "      <td>...</td>\n",
       "      <td>...</td>\n",
       "      <td>...</td>\n",
       "      <td>...</td>\n",
       "      <td>...</td>\n",
       "      <td>...</td>\n",
       "      <td>...</td>\n",
       "      <td>...</td>\n",
       "    </tr>\n",
       "    <tr>\n",
       "      <th>Glastrier</th>\n",
       "      <td>100</td>\n",
       "      <td>145</td>\n",
       "      <td>130</td>\n",
       "      <td>65</td>\n",
       "      <td>110</td>\n",
       "      <td>30</td>\n",
       "      <td>-3</td>\n",
       "      <td>0</td>\n",
       "      <td>0</td>\n",
       "      <td>0</td>\n",
       "      <td>...</td>\n",
       "      <td>0</td>\n",
       "      <td>1</td>\n",
       "      <td>12</td>\n",
       "      <td>7</td>\n",
       "      <td>3</td>\n",
       "      <td>2</td>\n",
       "      <td>2</td>\n",
       "      <td>0</td>\n",
       "      <td>75.000000</td>\n",
       "      <td>0</td>\n",
       "    </tr>\n",
       "    <tr>\n",
       "      <th>Spectrier</th>\n",
       "      <td>100</td>\n",
       "      <td>65</td>\n",
       "      <td>60</td>\n",
       "      <td>145</td>\n",
       "      <td>80</td>\n",
       "      <td>130</td>\n",
       "      <td>8</td>\n",
       "      <td>0</td>\n",
       "      <td>0</td>\n",
       "      <td>0</td>\n",
       "      <td>...</td>\n",
       "      <td>0</td>\n",
       "      <td>0</td>\n",
       "      <td>4</td>\n",
       "      <td>4</td>\n",
       "      <td>4</td>\n",
       "      <td>3</td>\n",
       "      <td>3</td>\n",
       "      <td>0</td>\n",
       "      <td>1.000000</td>\n",
       "      <td>0</td>\n",
       "    </tr>\n",
       "    <tr>\n",
       "      <th>Calyrex</th>\n",
       "      <td>100</td>\n",
       "      <td>80</td>\n",
       "      <td>80</td>\n",
       "      <td>80</td>\n",
       "      <td>80</td>\n",
       "      <td>80</td>\n",
       "      <td>-2</td>\n",
       "      <td>0</td>\n",
       "      <td>0</td>\n",
       "      <td>1</td>\n",
       "      <td>...</td>\n",
       "      <td>0</td>\n",
       "      <td>2</td>\n",
       "      <td>3</td>\n",
       "      <td>3</td>\n",
       "      <td>9</td>\n",
       "      <td>4</td>\n",
       "      <td>3</td>\n",
       "      <td>0</td>\n",
       "      <td>18.181818</td>\n",
       "      <td>2</td>\n",
       "    </tr>\n",
       "    <tr>\n",
       "      <th>Calyrex-Ice</th>\n",
       "      <td>100</td>\n",
       "      <td>165</td>\n",
       "      <td>150</td>\n",
       "      <td>85</td>\n",
       "      <td>130</td>\n",
       "      <td>50</td>\n",
       "      <td>-4</td>\n",
       "      <td>0</td>\n",
       "      <td>0</td>\n",
       "      <td>1</td>\n",
       "      <td>...</td>\n",
       "      <td>0</td>\n",
       "      <td>2</td>\n",
       "      <td>15</td>\n",
       "      <td>9</td>\n",
       "      <td>12</td>\n",
       "      <td>5</td>\n",
       "      <td>3</td>\n",
       "      <td>1</td>\n",
       "      <td>1.000000</td>\n",
       "      <td>2</td>\n",
       "    </tr>\n",
       "    <tr>\n",
       "      <th>Calyrex-Shadow</th>\n",
       "      <td>100</td>\n",
       "      <td>85</td>\n",
       "      <td>80</td>\n",
       "      <td>165</td>\n",
       "      <td>100</td>\n",
       "      <td>150</td>\n",
       "      <td>6</td>\n",
       "      <td>0</td>\n",
       "      <td>0</td>\n",
       "      <td>1</td>\n",
       "      <td>...</td>\n",
       "      <td>0</td>\n",
       "      <td>2</td>\n",
       "      <td>7</td>\n",
       "      <td>6</td>\n",
       "      <td>13</td>\n",
       "      <td>6</td>\n",
       "      <td>3</td>\n",
       "      <td>1</td>\n",
       "      <td>1.000000</td>\n",
       "      <td>2</td>\n",
       "    </tr>\n",
       "  </tbody>\n",
       "</table>\n",
       "<p>738 rows × 23 columns</p>\n",
       "</div>"
      ],
      "text/plain": [
       "                 hp  atk  def  spa  spd  spe  Resistance Index  Entry Hazards  \\\n",
       "name                                                                            \n",
       "Bulbasaur        45   49   49   65   65   45                 2              0   \n",
       "Ivysaur          60   62   63   80   80   60                 2              0   \n",
       "Venusaur         80   82   83  100  100   80                 2              0   \n",
       "Charmander       39   52   43   60   50   65                 3              0   \n",
       "Charmeleon       58   64   58   80   65   80                 3              0   \n",
       "...             ...  ...  ...  ...  ...  ...               ...            ...   \n",
       "Glastrier       100  145  130   65  110   30                -3              0   \n",
       "Spectrier       100   65   60  145   80  130                 8              0   \n",
       "Calyrex         100   80   80   80   80   80                -2              0   \n",
       "Calyrex-Ice     100  165  150   85  130   50                -4              0   \n",
       "Calyrex-Shadow  100   85   80  165  100  150                 6              0   \n",
       "\n",
       "                Hazard Removal  Cleric  ...  Priority  Weather Gimmick  \\\n",
       "name                                    ...                              \n",
       "Bulbasaur                    0       0  ...         0                5   \n",
       "Ivysaur                      0       0  ...         0                5   \n",
       "Venusaur                     0       0  ...         0                5   \n",
       "Charmander                   0       0  ...         1                3   \n",
       "Charmeleon                   0       0  ...         1                3   \n",
       "...                        ...     ...  ...       ...              ...   \n",
       "Glastrier                    0       0  ...         0                1   \n",
       "Spectrier                    0       0  ...         0                0   \n",
       "Calyrex                      0       1  ...         0                2   \n",
       "Calyrex-Ice                  0       1  ...         0                2   \n",
       "Calyrex-Shadow               0       1  ...         0                2   \n",
       "\n",
       "                Physical Cutoff 3  Physical Coverage 3  Special Cutoff 3  \\\n",
       "name                                                                       \n",
       "Bulbasaur                       4                    3                 5   \n",
       "Ivysaur                         4                    3                 5   \n",
       "Venusaur                        6                    4                 6   \n",
       "Charmander                     10                    9                 6   \n",
       "Charmeleon                     10                    9                 6   \n",
       "...                           ...                  ...               ...   \n",
       "Glastrier                      12                    7                 3   \n",
       "Spectrier                       4                    4                 4   \n",
       "Calyrex                         3                    3                 9   \n",
       "Calyrex-Ice                    15                    9                12   \n",
       "Calyrex-Shadow                  7                    6                13   \n",
       "\n",
       "                Special Coverage 5  Misc Status  Unique Powerful Move  \\\n",
       "name                                                                    \n",
       "Bulbasaur                        2            4                     0   \n",
       "Ivysaur                          2            4                     0   \n",
       "Venusaur                         4            4                     0   \n",
       "Charmander                       2            3                     0   \n",
       "Charmeleon                       2            3                     0   \n",
       "...                            ...          ...                   ...   \n",
       "Glastrier                        2            2                     0   \n",
       "Spectrier                        3            3                     0   \n",
       "Calyrex                          4            3                     0   \n",
       "Calyrex-Ice                      5            3                     1   \n",
       "Calyrex-Shadow                   6            3                     1   \n",
       "\n",
       "                Best Ability  HP Recovery  \n",
       "name                                       \n",
       "Bulbasaur          63.636364            3  \n",
       "Ivysaur            63.636364            3  \n",
       "Venusaur           63.636364            3  \n",
       "Charmander         50.000000            0  \n",
       "Charmeleon         50.000000            0  \n",
       "...                      ...          ...  \n",
       "Glastrier          75.000000            0  \n",
       "Spectrier           1.000000            0  \n",
       "Calyrex            18.181818            2  \n",
       "Calyrex-Ice         1.000000            2  \n",
       "Calyrex-Shadow      1.000000            2  \n",
       "\n",
       "[738 rows x 23 columns]"
      ]
     },
     "execution_count": 20,
     "metadata": {},
     "output_type": "execute_result"
    }
   ],
   "source": [
    "X.drop(columns=['Removal Deterrent'], inplace=True)\n",
    "X"
   ]
  },
  {
   "cell_type": "code",
   "execution_count": 21,
   "metadata": {},
   "outputs": [
    {
     "data": {
      "text/plain": [
       "3    335\n",
       "2    234\n",
       "1     89\n",
       "0     41\n",
       "4     35\n",
       "5      4\n",
       "Name: Misc Status, dtype: int64"
      ]
     },
     "execution_count": 21,
     "metadata": {},
     "output_type": "execute_result"
    }
   ],
   "source": [
    "X['Misc Status'].value_counts()"
   ]
  },
  {
   "cell_type": "code",
   "execution_count": 22,
   "metadata": {},
   "outputs": [
    {
     "data": {
      "text/plain": [
       "0    558\n",
       "1    174\n",
       "2      6\n",
       "Name: Hazard Removal, dtype: int64"
      ]
     },
     "execution_count": 22,
     "metadata": {},
     "output_type": "execute_result"
    }
   ],
   "source": [
    "X['Hazard Removal'].value_counts()"
   ]
  },
  {
   "cell_type": "code",
   "execution_count": 23,
   "metadata": {},
   "outputs": [
    {
     "data": {
      "text/plain": [
       "3    249\n",
       "4    205\n",
       "2    185\n",
       "1     63\n",
       "0     32\n",
       "5      4\n",
       "Name: Misc Status, dtype: int64"
      ]
     },
     "execution_count": 23,
     "metadata": {},
     "output_type": "execute_result"
    }
   ],
   "source": [
    "X.loc[X['Hazard Removal'] == 1, 'Misc Status'] = 4\n",
    "X['Misc Status'].value_counts()"
   ]
  },
  {
   "cell_type": "code",
   "execution_count": 24,
   "metadata": {},
   "outputs": [
    {
     "data": {
      "text/html": [
       "<div>\n",
       "<style scoped>\n",
       "    .dataframe tbody tr th:only-of-type {\n",
       "        vertical-align: middle;\n",
       "    }\n",
       "\n",
       "    .dataframe tbody tr th {\n",
       "        vertical-align: top;\n",
       "    }\n",
       "\n",
       "    .dataframe thead th {\n",
       "        text-align: right;\n",
       "    }\n",
       "</style>\n",
       "<table border=\"1\" class=\"dataframe\">\n",
       "  <thead>\n",
       "    <tr style=\"text-align: right;\">\n",
       "      <th></th>\n",
       "      <th>hp</th>\n",
       "      <th>atk</th>\n",
       "      <th>def</th>\n",
       "      <th>spa</th>\n",
       "      <th>spd</th>\n",
       "      <th>spe</th>\n",
       "      <th>Resistance Index</th>\n",
       "      <th>Entry Hazards</th>\n",
       "      <th>Cleric</th>\n",
       "      <th>Pivot</th>\n",
       "      <th>...</th>\n",
       "      <th>Priority</th>\n",
       "      <th>Weather Gimmick</th>\n",
       "      <th>Physical Cutoff 3</th>\n",
       "      <th>Physical Coverage 3</th>\n",
       "      <th>Special Cutoff 3</th>\n",
       "      <th>Special Coverage 5</th>\n",
       "      <th>Misc Status</th>\n",
       "      <th>Unique Powerful Move</th>\n",
       "      <th>Best Ability</th>\n",
       "      <th>HP Recovery</th>\n",
       "    </tr>\n",
       "    <tr>\n",
       "      <th>name</th>\n",
       "      <th></th>\n",
       "      <th></th>\n",
       "      <th></th>\n",
       "      <th></th>\n",
       "      <th></th>\n",
       "      <th></th>\n",
       "      <th></th>\n",
       "      <th></th>\n",
       "      <th></th>\n",
       "      <th></th>\n",
       "      <th></th>\n",
       "      <th></th>\n",
       "      <th></th>\n",
       "      <th></th>\n",
       "      <th></th>\n",
       "      <th></th>\n",
       "      <th></th>\n",
       "      <th></th>\n",
       "      <th></th>\n",
       "      <th></th>\n",
       "      <th></th>\n",
       "    </tr>\n",
       "  </thead>\n",
       "  <tbody>\n",
       "    <tr>\n",
       "      <th>Bulbasaur</th>\n",
       "      <td>45</td>\n",
       "      <td>49</td>\n",
       "      <td>49</td>\n",
       "      <td>65</td>\n",
       "      <td>65</td>\n",
       "      <td>45</td>\n",
       "      <td>2</td>\n",
       "      <td>0</td>\n",
       "      <td>0</td>\n",
       "      <td>0</td>\n",
       "      <td>...</td>\n",
       "      <td>0</td>\n",
       "      <td>5</td>\n",
       "      <td>4</td>\n",
       "      <td>3</td>\n",
       "      <td>5</td>\n",
       "      <td>2</td>\n",
       "      <td>4</td>\n",
       "      <td>0</td>\n",
       "      <td>63.636364</td>\n",
       "      <td>3</td>\n",
       "    </tr>\n",
       "    <tr>\n",
       "      <th>Ivysaur</th>\n",
       "      <td>60</td>\n",
       "      <td>62</td>\n",
       "      <td>63</td>\n",
       "      <td>80</td>\n",
       "      <td>80</td>\n",
       "      <td>60</td>\n",
       "      <td>2</td>\n",
       "      <td>0</td>\n",
       "      <td>0</td>\n",
       "      <td>0</td>\n",
       "      <td>...</td>\n",
       "      <td>0</td>\n",
       "      <td>5</td>\n",
       "      <td>4</td>\n",
       "      <td>3</td>\n",
       "      <td>5</td>\n",
       "      <td>2</td>\n",
       "      <td>4</td>\n",
       "      <td>0</td>\n",
       "      <td>63.636364</td>\n",
       "      <td>3</td>\n",
       "    </tr>\n",
       "    <tr>\n",
       "      <th>Venusaur</th>\n",
       "      <td>80</td>\n",
       "      <td>82</td>\n",
       "      <td>83</td>\n",
       "      <td>100</td>\n",
       "      <td>100</td>\n",
       "      <td>80</td>\n",
       "      <td>2</td>\n",
       "      <td>0</td>\n",
       "      <td>0</td>\n",
       "      <td>0</td>\n",
       "      <td>...</td>\n",
       "      <td>0</td>\n",
       "      <td>5</td>\n",
       "      <td>6</td>\n",
       "      <td>4</td>\n",
       "      <td>6</td>\n",
       "      <td>4</td>\n",
       "      <td>4</td>\n",
       "      <td>0</td>\n",
       "      <td>63.636364</td>\n",
       "      <td>3</td>\n",
       "    </tr>\n",
       "    <tr>\n",
       "      <th>Charmander</th>\n",
       "      <td>39</td>\n",
       "      <td>52</td>\n",
       "      <td>43</td>\n",
       "      <td>60</td>\n",
       "      <td>50</td>\n",
       "      <td>65</td>\n",
       "      <td>3</td>\n",
       "      <td>0</td>\n",
       "      <td>0</td>\n",
       "      <td>0</td>\n",
       "      <td>...</td>\n",
       "      <td>1</td>\n",
       "      <td>3</td>\n",
       "      <td>10</td>\n",
       "      <td>9</td>\n",
       "      <td>6</td>\n",
       "      <td>2</td>\n",
       "      <td>3</td>\n",
       "      <td>0</td>\n",
       "      <td>50.000000</td>\n",
       "      <td>0</td>\n",
       "    </tr>\n",
       "    <tr>\n",
       "      <th>Charmeleon</th>\n",
       "      <td>58</td>\n",
       "      <td>64</td>\n",
       "      <td>58</td>\n",
       "      <td>80</td>\n",
       "      <td>65</td>\n",
       "      <td>80</td>\n",
       "      <td>3</td>\n",
       "      <td>0</td>\n",
       "      <td>0</td>\n",
       "      <td>0</td>\n",
       "      <td>...</td>\n",
       "      <td>1</td>\n",
       "      <td>3</td>\n",
       "      <td>10</td>\n",
       "      <td>9</td>\n",
       "      <td>6</td>\n",
       "      <td>2</td>\n",
       "      <td>3</td>\n",
       "      <td>0</td>\n",
       "      <td>50.000000</td>\n",
       "      <td>0</td>\n",
       "    </tr>\n",
       "    <tr>\n",
       "      <th>...</th>\n",
       "      <td>...</td>\n",
       "      <td>...</td>\n",
       "      <td>...</td>\n",
       "      <td>...</td>\n",
       "      <td>...</td>\n",
       "      <td>...</td>\n",
       "      <td>...</td>\n",
       "      <td>...</td>\n",
       "      <td>...</td>\n",
       "      <td>...</td>\n",
       "      <td>...</td>\n",
       "      <td>...</td>\n",
       "      <td>...</td>\n",
       "      <td>...</td>\n",
       "      <td>...</td>\n",
       "      <td>...</td>\n",
       "      <td>...</td>\n",
       "      <td>...</td>\n",
       "      <td>...</td>\n",
       "      <td>...</td>\n",
       "      <td>...</td>\n",
       "    </tr>\n",
       "    <tr>\n",
       "      <th>Glastrier</th>\n",
       "      <td>100</td>\n",
       "      <td>145</td>\n",
       "      <td>130</td>\n",
       "      <td>65</td>\n",
       "      <td>110</td>\n",
       "      <td>30</td>\n",
       "      <td>-3</td>\n",
       "      <td>0</td>\n",
       "      <td>0</td>\n",
       "      <td>0</td>\n",
       "      <td>...</td>\n",
       "      <td>0</td>\n",
       "      <td>1</td>\n",
       "      <td>12</td>\n",
       "      <td>7</td>\n",
       "      <td>3</td>\n",
       "      <td>2</td>\n",
       "      <td>2</td>\n",
       "      <td>0</td>\n",
       "      <td>75.000000</td>\n",
       "      <td>0</td>\n",
       "    </tr>\n",
       "    <tr>\n",
       "      <th>Spectrier</th>\n",
       "      <td>100</td>\n",
       "      <td>65</td>\n",
       "      <td>60</td>\n",
       "      <td>145</td>\n",
       "      <td>80</td>\n",
       "      <td>130</td>\n",
       "      <td>8</td>\n",
       "      <td>0</td>\n",
       "      <td>0</td>\n",
       "      <td>0</td>\n",
       "      <td>...</td>\n",
       "      <td>0</td>\n",
       "      <td>0</td>\n",
       "      <td>4</td>\n",
       "      <td>4</td>\n",
       "      <td>4</td>\n",
       "      <td>3</td>\n",
       "      <td>3</td>\n",
       "      <td>0</td>\n",
       "      <td>1.000000</td>\n",
       "      <td>0</td>\n",
       "    </tr>\n",
       "    <tr>\n",
       "      <th>Calyrex</th>\n",
       "      <td>100</td>\n",
       "      <td>80</td>\n",
       "      <td>80</td>\n",
       "      <td>80</td>\n",
       "      <td>80</td>\n",
       "      <td>80</td>\n",
       "      <td>-2</td>\n",
       "      <td>0</td>\n",
       "      <td>1</td>\n",
       "      <td>0</td>\n",
       "      <td>...</td>\n",
       "      <td>0</td>\n",
       "      <td>2</td>\n",
       "      <td>3</td>\n",
       "      <td>3</td>\n",
       "      <td>9</td>\n",
       "      <td>4</td>\n",
       "      <td>3</td>\n",
       "      <td>0</td>\n",
       "      <td>18.181818</td>\n",
       "      <td>2</td>\n",
       "    </tr>\n",
       "    <tr>\n",
       "      <th>Calyrex-Ice</th>\n",
       "      <td>100</td>\n",
       "      <td>165</td>\n",
       "      <td>150</td>\n",
       "      <td>85</td>\n",
       "      <td>130</td>\n",
       "      <td>50</td>\n",
       "      <td>-4</td>\n",
       "      <td>0</td>\n",
       "      <td>1</td>\n",
       "      <td>0</td>\n",
       "      <td>...</td>\n",
       "      <td>0</td>\n",
       "      <td>2</td>\n",
       "      <td>15</td>\n",
       "      <td>9</td>\n",
       "      <td>12</td>\n",
       "      <td>5</td>\n",
       "      <td>3</td>\n",
       "      <td>1</td>\n",
       "      <td>1.000000</td>\n",
       "      <td>2</td>\n",
       "    </tr>\n",
       "    <tr>\n",
       "      <th>Calyrex-Shadow</th>\n",
       "      <td>100</td>\n",
       "      <td>85</td>\n",
       "      <td>80</td>\n",
       "      <td>165</td>\n",
       "      <td>100</td>\n",
       "      <td>150</td>\n",
       "      <td>6</td>\n",
       "      <td>0</td>\n",
       "      <td>1</td>\n",
       "      <td>0</td>\n",
       "      <td>...</td>\n",
       "      <td>0</td>\n",
       "      <td>2</td>\n",
       "      <td>7</td>\n",
       "      <td>6</td>\n",
       "      <td>13</td>\n",
       "      <td>6</td>\n",
       "      <td>3</td>\n",
       "      <td>1</td>\n",
       "      <td>1.000000</td>\n",
       "      <td>2</td>\n",
       "    </tr>\n",
       "  </tbody>\n",
       "</table>\n",
       "<p>738 rows × 22 columns</p>\n",
       "</div>"
      ],
      "text/plain": [
       "                 hp  atk  def  spa  spd  spe  Resistance Index  Entry Hazards  \\\n",
       "name                                                                            \n",
       "Bulbasaur        45   49   49   65   65   45                 2              0   \n",
       "Ivysaur          60   62   63   80   80   60                 2              0   \n",
       "Venusaur         80   82   83  100  100   80                 2              0   \n",
       "Charmander       39   52   43   60   50   65                 3              0   \n",
       "Charmeleon       58   64   58   80   65   80                 3              0   \n",
       "...             ...  ...  ...  ...  ...  ...               ...            ...   \n",
       "Glastrier       100  145  130   65  110   30                -3              0   \n",
       "Spectrier       100   65   60  145   80  130                 8              0   \n",
       "Calyrex         100   80   80   80   80   80                -2              0   \n",
       "Calyrex-Ice     100  165  150   85  130   50                -4              0   \n",
       "Calyrex-Shadow  100   85   80  165  100  150                 6              0   \n",
       "\n",
       "                Cleric  Pivot  ...  Priority  Weather Gimmick  \\\n",
       "name                           ...                              \n",
       "Bulbasaur            0      0  ...         0                5   \n",
       "Ivysaur              0      0  ...         0                5   \n",
       "Venusaur             0      0  ...         0                5   \n",
       "Charmander           0      0  ...         1                3   \n",
       "Charmeleon           0      0  ...         1                3   \n",
       "...                ...    ...  ...       ...              ...   \n",
       "Glastrier            0      0  ...         0                1   \n",
       "Spectrier            0      0  ...         0                0   \n",
       "Calyrex              1      0  ...         0                2   \n",
       "Calyrex-Ice          1      0  ...         0                2   \n",
       "Calyrex-Shadow       1      0  ...         0                2   \n",
       "\n",
       "                Physical Cutoff 3  Physical Coverage 3  Special Cutoff 3  \\\n",
       "name                                                                       \n",
       "Bulbasaur                       4                    3                 5   \n",
       "Ivysaur                         4                    3                 5   \n",
       "Venusaur                        6                    4                 6   \n",
       "Charmander                     10                    9                 6   \n",
       "Charmeleon                     10                    9                 6   \n",
       "...                           ...                  ...               ...   \n",
       "Glastrier                      12                    7                 3   \n",
       "Spectrier                       4                    4                 4   \n",
       "Calyrex                         3                    3                 9   \n",
       "Calyrex-Ice                    15                    9                12   \n",
       "Calyrex-Shadow                  7                    6                13   \n",
       "\n",
       "                Special Coverage 5  Misc Status  Unique Powerful Move  \\\n",
       "name                                                                    \n",
       "Bulbasaur                        2            4                     0   \n",
       "Ivysaur                          2            4                     0   \n",
       "Venusaur                         4            4                     0   \n",
       "Charmander                       2            3                     0   \n",
       "Charmeleon                       2            3                     0   \n",
       "...                            ...          ...                   ...   \n",
       "Glastrier                        2            2                     0   \n",
       "Spectrier                        3            3                     0   \n",
       "Calyrex                          4            3                     0   \n",
       "Calyrex-Ice                      5            3                     1   \n",
       "Calyrex-Shadow                   6            3                     1   \n",
       "\n",
       "                Best Ability  HP Recovery  \n",
       "name                                       \n",
       "Bulbasaur          63.636364            3  \n",
       "Ivysaur            63.636364            3  \n",
       "Venusaur           63.636364            3  \n",
       "Charmander         50.000000            0  \n",
       "Charmeleon         50.000000            0  \n",
       "...                      ...          ...  \n",
       "Glastrier          75.000000            0  \n",
       "Spectrier           1.000000            0  \n",
       "Calyrex            18.181818            2  \n",
       "Calyrex-Ice         1.000000            2  \n",
       "Calyrex-Shadow      1.000000            2  \n",
       "\n",
       "[738 rows x 22 columns]"
      ]
     },
     "execution_count": 24,
     "metadata": {},
     "output_type": "execute_result"
    }
   ],
   "source": [
    "X.drop(columns=['Hazard Removal'], inplace=True)\n",
    "X"
   ]
  },
  {
   "cell_type": "markdown",
   "metadata": {},
   "source": [
    "I'll just leave the other one's (Cleric and Entry Hazards) alone for now, updating them would be complicated and it's probably not even a good idea since they performed better than Hazard Removal"
   ]
  },
  {
   "cell_type": "markdown",
   "metadata": {},
   "source": [
    "<a id=\"clustering\"></a>\n",
    "### Clustering"
   ]
  },
  {
   "cell_type": "code",
   "execution_count": 25,
   "metadata": {},
   "outputs": [
    {
     "data": {
      "text/plain": [
       "[5, 10, 15, 20, 25, 30]"
      ]
     },
     "execution_count": 25,
     "metadata": {},
     "output_type": "execute_result"
    }
   ],
   "source": [
    "cluster_dfs = {}\n",
    "\n",
    "n_clusters = list(range(5, 35, 5))\n",
    "n_clusters"
   ]
  },
  {
   "cell_type": "markdown",
   "metadata": {},
   "source": [
    "The number of clusters we'll test in each model that uses clusters, which is only half of them, and we'll want to remember to convert those clusters to categories.\n",
    "\n",
    "We are going to do clustering of 4 different subsets of features, as we did during EDA:\n",
    "- one for overall features (scaled)\n",
    "- one for stats (scaled)\n",
    "- one for abilities (not scaled, because abilities are one-hot encoded)\n",
    "- one for learnsets (not scaled, because learnsets are one-hot encoded)\n",
    "\n",
    "Then we'll make 6 dataframes for each of the different amount of clusters, each with all of those 4 types, and they will go in the cluster_dfs dictionary"
   ]
  },
  {
   "cell_type": "code",
   "execution_count": 26,
   "metadata": {},
   "outputs": [],
   "source": [
    "cluster5 = pd.DataFrame(index=X.index, columns=['features', 'stats', 'abilities', 'learnsets'])\n",
    "\n",
    "X_scaled = StandardScaler().fit_transform(X)\n",
    "stats_scaled = StandardScaler().fit_transform(X.loc[:, ['hp', 'atk', 'def', 'spa', 'spd', 'spe']])\n",
    "\n",
    "kmeans = KMeans(n_clusters=5, random_state=273)\n",
    "cluster5['features'] = kmeans.fit_predict(X_scaled)\n",
    "\n",
    "kmeans = KMeans(n_clusters=5, random_state=273)\n",
    "cluster5['stats'] = kmeans.fit_predict(stats_scaled)\n",
    "\n",
    "kmeans = KMeans(n_clusters=5, random_state=273)\n",
    "cluster5['abilities'] = kmeans.fit_predict(pokemon_abilities_df)\n",
    "\n",
    "kmeans = KMeans(n_clusters=5, random_state=273)\n",
    "cluster5['learnsets'] = kmeans.fit_predict(pokemon_learnsets_df)\n",
    "\n",
    "cluster_dfs[5] = cluster5"
   ]
  },
  {
   "cell_type": "code",
   "execution_count": 27,
   "metadata": {},
   "outputs": [],
   "source": [
    "cluster10 = pd.DataFrame(index=X.index, columns=['features', 'stats', 'abilities', 'learnsets'])\n",
    "\n",
    "X_scaled = StandardScaler().fit_transform(X)\n",
    "stats_scaled = StandardScaler().fit_transform(X.loc[:, ['hp', 'atk', 'def', 'spa', 'spd', 'spe']])\n",
    "\n",
    "kmeans = KMeans(n_clusters=10, random_state=273)\n",
    "cluster10['features'] = kmeans.fit_predict(X_scaled)\n",
    "\n",
    "kmeans = KMeans(n_clusters=10, random_state=273)\n",
    "cluster10['stats'] = kmeans.fit_predict(stats_scaled)\n",
    "\n",
    "kmeans = KMeans(n_clusters=10, random_state=273)\n",
    "cluster10['abilities'] = kmeans.fit_predict(pokemon_abilities_df)\n",
    "\n",
    "kmeans = KMeans(n_clusters=10, random_state=273)\n",
    "cluster10['learnsets'] = kmeans.fit_predict(pokemon_learnsets_df)\n",
    "\n",
    "cluster_dfs[10] = cluster10"
   ]
  },
  {
   "cell_type": "code",
   "execution_count": 28,
   "metadata": {},
   "outputs": [],
   "source": [
    "cluster15 = pd.DataFrame(index=X.index, columns=['features', 'stats', 'abilities', 'learnsets'])\n",
    "\n",
    "X_scaled = StandardScaler().fit_transform(X)\n",
    "stats_scaled = StandardScaler().fit_transform(X.loc[:, ['hp', 'atk', 'def', 'spa', 'spd', 'spe']])\n",
    "\n",
    "kmeans = KMeans(n_clusters=15, random_state=273)\n",
    "cluster15['features'] = kmeans.fit_predict(X_scaled)\n",
    "\n",
    "kmeans = KMeans(n_clusters=15, random_state=273)\n",
    "cluster15['stats'] = kmeans.fit_predict(stats_scaled)\n",
    "\n",
    "kmeans = KMeans(n_clusters=15, random_state=273)\n",
    "cluster15['abilities'] = kmeans.fit_predict(pokemon_abilities_df)\n",
    "\n",
    "kmeans = KMeans(n_clusters=15, random_state=273)\n",
    "cluster15['learnsets'] = kmeans.fit_predict(pokemon_learnsets_df)\n",
    "\n",
    "cluster_dfs[15] = cluster15"
   ]
  },
  {
   "cell_type": "code",
   "execution_count": 29,
   "metadata": {},
   "outputs": [],
   "source": [
    "cluster20 = pd.DataFrame(index=X.index, columns=['features', 'stats', 'abilities', 'learnsets'])\n",
    "\n",
    "X_scaled = StandardScaler().fit_transform(X)\n",
    "stats_scaled = StandardScaler().fit_transform(X.loc[:, ['hp', 'atk', 'def', 'spa', 'spd', 'spe']])\n",
    "\n",
    "kmeans = KMeans(n_clusters=20, random_state=273)\n",
    "cluster20['features'] = kmeans.fit_predict(X_scaled)\n",
    "\n",
    "kmeans = KMeans(n_clusters=20, random_state=273)\n",
    "cluster20['stats'] = kmeans.fit_predict(stats_scaled)\n",
    "\n",
    "kmeans = KMeans(n_clusters=20, random_state=273)\n",
    "cluster20['abilities'] = kmeans.fit_predict(pokemon_abilities_df)\n",
    "\n",
    "kmeans = KMeans(n_clusters=20, random_state=273)\n",
    "cluster20['learnsets'] = kmeans.fit_predict(pokemon_learnsets_df)\n",
    "\n",
    "cluster_dfs[20] = cluster20"
   ]
  },
  {
   "cell_type": "code",
   "execution_count": 30,
   "metadata": {},
   "outputs": [],
   "source": [
    "cluster25 = pd.DataFrame(index=X.index, columns=['features', 'stats', 'abilities', 'learnsets'])\n",
    "\n",
    "X_scaled = StandardScaler().fit_transform(X)\n",
    "stats_scaled = StandardScaler().fit_transform(X.loc[:, ['hp', 'atk', 'def', 'spa', 'spd', 'spe']])\n",
    "\n",
    "kmeans = KMeans(n_clusters=25, random_state=273)\n",
    "cluster25['features'] = kmeans.fit_predict(X_scaled)\n",
    "\n",
    "kmeans = KMeans(n_clusters=25, random_state=273)\n",
    "cluster25['stats'] = kmeans.fit_predict(stats_scaled)\n",
    "\n",
    "kmeans = KMeans(n_clusters=25, random_state=273)\n",
    "cluster25['abilities'] = kmeans.fit_predict(pokemon_abilities_df)\n",
    "\n",
    "kmeans = KMeans(n_clusters=25, random_state=273)\n",
    "cluster25['learnsets'] = kmeans.fit_predict(pokemon_learnsets_df)\n",
    "\n",
    "cluster_dfs[25] = cluster25"
   ]
  },
  {
   "cell_type": "code",
   "execution_count": 31,
   "metadata": {},
   "outputs": [],
   "source": [
    "cluster30 = pd.DataFrame(index=X.index, columns=['features', 'stats', 'abilities', 'learnsets'])\n",
    "\n",
    "X_scaled = StandardScaler().fit_transform(X)\n",
    "stats_scaled = StandardScaler().fit_transform(X.loc[:, ['hp', 'atk', 'def', 'spa', 'spd', 'spe']])\n",
    "\n",
    "kmeans = KMeans(n_clusters=30, random_state=273)\n",
    "cluster30['features'] = kmeans.fit_predict(X_scaled)\n",
    "\n",
    "kmeans = KMeans(n_clusters=30, random_state=273)\n",
    "cluster30['stats'] = kmeans.fit_predict(stats_scaled)\n",
    "\n",
    "kmeans = KMeans(n_clusters=30, random_state=273)\n",
    "cluster30['abilities'] = kmeans.fit_predict(pokemon_abilities_df)\n",
    "\n",
    "kmeans = KMeans(n_clusters=30, random_state=273)\n",
    "cluster30['learnsets'] = kmeans.fit_predict(pokemon_learnsets_df)\n",
    "\n",
    "cluster_dfs[30] = cluster30"
   ]
  },
  {
   "cell_type": "code",
   "execution_count": 32,
   "metadata": {},
   "outputs": [
    {
     "data": {
      "text/plain": [
       "{5:                 features  stats  abilities  learnsets\n",
       " name                                                 \n",
       " Bulbasaur              0      1          2          1\n",
       " Ivysaur                1      1          2          1\n",
       " Venusaur               2      3          2          1\n",
       " Charmander             0      1          0          2\n",
       " Charmeleon             1      4          0          2\n",
       " ...                  ...    ...        ...        ...\n",
       " Glastrier              3      0          0          3\n",
       " Spectrier              1      3          0          3\n",
       " Calyrex                2      2          0          1\n",
       " Calyrex-Ice            4      0          0          1\n",
       " Calyrex-Shadow         4      3          0          1\n",
       " \n",
       " [738 rows x 4 columns],\n",
       " 10:                 features  stats  abilities  learnsets\n",
       " name                                                 \n",
       " Bulbasaur              3      5          1          3\n",
       " Ivysaur                9      9          1          3\n",
       " Venusaur               9      9          1          3\n",
       " Charmander             3      5          1          5\n",
       " Charmeleon             5      8          1          5\n",
       " ...                  ...    ...        ...        ...\n",
       " Glastrier              5      0          1          7\n",
       " Spectrier              1      8          1          7\n",
       " Calyrex                0      9          1          0\n",
       " Calyrex-Ice            2      0          1          0\n",
       " Calyrex-Shadow         2      2          1          0\n",
       " \n",
       " [738 rows x 4 columns],\n",
       " 15:                 features  stats  abilities  learnsets\n",
       " name                                                 \n",
       " Bulbasaur             12      4          6          5\n",
       " Ivysaur               12      4          6          5\n",
       " Venusaur              12      2          6          5\n",
       " Charmander            11      7          0          4\n",
       " Charmeleon            11     13          0          4\n",
       " ...                  ...    ...        ...        ...\n",
       " Glastrier              5      6          0          0\n",
       " Spectrier              7     13          0          0\n",
       " Calyrex                2      9          0         13\n",
       " Calyrex-Ice            0      0          0         13\n",
       " Calyrex-Shadow         0     11          0         13\n",
       " \n",
       " [738 rows x 4 columns],\n",
       " 20:                 features  stats  abilities  learnsets\n",
       " name                                                 \n",
       " Bulbasaur             14      6          2          5\n",
       " Ivysaur                2     11          2          5\n",
       " Venusaur               2     13          2          5\n",
       " Charmander            13     16         11         15\n",
       " Charmeleon            13     11         11         15\n",
       " ...                  ...    ...        ...        ...\n",
       " Glastrier              6      7          5          9\n",
       " Spectrier             12     12          5          9\n",
       " Calyrex                7      1          5         11\n",
       " Calyrex-Ice            9      8          5         11\n",
       " Calyrex-Shadow         9      3          5         11\n",
       " \n",
       " [738 rows x 4 columns],\n",
       " 25:                 features  stats  abilities  learnsets\n",
       " name                                                 \n",
       " Bulbasaur             16      7          9         16\n",
       " Ivysaur               16      7          9         16\n",
       " Venusaur              21      4          9         16\n",
       " Charmander            18     11          8         14\n",
       " Charmeleon            14      2          8         14\n",
       " ...                  ...    ...        ...        ...\n",
       " Glastrier              3     16          5          4\n",
       " Spectrier             14      3          5          4\n",
       " Calyrex               20      5          5         11\n",
       " Calyrex-Ice           11     16          5         11\n",
       " Calyrex-Shadow        11      3          5         11\n",
       " \n",
       " [738 rows x 4 columns],\n",
       " 30:                 features  stats  abilities  learnsets\n",
       " name                                                 \n",
       " Bulbasaur              8      6         11          9\n",
       " Ivysaur                8     17         11          9\n",
       " Venusaur               8      5         11          9\n",
       " Charmander            13      8          2         21\n",
       " Charmeleon            13     18          2         21\n",
       " ...                  ...    ...        ...        ...\n",
       " Glastrier              0     21          1         18\n",
       " Spectrier              1      3          1          1\n",
       " Calyrex               19     22         28         25\n",
       " Calyrex-Ice           29     10          1         25\n",
       " Calyrex-Shadow        29      3          1         25\n",
       " \n",
       " [738 rows x 4 columns]}"
      ]
     },
     "execution_count": 32,
     "metadata": {},
     "output_type": "execute_result"
    }
   ],
   "source": [
    "cluster_dfs"
   ]
  },
  {
   "cell_type": "markdown",
   "metadata": {},
   "source": [
    "<a id=\"modeling_guidelines\"></a>\n",
    "### Modeling guidelines"
   ]
  },
  {
   "cell_type": "markdown",
   "metadata": {},
   "source": [
    "How many models am I making:\n",
    "\n",
    "one-stage: (3 + 1) x 2, 8 one-stage models: 7 class no clusters, 4 class no clusters, 4 class modified no clusters, 2 class no clusters, then each with clusters\n",
    "\n",
    "two-stage: (2 + 1) x 2, 6 two-stage models: 7 class no clusters, 4 class no clusters, 4 class modified no clusters, then each with clusters\n",
    "\n",
    "14 total models for each modeling type\n",
    "\n",
    "Modeling types: Logistic Regression, KNN, Decision Tree, Random Forest, CatBoost"
   ]
  },
  {
   "cell_type": "markdown",
   "metadata": {},
   "source": [
    "Extra considerations:\n",
    "\n",
    "- For Logistic Regression and KNN we will need to scale our features.\n",
    "\n",
    "- We might not even bother with clustering using something like logistic regression, though we can look up whether it might be worthwhile\n",
    "\n",
    "- Metric will be weighted F1 score, there is no well developed ROC curve for multi-class, log loss is not good for unbalanced classes, F1 score weighted should be especially appropriate for unbalanced classes and where we don't care more about precision or recall (there is no greater cost to a false positive or false negative for our problem)"
   ]
  },
  {
   "cell_type": "code",
   "execution_count": 33,
   "metadata": {},
   "outputs": [],
   "source": [
    "k_list = [2, 3, 5, 10]\n",
    "\n",
    "cluster_types = list(cluster_dfs[5].columns)"
   ]
  },
  {
   "cell_type": "markdown",
   "metadata": {},
   "source": [
    "<a id=\"dt\"></a>\n",
    "### Decision Tree"
   ]
  },
  {
   "cell_type": "code",
   "execution_count": 34,
   "metadata": {},
   "outputs": [
    {
     "data": {
      "text/plain": [
       "dict_keys(['memory', 'steps', 'verbose', 'decisiontreeclassifier', 'decisiontreeclassifier__ccp_alpha', 'decisiontreeclassifier__class_weight', 'decisiontreeclassifier__criterion', 'decisiontreeclassifier__max_depth', 'decisiontreeclassifier__max_features', 'decisiontreeclassifier__max_leaf_nodes', 'decisiontreeclassifier__min_impurity_decrease', 'decisiontreeclassifier__min_impurity_split', 'decisiontreeclassifier__min_samples_leaf', 'decisiontreeclassifier__min_samples_split', 'decisiontreeclassifier__min_weight_fraction_leaf', 'decisiontreeclassifier__random_state', 'decisiontreeclassifier__splitter'])"
      ]
     },
     "execution_count": 34,
     "metadata": {},
     "output_type": "execute_result"
    }
   ],
   "source": [
    "pipe = make_pipeline(\n",
    "    DecisionTreeClassifier(random_state=273))\n",
    "\n",
    "pipe.get_params().keys()"
   ]
  },
  {
   "cell_type": "code",
   "execution_count": 35,
   "metadata": {},
   "outputs": [
    {
     "data": {
      "text/plain": [
       "{'decisiontreeclassifier__max_depth': [5, 10, 20, 40],\n",
       " 'decisiontreeclassifier__min_samples_split': [2, 5, 10, 20, 40],\n",
       " 'decisiontreeclassifier__min_samples_leaf': [1, 2, 5, 10, 20, 40],\n",
       " 'decisiontreeclassifier__class_weight': [None, 'balanced']}"
      ]
     },
     "execution_count": 35,
     "metadata": {},
     "output_type": "execute_result"
    }
   ],
   "source": [
    "param_grid = {'decisiontreeclassifier__max_depth': [5, 10, 20, 40],\n",
    "              'decisiontreeclassifier__min_samples_split': [2, 5, 10, 20, 40],\n",
    "              'decisiontreeclassifier__min_samples_leaf': [1, 2, 5, 10, 20, 40],\n",
    "              'decisiontreeclassifier__class_weight': [None, 'balanced']}\n",
    "param_grid"
   ]
  },
  {
   "cell_type": "markdown",
   "metadata": {},
   "source": [
    "#### 7 classes, no clusters"
   ]
  },
  {
   "cell_type": "code",
   "execution_count": 36,
   "metadata": {},
   "outputs": [
    {
     "data": {
      "text/plain": [
       "(0.5318290312188122, 10)"
      ]
     },
     "execution_count": 36,
     "metadata": {},
     "output_type": "execute_result"
    }
   ],
   "source": [
    "best = []\n",
    "\n",
    "for k in k_list:\n",
    "    pipe = make_pipeline(\n",
    "        DecisionTreeClassifier(random_state=273))\n",
    "    X_train, X_test, y_train, y_test = train_test_split(X, y_df['formats'],\n",
    "                                                    test_size=0.25,\n",
    "                                                    random_state=273,\n",
    "                                                    stratify=y_df['formats'].values)\n",
    "    dt_grid = GridSearchCV(pipe, param_grid, scoring=make_scorer(f1_score, average='weighted'), n_jobs=-1, cv=k, verbose=0)\n",
    "    dt_grid.fit(X_train, y_train)\n",
    "    best.append(dt_grid.best_score_)\n",
    "\n",
    "max(best), k_list[best.index(max(best))]"
   ]
  },
  {
   "cell_type": "code",
   "execution_count": 37,
   "metadata": {},
   "outputs": [
    {
     "data": {
      "text/plain": [
       "({'decisiontreeclassifier__class_weight': None,\n",
       "  'decisiontreeclassifier__max_depth': 10,\n",
       "  'decisiontreeclassifier__min_samples_leaf': 5,\n",
       "  'decisiontreeclassifier__min_samples_split': 40},\n",
       " 0.5318290312188122)"
      ]
     },
     "execution_count": 37,
     "metadata": {},
     "output_type": "execute_result"
    }
   ],
   "source": [
    "pipe = make_pipeline(\n",
    "    DecisionTreeClassifier(random_state=273))\n",
    "X_train, X_test, y_train, y_test = train_test_split(X, y_df['formats'],\n",
    "                                                    test_size=0.25,\n",
    "                                                    random_state=273,\n",
    "                                                    stratify=y_df['formats'].values)\n",
    "dt_grid = GridSearchCV(pipe, param_grid, scoring=make_scorer(f1_score, average='weighted'), n_jobs=-1, cv=10, verbose=0)\n",
    "dt_grid.fit(X_train, y_train)\n",
    "dt_grid.best_params_, dt_grid.best_score_"
   ]
  },
  {
   "cell_type": "code",
   "execution_count": 38,
   "metadata": {},
   "outputs": [
    {
     "data": {
      "text/plain": [
       "0.6167818874054956"
      ]
     },
     "execution_count": 38,
     "metadata": {},
     "output_type": "execute_result"
    }
   ],
   "source": [
    "f1_score(y_train, dt_grid.predict(X_train), labels=['ZU', 'PU', 'NU', 'RU', 'UU', 'OU', 'Uber'], average='weighted')"
   ]
  },
  {
   "cell_type": "code",
   "execution_count": 39,
   "metadata": {},
   "outputs": [
    {
     "name": "stderr",
     "output_type": "stream",
     "text": [
      "C:\\Users\\Owner\\anaconda3\\envs\\SecondCapstone\\lib\\site-packages\\sklearn\\metrics\\_classification.py:1248: UndefinedMetricWarning: Precision and F-score are ill-defined and being set to 0.0 in labels with no predicted samples. Use `zero_division` parameter to control this behavior.\n",
      "  _warn_prf(average, modifier, msg_start, len(result))\n"
     ]
    },
    {
     "data": {
      "text/plain": [
       "(array([0.85306122, 0.52380952, 0.30769231, 0.        , 0.4       ,\n",
       "        0.3442623 , 0.63636364]),\n",
       " array([0.83266932, 0.64705882, 0.51612903, 0.        , 0.17647059,\n",
       "        0.48837209, 0.525     ]),\n",
       " array([0.84274194, 0.57894737, 0.38554217, 0.        , 0.24489796,\n",
       "        0.40384615, 0.57534247]),\n",
       " array([251, 119,  31,  35,  34,  43,  40], dtype=int64))"
      ]
     },
     "execution_count": 39,
     "metadata": {},
     "output_type": "execute_result"
    }
   ],
   "source": [
    "precision_recall_fscore_support(y_train, dt_grid.predict(X_train), labels=['ZU', 'PU', 'NU', 'RU', 'UU', 'OU', 'Uber'])"
   ]
  },
  {
   "cell_type": "markdown",
   "metadata": {},
   "source": [
    "The scores on this decision tree are pretty poor compared to logistic regression and KNN. The overall average is a bit lower, and while it does surprisingly well (though not actually well) on NU, some classes like RU literally got nothing correct, and UU, OU and Uber saw significant decreases. Still, let's visualize this tree just to see what it looks like:"
   ]
  },
  {
   "cell_type": "code",
   "execution_count": 40,
   "metadata": {},
   "outputs": [
    {
     "data": {
      "text/plain": [
       "'trees\\\\7classdt.png'"
      ]
     },
     "execution_count": 40,
     "metadata": {},
     "output_type": "execute_result"
    }
   ],
   "source": [
    "export_graphviz(dt_grid.best_estimator_['decisiontreeclassifier'], out_file='trees/7classdt.dot',\n",
    "               feature_names = X_train.columns,\n",
    "               class_names = sorted(list(y_train.unique())), #needs to be in alphabetical order\n",
    "               rounded = True, proportion = False, precision = 2, filled = True)\n",
    "\n",
    "#There seems to be a problem with \"GraphViz's executables not found\"\n",
    "#So I'm inserting some additional lines to fix it\n",
    "os.environ[\"PATH\"] += os.pathsep + r'C:\\Users\\Owner\\anaconda3\\pkgs\\graphviz-2.38-hfd603c8_2\\Library\\bin\\graphviz'\n",
    "\n",
    "render('dot', 'png', 'trees/7classdt.dot', outfile='trees/7classdt.png')"
   ]
  },
  {
   "cell_type": "markdown",
   "metadata": {},
   "source": [
    "Yes, this tree is pretty unreasonable, for example there is one split in which if the attack is over 91, it puts the pokemon in ZU, the lowest tier, and gives it a chance to be in a higher tier if it's attack is higher. This obviously doesn't capture the essence of the class."
   ]
  },
  {
   "cell_type": "markdown",
   "metadata": {},
   "source": [
    "#### 4 class no clusters"
   ]
  },
  {
   "cell_type": "code",
   "execution_count": 41,
   "metadata": {},
   "outputs": [
    {
     "data": {
      "text/plain": [
       "(0.5959004981971628, 10)"
      ]
     },
     "execution_count": 41,
     "metadata": {},
     "output_type": "execute_result"
    }
   ],
   "source": [
    "best = []\n",
    "\n",
    "for k in k_list:\n",
    "    pipe = make_pipeline(\n",
    "        DecisionTreeClassifier(random_state=273))\n",
    "    X_train, X_test, y_train, y_test = train_test_split(X, y_df['formats4'],\n",
    "                                                    test_size=0.25,\n",
    "                                                    random_state=273,\n",
    "                                                    stratify=y_df['formats4'].values)\n",
    "    dt_grid = GridSearchCV(pipe, param_grid, scoring=make_scorer(f1_score, average='weighted'), n_jobs=-1, cv=k, verbose=0)\n",
    "    dt_grid.fit(X_train, y_train)\n",
    "    best.append(dt_grid.best_score_)\n",
    "\n",
    "max(best), k_list[best.index(max(best))]"
   ]
  },
  {
   "cell_type": "code",
   "execution_count": 42,
   "metadata": {},
   "outputs": [
    {
     "data": {
      "text/plain": [
       "({'decisiontreeclassifier__class_weight': None,\n",
       "  'decisiontreeclassifier__max_depth': 10,\n",
       "  'decisiontreeclassifier__min_samples_leaf': 1,\n",
       "  'decisiontreeclassifier__min_samples_split': 2},\n",
       " 0.5959004981971628)"
      ]
     },
     "execution_count": 42,
     "metadata": {},
     "output_type": "execute_result"
    }
   ],
   "source": [
    "pipe = make_pipeline(\n",
    "    DecisionTreeClassifier(random_state=273))\n",
    "X_train, X_test, y_train, y_test = train_test_split(X, y_df['formats4'],\n",
    "                                                    test_size=0.25,\n",
    "                                                    random_state=273,\n",
    "                                                    stratify=y_df['formats4'].values)\n",
    "dt_grid = GridSearchCV(pipe, param_grid, scoring=make_scorer(f1_score, average='weighted'), n_jobs=-1, cv=10, verbose=0)\n",
    "dt_grid.fit(X_train, y_train)\n",
    "dt_grid.best_params_, dt_grid.best_score_"
   ]
  },
  {
   "cell_type": "markdown",
   "metadata": {},
   "source": [
    "Interesting, this one has much lower counts for the minimum split and leaf samples, but the performance is still quite poor."
   ]
  },
  {
   "cell_type": "code",
   "execution_count": 43,
   "metadata": {},
   "outputs": [
    {
     "data": {
      "text/plain": [
       "0.9801185987970462"
      ]
     },
     "execution_count": 43,
     "metadata": {},
     "output_type": "execute_result"
    }
   ],
   "source": [
    "f1_score(y_train, dt_grid.predict(X_train), labels=['Not c', 'Low c', 'Mid c', 'High c'], average='weighted')"
   ]
  },
  {
   "cell_type": "code",
   "execution_count": 44,
   "metadata": {},
   "outputs": [
    {
     "data": {
      "text/plain": [
       "(array([0.99193548, 0.96638655, 0.98      , 0.96511628]),\n",
       " array([0.98007968, 0.96638655, 0.98      , 1.        ]),\n",
       " array([0.98597194, 0.96638655, 0.98      , 0.98224852]),\n",
       " array([251, 119, 100,  83], dtype=int64))"
      ]
     },
     "execution_count": 44,
     "metadata": {},
     "output_type": "execute_result"
    }
   ],
   "source": [
    "precision_recall_fscore_support(y_train, dt_grid.predict(X_train), labels=['Not c', 'Low c', 'Mid c', 'High c'])"
   ]
  },
  {
   "cell_type": "markdown",
   "metadata": {},
   "source": [
    "Similarly to KNN, this decision tree is probably massively overfitting. The cross validation scores are very low yet the model has nearly 100%? It's hard to believe, though maybe we have so few samples that cross-validation does give a skewed impression since there are so few examples in each fold. As with KNN, we'll have to see how it performs on the test set to see if we can believe it.\n",
    "\n",
    "One thing we know that is having low values for minimum leaf and split samples can lead to overfitting, so that's is also probably a large part of what's happening here. However, we did cross-validate so it still performed better on that then having higher minimum samples.\n",
    "\n",
    "Let's see what it's getting wrong:"
   ]
  },
  {
   "cell_type": "code",
   "execution_count": 45,
   "metadata": {},
   "outputs": [
    {
     "data": {
      "text/html": [
       "<div>\n",
       "<style scoped>\n",
       "    .dataframe tbody tr th:only-of-type {\n",
       "        vertical-align: middle;\n",
       "    }\n",
       "\n",
       "    .dataframe tbody tr th {\n",
       "        vertical-align: top;\n",
       "    }\n",
       "\n",
       "    .dataframe thead th {\n",
       "        text-align: right;\n",
       "    }\n",
       "</style>\n",
       "<table border=\"1\" class=\"dataframe\">\n",
       "  <thead>\n",
       "    <tr style=\"text-align: right;\">\n",
       "      <th></th>\n",
       "      <th>0</th>\n",
       "      <th>formats4</th>\n",
       "    </tr>\n",
       "    <tr>\n",
       "      <th>name</th>\n",
       "      <th></th>\n",
       "      <th></th>\n",
       "    </tr>\n",
       "  </thead>\n",
       "  <tbody>\n",
       "    <tr>\n",
       "      <th>Gourgeist-Large</th>\n",
       "      <td>Mid c</td>\n",
       "      <td>Not c</td>\n",
       "    </tr>\n",
       "    <tr>\n",
       "      <th>Gastrodon</th>\n",
       "      <td>High c</td>\n",
       "      <td>Mid c</td>\n",
       "    </tr>\n",
       "    <tr>\n",
       "      <th>Silvally-Bug</th>\n",
       "      <td>Not c</td>\n",
       "      <td>Low c</td>\n",
       "    </tr>\n",
       "    <tr>\n",
       "      <th>Rotom-Fan</th>\n",
       "      <td>High c</td>\n",
       "      <td>Low c</td>\n",
       "    </tr>\n",
       "    <tr>\n",
       "      <th>Silvally-Dark</th>\n",
       "      <td>Low c</td>\n",
       "      <td>Not c</td>\n",
       "    </tr>\n",
       "    <tr>\n",
       "      <th>Thievul</th>\n",
       "      <td>High c</td>\n",
       "      <td>Not c</td>\n",
       "    </tr>\n",
       "    <tr>\n",
       "      <th>Silvally-Steel</th>\n",
       "      <td>Low c</td>\n",
       "      <td>Mid c</td>\n",
       "    </tr>\n",
       "    <tr>\n",
       "      <th>Silvally-Dragon</th>\n",
       "      <td>Not c</td>\n",
       "      <td>Low c</td>\n",
       "    </tr>\n",
       "    <tr>\n",
       "      <th>Lanturn</th>\n",
       "      <td>Mid c</td>\n",
       "      <td>Low c</td>\n",
       "    </tr>\n",
       "    <tr>\n",
       "      <th>Silvally-Flying</th>\n",
       "      <td>Low c</td>\n",
       "      <td>Not c</td>\n",
       "    </tr>\n",
       "    <tr>\n",
       "      <th>Sliggoo</th>\n",
       "      <td>Low c</td>\n",
       "      <td>Not c</td>\n",
       "    </tr>\n",
       "  </tbody>\n",
       "</table>\n",
       "</div>"
      ],
      "text/plain": [
       "                      0 formats4\n",
       "name                            \n",
       "Gourgeist-Large   Mid c    Not c\n",
       "Gastrodon        High c    Mid c\n",
       "Silvally-Bug      Not c    Low c\n",
       "Rotom-Fan        High c    Low c\n",
       "Silvally-Dark     Low c    Not c\n",
       "Thievul          High c    Not c\n",
       "Silvally-Steel    Low c    Mid c\n",
       "Silvally-Dragon   Not c    Low c\n",
       "Lanturn           Mid c    Low c\n",
       "Silvally-Flying   Low c    Not c\n",
       "Sliggoo           Low c    Not c"
      ]
     },
     "execution_count": 45,
     "metadata": {},
     "output_type": "execute_result"
    }
   ],
   "source": [
    "wrong = pd.DataFrame(dt_grid.predict(X_train), index=X_train.index).merge(y_train, on='name')\n",
    "wrong.loc[wrong[0] != wrong['formats4']]"
   ]
  },
  {
   "cell_type": "markdown",
   "metadata": {},
   "source": [
    "More than Silvally this time, though there is a lot of that. It's interesting that the model always guesses non-Silvally pokemon as higher than they are.\n",
    "\n",
    "Now let's make our visualization:"
   ]
  },
  {
   "cell_type": "code",
   "execution_count": 46,
   "metadata": {},
   "outputs": [
    {
     "data": {
      "text/plain": [
       "'trees\\\\4classdt.png'"
      ]
     },
     "execution_count": 46,
     "metadata": {},
     "output_type": "execute_result"
    }
   ],
   "source": [
    "export_graphviz(dt_grid.best_estimator_['decisiontreeclassifier'], out_file='trees/4classdt.dot',\n",
    "               feature_names = X_train.columns,\n",
    "               class_names = sorted(list(y_train.unique())), #needs to be in alphabetical order\n",
    "               rounded = True, proportion = False, precision = 2, filled = True)\n",
    "\n",
    "render('dot', 'png', 'trees/4classdt.dot', outfile='trees/4classdt.png')"
   ]
  },
  {
   "cell_type": "markdown",
   "metadata": {},
   "source": [
    "The low minimum samples makes this tree quite complex.  And there are still at least some nonsensical splits, like in the bottom right corner, we have a split that puts a pokemon in low competitive if it's stats are low on a bunch of things that aren't bad, but low competitive isn't the lowest class. However, this split has a sample of 1, which is both an example of absurd overfitting and explaining why such nonsense would be possible. So I'm also inclined to think that this model isn't very good."
   ]
  },
  {
   "cell_type": "markdown",
   "metadata": {},
   "source": [
    "#### 4 class alt no clusters"
   ]
  },
  {
   "cell_type": "code",
   "execution_count": 47,
   "metadata": {},
   "outputs": [
    {
     "data": {
      "text/plain": [
       "(0.6235339024869554, 5)"
      ]
     },
     "execution_count": 47,
     "metadata": {},
     "output_type": "execute_result"
    }
   ],
   "source": [
    "best = []\n",
    "\n",
    "for k in k_list:\n",
    "    pipe = make_pipeline(\n",
    "        DecisionTreeClassifier(random_state=273))\n",
    "    X_train, X_test, y_train, y_test = train_test_split(X, y_df['formats4alt'],\n",
    "                                                    test_size=0.25,\n",
    "                                                    random_state=273,\n",
    "                                                    stratify=y_df['formats4alt'].values)\n",
    "    dt_grid = GridSearchCV(pipe, param_grid, scoring=make_scorer(f1_score, average='weighted'), n_jobs=-1, cv=k, verbose=0)\n",
    "    dt_grid.fit(X_train, y_train)\n",
    "    best.append(dt_grid.best_score_)\n",
    "\n",
    "max(best), k_list[best.index(max(best))]"
   ]
  },
  {
   "cell_type": "code",
   "execution_count": 48,
   "metadata": {},
   "outputs": [
    {
     "data": {
      "text/plain": [
       "({'decisiontreeclassifier__class_weight': 'balanced',\n",
       "  'decisiontreeclassifier__max_depth': 20,\n",
       "  'decisiontreeclassifier__min_samples_leaf': 5,\n",
       "  'decisiontreeclassifier__min_samples_split': 2},\n",
       " 0.6235339024869554)"
      ]
     },
     "execution_count": 48,
     "metadata": {},
     "output_type": "execute_result"
    }
   ],
   "source": [
    "pipe = make_pipeline(\n",
    "    DecisionTreeClassifier(random_state=273))\n",
    "X_train, X_test, y_train, y_test = train_test_split(X, y_df['formats4alt'],\n",
    "                                                    test_size=0.25,\n",
    "                                                    random_state=273,\n",
    "                                                    stratify=y_df['formats4alt'].values)\n",
    "dt_grid = GridSearchCV(pipe, param_grid, scoring=make_scorer(f1_score, average='weighted'), n_jobs=-1, cv=5, verbose=0)\n",
    "dt_grid.fit(X_train, y_train)\n",
    "dt_grid.best_params_, dt_grid.best_score_"
   ]
  },
  {
   "cell_type": "markdown",
   "metadata": {},
   "source": [
    "This is the first time that the tree is using balanced class weights! It's also a very deep tree. The min samples split is very low, but min leaf of 5 is probably less prone to overfitting than for the last tree at least."
   ]
  },
  {
   "cell_type": "code",
   "execution_count": 49,
   "metadata": {},
   "outputs": [
    {
     "data": {
      "text/plain": [
       "0.8175913105129116"
      ]
     },
     "execution_count": 49,
     "metadata": {},
     "output_type": "execute_result"
    }
   ],
   "source": [
    "f1_score(y_train, dt_grid.predict(X_train), labels=['Not c', 'Low c', 'Mid c', 'High c'], average='weighted')"
   ]
  },
  {
   "cell_type": "code",
   "execution_count": 50,
   "metadata": {},
   "outputs": [
    {
     "data": {
      "text/plain": [
       "(array([0.9587156 , 0.72093023, 0.83464567, 0.50632911]),\n",
       " array([0.83266932, 0.78151261, 0.74125874, 1.        ]),\n",
       " array([0.891258  , 0.75      , 0.78518519, 0.67226891]),\n",
       " array([251, 119, 143,  40], dtype=int64))"
      ]
     },
     "execution_count": 50,
     "metadata": {},
     "output_type": "execute_result"
    }
   ],
   "source": [
    "precision_recall_fscore_support(y_train, dt_grid.predict(X_train), labels=['Not c', 'Low c', 'Mid c', 'High c'])"
   ]
  },
  {
   "cell_type": "markdown",
   "metadata": {},
   "source": [
    "This performance is actually a lot more reasonable. It's possible there is some overfitting, but it's performing more similarly to some of our better two-stage KNN models."
   ]
  },
  {
   "cell_type": "code",
   "execution_count": 51,
   "metadata": {},
   "outputs": [
    {
     "data": {
      "text/plain": [
       "'trees\\\\4classaltdt.png'"
      ]
     },
     "execution_count": 51,
     "metadata": {},
     "output_type": "execute_result"
    }
   ],
   "source": [
    "export_graphviz(dt_grid.best_estimator_['decisiontreeclassifier'], out_file='trees/4classaltdt.dot',\n",
    "               feature_names = X_train.columns,\n",
    "               class_names = sorted(list(y_train.unique())), #needs to be in alphabetical order\n",
    "               rounded = True, proportion = False, precision = 2, filled = True)\n",
    "\n",
    "render('dot', 'png', 'trees/4classaltdt.dot', outfile='trees/4classaltdt.png')"
   ]
  },
  {
   "cell_type": "markdown",
   "metadata": {},
   "source": [
    "#### 2 class no clusters"
   ]
  },
  {
   "cell_type": "code",
   "execution_count": 52,
   "metadata": {},
   "outputs": [
    {
     "data": {
      "text/plain": [
       "(0.8567492190328831, 10)"
      ]
     },
     "execution_count": 52,
     "metadata": {},
     "output_type": "execute_result"
    }
   ],
   "source": [
    "best = []\n",
    "\n",
    "for k in k_list:\n",
    "    pipe = make_pipeline(\n",
    "        DecisionTreeClassifier(random_state=273))\n",
    "    X_train, X_test, y_train, y_test = train_test_split(X, y_df['formats2'],\n",
    "                                                    test_size=0.25,\n",
    "                                                    random_state=273,\n",
    "                                                    stratify=y_df['formats2'].values)\n",
    "    dt_grid = GridSearchCV(pipe, param_grid, scoring=make_scorer(f1_score, average='weighted'), n_jobs=-1, cv=k, verbose=0)\n",
    "    dt_grid.fit(X_train, y_train)\n",
    "    best.append(dt_grid.best_score_)\n",
    "\n",
    "max(best), k_list[best.index(max(best))]"
   ]
  },
  {
   "cell_type": "code",
   "execution_count": 53,
   "metadata": {},
   "outputs": [
    {
     "data": {
      "text/plain": [
       "({'decisiontreeclassifier__class_weight': 'balanced',\n",
       "  'decisiontreeclassifier__max_depth': 10,\n",
       "  'decisiontreeclassifier__min_samples_leaf': 10,\n",
       "  'decisiontreeclassifier__min_samples_split': 2},\n",
       " 0.8567492190328831)"
      ]
     },
     "execution_count": 53,
     "metadata": {},
     "output_type": "execute_result"
    }
   ],
   "source": [
    "pipe = make_pipeline(\n",
    "    DecisionTreeClassifier(random_state=273))\n",
    "X_train, X_test, y_train, y_test = train_test_split(X, y_df['formats2'],\n",
    "                                                    test_size=0.25,\n",
    "                                                    random_state=273,\n",
    "                                                    stratify=y_df['formats2'].values)\n",
    "dt_grid = GridSearchCV(pipe, param_grid, scoring=make_scorer(f1_score, average='weighted'), n_jobs=-1, cv=10, verbose=0)\n",
    "dt_grid.fit(X_train, y_train)\n",
    "dt_grid.best_params_, dt_grid.best_score_"
   ]
  },
  {
   "cell_type": "markdown",
   "metadata": {},
   "source": [
    "Again we get a higher value for min samples leaf, so probably this will be less overfitted, and that does seem to show in the scores."
   ]
  },
  {
   "cell_type": "code",
   "execution_count": 54,
   "metadata": {},
   "outputs": [
    {
     "data": {
      "text/plain": [
       "0.8895905415239665"
      ]
     },
     "execution_count": 54,
     "metadata": {},
     "output_type": "execute_result"
    }
   ],
   "source": [
    "f1_score(y_train, dt_grid.predict(X_train), labels=['No', 'Yes'], average='weighted')"
   ]
  },
  {
   "cell_type": "code",
   "execution_count": 55,
   "metadata": {},
   "outputs": [
    {
     "data": {
      "text/plain": [
       "(array([0.88617886, 0.89250814]),\n",
       " array([0.8685259 , 0.90728477]),\n",
       " array([0.87726358, 0.8998358 ]),\n",
       " array([251, 302], dtype=int64))"
      ]
     },
     "execution_count": 55,
     "metadata": {},
     "output_type": "execute_result"
    }
   ],
   "source": [
    "precision_recall_fscore_support(y_train, dt_grid.predict(X_train), labels=['No', 'Yes'])"
   ]
  },
  {
   "cell_type": "markdown",
   "metadata": {},
   "source": [
    "This is a very close score to the other algorithms, so it's probably a decent model."
   ]
  },
  {
   "cell_type": "code",
   "execution_count": 56,
   "metadata": {},
   "outputs": [
    {
     "data": {
      "text/plain": [
       "'trees\\\\2classdt.png'"
      ]
     },
     "execution_count": 56,
     "metadata": {},
     "output_type": "execute_result"
    }
   ],
   "source": [
    "export_graphviz(dt_grid.best_estimator_['decisiontreeclassifier'], out_file='trees/2classdt.dot',\n",
    "               feature_names = X_train.columns,\n",
    "               class_names = sorted(list(y_train.unique())), #needs to be in alphabetical order\n",
    "               rounded = True, proportion = False, precision = 2, filled = True)\n",
    "\n",
    "render('dot', 'png', 'trees/2classdt.dot', outfile='trees/2classdt.png')"
   ]
  },
  {
   "cell_type": "markdown",
   "metadata": {},
   "source": [
    "<a id=\"dt_cluster\"></a>\n",
    "#### Decision Tree with clustering\n",
    "\n",
    "#### 7 class with clustering"
   ]
  },
  {
   "cell_type": "markdown",
   "metadata": {},
   "source": [
    "Since one-hot encoded columns shouldn't really be scaled, we can scale the rest of our data to be compatible with them via minmax scaling between 0 and 1 (which is the default setting for minmaxscaler)"
   ]
  },
  {
   "cell_type": "code",
   "execution_count": 57,
   "metadata": {},
   "outputs": [
    {
     "data": {
      "text/plain": [
       "[0.5683512722864769, 10, 'stats', 5]"
      ]
     },
     "execution_count": 57,
     "metadata": {},
     "output_type": "execute_result"
    }
   ],
   "source": [
    "best = [0, 0, 0, 0]\n",
    "\n",
    "for n in n_clusters:\n",
    "    for c_type in cluster_types:\n",
    "        for k in k_list:\n",
    "            pipe = make_pipeline(\n",
    "                DecisionTreeClassifier(random_state=273))\n",
    "            X_scaled = pd.DataFrame(MinMaxScaler().fit_transform(X), index=X.index, columns=X.columns)\n",
    "            X_final = pd.merge(X_scaled, pd.get_dummies(cluster_dfs[n][c_type]), on='name')\n",
    "            X_train, X_test, y_train, y_test = train_test_split(X_final, y_df['formats'],\n",
    "                                                                test_size=0.25,\n",
    "                                                                random_state=273,\n",
    "                                                                stratify=y_df['formats'].values)\n",
    "            dt_grid = GridSearchCV(pipe, param_grid, scoring=make_scorer(f1_score, average='weighted'), n_jobs=-1, cv=k, verbose=0)\n",
    "            dt_grid.fit(X_train, y_train)\n",
    "            if dt_grid.best_score_ > best[0]:\n",
    "                best = [dt_grid.best_score_, k, c_type, n]\n",
    "                \n",
    "best"
   ]
  },
  {
   "cell_type": "markdown",
   "metadata": {},
   "source": [
    "The performance is very similar to logistic regression, but it's interesting that it chose the stats clusters this time for the 7 class model, as opposed to the general features chosen in logistic regression"
   ]
  },
  {
   "cell_type": "code",
   "execution_count": 58,
   "metadata": {},
   "outputs": [
    {
     "data": {
      "text/plain": [
       "({'decisiontreeclassifier__class_weight': None,\n",
       "  'decisiontreeclassifier__max_depth': 5,\n",
       "  'decisiontreeclassifier__min_samples_leaf': 10,\n",
       "  'decisiontreeclassifier__min_samples_split': 2},\n",
       " 0.5683512722864769)"
      ]
     },
     "execution_count": 58,
     "metadata": {},
     "output_type": "execute_result"
    }
   ],
   "source": [
    "pipe = make_pipeline(\n",
    "    DecisionTreeClassifier(random_state=273))\n",
    "X_scaled = pd.DataFrame(MinMaxScaler().fit_transform(X), index=X.index, columns=X.columns)\n",
    "X_final = pd.merge(X_scaled, pd.get_dummies(cluster_dfs[5]['stats']), on='name')\n",
    "X_train, X_test, y_train, y_test = train_test_split(X_final, y_df['formats'],\n",
    "                                                    test_size=0.25,\n",
    "                                                    random_state=273,\n",
    "                                                    stratify=y_df['formats'].values)\n",
    "dt_grid = GridSearchCV(pipe, param_grid, scoring=make_scorer(f1_score, average='weighted'), n_jobs=-1, cv=10, verbose=0)\n",
    "dt_grid.fit(X_train, y_train)\n",
    "dt_grid.best_params_, dt_grid.best_score_"
   ]
  },
  {
   "cell_type": "code",
   "execution_count": 59,
   "metadata": {},
   "outputs": [
    {
     "data": {
      "text/plain": [
       "0.6461860544509731"
      ]
     },
     "execution_count": 59,
     "metadata": {},
     "output_type": "execute_result"
    }
   ],
   "source": [
    "f1_score(y_train, dt_grid.predict(X_train), labels=['ZU', 'PU', 'NU', 'RU', 'UU', 'OU', 'Uber'], average='weighted')"
   ]
  },
  {
   "cell_type": "code",
   "execution_count": 60,
   "metadata": {},
   "outputs": [
    {
     "data": {
      "text/plain": [
       "(array([0.89211618, 0.52906977, 0.26229508, 0.36363636, 0.5       ,\n",
       "        0.47727273, 1.        ]),\n",
       " array([0.85657371, 0.76470588, 0.51612903, 0.11428571, 0.20588235,\n",
       "        0.48837209, 0.25      ]),\n",
       " array([0.87398374, 0.62542955, 0.34782609, 0.17391304, 0.29166667,\n",
       "        0.48275862, 0.4       ]),\n",
       " array([251, 119,  31,  35,  34,  43,  40], dtype=int64))"
      ]
     },
     "execution_count": 60,
     "metadata": {},
     "output_type": "execute_result"
    }
   ],
   "source": [
    "precision_recall_fscore_support(y_train, dt_grid.predict(X_train), labels=['ZU', 'PU', 'NU', 'RU', 'UU', 'OU', 'Uber'])"
   ]
  },
  {
   "cell_type": "markdown",
   "metadata": {},
   "source": [
    "It's interesting that the decision tree performs so poorly on Ubers, which is really rare. Also some of these decisions trees have struggled a lot on the RU tier for some reason, and it applies here."
   ]
  },
  {
   "cell_type": "code",
   "execution_count": 61,
   "metadata": {},
   "outputs": [
    {
     "data": {
      "text/plain": [
       "'trees\\\\7classdt_cluster.png'"
      ]
     },
     "execution_count": 61,
     "metadata": {},
     "output_type": "execute_result"
    }
   ],
   "source": [
    "export_graphviz(dt_grid.best_estimator_['decisiontreeclassifier'], out_file='trees/7classdt_cluster.dot',\n",
    "               feature_names = X_train.columns,\n",
    "               class_names = sorted(list(y_train.unique())), #needs to be in alphabetical order\n",
    "               rounded = True, proportion = False, precision = 2, filled = True)\n",
    "\n",
    "render('dot', 'png', 'trees/7classdt_cluster.dot', outfile='trees/7classdt_cluster.png')"
   ]
  },
  {
   "cell_type": "markdown",
   "metadata": {},
   "source": [
    "#### 4 class with clustering"
   ]
  },
  {
   "cell_type": "code",
   "execution_count": 62,
   "metadata": {},
   "outputs": [
    {
     "data": {
      "text/plain": [
       "[0.6255272116107875, 5, 'features', 5]"
      ]
     },
     "execution_count": 62,
     "metadata": {},
     "output_type": "execute_result"
    }
   ],
   "source": [
    "best = [0, 0, 0, 0]\n",
    "\n",
    "for n in n_clusters:\n",
    "    for c_type in cluster_types:\n",
    "        for k in k_list:\n",
    "            pipe = make_pipeline(\n",
    "                DecisionTreeClassifier(random_state=273))\n",
    "            X_scaled = pd.DataFrame(MinMaxScaler().fit_transform(X), index=X.index, columns=X.columns)\n",
    "            X_final = pd.merge(X_scaled, pd.get_dummies(cluster_dfs[n][c_type]), on='name')\n",
    "            X_train, X_test, y_train, y_test = train_test_split(X_final, y_df['formats4'],\n",
    "                                                                test_size=0.25,\n",
    "                                                                random_state=273,\n",
    "                                                                stratify=y_df['formats4'].values)\n",
    "            dt_grid = GridSearchCV(pipe, param_grid, scoring=make_scorer(f1_score, average='weighted'), n_jobs=-1, cv=k, verbose=0)\n",
    "            dt_grid.fit(X_train, y_train)\n",
    "            if dt_grid.best_score_ > best[0]:\n",
    "                best = [dt_grid.best_score_, k, c_type, n]\n",
    "                \n",
    "best"
   ]
  },
  {
   "cell_type": "markdown",
   "metadata": {},
   "source": [
    "It's interesting the decisions trees seem to work better with a small amount of clusters, which also makes sense since fewer clusters are easy to split decisions about in a way that gives you a lot of information"
   ]
  },
  {
   "cell_type": "code",
   "execution_count": 63,
   "metadata": {},
   "outputs": [
    {
     "data": {
      "text/plain": [
       "({'decisiontreeclassifier__class_weight': 'balanced',\n",
       "  'decisiontreeclassifier__max_depth': 10,\n",
       "  'decisiontreeclassifier__min_samples_leaf': 1,\n",
       "  'decisiontreeclassifier__min_samples_split': 20},\n",
       " 0.6255272116107875)"
      ]
     },
     "execution_count": 63,
     "metadata": {},
     "output_type": "execute_result"
    }
   ],
   "source": [
    "pipe = make_pipeline(\n",
    "    DecisionTreeClassifier(random_state=273))\n",
    "X_scaled = pd.DataFrame(MinMaxScaler().fit_transform(X), index=X.index, columns=X.columns)\n",
    "X_final = pd.merge(X_scaled, pd.get_dummies(cluster_dfs[5]['features']), on='name')\n",
    "X_train, X_test, y_train, y_test = train_test_split(X_final, y_df['formats4'],\n",
    "                                                    test_size=0.25,\n",
    "                                                    random_state=273,\n",
    "                                                    stratify=y_df['formats4'].values)\n",
    "dt_grid = GridSearchCV(pipe, param_grid, scoring=make_scorer(f1_score, average='weighted'), n_jobs=-1, cv=5, verbose=0)\n",
    "dt_grid.fit(X_train, y_train)\n",
    "dt_grid.best_params_, dt_grid.best_score_"
   ]
  },
  {
   "cell_type": "markdown",
   "metadata": {},
   "source": [
    "I am very concerned about the min samples leaf size of 1 since it usually leads to overfitting."
   ]
  },
  {
   "cell_type": "code",
   "execution_count": 64,
   "metadata": {},
   "outputs": [
    {
     "data": {
      "text/plain": [
       "0.7717135294791215"
      ]
     },
     "execution_count": 64,
     "metadata": {},
     "output_type": "execute_result"
    }
   ],
   "source": [
    "f1_score(y_train, dt_grid.predict(X_train), labels=['Not c', 'Low c', 'Mid c', 'High c'], average='weighted')"
   ]
  },
  {
   "cell_type": "code",
   "execution_count": 65,
   "metadata": {},
   "outputs": [
    {
     "data": {
      "text/plain": [
       "(array([0.98477157, 0.60377358, 0.63302752, 0.71590909]),\n",
       " array([0.77290837, 0.80672269, 0.69      , 0.75903614]),\n",
       " array([0.86607143, 0.69064748, 0.66028708, 0.73684211]),\n",
       " array([251, 119, 100,  83], dtype=int64))"
      ]
     },
     "execution_count": 65,
     "metadata": {},
     "output_type": "execute_result"
    }
   ],
   "source": [
    "precision_recall_fscore_support(y_train, dt_grid.predict(X_train), labels=['Not c', 'Low c', 'Mid c', 'High c'])"
   ]
  },
  {
   "cell_type": "markdown",
   "metadata": {},
   "source": [
    "These are quite decent scores, but not the overfitting I was expecting. Perhaps the high min samples split of 20 also helps to prevent such overfitting even with small leaf size."
   ]
  },
  {
   "cell_type": "code",
   "execution_count": 66,
   "metadata": {},
   "outputs": [
    {
     "data": {
      "text/plain": [
       "'trees\\\\4classdt_cluster.png'"
      ]
     },
     "execution_count": 66,
     "metadata": {},
     "output_type": "execute_result"
    }
   ],
   "source": [
    "export_graphviz(dt_grid.best_estimator_['decisiontreeclassifier'], out_file='trees/4classdt_cluster.dot',\n",
    "               feature_names = X_train.columns,\n",
    "               class_names = sorted(list(y_train.unique())), #needs to be in alphabetical order\n",
    "               rounded = True, proportion = False, precision = 2, filled = True)\n",
    "\n",
    "render('dot', 'png', 'trees/4classdt_cluster.dot', outfile='trees/4classdt_cluster.png')"
   ]
  },
  {
   "cell_type": "markdown",
   "metadata": {},
   "source": [
    "#### 4 class alt with clustering"
   ]
  },
  {
   "cell_type": "code",
   "execution_count": 67,
   "metadata": {},
   "outputs": [
    {
     "data": {
      "text/plain": [
       "[0.6602694867928545, 10, 'features', 5]"
      ]
     },
     "execution_count": 67,
     "metadata": {},
     "output_type": "execute_result"
    }
   ],
   "source": [
    "best = [0, 0, 0, 0]\n",
    "\n",
    "for n in n_clusters:\n",
    "    for c_type in cluster_types:\n",
    "        for k in k_list:\n",
    "            pipe = make_pipeline(\n",
    "                DecisionTreeClassifier(random_state=273))\n",
    "            X_scaled = pd.DataFrame(MinMaxScaler().fit_transform(X), index=X.index, columns=X.columns)\n",
    "            X_final = pd.merge(X_scaled, pd.get_dummies(cluster_dfs[n][c_type]), on='name')\n",
    "            X_train, X_test, y_train, y_test = train_test_split(X_final, y_df['formats4alt'],\n",
    "                                                                test_size=0.25,\n",
    "                                                                random_state=273,\n",
    "                                                                stratify=y_df['formats4alt'].values)\n",
    "            dt_grid = GridSearchCV(pipe, param_grid, scoring=make_scorer(f1_score, average='weighted'), n_jobs=-1, cv=k, verbose=0)\n",
    "            dt_grid.fit(X_train, y_train)\n",
    "            if dt_grid.best_score_ > best[0]:\n",
    "                best = [dt_grid.best_score_, k, c_type, n]\n",
    "                \n",
    "best"
   ]
  },
  {
   "cell_type": "markdown",
   "metadata": {},
   "source": [
    "Yet again, only 5 clusters a consistent theme with decision tree"
   ]
  },
  {
   "cell_type": "code",
   "execution_count": 68,
   "metadata": {},
   "outputs": [
    {
     "data": {
      "text/plain": [
       "({'decisiontreeclassifier__class_weight': None,\n",
       "  'decisiontreeclassifier__max_depth': 10,\n",
       "  'decisiontreeclassifier__min_samples_leaf': 5,\n",
       "  'decisiontreeclassifier__min_samples_split': 40},\n",
       " 0.6602694867928545)"
      ]
     },
     "execution_count": 68,
     "metadata": {},
     "output_type": "execute_result"
    }
   ],
   "source": [
    "pipe = make_pipeline(\n",
    "    DecisionTreeClassifier(random_state=273))\n",
    "X_scaled = pd.DataFrame(MinMaxScaler().fit_transform(X), index=X.index, columns=X.columns)\n",
    "X_final = pd.merge(X_scaled, pd.get_dummies(cluster_dfs[5]['features']), on='name')\n",
    "X_train, X_test, y_train, y_test = train_test_split(X_final, y_df['formats4alt'],\n",
    "                                                    test_size=0.25,\n",
    "                                                    random_state=273,\n",
    "                                                    stratify=y_df['formats4alt'].values)\n",
    "dt_grid = GridSearchCV(pipe, param_grid, scoring=make_scorer(f1_score, average='weighted'), n_jobs=-1, cv=10, verbose=0)\n",
    "dt_grid.fit(X_train, y_train)\n",
    "dt_grid.best_params_, dt_grid.best_score_"
   ]
  },
  {
   "cell_type": "markdown",
   "metadata": {},
   "source": [
    "We have pretty high numbers for min samples so that's promising about avoiding overfitting"
   ]
  },
  {
   "cell_type": "code",
   "execution_count": 69,
   "metadata": {},
   "outputs": [
    {
     "data": {
      "text/plain": [
       "0.7452341666036475"
      ]
     },
     "execution_count": 69,
     "metadata": {},
     "output_type": "execute_result"
    }
   ],
   "source": [
    "f1_score(y_train, dt_grid.predict(X_train), labels=['Not c', 'Low c', 'Mid c', 'High c'], average='weighted')"
   ]
  },
  {
   "cell_type": "code",
   "execution_count": 70,
   "metadata": {},
   "outputs": [
    {
     "data": {
      "text/plain": [
       "(array([0.9055794 , 0.55921053, 0.6835443 , 1.        ]),\n",
       " array([0.84063745, 0.71428571, 0.75524476, 0.25      ]),\n",
       " array([0.87190083, 0.62730627, 0.71760797, 0.4       ]),\n",
       " array([251, 119, 143,  40], dtype=int64))"
      ]
     },
     "execution_count": 70,
     "metadata": {},
     "output_type": "execute_result"
    }
   ],
   "source": [
    "precision_recall_fscore_support(y_train, dt_grid.predict(X_train), labels=['Not c', 'Low c', 'Mid c', 'High c'])"
   ]
  },
  {
   "cell_type": "markdown",
   "metadata": {},
   "source": [
    "While the overall score isn't terrible, this scores very low on high competitive which I dislike, and I almost surely won't use this one."
   ]
  },
  {
   "cell_type": "code",
   "execution_count": 71,
   "metadata": {},
   "outputs": [
    {
     "data": {
      "text/plain": [
       "'trees\\\\4classaltdt_cluster.png'"
      ]
     },
     "execution_count": 71,
     "metadata": {},
     "output_type": "execute_result"
    }
   ],
   "source": [
    "export_graphviz(dt_grid.best_estimator_['decisiontreeclassifier'], out_file='trees/4classaltdt_cluster.dot',\n",
    "               feature_names = X_train.columns,\n",
    "               class_names = sorted(list(y_train.unique())), #needs to be in alphabetical order\n",
    "               rounded = True, proportion = False, precision = 2, filled = True)\n",
    "\n",
    "render('dot', 'png', 'trees/4classaltdt_cluster.dot', outfile='trees/4classaltdt_cluster.png')"
   ]
  },
  {
   "cell_type": "markdown",
   "metadata": {},
   "source": [
    "#### 2 class with clustering"
   ]
  },
  {
   "cell_type": "code",
   "execution_count": 72,
   "metadata": {},
   "outputs": [
    {
     "data": {
      "text/plain": [
       "[0.8907376690554821, 10, 'features', 5]"
      ]
     },
     "execution_count": 72,
     "metadata": {},
     "output_type": "execute_result"
    }
   ],
   "source": [
    "best = [0, 0, 0, 0]\n",
    "\n",
    "for n in n_clusters:\n",
    "    for c_type in cluster_types:\n",
    "        for k in k_list:\n",
    "            pipe = make_pipeline(\n",
    "                DecisionTreeClassifier(random_state=273))\n",
    "            X_scaled = pd.DataFrame(MinMaxScaler().fit_transform(X), index=X.index, columns=X.columns)\n",
    "            X_final = pd.merge(X_scaled, pd.get_dummies(cluster_dfs[n][c_type]), on='name')\n",
    "            X_train, X_test, y_train, y_test = train_test_split(X_final, y_df['formats2'],\n",
    "                                                                test_size=0.25,\n",
    "                                                                random_state=273,\n",
    "                                                                stratify=y_df['formats2'].values)\n",
    "            dt_grid = GridSearchCV(pipe, param_grid, scoring=make_scorer(f1_score, average='weighted'), n_jobs=-1, cv=k, verbose=0)\n",
    "            dt_grid.fit(X_train, y_train)\n",
    "            if dt_grid.best_score_ > best[0]:\n",
    "                best = [dt_grid.best_score_, k, c_type, n]\n",
    "                \n",
    "best"
   ]
  },
  {
   "cell_type": "markdown",
   "metadata": {},
   "source": [
    "Exactly the same best parameters as for logistic regression"
   ]
  },
  {
   "cell_type": "code",
   "execution_count": 73,
   "metadata": {},
   "outputs": [
    {
     "data": {
      "text/plain": [
       "({'decisiontreeclassifier__class_weight': 'balanced',\n",
       "  'decisiontreeclassifier__max_depth': 10,\n",
       "  'decisiontreeclassifier__min_samples_leaf': 5,\n",
       "  'decisiontreeclassifier__min_samples_split': 40},\n",
       " 0.8907376690554821)"
      ]
     },
     "execution_count": 73,
     "metadata": {},
     "output_type": "execute_result"
    }
   ],
   "source": [
    "pipe = make_pipeline(\n",
    "    DecisionTreeClassifier(random_state=273))\n",
    "X_scaled = pd.DataFrame(MinMaxScaler().fit_transform(X), index=X.index, columns=X.columns)\n",
    "X_final = pd.merge(X_scaled, pd.get_dummies(cluster_dfs[5]['features']), on='name')\n",
    "X_train, X_test, y_train, y_test = train_test_split(X_final, y_df['formats2'],\n",
    "                                                    test_size=0.25,\n",
    "                                                    random_state=273,\n",
    "                                                    stratify=y_df['formats2'].values)\n",
    "dt_grid = GridSearchCV(pipe, param_grid, scoring=make_scorer(f1_score, average='weighted'), n_jobs=-1, cv=10, verbose=0)\n",
    "dt_grid.fit(X_train, y_train)\n",
    "dt_grid.best_params_, dt_grid.best_score_"
   ]
  },
  {
   "cell_type": "markdown",
   "metadata": {},
   "source": [
    "Again I'm happy with the min samples since I'm going to be using this in my two-tier model."
   ]
  },
  {
   "cell_type": "code",
   "execution_count": 74,
   "metadata": {},
   "outputs": [
    {
     "data": {
      "text/plain": [
       "0.8967874929630921"
      ]
     },
     "execution_count": 74,
     "metadata": {},
     "output_type": "execute_result"
    }
   ],
   "source": [
    "f1_score(y_train, dt_grid.predict(X_train), labels=['No', 'Yes'], average='weighted')"
   ]
  },
  {
   "cell_type": "code",
   "execution_count": 75,
   "metadata": {},
   "outputs": [
    {
     "data": {
      "text/plain": [
       "(array([0.89754098, 0.89644013]),\n",
       " array([0.87250996, 0.91721854]),\n",
       " array([0.88484848, 0.90671031]),\n",
       " array([251, 302], dtype=int64))"
      ]
     },
     "execution_count": 75,
     "metadata": {},
     "output_type": "execute_result"
    }
   ],
   "source": [
    "precision_recall_fscore_support(y_train, dt_grid.predict(X_train), labels=['No', 'Yes'])"
   ]
  },
  {
   "cell_type": "markdown",
   "metadata": {},
   "source": [
    "Pretty standard performance for the 2 class models to be around .9 f score"
   ]
  },
  {
   "cell_type": "code",
   "execution_count": 76,
   "metadata": {},
   "outputs": [
    {
     "data": {
      "text/plain": [
       "'trees\\\\2classdt_cluster.png'"
      ]
     },
     "execution_count": 76,
     "metadata": {},
     "output_type": "execute_result"
    }
   ],
   "source": [
    "export_graphviz(dt_grid.best_estimator_['decisiontreeclassifier'], out_file='trees/2classdt_cluster.dot',\n",
    "               feature_names = X_train.columns,\n",
    "               class_names = sorted(list(y_train.unique())), #needs to be in alphabetical order\n",
    "               rounded = True, proportion = False, precision = 2, filled = True)\n",
    "\n",
    "render('dot', 'png', 'trees/2classdt_cluster.dot', outfile='trees/2classdt_cluster.png')"
   ]
  },
  {
   "cell_type": "markdown",
   "metadata": {},
   "source": [
    "<a id=\"two_stage_dt\"></a>\n",
    "#### two-stage Decision Tree"
   ]
  },
  {
   "cell_type": "markdown",
   "metadata": {},
   "source": [
    "#### two-stage 7 class, no clusters"
   ]
  },
  {
   "cell_type": "markdown",
   "metadata": {},
   "source": [
    "The first part of this two stage model is just regular decision tree for two classes (which we already did! so we can just use that model again), to separate out the largest class, ZU i.e. relatively non-competitive pokemon, so that the second model doesn't have to include it and can exercise ALL of its discernment on figuring out which competitive class a competitive pokemon belongs to (which, as we saw from many of the f-scores above, can in some cases be quite difficult, so it's good that the second model can focus on that, and it might lead to higher performance than a single-stage model)."
   ]
  },
  {
   "cell_type": "code",
   "execution_count": 77,
   "metadata": {},
   "outputs": [
    {
     "data": {
      "text/plain": [
       "({'decisiontreeclassifier__class_weight': 'balanced',\n",
       "  'decisiontreeclassifier__max_depth': 10,\n",
       "  'decisiontreeclassifier__min_samples_leaf': 10,\n",
       "  'decisiontreeclassifier__min_samples_split': 2},\n",
       " 0.8567492190328831)"
      ]
     },
     "execution_count": 77,
     "metadata": {},
     "output_type": "execute_result"
    }
   ],
   "source": [
    "pipe = make_pipeline(\n",
    "    DecisionTreeClassifier(random_state=273))\n",
    "X_train, X_test, y_train, y_test = train_test_split(X, y_df['formats2'],\n",
    "                                                    test_size=0.25,\n",
    "                                                    random_state=273,\n",
    "                                                    stratify=y_df['formats2'].values)\n",
    "first_stage = GridSearchCV(pipe, param_grid, scoring=make_scorer(f1_score, average='weighted'), n_jobs=-1, cv=10, verbose=0)\n",
    "first_stage.fit(X_train, y_train)\n",
    "first_stage.best_params_, first_stage.best_score_"
   ]
  },
  {
   "cell_type": "markdown",
   "metadata": {},
   "source": [
    "That's the same model that we used before to separate competitive and non-competitive pokemon. Now let's use it to predict which pokemon in all of the training data will belong to ZU, so that we can remove them from consideration in the next model that we build (by filtering X and y_df so that we're only looking at competitive pokemon):"
   ]
  },
  {
   "cell_type": "code",
   "execution_count": 78,
   "metadata": {
    "scrolled": true
   },
   "outputs": [
    {
     "data": {
      "text/plain": [
       "name\n",
       "Venusaur          Yes\n",
       "Charizard         Yes\n",
       "Blastoise         Yes\n",
       "Pikachu           Yes\n",
       "Raichu            Yes\n",
       "                 ... \n",
       "Glastrier         Yes\n",
       "Spectrier         Yes\n",
       "Calyrex           Yes\n",
       "Calyrex-Ice       Yes\n",
       "Calyrex-Shadow    Yes\n",
       "Name: formats2, Length: 403, dtype: object"
      ]
     },
     "execution_count": 78,
     "metadata": {},
     "output_type": "execute_result"
    }
   ],
   "source": [
    "y_df['formats2'].loc[y_df['formats2'] == 'Yes']"
   ]
  },
  {
   "cell_type": "code",
   "execution_count": 79,
   "metadata": {},
   "outputs": [
    {
     "data": {
      "text/html": [
       "<div>\n",
       "<style scoped>\n",
       "    .dataframe tbody tr th:only-of-type {\n",
       "        vertical-align: middle;\n",
       "    }\n",
       "\n",
       "    .dataframe tbody tr th {\n",
       "        vertical-align: top;\n",
       "    }\n",
       "\n",
       "    .dataframe thead th {\n",
       "        text-align: right;\n",
       "    }\n",
       "</style>\n",
       "<table border=\"1\" class=\"dataframe\">\n",
       "  <thead>\n",
       "    <tr style=\"text-align: right;\">\n",
       "      <th></th>\n",
       "      <th>hp</th>\n",
       "      <th>atk</th>\n",
       "      <th>def</th>\n",
       "      <th>spa</th>\n",
       "      <th>spd</th>\n",
       "      <th>spe</th>\n",
       "      <th>Resistance Index</th>\n",
       "      <th>Entry Hazards</th>\n",
       "      <th>Cleric</th>\n",
       "      <th>Pivot</th>\n",
       "      <th>...</th>\n",
       "      <th>Priority</th>\n",
       "      <th>Weather Gimmick</th>\n",
       "      <th>Physical Cutoff 3</th>\n",
       "      <th>Physical Coverage 3</th>\n",
       "      <th>Special Cutoff 3</th>\n",
       "      <th>Special Coverage 5</th>\n",
       "      <th>Misc Status</th>\n",
       "      <th>Unique Powerful Move</th>\n",
       "      <th>Best Ability</th>\n",
       "      <th>HP Recovery</th>\n",
       "    </tr>\n",
       "    <tr>\n",
       "      <th>name</th>\n",
       "      <th></th>\n",
       "      <th></th>\n",
       "      <th></th>\n",
       "      <th></th>\n",
       "      <th></th>\n",
       "      <th></th>\n",
       "      <th></th>\n",
       "      <th></th>\n",
       "      <th></th>\n",
       "      <th></th>\n",
       "      <th></th>\n",
       "      <th></th>\n",
       "      <th></th>\n",
       "      <th></th>\n",
       "      <th></th>\n",
       "      <th></th>\n",
       "      <th></th>\n",
       "      <th></th>\n",
       "      <th></th>\n",
       "      <th></th>\n",
       "      <th></th>\n",
       "    </tr>\n",
       "  </thead>\n",
       "  <tbody>\n",
       "    <tr>\n",
       "      <th>Venusaur</th>\n",
       "      <td>80</td>\n",
       "      <td>82</td>\n",
       "      <td>83</td>\n",
       "      <td>100</td>\n",
       "      <td>100</td>\n",
       "      <td>80</td>\n",
       "      <td>2</td>\n",
       "      <td>0</td>\n",
       "      <td>0</td>\n",
       "      <td>0</td>\n",
       "      <td>...</td>\n",
       "      <td>0</td>\n",
       "      <td>5</td>\n",
       "      <td>6</td>\n",
       "      <td>4</td>\n",
       "      <td>6</td>\n",
       "      <td>4</td>\n",
       "      <td>4</td>\n",
       "      <td>0</td>\n",
       "      <td>63.636364</td>\n",
       "      <td>3</td>\n",
       "    </tr>\n",
       "    <tr>\n",
       "      <th>Charizard</th>\n",
       "      <td>78</td>\n",
       "      <td>84</td>\n",
       "      <td>78</td>\n",
       "      <td>109</td>\n",
       "      <td>85</td>\n",
       "      <td>100</td>\n",
       "      <td>8</td>\n",
       "      <td>0</td>\n",
       "      <td>0</td>\n",
       "      <td>0</td>\n",
       "      <td>...</td>\n",
       "      <td>1</td>\n",
       "      <td>3</td>\n",
       "      <td>14</td>\n",
       "      <td>10</td>\n",
       "      <td>11</td>\n",
       "      <td>5</td>\n",
       "      <td>4</td>\n",
       "      <td>0</td>\n",
       "      <td>50.000000</td>\n",
       "      <td>3</td>\n",
       "    </tr>\n",
       "    <tr>\n",
       "      <th>Blastoise</th>\n",
       "      <td>79</td>\n",
       "      <td>83</td>\n",
       "      <td>100</td>\n",
       "      <td>85</td>\n",
       "      <td>105</td>\n",
       "      <td>78</td>\n",
       "      <td>2</td>\n",
       "      <td>0</td>\n",
       "      <td>0</td>\n",
       "      <td>3</td>\n",
       "      <td>...</td>\n",
       "      <td>2</td>\n",
       "      <td>2</td>\n",
       "      <td>12</td>\n",
       "      <td>10</td>\n",
       "      <td>11</td>\n",
       "      <td>7</td>\n",
       "      <td>4</td>\n",
       "      <td>0</td>\n",
       "      <td>75.000000</td>\n",
       "      <td>0</td>\n",
       "    </tr>\n",
       "    <tr>\n",
       "      <th>Pikachu</th>\n",
       "      <td>35</td>\n",
       "      <td>55</td>\n",
       "      <td>40</td>\n",
       "      <td>50</td>\n",
       "      <td>50</td>\n",
       "      <td>90</td>\n",
       "      <td>2</td>\n",
       "      <td>0</td>\n",
       "      <td>1</td>\n",
       "      <td>3</td>\n",
       "      <td>...</td>\n",
       "      <td>2</td>\n",
       "      <td>2</td>\n",
       "      <td>7</td>\n",
       "      <td>7</td>\n",
       "      <td>5</td>\n",
       "      <td>3</td>\n",
       "      <td>3</td>\n",
       "      <td>0</td>\n",
       "      <td>70.000000</td>\n",
       "      <td>1</td>\n",
       "    </tr>\n",
       "    <tr>\n",
       "      <th>Raichu</th>\n",
       "      <td>60</td>\n",
       "      <td>90</td>\n",
       "      <td>55</td>\n",
       "      <td>90</td>\n",
       "      <td>80</td>\n",
       "      <td>110</td>\n",
       "      <td>2</td>\n",
       "      <td>0</td>\n",
       "      <td>1</td>\n",
       "      <td>3</td>\n",
       "      <td>...</td>\n",
       "      <td>2</td>\n",
       "      <td>2</td>\n",
       "      <td>7</td>\n",
       "      <td>7</td>\n",
       "      <td>6</td>\n",
       "      <td>4</td>\n",
       "      <td>3</td>\n",
       "      <td>0</td>\n",
       "      <td>70.000000</td>\n",
       "      <td>1</td>\n",
       "    </tr>\n",
       "    <tr>\n",
       "      <th>...</th>\n",
       "      <td>...</td>\n",
       "      <td>...</td>\n",
       "      <td>...</td>\n",
       "      <td>...</td>\n",
       "      <td>...</td>\n",
       "      <td>...</td>\n",
       "      <td>...</td>\n",
       "      <td>...</td>\n",
       "      <td>...</td>\n",
       "      <td>...</td>\n",
       "      <td>...</td>\n",
       "      <td>...</td>\n",
       "      <td>...</td>\n",
       "      <td>...</td>\n",
       "      <td>...</td>\n",
       "      <td>...</td>\n",
       "      <td>...</td>\n",
       "      <td>...</td>\n",
       "      <td>...</td>\n",
       "      <td>...</td>\n",
       "      <td>...</td>\n",
       "    </tr>\n",
       "    <tr>\n",
       "      <th>Glastrier</th>\n",
       "      <td>100</td>\n",
       "      <td>145</td>\n",
       "      <td>130</td>\n",
       "      <td>65</td>\n",
       "      <td>110</td>\n",
       "      <td>30</td>\n",
       "      <td>-3</td>\n",
       "      <td>0</td>\n",
       "      <td>0</td>\n",
       "      <td>0</td>\n",
       "      <td>...</td>\n",
       "      <td>0</td>\n",
       "      <td>1</td>\n",
       "      <td>12</td>\n",
       "      <td>7</td>\n",
       "      <td>3</td>\n",
       "      <td>2</td>\n",
       "      <td>2</td>\n",
       "      <td>0</td>\n",
       "      <td>75.000000</td>\n",
       "      <td>0</td>\n",
       "    </tr>\n",
       "    <tr>\n",
       "      <th>Spectrier</th>\n",
       "      <td>100</td>\n",
       "      <td>65</td>\n",
       "      <td>60</td>\n",
       "      <td>145</td>\n",
       "      <td>80</td>\n",
       "      <td>130</td>\n",
       "      <td>8</td>\n",
       "      <td>0</td>\n",
       "      <td>0</td>\n",
       "      <td>0</td>\n",
       "      <td>...</td>\n",
       "      <td>0</td>\n",
       "      <td>0</td>\n",
       "      <td>4</td>\n",
       "      <td>4</td>\n",
       "      <td>4</td>\n",
       "      <td>3</td>\n",
       "      <td>3</td>\n",
       "      <td>0</td>\n",
       "      <td>1.000000</td>\n",
       "      <td>0</td>\n",
       "    </tr>\n",
       "    <tr>\n",
       "      <th>Calyrex</th>\n",
       "      <td>100</td>\n",
       "      <td>80</td>\n",
       "      <td>80</td>\n",
       "      <td>80</td>\n",
       "      <td>80</td>\n",
       "      <td>80</td>\n",
       "      <td>-2</td>\n",
       "      <td>0</td>\n",
       "      <td>1</td>\n",
       "      <td>0</td>\n",
       "      <td>...</td>\n",
       "      <td>0</td>\n",
       "      <td>2</td>\n",
       "      <td>3</td>\n",
       "      <td>3</td>\n",
       "      <td>9</td>\n",
       "      <td>4</td>\n",
       "      <td>3</td>\n",
       "      <td>0</td>\n",
       "      <td>18.181818</td>\n",
       "      <td>2</td>\n",
       "    </tr>\n",
       "    <tr>\n",
       "      <th>Calyrex-Ice</th>\n",
       "      <td>100</td>\n",
       "      <td>165</td>\n",
       "      <td>150</td>\n",
       "      <td>85</td>\n",
       "      <td>130</td>\n",
       "      <td>50</td>\n",
       "      <td>-4</td>\n",
       "      <td>0</td>\n",
       "      <td>1</td>\n",
       "      <td>0</td>\n",
       "      <td>...</td>\n",
       "      <td>0</td>\n",
       "      <td>2</td>\n",
       "      <td>15</td>\n",
       "      <td>9</td>\n",
       "      <td>12</td>\n",
       "      <td>5</td>\n",
       "      <td>3</td>\n",
       "      <td>1</td>\n",
       "      <td>1.000000</td>\n",
       "      <td>2</td>\n",
       "    </tr>\n",
       "    <tr>\n",
       "      <th>Calyrex-Shadow</th>\n",
       "      <td>100</td>\n",
       "      <td>85</td>\n",
       "      <td>80</td>\n",
       "      <td>165</td>\n",
       "      <td>100</td>\n",
       "      <td>150</td>\n",
       "      <td>6</td>\n",
       "      <td>0</td>\n",
       "      <td>1</td>\n",
       "      <td>0</td>\n",
       "      <td>...</td>\n",
       "      <td>0</td>\n",
       "      <td>2</td>\n",
       "      <td>7</td>\n",
       "      <td>6</td>\n",
       "      <td>13</td>\n",
       "      <td>6</td>\n",
       "      <td>3</td>\n",
       "      <td>1</td>\n",
       "      <td>1.000000</td>\n",
       "      <td>2</td>\n",
       "    </tr>\n",
       "  </tbody>\n",
       "</table>\n",
       "<p>403 rows × 22 columns</p>\n",
       "</div>"
      ],
      "text/plain": [
       "                 hp  atk  def  spa  spd  spe  Resistance Index  Entry Hazards  \\\n",
       "name                                                                            \n",
       "Venusaur         80   82   83  100  100   80                 2              0   \n",
       "Charizard        78   84   78  109   85  100                 8              0   \n",
       "Blastoise        79   83  100   85  105   78                 2              0   \n",
       "Pikachu          35   55   40   50   50   90                 2              0   \n",
       "Raichu           60   90   55   90   80  110                 2              0   \n",
       "...             ...  ...  ...  ...  ...  ...               ...            ...   \n",
       "Glastrier       100  145  130   65  110   30                -3              0   \n",
       "Spectrier       100   65   60  145   80  130                 8              0   \n",
       "Calyrex         100   80   80   80   80   80                -2              0   \n",
       "Calyrex-Ice     100  165  150   85  130   50                -4              0   \n",
       "Calyrex-Shadow  100   85   80  165  100  150                 6              0   \n",
       "\n",
       "                Cleric  Pivot  ...  Priority  Weather Gimmick  \\\n",
       "name                           ...                              \n",
       "Venusaur             0      0  ...         0                5   \n",
       "Charizard            0      0  ...         1                3   \n",
       "Blastoise            0      3  ...         2                2   \n",
       "Pikachu              1      3  ...         2                2   \n",
       "Raichu               1      3  ...         2                2   \n",
       "...                ...    ...  ...       ...              ...   \n",
       "Glastrier            0      0  ...         0                1   \n",
       "Spectrier            0      0  ...         0                0   \n",
       "Calyrex              1      0  ...         0                2   \n",
       "Calyrex-Ice          1      0  ...         0                2   \n",
       "Calyrex-Shadow       1      0  ...         0                2   \n",
       "\n",
       "                Physical Cutoff 3  Physical Coverage 3  Special Cutoff 3  \\\n",
       "name                                                                       \n",
       "Venusaur                        6                    4                 6   \n",
       "Charizard                      14                   10                11   \n",
       "Blastoise                      12                   10                11   \n",
       "Pikachu                         7                    7                 5   \n",
       "Raichu                          7                    7                 6   \n",
       "...                           ...                  ...               ...   \n",
       "Glastrier                      12                    7                 3   \n",
       "Spectrier                       4                    4                 4   \n",
       "Calyrex                         3                    3                 9   \n",
       "Calyrex-Ice                    15                    9                12   \n",
       "Calyrex-Shadow                  7                    6                13   \n",
       "\n",
       "                Special Coverage 5  Misc Status  Unique Powerful Move  \\\n",
       "name                                                                    \n",
       "Venusaur                         4            4                     0   \n",
       "Charizard                        5            4                     0   \n",
       "Blastoise                        7            4                     0   \n",
       "Pikachu                          3            3                     0   \n",
       "Raichu                           4            3                     0   \n",
       "...                            ...          ...                   ...   \n",
       "Glastrier                        2            2                     0   \n",
       "Spectrier                        3            3                     0   \n",
       "Calyrex                          4            3                     0   \n",
       "Calyrex-Ice                      5            3                     1   \n",
       "Calyrex-Shadow                   6            3                     1   \n",
       "\n",
       "                Best Ability  HP Recovery  \n",
       "name                                       \n",
       "Venusaur           63.636364            3  \n",
       "Charizard          50.000000            3  \n",
       "Blastoise          75.000000            0  \n",
       "Pikachu            70.000000            1  \n",
       "Raichu             70.000000            1  \n",
       "...                      ...          ...  \n",
       "Glastrier          75.000000            0  \n",
       "Spectrier           1.000000            0  \n",
       "Calyrex            18.181818            2  \n",
       "Calyrex-Ice         1.000000            2  \n",
       "Calyrex-Shadow      1.000000            2  \n",
       "\n",
       "[403 rows x 22 columns]"
      ]
     },
     "execution_count": 79,
     "metadata": {},
     "output_type": "execute_result"
    }
   ],
   "source": [
    "X_second = X.loc[y_df['formats2'] == 'Yes']\n",
    "X_second"
   ]
  },
  {
   "cell_type": "code",
   "execution_count": 80,
   "metadata": {},
   "outputs": [
    {
     "data": {
      "text/plain": [
       "name\n",
       "Venusaur            OU\n",
       "Charizard           PU\n",
       "Blastoise           NU\n",
       "Pikachu             PU\n",
       "Raichu              PU\n",
       "                  ... \n",
       "Glastrier           NU\n",
       "Spectrier         Uber\n",
       "Calyrex             PU\n",
       "Calyrex-Ice       Uber\n",
       "Calyrex-Shadow    Uber\n",
       "Name: formats, Length: 403, dtype: object"
      ]
     },
     "execution_count": 80,
     "metadata": {},
     "output_type": "execute_result"
    }
   ],
   "source": [
    "y_second_7 = y_df['formats'].loc[y_df['formats2'] == 'Yes']\n",
    "y_second_7"
   ]
  },
  {
   "cell_type": "code",
   "execution_count": 81,
   "metadata": {},
   "outputs": [
    {
     "data": {
      "text/plain": [
       "(0.4187828408209852, 10)"
      ]
     },
     "execution_count": 81,
     "metadata": {},
     "output_type": "execute_result"
    }
   ],
   "source": [
    "best = []\n",
    "\n",
    "for k in k_list:\n",
    "    pipe = make_pipeline(\n",
    "        DecisionTreeClassifier(random_state=273))\n",
    "    X_train, X_test, y_train, y_test = train_test_split(X_second, y_second_7,\n",
    "                                                    test_size=0.25,\n",
    "                                                    random_state=273,\n",
    "                                                    stratify=y_second_7.values)\n",
    "    dt_grid = GridSearchCV(pipe, param_grid, scoring=make_scorer(f1_score, average='weighted'), n_jobs=-1, cv=k, verbose=0)\n",
    "    dt_grid.fit(X_train, y_train)\n",
    "    best.append(dt_grid.best_score_)\n",
    "\n",
    "max(best), k_list[best.index(max(best))]"
   ]
  },
  {
   "cell_type": "markdown",
   "metadata": {},
   "source": [
    "As with logistic regression, this is quite a low score."
   ]
  },
  {
   "cell_type": "code",
   "execution_count": 82,
   "metadata": {},
   "outputs": [
    {
     "data": {
      "text/plain": [
       "({'decisiontreeclassifier__class_weight': None,\n",
       "  'decisiontreeclassifier__max_depth': 10,\n",
       "  'decisiontreeclassifier__min_samples_leaf': 1,\n",
       "  'decisiontreeclassifier__min_samples_split': 5},\n",
       " 0.4187828408209852)"
      ]
     },
     "execution_count": 82,
     "metadata": {},
     "output_type": "execute_result"
    }
   ],
   "source": [
    "pipe = make_pipeline(\n",
    "    DecisionTreeClassifier(random_state=273))\n",
    "X_train, X_test, y_train, y_test = train_test_split(X_second, y_second_7,\n",
    "                                                    test_size=0.25,\n",
    "                                                    random_state=273,\n",
    "                                                    stratify=y_second_7.values)\n",
    "second_stage = GridSearchCV(pipe, param_grid, scoring=make_scorer(f1_score, average='weighted'), n_jobs=-1, cv=10, verbose=0)\n",
    "second_stage.fit(X_train, y_train)\n",
    "second_stage.best_params_, second_stage.best_score_"
   ]
  },
  {
   "cell_type": "code",
   "execution_count": 83,
   "metadata": {},
   "outputs": [
    {
     "data": {
      "text/plain": [
       "(array([0.9338843 , 0.74193548, 0.83333333, 0.85714286, 0.79591837,\n",
       "        0.91666667]),\n",
       " array([0.94957983, 0.74193548, 0.71428571, 0.88235294, 0.90697674,\n",
       "        0.825     ]),\n",
       " array([0.94166667, 0.74193548, 0.76923077, 0.86956522, 0.84782609,\n",
       "        0.86842105]),\n",
       " array([119,  31,  35,  34,  43,  40], dtype=int64))"
      ]
     },
     "execution_count": 83,
     "metadata": {},
     "output_type": "execute_result"
    }
   ],
   "source": [
    "precision_recall_fscore_support(y_train, second_stage.predict(X_train), labels=['PU', 'NU', 'RU', 'UU', 'OU', 'Uber'])"
   ]
  },
  {
   "cell_type": "markdown",
   "metadata": {},
   "source": [
    "This is a little weird, because these are high scores but not like the near 100% obviously overfitted one's, so this might be a decent model."
   ]
  },
  {
   "cell_type": "code",
   "execution_count": 84,
   "metadata": {},
   "outputs": [
    {
     "data": {
      "text/plain": [
       "'trees\\\\7classdt_stage2.png'"
      ]
     },
     "execution_count": 84,
     "metadata": {},
     "output_type": "execute_result"
    }
   ],
   "source": [
    "export_graphviz(second_stage.best_estimator_['decisiontreeclassifier'], out_file='trees/7classdt_stage2.dot',\n",
    "               feature_names = X_train.columns,\n",
    "               class_names = sorted(list(y_train.unique())), #needs to be in alphabetical order\n",
    "               rounded = True, proportion = False, precision = 2, filled = True)\n",
    "\n",
    "render('dot', 'png', 'trees/7classdt_stage2.dot', outfile='trees/7classdt_stage2.png')"
   ]
  },
  {
   "cell_type": "code",
   "execution_count": 85,
   "metadata": {},
   "outputs": [
    {
     "data": {
      "text/plain": [
       "name\n",
       "Absol              PU\n",
       "Ninetales-Alola    OU\n",
       "Palossand          PU\n",
       "Ponyta-Galar       ZU\n",
       "Carvanha           ZU\n",
       "                   ..\n",
       "Dragonair          ZU\n",
       "Qwilfish           PU\n",
       "Cryogonal          PU\n",
       "Wailord            ZU\n",
       "Blaziken           OU\n",
       "Name: formats, Length: 553, dtype: object"
      ]
     },
     "execution_count": 85,
     "metadata": {},
     "output_type": "execute_result"
    }
   ],
   "source": [
    "X_train, X_test, y_train, y_test = train_test_split(X, y_df['formats2'],\n",
    "                                                    test_size=0.25,\n",
    "                                                    random_state=273,\n",
    "                                                    stratify=y_df['formats2'].values)\n",
    "pred_1 = pd.DataFrame(first_stage.predict(X_train), index=X_train.index)\n",
    "pred_2 = pd.DataFrame(second_stage.predict(X_train[pred_1[0] == 'Yes']), index=X_train[pred_1[0] == 'Yes'].index)\n",
    "y_pred = pred_1.merge(pred_2, on='name', how='left')['0_y'].fillna(value='ZU')\n",
    "y_validation = y_train.to_frame().merge(y_df['formats'], on='name', how='left')['formats']\n",
    "y_validation"
   ]
  },
  {
   "cell_type": "code",
   "execution_count": 86,
   "metadata": {},
   "outputs": [
    {
     "data": {
      "text/plain": [
       "0.770759487293633"
      ]
     },
     "execution_count": 86,
     "metadata": {},
     "output_type": "execute_result"
    }
   ],
   "source": [
    "f1_score(y_validation, y_pred, labels=['ZU', 'PU', 'NU', 'RU', 'UU', 'OU', 'Uber'], average='weighted')"
   ]
  },
  {
   "cell_type": "code",
   "execution_count": 87,
   "metadata": {},
   "outputs": [
    {
     "data": {
      "text/plain": [
       "(array([0.88617886, 0.7107438 , 0.46153846, 0.625     , 0.71428571,\n",
       "        0.65957447, 0.81818182]),\n",
       " array([0.8685259 , 0.67716535, 0.6       , 0.58823529, 0.73529412,\n",
       "        0.75609756, 0.75      ]),\n",
       " array([0.87726358, 0.69354839, 0.52173913, 0.60606061, 0.72463768,\n",
       "        0.70454545, 0.7826087 ]),\n",
       " array([251, 127,  30,  34,  34,  41,  36], dtype=int64))"
      ]
     },
     "execution_count": 87,
     "metadata": {},
     "output_type": "execute_result"
    }
   ],
   "source": [
    "precision_recall_fscore_support(y_validation, y_pred, labels=['ZU', 'PU', 'NU', 'RU', 'UU', 'OU', 'Uber'])"
   ]
  },
  {
   "cell_type": "markdown",
   "metadata": {},
   "source": [
    "The scores are generally quite good, with the mid competitive scores being somewhat weak."
   ]
  },
  {
   "cell_type": "markdown",
   "metadata": {},
   "source": [
    "#### two-stage 4 class, no clusters"
   ]
  },
  {
   "cell_type": "code",
   "execution_count": 88,
   "metadata": {},
   "outputs": [
    {
     "data": {
      "text/plain": [
       "(0.515165051441064, 10)"
      ]
     },
     "execution_count": 88,
     "metadata": {},
     "output_type": "execute_result"
    }
   ],
   "source": [
    "y_second_4 = y_df['formats4'].loc[y_df['formats2'] == 'Yes']\n",
    "best = []\n",
    "\n",
    "for k in k_list:\n",
    "    pipe = make_pipeline(\n",
    "        DecisionTreeClassifier(random_state=273))\n",
    "    X_train, X_test, y_train, y_test = train_test_split(X_second, y_second_4,\n",
    "                                                    test_size=0.25,\n",
    "                                                    random_state=273,\n",
    "                                                    stratify=y_second_4.values)\n",
    "    dt_grid = GridSearchCV(pipe, param_grid, scoring=make_scorer(f1_score, average='weighted'), n_jobs=-1, cv=k, verbose=0)\n",
    "    dt_grid.fit(X_train, y_train)\n",
    "    best.append(dt_grid.best_score_)\n",
    "\n",
    "max(best), k_list[best.index(max(best))]"
   ]
  },
  {
   "cell_type": "code",
   "execution_count": 89,
   "metadata": {},
   "outputs": [
    {
     "data": {
      "text/plain": [
       "({'decisiontreeclassifier__class_weight': None,\n",
       "  'decisiontreeclassifier__max_depth': 10,\n",
       "  'decisiontreeclassifier__min_samples_leaf': 2,\n",
       "  'decisiontreeclassifier__min_samples_split': 2},\n",
       " 0.515165051441064)"
      ]
     },
     "execution_count": 89,
     "metadata": {},
     "output_type": "execute_result"
    }
   ],
   "source": [
    "pipe = make_pipeline(\n",
    "    DecisionTreeClassifier(random_state=273))\n",
    "X_train, X_test, y_train, y_test = train_test_split(X_second, y_second_4,\n",
    "                                                    test_size=0.25,\n",
    "                                                    random_state=273,\n",
    "                                                    stratify=y_second_4.values)\n",
    "second_stage = GridSearchCV(pipe, param_grid, scoring=make_scorer(f1_score, average='weighted'), n_jobs=-1, cv=10, verbose=0)\n",
    "second_stage.fit(X_train, y_train)\n",
    "second_stage.best_params_, second_stage.best_score_"
   ]
  },
  {
   "cell_type": "code",
   "execution_count": 90,
   "metadata": {},
   "outputs": [
    {
     "data": {
      "text/plain": [
       "(array([0.87401575, 0.91463415, 0.82795699]),\n",
       " array([0.93277311, 0.75      , 0.92771084]),\n",
       " array([0.90243902, 0.82417582, 0.875     ]),\n",
       " array([119, 100,  83], dtype=int64))"
      ]
     },
     "execution_count": 90,
     "metadata": {},
     "output_type": "execute_result"
    }
   ],
   "source": [
    "precision_recall_fscore_support(y_train, second_stage.predict(X_train), labels=['Low c', 'Mid c', 'High c'])"
   ]
  },
  {
   "cell_type": "markdown",
   "metadata": {},
   "source": [
    "These are quite high scores but not perfect, which might be promising."
   ]
  },
  {
   "cell_type": "code",
   "execution_count": 91,
   "metadata": {},
   "outputs": [
    {
     "data": {
      "text/plain": [
       "'trees\\\\4classdt_stage2.png'"
      ]
     },
     "execution_count": 91,
     "metadata": {},
     "output_type": "execute_result"
    }
   ],
   "source": [
    "export_graphviz(second_stage.best_estimator_['decisiontreeclassifier'], out_file='trees/4classdt_stage2.dot',\n",
    "               feature_names = X_train.columns,\n",
    "               class_names = sorted(list(y_train.unique())), #needs to be in alphabetical order\n",
    "               rounded = True, proportion = False, precision = 2, filled = True)\n",
    "\n",
    "render('dot', 'png', 'trees/4classdt_stage2.dot', outfile='trees/4classdt_stage2.png')"
   ]
  },
  {
   "cell_type": "code",
   "execution_count": 92,
   "metadata": {},
   "outputs": [
    {
     "data": {
      "text/plain": [
       "name\n",
       "Absol               Low c\n",
       "Ninetales-Alola    High c\n",
       "Palossand           Low c\n",
       "Ponyta-Galar        Not c\n",
       "Carvanha            Not c\n",
       "                    ...  \n",
       "Dragonair           Not c\n",
       "Qwilfish            Low c\n",
       "Cryogonal           Low c\n",
       "Wailord             Not c\n",
       "Blaziken           High c\n",
       "Name: formats4, Length: 553, dtype: object"
      ]
     },
     "execution_count": 92,
     "metadata": {},
     "output_type": "execute_result"
    }
   ],
   "source": [
    "X_train, X_test, y_train, y_test = train_test_split(X, y_df['formats2'],\n",
    "                                                    test_size=0.25,\n",
    "                                                    random_state=273,\n",
    "                                                    stratify=y_df['formats2'].values)\n",
    "pred_1 = pd.DataFrame(first_stage.predict(X_train), index=X_train.index)\n",
    "pred_2 = pd.DataFrame(second_stage.predict(X_train[pred_1[0] == 'Yes']), index=X_train[pred_1[0] == 'Yes'].index)\n",
    "y_pred = pred_1.merge(pred_2, on='name', how='left')['0_y'].fillna(value='Not c')\n",
    "y_validation = y_train.to_frame().merge(y_df['formats4'], on='name', how='left')['formats4']\n",
    "y_validation"
   ]
  },
  {
   "cell_type": "code",
   "execution_count": 93,
   "metadata": {},
   "outputs": [
    {
     "data": {
      "text/plain": [
       "0.7839593210332558"
      ]
     },
     "execution_count": 93,
     "metadata": {},
     "output_type": "execute_result"
    }
   ],
   "source": [
    "f1_score(y_validation, y_pred, labels=['Not c', 'Low c', 'Mid c', 'High c'], average='weighted')"
   ]
  },
  {
   "cell_type": "code",
   "execution_count": 94,
   "metadata": {},
   "outputs": [
    {
     "data": {
      "text/plain": [
       "(array([0.88617886, 0.64285714, 0.74712644, 0.75      ]),\n",
       " array([0.8685259 , 0.70866142, 0.66326531, 0.77922078]),\n",
       " array([0.87726358, 0.6741573 , 0.7027027 , 0.76433121]),\n",
       " array([251, 127,  98,  77], dtype=int64))"
      ]
     },
     "execution_count": 94,
     "metadata": {},
     "output_type": "execute_result"
    }
   ],
   "source": [
    "precision_recall_fscore_support(y_validation, y_pred, labels=['Not c', 'Low c', 'Mid c', 'High c'])"
   ]
  },
  {
   "cell_type": "markdown",
   "metadata": {},
   "source": [
    "All scores above .65, which is one of the better models, thought I doubt it will be one of the best."
   ]
  },
  {
   "cell_type": "markdown",
   "metadata": {},
   "source": [
    "#### two-stage 4 class alt, no clusters"
   ]
  },
  {
   "cell_type": "code",
   "execution_count": 95,
   "metadata": {},
   "outputs": [
    {
     "data": {
      "text/plain": [
       "(0.5941599147209478, 2)"
      ]
     },
     "execution_count": 95,
     "metadata": {},
     "output_type": "execute_result"
    }
   ],
   "source": [
    "y_second_4alt = y_df['formats4alt'].loc[y_df['formats2'] == 'Yes']\n",
    "best = []\n",
    "\n",
    "for k in k_list:\n",
    "    pipe = make_pipeline(\n",
    "        DecisionTreeClassifier(random_state=273))\n",
    "    X_train, X_test, y_train, y_test = train_test_split(X_second, y_second_4alt,\n",
    "                                                    test_size=0.25,\n",
    "                                                    random_state=273,\n",
    "                                                    stratify=y_second_4alt.values)\n",
    "    dt_grid = GridSearchCV(pipe, param_grid, scoring=make_scorer(f1_score, average='weighted'), n_jobs=-1, cv=k, verbose=0)\n",
    "    dt_grid.fit(X_train, y_train)\n",
    "    best.append(dt_grid.best_score_)\n",
    "\n",
    "max(best), k_list[best.index(max(best))]"
   ]
  },
  {
   "cell_type": "code",
   "execution_count": 96,
   "metadata": {},
   "outputs": [
    {
     "data": {
      "text/plain": [
       "({'decisiontreeclassifier__class_weight': None,\n",
       "  'decisiontreeclassifier__max_depth': 20,\n",
       "  'decisiontreeclassifier__min_samples_leaf': 1,\n",
       "  'decisiontreeclassifier__min_samples_split': 2},\n",
       " 0.5941599147209478)"
      ]
     },
     "execution_count": 96,
     "metadata": {},
     "output_type": "execute_result"
    }
   ],
   "source": [
    "pipe = make_pipeline(\n",
    "    DecisionTreeClassifier(random_state=273))\n",
    "X_train, X_test, y_train, y_test = train_test_split(X_second, y_second_4alt,\n",
    "                                                    test_size=0.25,\n",
    "                                                    random_state=273,\n",
    "                                                    stratify=y_second_4alt.values)\n",
    "second_stage = GridSearchCV(pipe, param_grid, scoring=make_scorer(f1_score, average='weighted'), n_jobs=-1, cv=2, verbose=0)\n",
    "second_stage.fit(X_train, y_train)\n",
    "second_stage.best_params_, second_stage.best_score_"
   ]
  },
  {
   "cell_type": "code",
   "execution_count": 97,
   "metadata": {},
   "outputs": [
    {
     "data": {
      "text/plain": [
       "(array([1., 1., 1.]),\n",
       " array([1., 1., 1.]),\n",
       " array([1., 1., 1.]),\n",
       " array([119, 143,  40], dtype=int64))"
      ]
     },
     "execution_count": 97,
     "metadata": {},
     "output_type": "execute_result"
    }
   ],
   "source": [
    "precision_recall_fscore_support(y_train, second_stage.predict(X_train), labels=['Low c', 'Mid c', 'High c'])"
   ]
  },
  {
   "cell_type": "markdown",
   "metadata": {},
   "source": [
    "This one is ridiculously overfitted, getting literally 100%. 2 fold cross-validation, very low min samples leaf and split, and high tree depth are all probably strong contributers to the overfitting. I won't be using this model."
   ]
  },
  {
   "cell_type": "code",
   "execution_count": 98,
   "metadata": {},
   "outputs": [
    {
     "data": {
      "text/plain": [
       "'trees\\\\4classaltdt_stage2.png'"
      ]
     },
     "execution_count": 98,
     "metadata": {},
     "output_type": "execute_result"
    }
   ],
   "source": [
    "export_graphviz(second_stage.best_estimator_['decisiontreeclassifier'], out_file='trees/4classaltdt_stage2.dot',\n",
    "               feature_names = X_train.columns,\n",
    "               class_names = sorted(list(y_train.unique())), #needs to be in alphabetical order\n",
    "               rounded = True, proportion = False, precision = 2, filled = True)\n",
    "\n",
    "render('dot', 'png', 'trees/4classaltdt_stage2.dot', outfile='trees/4classaltdt_stage2.png')"
   ]
  },
  {
   "cell_type": "code",
   "execution_count": 99,
   "metadata": {},
   "outputs": [
    {
     "data": {
      "text/plain": [
       "name\n",
       "Absol              Low c\n",
       "Ninetales-Alola    Mid c\n",
       "Palossand          Low c\n",
       "Ponyta-Galar       Not c\n",
       "Carvanha           Not c\n",
       "                   ...  \n",
       "Dragonair          Not c\n",
       "Qwilfish           Low c\n",
       "Cryogonal          Low c\n",
       "Wailord            Not c\n",
       "Blaziken           Mid c\n",
       "Name: formats4alt, Length: 553, dtype: object"
      ]
     },
     "execution_count": 99,
     "metadata": {},
     "output_type": "execute_result"
    }
   ],
   "source": [
    "X_train, X_test, y_train, y_test = train_test_split(X, y_df['formats2'],\n",
    "                                                    test_size=0.25,\n",
    "                                                    random_state=273,\n",
    "                                                    stratify=y_df['formats2'].values)\n",
    "pred_1 = pd.DataFrame(first_stage.predict(X_train), index=X_train.index)\n",
    "pred_2 = pd.DataFrame(second_stage.predict(X_train[pred_1[0] == 'Yes']), index=X_train[pred_1[0] == 'Yes'].index)\n",
    "y_pred = pred_1.merge(pred_2, on='name', how='left')['0_y'].fillna(value='Not c')\n",
    "y_validation = y_train.to_frame().merge(y_df['formats4alt'], on='name', how='left')['formats4alt']\n",
    "y_validation"
   ]
  },
  {
   "cell_type": "code",
   "execution_count": 100,
   "metadata": {},
   "outputs": [
    {
     "data": {
      "text/plain": [
       "0.8298126438271775"
      ]
     },
     "execution_count": 100,
     "metadata": {},
     "output_type": "execute_result"
    }
   ],
   "source": [
    "f1_score(y_validation, y_pred, labels=['Not c', 'Low c', 'Mid c', 'High c'], average='weighted')"
   ]
  },
  {
   "cell_type": "code",
   "execution_count": 101,
   "metadata": {},
   "outputs": [
    {
     "data": {
      "text/plain": [
       "(array([0.88617886, 0.72      , 0.84246575, 0.77777778]),\n",
       " array([0.8685259 , 0.70866142, 0.88489209, 0.77777778]),\n",
       " array([0.87726358, 0.71428571, 0.86315789, 0.77777778]),\n",
       " array([251, 127, 139,  36], dtype=int64))"
      ]
     },
     "execution_count": 101,
     "metadata": {},
     "output_type": "execute_result"
    }
   ],
   "source": [
    "precision_recall_fscore_support(y_validation, y_pred, labels=['Not c', 'Low c', 'Mid c', 'High c'])"
   ]
  },
  {
   "cell_type": "markdown",
   "metadata": {},
   "source": [
    "In spite of the semi-reasonable performance here when the model is unfolded to two stage, I find it hard to trust this model when it overfits so much."
   ]
  },
  {
   "cell_type": "markdown",
   "metadata": {},
   "source": [
    "<a id=\"two_stage_dt_cluster\"></a>\n",
    "#### two-stage Decision Tree with clustering"
   ]
  },
  {
   "cell_type": "markdown",
   "metadata": {},
   "source": [
    "#### two-stage 7 class with clustering"
   ]
  },
  {
   "cell_type": "markdown",
   "metadata": {},
   "source": [
    "We need to set it up so that our first stage has clustering now:"
   ]
  },
  {
   "cell_type": "code",
   "execution_count": 102,
   "metadata": {},
   "outputs": [
    {
     "data": {
      "text/plain": [
       "({'decisiontreeclassifier__class_weight': 'balanced',\n",
       "  'decisiontreeclassifier__max_depth': 10,\n",
       "  'decisiontreeclassifier__min_samples_leaf': 5,\n",
       "  'decisiontreeclassifier__min_samples_split': 40},\n",
       " 0.8907376690554821)"
      ]
     },
     "execution_count": 102,
     "metadata": {},
     "output_type": "execute_result"
    }
   ],
   "source": [
    "pipe = make_pipeline(\n",
    "    DecisionTreeClassifier(random_state=273))\n",
    "X_scaled = pd.DataFrame(MinMaxScaler().fit_transform(X), index=X.index, columns=X.columns)\n",
    "X_final = pd.merge(X_scaled, pd.get_dummies(cluster_dfs[5]['features']), on='name')\n",
    "X_train, X_test, y_train, y_test = train_test_split(X_final, y_df['formats2'],\n",
    "                                                    test_size=0.25,\n",
    "                                                    random_state=273,\n",
    "                                                    stratify=y_df['formats2'].values)\n",
    "first_stage = GridSearchCV(pipe, param_grid, scoring=make_scorer(f1_score, average='weighted'), n_jobs=-1, cv=10, verbose=0)\n",
    "first_stage.fit(X_train, y_train)\n",
    "first_stage.best_params_, first_stage.best_score_"
   ]
  },
  {
   "cell_type": "markdown",
   "metadata": {},
   "source": [
    "And we already have X_second and all iterations of y_second set up to make our training and testing sets, so we can just go ahead and do hyperparameter search:"
   ]
  },
  {
   "cell_type": "code",
   "execution_count": 103,
   "metadata": {},
   "outputs": [
    {
     "data": {
      "text/plain": [
       "[0.4525307416763124, 5, 'stats', 15]"
      ]
     },
     "execution_count": 103,
     "metadata": {},
     "output_type": "execute_result"
    }
   ],
   "source": [
    "best = [0, 0, 0, 0]\n",
    "\n",
    "for n in n_clusters:\n",
    "    for c_type in cluster_types:\n",
    "        for k in k_list:\n",
    "            pipe = make_pipeline(\n",
    "                DecisionTreeClassifier(random_state=273))\n",
    "            X_scaled = pd.DataFrame(MinMaxScaler().fit_transform(X_second), index=X_second.index, columns=X_second.columns)\n",
    "            X_final = pd.merge(X_scaled, pd.get_dummies(cluster_dfs[n][c_type]), on='name')\n",
    "            X_train, X_test, y_train, y_test = train_test_split(X_final, y_second_7,\n",
    "                                                                test_size=0.25,\n",
    "                                                                random_state=273,\n",
    "                                                                stratify=y_second_7.values)\n",
    "            dt_grid = GridSearchCV(pipe, param_grid, scoring=make_scorer(f1_score, average='weighted'), n_jobs=-1, cv=k, verbose=0)\n",
    "            dt_grid.fit(X_train, y_train)\n",
    "            if dt_grid.best_score_ > best[0]:\n",
    "                best = [dt_grid.best_score_, k, c_type, n]\n",
    "                \n",
    "best"
   ]
  },
  {
   "cell_type": "markdown",
   "metadata": {},
   "source": [
    "It is interesting that KNN always seems to choose to cluster based on stats, but logistic regression had more variance in the type of clustering it used."
   ]
  },
  {
   "cell_type": "code",
   "execution_count": 104,
   "metadata": {},
   "outputs": [
    {
     "data": {
      "text/plain": [
       "({'decisiontreeclassifier__class_weight': None,\n",
       "  'decisiontreeclassifier__max_depth': 10,\n",
       "  'decisiontreeclassifier__min_samples_leaf': 5,\n",
       "  'decisiontreeclassifier__min_samples_split': 2},\n",
       " 0.4525307416763124)"
      ]
     },
     "execution_count": 104,
     "metadata": {},
     "output_type": "execute_result"
    }
   ],
   "source": [
    "pipe = make_pipeline(\n",
    "    DecisionTreeClassifier(random_state=273))\n",
    "X_scaled = pd.DataFrame(MinMaxScaler().fit_transform(X_second), index=X_second.index, columns=X_second.columns)\n",
    "X_final = pd.merge(X_scaled, pd.get_dummies(cluster_dfs[15]['stats']), on='name')\n",
    "X_train, X_test, y_train, y_test = train_test_split(X_final, y_second_7,\n",
    "                                                    test_size=0.25,\n",
    "                                                    random_state=273,\n",
    "                                                    stratify=y_second_7.values)\n",
    "second_stage = GridSearchCV(pipe, param_grid, scoring=make_scorer(f1_score, average='weighted'), n_jobs=-1, cv=5, verbose=0)\n",
    "second_stage.fit(X_train, y_train)\n",
    "second_stage.best_params_, second_stage.best_score_"
   ]
  },
  {
   "cell_type": "code",
   "execution_count": 105,
   "metadata": {},
   "outputs": [
    {
     "data": {
      "text/plain": [
       "(array([0.75735294, 0.48717949, 0.48484848, 0.57142857, 0.61363636,\n",
       "        0.82758621]),\n",
       " array([0.86554622, 0.61290323, 0.45714286, 0.35294118, 0.62790698,\n",
       "        0.6       ]),\n",
       " array([0.80784314, 0.54285714, 0.47058824, 0.43636364, 0.62068966,\n",
       "        0.69565217]),\n",
       " array([119,  31,  35,  34,  43,  40], dtype=int64))"
      ]
     },
     "execution_count": 105,
     "metadata": {},
     "output_type": "execute_result"
    }
   ],
   "source": [
    "precision_recall_fscore_support(y_train, second_stage.predict(X_train), labels=['PU', 'NU', 'RU', 'UU', 'OU', 'Uber'])"
   ]
  },
  {
   "cell_type": "markdown",
   "metadata": {},
   "source": [
    "Interesting, these are not very overfit, more like underfit"
   ]
  },
  {
   "cell_type": "code",
   "execution_count": 106,
   "metadata": {},
   "outputs": [
    {
     "data": {
      "text/plain": [
       "'trees\\\\7classdt_cluster_stage2.png'"
      ]
     },
     "execution_count": 106,
     "metadata": {},
     "output_type": "execute_result"
    }
   ],
   "source": [
    "export_graphviz(second_stage.best_estimator_['decisiontreeclassifier'], out_file='trees/7classdt_cluster_stage2.dot',\n",
    "               feature_names = X_train.columns,\n",
    "               class_names = sorted(list(y_train.unique())), #needs to be in alphabetical order\n",
    "               rounded = True, proportion = False, precision = 2, filled = True)\n",
    "\n",
    "render('dot', 'png', 'trees/7classdt_cluster_stage2.dot', outfile='trees/7classdt_cluster_stage2.png')"
   ]
  },
  {
   "cell_type": "code",
   "execution_count": 107,
   "metadata": {},
   "outputs": [
    {
     "data": {
      "text/plain": [
       "name\n",
       "Absol              PU\n",
       "Ninetales-Alola    OU\n",
       "Palossand          PU\n",
       "Ponyta-Galar       ZU\n",
       "Carvanha           ZU\n",
       "                   ..\n",
       "Dragonair          ZU\n",
       "Qwilfish           PU\n",
       "Cryogonal          PU\n",
       "Wailord            ZU\n",
       "Blaziken           OU\n",
       "Name: formats, Length: 553, dtype: object"
      ]
     },
     "execution_count": 107,
     "metadata": {},
     "output_type": "execute_result"
    }
   ],
   "source": [
    "X_scaled = pd.DataFrame(MinMaxScaler().fit_transform(X), index=X.index, columns=X.columns)\n",
    "X_final = pd.merge(X_scaled, pd.get_dummies(cluster_dfs[5]['features']), on='name')\n",
    "X_train, X_test, y_train, y_test = train_test_split(X_final, y_df['formats2'],\n",
    "                                                    test_size=0.25,\n",
    "                                                    random_state=273,\n",
    "                                                    stratify=y_df['formats2'].values)\n",
    "pred_1 = pd.DataFrame(first_stage.predict(X_train), index=X_train.index)\n",
    "\n",
    "#drop old clusters and merge the new clusters\n",
    "#because the two models work with different clusterings\n",
    "X_train = X_train.drop(columns=list(range(0, 5)))\n",
    "X_train = X_train.merge(pd.get_dummies(cluster_dfs[15]['stats']), on='name', how='left')\n",
    "\n",
    "pred_2 = pd.DataFrame(second_stage.predict(X_train[pred_1[0] == 'Yes']), index=X_train[pred_1[0] == 'Yes'].index)\n",
    "y_pred = pred_1.merge(pred_2, on='name', how='left')['0_y'].fillna(value='ZU')\n",
    "y_validation = y_train.to_frame().merge(y_df['formats'], on='name', how='left')['formats']\n",
    "y_validation"
   ]
  },
  {
   "cell_type": "code",
   "execution_count": 108,
   "metadata": {},
   "outputs": [
    {
     "data": {
      "text/plain": [
       "0.6628007522983858"
      ]
     },
     "execution_count": 108,
     "metadata": {},
     "output_type": "execute_result"
    }
   ],
   "source": [
    "f1_score(y_validation, y_pred, labels=['ZU', 'PU', 'NU', 'RU', 'UU', 'OU', 'Uber'], average='weighted')"
   ]
  },
  {
   "cell_type": "code",
   "execution_count": 109,
   "metadata": {},
   "outputs": [
    {
     "data": {
      "text/plain": [
       "(array([0.89754098, 0.5703125 , 0.33333333, 0.24444444, 0.42857143,\n",
       "        0.34210526, 0.70588235]),\n",
       " array([0.87250996, 0.57480315, 0.4       , 0.32352941, 0.35294118,\n",
       "        0.31707317, 0.66666667]),\n",
       " array([0.88484848, 0.57254902, 0.36363636, 0.27848101, 0.38709677,\n",
       "        0.32911392, 0.68571429]),\n",
       " array([251, 127,  30,  34,  34,  41,  36], dtype=int64))"
      ]
     },
     "execution_count": 109,
     "metadata": {},
     "output_type": "execute_result"
    }
   ],
   "source": [
    "precision_recall_fscore_support(y_validation, y_pred, labels=['ZU', 'PU', 'NU', 'RU', 'UU', 'OU', 'Uber'])"
   ]
  },
  {
   "cell_type": "markdown",
   "metadata": {},
   "source": [
    "The main problem is that this model is not working for mid competitive, so it won't be used."
   ]
  },
  {
   "cell_type": "markdown",
   "metadata": {},
   "source": [
    "#### two-stage 4 class with clustering"
   ]
  },
  {
   "cell_type": "code",
   "execution_count": 110,
   "metadata": {},
   "outputs": [
    {
     "data": {
      "text/plain": [
       "[0.5378482916147932, 3, 'stats', 5]"
      ]
     },
     "execution_count": 110,
     "metadata": {},
     "output_type": "execute_result"
    }
   ],
   "source": [
    "best = [0, 0, 0, 0]\n",
    "\n",
    "for n in n_clusters:\n",
    "    for c_type in cluster_types:\n",
    "        for k in k_list:\n",
    "            pipe = make_pipeline(\n",
    "                DecisionTreeClassifier(random_state=273))\n",
    "            X_scaled = pd.DataFrame(MinMaxScaler().fit_transform(X_second), index=X_second.index, columns=X_second.columns)\n",
    "            X_final = pd.merge(X_scaled, pd.get_dummies(cluster_dfs[n][c_type]), on='name')\n",
    "            X_train, X_test, y_train, y_test = train_test_split(X_final, y_second_4,\n",
    "                                                                test_size=0.25,\n",
    "                                                                random_state=273,\n",
    "                                                                stratify=y_second_4.values)\n",
    "            dt_grid = GridSearchCV(pipe, param_grid, scoring=make_scorer(f1_score, average='weighted'), n_jobs=-1, cv=k, verbose=0)\n",
    "            dt_grid.fit(X_train, y_train)\n",
    "            if dt_grid.best_score_ > best[0]:\n",
    "                best = [dt_grid.best_score_, k, c_type, n]\n",
    "                \n",
    "best"
   ]
  },
  {
   "cell_type": "markdown",
   "metadata": {},
   "source": [
    "That's the first time in a while that learnsets has been the best clustering parameter, but let's see if it's to any significant effect:"
   ]
  },
  {
   "cell_type": "code",
   "execution_count": 111,
   "metadata": {},
   "outputs": [
    {
     "data": {
      "text/plain": [
       "({'decisiontreeclassifier__class_weight': 'balanced',\n",
       "  'decisiontreeclassifier__max_depth': 10,\n",
       "  'decisiontreeclassifier__min_samples_leaf': 10,\n",
       "  'decisiontreeclassifier__min_samples_split': 2},\n",
       " 0.5378482916147932)"
      ]
     },
     "execution_count": 111,
     "metadata": {},
     "output_type": "execute_result"
    }
   ],
   "source": [
    "pipe = make_pipeline(\n",
    "    DecisionTreeClassifier(random_state=273))\n",
    "X_scaled = pd.DataFrame(MinMaxScaler().fit_transform(X_second), index=X_second.index, columns=X_second.columns)\n",
    "X_final = pd.merge(X_scaled, pd.get_dummies(cluster_dfs[5]['stats']), on='name')\n",
    "X_train, X_test, y_train, y_test = train_test_split(X_final, y_second_4,\n",
    "                                                    test_size=0.25,\n",
    "                                                    random_state=273,\n",
    "                                                    stratify=y_second_4.values)\n",
    "second_stage = GridSearchCV(pipe, param_grid, scoring=make_scorer(f1_score, average='weighted'), n_jobs=-1, cv=3, verbose=0)\n",
    "second_stage.fit(X_train, y_train)\n",
    "second_stage.best_params_, second_stage.best_score_"
   ]
  },
  {
   "cell_type": "code",
   "execution_count": 112,
   "metadata": {},
   "outputs": [
    {
     "data": {
      "text/plain": [
       "(array([0.76785714, 0.60869565, 0.73333333]),\n",
       " array([0.72268908, 0.7       , 0.6626506 ]),\n",
       " array([0.74458874, 0.65116279, 0.69620253]),\n",
       " array([119, 100,  83], dtype=int64))"
      ]
     },
     "execution_count": 112,
     "metadata": {},
     "output_type": "execute_result"
    }
   ],
   "source": [
    "precision_recall_fscore_support(y_train, second_stage.predict(X_train), labels=['Low c', 'Mid c', 'High c'])"
   ]
  },
  {
   "cell_type": "markdown",
   "metadata": {},
   "source": [
    "Not terrible, but not good"
   ]
  },
  {
   "cell_type": "code",
   "execution_count": 113,
   "metadata": {},
   "outputs": [
    {
     "data": {
      "text/plain": [
       "'trees\\\\4classdt_cluster_stage2.png'"
      ]
     },
     "execution_count": 113,
     "metadata": {},
     "output_type": "execute_result"
    }
   ],
   "source": [
    "export_graphviz(second_stage.best_estimator_['decisiontreeclassifier'], out_file='trees/4classdt_cluster_stage2.dot',\n",
    "               feature_names = X_train.columns,\n",
    "               class_names = sorted(list(y_train.unique())), #needs to be in alphabetical order\n",
    "               rounded = True, proportion = False, precision = 2, filled = True)\n",
    "\n",
    "render('dot', 'png', 'trees/4classdt_cluster_stage2.dot', outfile='trees/4classdt_cluster_stage2.png')"
   ]
  },
  {
   "cell_type": "code",
   "execution_count": 114,
   "metadata": {},
   "outputs": [
    {
     "data": {
      "text/plain": [
       "name\n",
       "Absol               Low c\n",
       "Ninetales-Alola    High c\n",
       "Palossand           Low c\n",
       "Ponyta-Galar        Not c\n",
       "Carvanha            Not c\n",
       "                    ...  \n",
       "Dragonair           Not c\n",
       "Qwilfish            Low c\n",
       "Cryogonal           Low c\n",
       "Wailord             Not c\n",
       "Blaziken           High c\n",
       "Name: formats4, Length: 553, dtype: object"
      ]
     },
     "execution_count": 114,
     "metadata": {},
     "output_type": "execute_result"
    }
   ],
   "source": [
    "X_scaled = pd.DataFrame(MinMaxScaler().fit_transform(X), index=X.index, columns=X.columns)\n",
    "X_final = pd.merge(X_scaled, pd.get_dummies(cluster_dfs[5]['features']), on='name')\n",
    "X_train, X_test, y_train, y_test = train_test_split(X_final, y_df['formats2'],\n",
    "                                                    test_size=0.25,\n",
    "                                                    random_state=273,\n",
    "                                                    stratify=y_df['formats2'].values)\n",
    "pred_1 = pd.DataFrame(first_stage.predict(X_train), index=X_train.index)\n",
    "\n",
    "#drop old clusters and merge the new clusters\n",
    "#because the two models work with different clusterings\n",
    "X_train = X_train.drop(columns=list(range(0, 5)))\n",
    "X_train = X_train.merge(pd.get_dummies(cluster_dfs[5]['stats']), on='name', how='left')\n",
    "\n",
    "pred_2 = pd.DataFrame(second_stage.predict(X_train[pred_1[0] == 'Yes']), index=X_train[pred_1[0] == 'Yes'].index)\n",
    "y_pred = pred_1.merge(pred_2, on='name', how='left')['0_y'].fillna(value='Not c')\n",
    "y_validation = y_train.to_frame().merge(y_df['formats4'], on='name', how='left')['formats4']\n",
    "y_validation"
   ]
  },
  {
   "cell_type": "code",
   "execution_count": 115,
   "metadata": {},
   "outputs": [
    {
     "data": {
      "text/plain": [
       "0.6985110285875017"
      ]
     },
     "execution_count": 115,
     "metadata": {},
     "output_type": "execute_result"
    }
   ],
   "source": [
    "f1_score(y_validation, y_pred, labels=['Not c', 'Low c', 'Mid c', 'High c'], average='weighted')"
   ]
  },
  {
   "cell_type": "code",
   "execution_count": 116,
   "metadata": {},
   "outputs": [
    {
     "data": {
      "text/plain": [
       "(array([0.89754098, 0.57627119, 0.42975207, 0.64285714]),\n",
       " array([0.87250996, 0.53543307, 0.53061224, 0.58441558]),\n",
       " array([0.88484848, 0.55510204, 0.47488584, 0.6122449 ]),\n",
       " array([251, 127,  98,  77], dtype=int64))"
      ]
     },
     "execution_count": 116,
     "metadata": {},
     "output_type": "execute_result"
    }
   ],
   "source": [
    "precision_recall_fscore_support(y_validation, y_pred, labels=['Not c', 'Low c', 'Mid c', 'High c'])"
   ]
  },
  {
   "cell_type": "markdown",
   "metadata": {},
   "source": [
    "Also not a very good model for 4 classes"
   ]
  },
  {
   "cell_type": "markdown",
   "metadata": {},
   "source": [
    "#### two-stage 4 class alt with clustering"
   ]
  },
  {
   "cell_type": "code",
   "execution_count": 117,
   "metadata": {},
   "outputs": [
    {
     "data": {
      "text/plain": [
       "[0.6288629993582472, 2, 'stats', 20]"
      ]
     },
     "execution_count": 117,
     "metadata": {},
     "output_type": "execute_result"
    }
   ],
   "source": [
    "best = [0, 0, 0, 0]\n",
    "\n",
    "for n in n_clusters:\n",
    "    for c_type in cluster_types:\n",
    "        for k in k_list:\n",
    "            pipe = make_pipeline(\n",
    "                DecisionTreeClassifier(random_state=273))\n",
    "            X_scaled = pd.DataFrame(MinMaxScaler().fit_transform(X_second), index=X_second.index, columns=X_second.columns)\n",
    "            X_final = pd.merge(X_scaled, pd.get_dummies(cluster_dfs[n][c_type]), on='name')\n",
    "            X_train, X_test, y_train, y_test = train_test_split(X_final, y_second_4alt,\n",
    "                                                                test_size=0.25,\n",
    "                                                                random_state=273,\n",
    "                                                                stratify=y_second_4alt.values)\n",
    "            dt_grid = GridSearchCV(pipe, param_grid, scoring=make_scorer(f1_score, average='weighted'), n_jobs=-1, cv=k, verbose=0)\n",
    "            dt_grid.fit(X_train, y_train)\n",
    "            if dt_grid.best_score_ > best[0]:\n",
    "                best = [dt_grid.best_score_, k, c_type, n]\n",
    "                \n",
    "best"
   ]
  },
  {
   "cell_type": "code",
   "execution_count": 118,
   "metadata": {},
   "outputs": [
    {
     "data": {
      "text/plain": [
       "({'decisiontreeclassifier__class_weight': None,\n",
       "  'decisiontreeclassifier__max_depth': 20,\n",
       "  'decisiontreeclassifier__min_samples_leaf': 2,\n",
       "  'decisiontreeclassifier__min_samples_split': 10},\n",
       " 0.6288629993582472)"
      ]
     },
     "execution_count": 118,
     "metadata": {},
     "output_type": "execute_result"
    }
   ],
   "source": [
    "pipe = make_pipeline(\n",
    "    DecisionTreeClassifier(random_state=273))\n",
    "X_scaled = pd.DataFrame(MinMaxScaler().fit_transform(X_second), index=X_second.index, columns=X_second.columns)\n",
    "X_final = pd.merge(X_scaled, pd.get_dummies(cluster_dfs[20]['stats']), on='name')\n",
    "X_train, X_test, y_train, y_test = train_test_split(X_final, y_second_4alt,\n",
    "                                                    test_size=0.25,\n",
    "                                                    random_state=273,\n",
    "                                                    stratify=y_second_4alt.values)\n",
    "second_stage = GridSearchCV(pipe, param_grid, scoring=make_scorer(f1_score, average='weighted'), n_jobs=-1, cv=2, verbose=0)\n",
    "second_stage.fit(X_train, y_train)\n",
    "second_stage.best_params_, second_stage.best_score_"
   ]
  },
  {
   "cell_type": "code",
   "execution_count": 119,
   "metadata": {},
   "outputs": [
    {
     "data": {
      "text/plain": [
       "(array([0.84251969, 0.88489209, 0.83333333]),\n",
       " array([0.89915966, 0.86013986, 0.75      ]),\n",
       " array([0.8699187 , 0.87234043, 0.78947368]),\n",
       " array([119, 143,  40], dtype=int64))"
      ]
     },
     "execution_count": 119,
     "metadata": {},
     "output_type": "execute_result"
    }
   ],
   "source": [
    "precision_recall_fscore_support(y_train, second_stage.predict(X_train), labels=['Low c', 'Mid c', 'High c'])"
   ]
  },
  {
   "cell_type": "markdown",
   "metadata": {},
   "source": [
    "This is definitely our best model for decision trees two-stage models, which is interesting because historically the 4 class alt models have performed relatively poorly in two stage models"
   ]
  },
  {
   "cell_type": "code",
   "execution_count": 120,
   "metadata": {},
   "outputs": [
    {
     "data": {
      "text/plain": [
       "'trees\\\\4classaltdt_cluster_stage2.png'"
      ]
     },
     "execution_count": 120,
     "metadata": {},
     "output_type": "execute_result"
    }
   ],
   "source": [
    "export_graphviz(second_stage.best_estimator_['decisiontreeclassifier'], out_file='trees/4classaltdt_cluster_stage2.dot',\n",
    "               feature_names = X_train.columns,\n",
    "               class_names = sorted(list(y_train.unique())), #needs to be in alphabetical order\n",
    "               rounded = True, proportion = False, precision = 2, filled = True)\n",
    "\n",
    "render('dot', 'png', 'trees/4classaltdt_cluster_stage2.dot', outfile='trees/4classaltdt_cluster_stage2.png')"
   ]
  },
  {
   "cell_type": "code",
   "execution_count": 121,
   "metadata": {},
   "outputs": [
    {
     "data": {
      "text/plain": [
       "name\n",
       "Absol              Low c\n",
       "Ninetales-Alola    Mid c\n",
       "Palossand          Low c\n",
       "Ponyta-Galar       Not c\n",
       "Carvanha           Not c\n",
       "                   ...  \n",
       "Dragonair          Not c\n",
       "Qwilfish           Low c\n",
       "Cryogonal          Low c\n",
       "Wailord            Not c\n",
       "Blaziken           Mid c\n",
       "Name: formats4alt, Length: 553, dtype: object"
      ]
     },
     "execution_count": 121,
     "metadata": {},
     "output_type": "execute_result"
    }
   ],
   "source": [
    "X_scaled = pd.DataFrame(MinMaxScaler().fit_transform(X), index=X.index, columns=X.columns)\n",
    "X_final = pd.merge(X_scaled, pd.get_dummies(cluster_dfs[5]['features']), on='name')\n",
    "X_train, X_test, y_train, y_test = train_test_split(X_final, y_df['formats2'],\n",
    "                                                    test_size=0.25,\n",
    "                                                    random_state=273,\n",
    "                                                    stratify=y_df['formats2'].values)\n",
    "pred_1 = pd.DataFrame(first_stage.predict(X_train), index=X_train.index)\n",
    "\n",
    "#drop old clusters and merge the new clusters\n",
    "#because the two models work with different clusterings\n",
    "X_train = X_train.drop(columns=list(range(0, 5)))\n",
    "X_train = X_train.merge(pd.get_dummies(cluster_dfs[20]['stats']), on='name', how='left')\n",
    "\n",
    "pred_2 = pd.DataFrame(second_stage.predict(X_train[pred_1[0] == 'Yes']), index=X_train[pred_1[0] == 'Yes'].index)\n",
    "y_pred = pred_1.merge(pred_2, on='name', how='left')['0_y'].fillna(value='Not c')\n",
    "y_validation = y_train.to_frame().merge(y_df['formats4alt'], on='name', how='left')['formats4alt']\n",
    "y_validation"
   ]
  },
  {
   "cell_type": "code",
   "execution_count": 122,
   "metadata": {},
   "outputs": [
    {
     "data": {
      "text/plain": [
       "0.7478408263494628"
      ]
     },
     "execution_count": 122,
     "metadata": {},
     "output_type": "execute_result"
    }
   ],
   "source": [
    "f1_score(y_validation, y_pred, labels=['Not c', 'Low c', 'Mid c', 'High c'], average='weighted')"
   ]
  },
  {
   "cell_type": "code",
   "execution_count": 123,
   "metadata": {},
   "outputs": [
    {
     "data": {
      "text/plain": [
       "(array([0.89754098, 0.60504202, 0.66438356, 0.56818182]),\n",
       " array([0.87250996, 0.56692913, 0.69784173, 0.69444444]),\n",
       " array([0.88484848, 0.58536585, 0.68070175, 0.625     ]),\n",
       " array([251, 127, 139,  36], dtype=int64))"
      ]
     },
     "execution_count": 123,
     "metadata": {},
     "output_type": "execute_result"
    }
   ],
   "source": [
    "precision_recall_fscore_support(y_validation, y_pred, labels=['Not c', 'Low c', 'Mid c', 'High c'])"
   ]
  },
  {
   "cell_type": "markdown",
   "metadata": {},
   "source": [
    "Overall though, it's still not a great model, reinforcing that decision trees probably are not the best choice for this task, but still might contain interesting visualizations."
   ]
  },
  {
   "cell_type": "markdown",
   "metadata": {},
   "source": [
    "Notebook runtime: Roughly 20 minutes"
   ]
  },
  {
   "cell_type": "markdown",
   "metadata": {},
   "source": [
    "<a id=\"performance\"></a>\n",
    "## Score Summary:"
   ]
  },
  {
   "cell_type": "markdown",
   "metadata": {},
   "source": [
    "### one-stage, no clusters\n",
    "\n",
    "#### 7 classes, no clusters\n",
    "0.6167818874054956\\\n",
    "[0.84274194, 0.57894737, 0.38554217, 0., 0.24489796, 0.40384615, 0.57534247]\n",
    " \n",
    "#### 4 classes, no clusters\n",
    "0.9801185987970462\\\n",
    "[0.98597194, 0.96638655, 0.98      , 0.98224852]\n",
    "\n",
    "#### 4 class alt no clusters\n",
    "0.8175913105129116\\\n",
    "[0.891258  , 0.75      , 0.78518519, 0.67226891]\n",
    "\n",
    "#### 2 class no clusters\n",
    "0.8895905415239665\\\n",
    "[0.87726358, 0.8998358]"
   ]
  },
  {
   "cell_type": "markdown",
   "metadata": {},
   "source": [
    "### one-stage, with clustering\n",
    "\n",
    "#### 7 class with clustering\n",
    "0.6461860544509731\\\n",
    "[0.87398374, 0.62542955, 0.34782609, 0.17391304, 0.29166667, 0.48275862, 0.4]\n",
    "\n",
    "#### 4 class with clustering\n",
    "0.7717135294791215\\\n",
    "[0.86607143, 0.69064748, 0.66028708, 0.73684211]\n",
    "\n",
    "#### 4 class alt with clustering\n",
    "0.7452341666036475\\\n",
    "[0.87190083, 0.62730627, 0.71760797, 0.4]\n",
    "\n",
    "#### 2 class with clustering\n",
    "0.8967874929630921\\\n",
    "[0.88484848, 0.90671031]"
   ]
  },
  {
   "cell_type": "markdown",
   "metadata": {},
   "source": [
    "### two-stage, no clustering\n",
    "\n",
    "#### two-stage 7 class, no clusters\n",
    "0.770759487293633\\\n",
    "[0.87726358, 0.69354839, 0.52173913, 0.60606061, 0.72463768, 0.70454545, 0.7826087]\n",
    "\n",
    "#### two-stage 4 class, no clusters\n",
    "0.7839593210332558\\\n",
    "[0.87726358, 0.6741573, 0.7027027, 0.76433121]\n",
    "\n",
    "#### two-stage 4 class alt, no clusters\n",
    "0.8298126438271775\\\n",
    "[0.87726358, 0.71428571, 0.86315789, 0.77777778]"
   ]
  },
  {
   "cell_type": "markdown",
   "metadata": {},
   "source": [
    "### two-stage, with clustering\n",
    "\n",
    "#### two-stage 7 class with clustering\n",
    "0.6628007522983858\\\n",
    "[0.88484848, 0.57254902, 0.36363636, 0.27848101, 0.38709677, 0.32911392, 0.68571429]\n",
    "\n",
    "#### two-stage 4 class with clustering\n",
    "0.6985110285875017\\\n",
    "[0.88484848, 0.55510204, 0.47488584, 0.6122449]\n",
    "\n",
    "#### two-stage 4 class alt with clustering\n",
    "0.7478408263494628\\\n",
    "[0.88484848, 0.58536585, 0.68070175, 0.625]"
   ]
  },
  {
   "cell_type": "markdown",
   "metadata": {},
   "source": [
    "## Performance Summary"
   ]
  },
  {
   "cell_type": "markdown",
   "metadata": {},
   "source": [
    "### best 7 class model: two-stage 7 class, no clusters (7/8)\n",
    "\n",
    "#### best 7 class overall\n",
    "- two-stage 7 class, no clusters, 0.770759487293633\n",
    "\n",
    "#### best 7 class ZU\n",
    "- two-stage 7 class with clustering, 0.88484848\n",
    "\n",
    "#### best 7 class PU\n",
    "- two-stage 7 class, no clusters, 0.69354839\n",
    "\n",
    "#### best 7 class NU\n",
    "- two-stage 7 class, no clusters, 0.52173913\n",
    "\n",
    "#### best 7 class RU\n",
    "- two-stage 7 class, no clusters, 0.60606061\n",
    "\n",
    "#### best 7 class UU\n",
    "- two-stage 7 class, no clusters, 0.72463768\n",
    "\n",
    "#### best 7 class OU\n",
    "- two-stage 7 class, no clusters, 0.70454545\n",
    "\n",
    "#### best 7 class Uber\n",
    "- two-stage 7 class, no clusters, 0.7826087"
   ]
  },
  {
   "cell_type": "markdown",
   "metadata": {},
   "source": [
    "### best 4 class model: two-stage 4 class alt, no clusters (3/5)\n",
    "\n",
    "#### best 4 class overall\n",
    "- two-stage 4 class alt, no clusters, 0.8298126438271775\n",
    "\n",
    "#### best 4 class \"not competitive\"\n",
    "- 4 class alt no clusters, 0.891258\n",
    "\n",
    "#### best 4 class \"low competitive\"\n",
    "- 4 class alt no clusters, 0.75\n",
    "\n",
    "#### best 4 class \"mid competitive\"\n",
    "- two-stage 4 class alt, no clusters, 0.86315789\n",
    "\n",
    "#### best 4 class \"high competitive\"\n",
    "- two-stage 4 class alt, no clusters, 0.77777778"
   ]
  },
  {
   "cell_type": "markdown",
   "metadata": {},
   "source": [
    "### best 2 class model: 2 class with clustering"
   ]
  },
  {
   "cell_type": "markdown",
   "metadata": {},
   "source": [
    "There was one 4 class model which performed better than the one I assigned to the best, but based on the performance of the other models, it seems extremely obvious that the near 100% f-score 4 class model is heavily overfitting, so I don't think that model has any real likelihood of success. Thus I chose the 2nd best in that case, which has at least an appearance of more reasonable performance.\n",
    "\n",
    "Overall though, the performance of decision trees seems lower than KNN while higher than Logistic Regression, but we were also worried about overfitting a lot when it came to KNN so it's possible that decision trees could still be better."
   ]
  },
  {
   "cell_type": "markdown",
   "metadata": {},
   "source": [
    "## Explainability Summary\n",
    "\n",
    "Decision trees offer the best explainability of any model, since we can directly see and visualize every decision they make. This means that even with low performance they could be worth looking at in the results. Random Forest, which I'm going to try next, also uses decision trees, but it uses so many trees that its explainability is not as straightforward. Random Forest does offer some interpretability with its feature importances, but less than decision trees, so it will have to justify itself with performance."
   ]
  },
  {
   "cell_type": "code",
   "execution_count": null,
   "metadata": {},
   "outputs": [],
   "source": []
  }
 ],
 "metadata": {
  "kernelspec": {
   "display_name": "Python 3",
   "language": "python",
   "name": "python3"
  },
  "language_info": {
   "codemirror_mode": {
    "name": "ipython",
    "version": 3
   },
   "file_extension": ".py",
   "mimetype": "text/x-python",
   "name": "python",
   "nbconvert_exporter": "python",
   "pygments_lexer": "ipython3",
   "version": "3.8.10"
  }
 },
 "nbformat": 4,
 "nbformat_minor": 4
}
