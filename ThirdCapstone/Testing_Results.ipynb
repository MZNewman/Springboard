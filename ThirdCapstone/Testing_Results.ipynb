{
 "cells": [
  {
   "cell_type": "code",
   "execution_count": 1,
   "metadata": {},
   "outputs": [],
   "source": [
    "import pandas as pd\n",
    "import numpy as np\n",
    "import matplotlib.pyplot as plt\n",
    "import seaborn as sns\n",
    "from scipy.stats import zscore\n",
    "\n",
    "cookiecats_df = pd.read_csv('data/cookie_cats.csv')\n",
    "zscore3 = cookiecats_df[['sum_gamerounds']].loc[zscore(cookiecats_df['sum_gamerounds']) > 3]\n",
    "cookiecats_df.drop(index=list(zscore3.index), inplace=True)\n",
    "cookiecats_df['sum_gamerounds_log'] = cookiecats_df['sum_gamerounds'].apply(np.log)\n",
    "cookiecats_nonzero = cookiecats_df.loc[cookiecats_df['sum_gamerounds'] != 0]"
   ]
  },
  {
   "cell_type": "markdown",
   "metadata": {},
   "source": [
    "So we are going to use a bootstrapping a/b test to determine the level of sureness that we can have in deciding that it is not worth moving our waiting gate to level 40."
   ]
  },
  {
   "cell_type": "markdown",
   "metadata": {},
   "source": [
    "We need to use the mean for our test statistics, since the median would not be very interesting since it is just 1 or 0."
   ]
  },
  {
   "cell_type": "code",
   "execution_count": 6,
   "metadata": {},
   "outputs": [],
   "source": [
    "day1_30means = []\n",
    "day1_40means = []\n",
    "day7_30means = []\n",
    "day7_40means = []\n",
    "\n",
    "for i in range(5000):\n",
    "    group_sample = cookiecats_nonzero.sample(frac=1, replace=True).groupby('version')\n",
    "    day1_means = group_sample['retention_1'].agg('mean')\n",
    "    day7_means = group_sample['retention_7'].agg('mean')\n",
    "    day1_30means.append(day1_means['gate_30'])\n",
    "    day1_40means.append(day1_means['gate_40'])\n",
    "    day7_30means.append(day7_means['gate_30'])\n",
    "    day7_40means.append(day7_means['gate_40'])\n",
    "    \n",
    "day1_30df = pd.DataFrame(day1_30means, columns=['gate_30'])\n",
    "day1_40df = pd.DataFrame(day1_40means, columns=['gate_40'])\n",
    "day7_30df = pd.DataFrame(day7_30means, columns=['gate_30'])\n",
    "day7_40df = pd.DataFrame(day7_40means, columns=['gate_40'])"
   ]
  },
  {
   "cell_type": "code",
   "execution_count": 15,
   "metadata": {},
   "outputs": [
    {
     "data": {
      "image/png": "[encoded data removed]",
      "text/plain": [
       "<Figure size 432x288 with 2 Axes>"
      ]
     },
     "metadata": {
      "needs_background": "light"
     },
     "output_type": "display_data"
    }
   ],
   "source": [
    "day1_df = day1_30df.merge(day1_40df, left_index=True, right_index=True)\n",
    "day1_df.hist();"
   ]
  },
  {
   "cell_type": "code",
   "execution_count": 16,
   "metadata": {},
   "outputs": [
    {
     "data": {
      "image/png": "[encoded data removed]",
      "text/plain": [
       "<Figure size 432x288 with 2 Axes>"
      ]
     },
     "metadata": {
      "needs_background": "light"
     },
     "output_type": "display_data"
    }
   ],
   "source": [
    "day7_df = day7_30df.merge(day7_40df, left_index=True, right_index=True)\n",
    "day7_df.hist();"
   ]
  },
  {
   "cell_type": "code",
   "execution_count": 28,
   "metadata": {},
   "outputs": [],
   "source": [
    "day1_df['difference'] = (100*(day1_df['gate_30'] - day1_df['gate_40']) / day1_df['gate_40'])"
   ]
  },
  {
   "cell_type": "code",
   "execution_count": 33,
   "metadata": {},
   "outputs": [
    {
     "data": {
      "text/plain": [
       "0.5786"
      ]
     },
     "execution_count": 33,
     "metadata": {},
     "output_type": "execute_result"
    }
   ],
   "source": [
    "(day1_df['difference'] < 1.3947441989285352).sum()/len(day1_df)"
   ]
  },
  {
   "cell_type": "code",
   "execution_count": 30,
   "metadata": {},
   "outputs": [],
   "source": [
    "day7_df['difference'] = (100*(day7_df['gate_30'] - day7_df['gate_40']) / day7_df['gate_40'] * 100)"
   ]
  },
  {
   "cell_type": "code",
   "execution_count": 32,
   "metadata": {},
   "outputs": [
    {
     "data": {
      "text/plain": [
       "0.001"
      ]
     },
     "execution_count": 32,
     "metadata": {},
     "output_type": "execute_result"
    }
   ],
   "source": [
    "(day7_df['difference'] < 4.794915198223265).sum()/len(day7_df)"
   ]
  },
  {
   "cell_type": "code",
   "execution_count": null,
   "metadata": {},
   "outputs": [],
   "source": []
  }
 ],
 "metadata": {
  "kernelspec": {
   "display_name": "Python 3",
   "language": "python",
   "name": "python3"
  },
  "language_info": {
   "codemirror_mode": {
    "name": "ipython",
    "version": 3
   },
   "file_extension": ".py",
   "mimetype": "text/x-python",
   "name": "python",
   "nbconvert_exporter": "python",
   "pygments_lexer": "ipython3",
   "version": "3.8.5"
  }
 },
 "nbformat": 4,
 "nbformat_minor": 4
}
